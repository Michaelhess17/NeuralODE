{
 "cells": [
  {
   "cell_type": "code",
   "execution_count": 2,
   "metadata": {},
   "outputs": [],
   "source": [
    "import os\n",
    "os.environ['JAX_PLATFORM_NAME'] = 'cpu'\n",
    "os.environ['XLA_PYTHON_CLIENT_PREALLOCATE'] = 'false'\n",
    "import jax\n",
    "import jax.numpy as jnp\n",
    "from ddfa_node import sample_floquet_multipliers, backtrace_multipliers\n",
    "import matplotlib.pyplot as plt\n",
    "\n",
    "# load reload extension:\n",
    "%load_ext autoreload\n",
    "%autoreload 2"
   ]
  },
  {
   "cell_type": "code",
   "execution_count": null,
   "metadata": {},
   "outputs": [],
   "source": [
    "generated_data = jnp.load(\"outputs/gen_human_data.npy\")\n",
    "print(generated_data.shape)"
   ]
  },
  {
   "cell_type": "code",
   "execution_count": null,
   "metadata": {},
   "outputs": [],
   "source": [
    "plt.plot(generated_data[0, :, 0])"
   ]
  },
  {
   "cell_type": "code",
   "execution_count": null,
   "metadata": {},
   "outputs": [],
   "source": [
    "jitted_sample_floquet_multipliers = jax.jit(sample_floquet_multipliers, \n",
    "                                            static_argnames=(\"nSegments\", \n",
    "                                                             \"nCovReps\", \n",
    "                                                             \"phaser_feats\", \n",
    "                                                            #  \"splits\", \n",
    "                                                             \"nReplicates\", \n",
    "                                                             \"usePCA\", \n",
    "                                                             \"height\", \n",
    "                                                             \"distance\", \n",
    "                                                             \"vecs\"))\n"
   ]
  },
  {
   "cell_type": "code",
   "execution_count": 19,
   "metadata": {},
   "outputs": [
    {
     "name": "stderr",
     "output_type": "stream",
     "text": [
      "  0%|          | 0/12 [00:00<?, ?it/s]"
     ]
    },
    {
     "name": "stdout",
     "output_type": "stream",
     "text": [
      "[0.+0.j 0.+0.j 0.+0.j 0.+0.j 0.+0.j 0.+0.j 0.+0.j 0.+0.j 0.+0.j 0.+0.j\n",
      " 0.+0.j 0.+0.j]\n"
     ]
    },
    {
     "name": "stderr",
     "output_type": "stream",
     "text": [
      "\n"
     ]
    },
    {
     "ename": "NameError",
     "evalue": "name 'phase_idx' is not defined",
     "output_type": "error",
     "traceback": [
      "\u001b[0;31m---------------------------------------------------------------------------\u001b[0m",
      "\u001b[0;31mValueError\u001b[0m                                Traceback (most recent call last)",
      "File \u001b[0;32m/mnt/Mouse_Face_Project/Desktop/Data/Python/NeuralODE/DDFA_NODE/ddfa_node/floquet.py:210\u001b[0m, in \u001b[0;36msample_floquet_multipliers\u001b[0;34m(HC_CellArray, nSegments, nCovReps, phaser_feats, splits, nReplicates, usePCA, height, distance, seed)\u001b[0m\n\u001b[1;32m    209\u001b[0m \u001b[38;5;28mprint\u001b[39m(phase_result)\n\u001b[0;32m--> 210\u001b[0m eigenvals, eigenvecs, r2 \u001b[38;5;241m=\u001b[39m phase_result\n\u001b[1;32m    211\u001b[0m \u001b[38;5;28;01mif\u001b[39;00m \u001b[38;5;129;01mnot\u001b[39;00m jnp\u001b[38;5;241m.\u001b[39misnan(eigenvals)\u001b[38;5;241m.\u001b[39mall():\n",
      "\u001b[0;31mValueError\u001b[0m: too many values to unpack (expected 3)",
      "\nDuring handling of the above exception, another exception occurred:\n",
      "\u001b[0;31mNameError\u001b[0m                                 Traceback (most recent call last)",
      "Cell \u001b[0;32mIn[19], line 2\u001b[0m\n\u001b[1;32m      1\u001b[0m \u001b[38;5;66;03m# sfm_vmap = jax.vmap(lambda x: \u001b[39;00m\n\u001b[0;32m----> 2\u001b[0m \u001b[43msample_floquet_multipliers\u001b[49m\u001b[43m(\u001b[49m\u001b[43mgenerated_data\u001b[49m\u001b[43m,\u001b[49m\u001b[43m \u001b[49m\n\u001b[1;32m      3\u001b[0m \u001b[43m                            \u001b[49m\u001b[43mnSegments\u001b[49m\u001b[38;5;241;43m=\u001b[39;49m\u001b[38;5;241;43m101\u001b[39;49m\u001b[43m,\u001b[49m\u001b[43m \u001b[49m\n\u001b[1;32m      4\u001b[0m \u001b[43m                            \u001b[49m\u001b[43mnCovReps\u001b[49m\u001b[38;5;241;43m=\u001b[39;49m\u001b[38;5;241;43m1\u001b[39;49m\u001b[43m,\u001b[49m\n\u001b[1;32m      5\u001b[0m \u001b[43m                            \u001b[49m\u001b[43mphaser_feats\u001b[49m\u001b[38;5;241;43m=\u001b[39;49m\u001b[38;5;28;43;01mNone\u001b[39;49;00m\u001b[43m,\u001b[49m\u001b[43m \u001b[49m\n\u001b[1;32m      6\u001b[0m \u001b[43m                            \u001b[49m\u001b[43msplits\u001b[49m\u001b[38;5;241;43m=\u001b[39;49m\u001b[43mjnp\u001b[49m\u001b[38;5;241;43m.\u001b[39;49m\u001b[43marray\u001b[49m\u001b[43m(\u001b[49m\u001b[38;5;28;43mrange\u001b[39;49m\u001b[43m(\u001b[49m\u001b[38;5;241;43m2\u001b[39;49m\u001b[43m,\u001b[49m\u001b[43m \u001b[49m\u001b[38;5;241;43m5\u001b[39;49m\u001b[43m)\u001b[49m\u001b[43m)\u001b[49m\u001b[43m,\u001b[49m\u001b[43m \u001b[49m\n\u001b[1;32m      7\u001b[0m \u001b[43m                            \u001b[49m\u001b[43mnReplicates\u001b[49m\u001b[38;5;241;43m=\u001b[39;49m\u001b[38;5;241;43m300\u001b[39;49m\u001b[43m,\u001b[49m\u001b[43m \u001b[49m\n\u001b[1;32m      8\u001b[0m \u001b[43m                            \u001b[49m\u001b[43musePCA\u001b[49m\u001b[38;5;241;43m=\u001b[39;49m\u001b[38;5;28;43;01mFalse\u001b[39;49;00m\u001b[43m,\u001b[49m\u001b[43m \u001b[49m\n\u001b[1;32m      9\u001b[0m \u001b[43m                            \u001b[49m\u001b[43mheight\u001b[49m\u001b[38;5;241;43m=\u001b[39;49m\u001b[38;5;241;43m0.85\u001b[39;49m\u001b[43m,\u001b[49m\u001b[43m \u001b[49m\n\u001b[1;32m     10\u001b[0m \u001b[43m                            \u001b[49m\u001b[43mdistance\u001b[49m\u001b[38;5;241;43m=\u001b[39;49m\u001b[38;5;241;43m100\u001b[39;49m\u001b[43m)\u001b[49m\n\u001b[1;32m     11\u001b[0m                     \u001b[38;5;66;03m# in_axes=(0,))\u001b[39;00m\n\u001b[1;32m     12\u001b[0m \n\u001b[1;32m     13\u001b[0m \n\u001b[1;32m     14\u001b[0m \u001b[38;5;66;03m# outputs = sfm_vmap(generated_data)\u001b[39;00m\n\u001b[1;32m     15\u001b[0m \u001b[38;5;66;03m# allEigenvals, allEigenvecs, allRs, allPhis, Ns = outputs\u001b[39;00m\n",
      "File \u001b[0;32m/mnt/Mouse_Face_Project/Desktop/Data/Python/NeuralODE/DDFA_NODE/ddfa_node/floquet.py:223\u001b[0m, in \u001b[0;36msample_floquet_multipliers\u001b[0;34m(HC_CellArray, nSegments, nCovReps, phaser_feats, splits, nReplicates, usePCA, height, distance, seed)\u001b[0m\n\u001b[1;32m    221\u001b[0m     \u001b[38;5;28;01mcontinue\u001b[39;00m\n\u001b[1;32m    222\u001b[0m \u001b[38;5;28;01melse\u001b[39;00m:\n\u001b[0;32m--> 223\u001b[0m     \u001b[38;5;28mprint\u001b[39m(a, split_idx, split_idx2, rep_idx, \u001b[43mphase_idx\u001b[49m)\n\u001b[1;32m    224\u001b[0m     \u001b[38;5;28mprint\u001b[39m(e)\n\u001b[1;32m    225\u001b[0m     \u001b[38;5;28mprint\u001b[39m(traceback\u001b[38;5;241m.\u001b[39mformat_exc())\n",
      "\u001b[0;31mNameError\u001b[0m: name 'phase_idx' is not defined"
     ]
    }
   ],
   "source": [
    "# sfm_vmap = jax.vmap(lambda x: \n",
    "sample_floquet_multipliers(generated_data, \n",
    "                            nSegments=101, \n",
    "                            nCovReps=1,\n",
    "                            phaser_feats=None, \n",
    "                            splits=jnp.array(range(2, 5)), \n",
    "                            nReplicates=300, \n",
    "                            usePCA=False, \n",
    "                            height=0.85, \n",
    "                            distance=100)\n",
    "                    # in_axes=(0,))\n",
    "\n",
    "\n",
    "# outputs = sfm_vmap(generated_data)\n",
    "# allEigenvals, allEigenvecs, allRs, allPhis, Ns = outputs"
   ]
  },
  {
   "cell_type": "code",
   "execution_count": null,
   "metadata": {},
   "outputs": [],
   "source": [
    "backtrace_multipliers(splits, eigVals, Ns, subject=0, nPoints=5, phase=50, eig=0, plot=True, plot_title=None, ax=None)"
   ]
  }
 ],
 "metadata": {
  "kernelspec": {
   "display_name": "Python 3 (ipykernel)",
   "language": "python",
   "name": "python3"
  },
  "language_info": {
   "codemirror_mode": {
    "name": "ipython",
    "version": 3
   },
   "file_extension": ".py",
   "mimetype": "text/x-python",
   "name": "python",
   "nbconvert_exporter": "python",
   "pygments_lexer": "ipython3",
   "version": "3.12.7"
  }
 },
 "nbformat": 4,
 "nbformat_minor": 2
}
