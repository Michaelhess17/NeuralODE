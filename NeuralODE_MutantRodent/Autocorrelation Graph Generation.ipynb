{
 "cells": [
  {
   "cell_type": "code",
   "execution_count": 1,
   "id": "d0fa888d",
   "metadata": {},
   "outputs": [],
   "source": [
    "import os\n",
    "import argparse\n",
    "import logging\n",
    "import time\n",
    "import numpy as np\n",
    "import numpy.random as npr\n",
    "import matplotlib\n",
    "matplotlib.use('agg')\n",
    "import matplotlib.pyplot as plt\n",
    "import torch\n",
    "import torch.nn as nn\n",
    "import torch.optim as optim\n",
    "import torch.nn.functional as F\n",
    "from torchdiffeq import odeint_adjoint as odeint\n",
    "os.environ['KMP_DUPLICATE_LIB_OK']='True'"
   ]
  },
  {
   "cell_type": "code",
   "execution_count": 2,
   "id": "e6e97dc6",
   "metadata": {},
   "outputs": [],
   "source": [
    "def split(samp_trajs, train_split=0.6, val_split=0.2):\n",
    "    \n",
    "    train_int = np.int64(train_split * samp_trajs.shape[1])  # X% of the data length for training\n",
    "    val_int = np.int64((train_split + val_split) * samp_trajs.shape[1])  # X% more for validation\n",
    "    \n",
    "    samp_trajs_train, samp_trajs_val = (samp_trajs[ :,:train_int, :], samp_trajs[:, train_int:val_int,  :])\n",
    "    \n",
    "    return samp_trajs_train, samp_trajs_val"
   ]
  },
  {
   "cell_type": "code",
   "execution_count": 3,
   "id": "0ce6007d",
   "metadata": {},
   "outputs": [],
   "source": [
    "datafilepath = 'C:/Users/shiny/Documents/NeuralODE_MutantRodent/All_Rodent_concatenated_csv/RodentPaws_fps200.npy'\n",
    "fps200data = np.load(datafilepath)"
   ]
  },
  {
   "cell_type": "code",
   "execution_count": 4,
   "id": "47727657",
   "metadata": {},
   "outputs": [
    {
     "data": {
      "text/plain": [
       "(401, 9900, 8)"
      ]
     },
     "execution_count": 4,
     "metadata": {},
     "output_type": "execute_result"
    }
   ],
   "source": [
    "fps200data.shape"
   ]
  },
  {
   "cell_type": "code",
   "execution_count": 5,
   "id": "1d1cc1a8",
   "metadata": {},
   "outputs": [],
   "source": [
    "def load_data(datafilepath):\n",
    "    data = np.load(datafilepath)\n",
    "    traj_tot = data.copy()\n",
    "    traj_tot = traj_tot[:,1000:9000,:]\n",
    "    data = data[:, 2000:8000, :]\n",
    "    \n",
    "    n = data.shape[1]\n",
    "    start = 0\n",
    "    stop = 0.25 + 1\n",
    "\n",
    "    start_idx = 0\n",
    "    stop_idx = n\n",
    "    tot_idx = np.int64(data.shape[1]/120-start)\n",
    "\n",
    "    orig_ts = np.linspace(start, stop-1, num=tot_idx)\n",
    "    samp_ts = orig_ts[start_idx:stop_idx]\n",
    "\n",
    "    orig_trajs = np.zeros((data.shape[0],data.shape[1],data.shape[2]))\n",
    "    for i in range(data.shape[0]):\n",
    "        for j in range(data.shape[2]):\n",
    "            trajs = data[i,:,j]\n",
    "            trajs_tot = traj_tot[i,:,j]\n",
    "            orig_trajs[i,:,j] = (trajs - trajs_tot.mean()) / trajs_tot.std()\n",
    "            samp_trajs = orig_trajs[:,start_idx:stop_idx,:]\n",
    "    \n",
    "    samp_trajs, samp_trajs_val =split(samp_trajs, train_split=0.6, val_split=0.2)\n",
    "    samp_trajs = samp_trajs.reshape(401*72, 50, 8)\n",
    "    samp_trajs_val = samp_trajs_val.reshape(401*24, 50, 8)\n",
    "\n",
    "    return orig_trajs, samp_trajs, orig_ts, samp_ts, samp_trajs_val\n"
   ]
  },
  {
   "cell_type": "code",
   "execution_count": 6,
   "id": "38f3d616",
   "metadata": {},
   "outputs": [],
   "source": [
    "orig_trajs, samp_trajs, orig_ts, samp_ts, samp_trajs_val = load_data(datafilepath)"
   ]
  },
  {
   "cell_type": "code",
   "execution_count": 7,
   "id": "ac372976",
   "metadata": {},
   "outputs": [],
   "source": [
    "samp_trajs = samp_trajs.reshape(401,3600,8)"
   ]
  },
  {
   "cell_type": "code",
   "execution_count": 9,
   "id": "b262c5dd",
   "metadata": {},
   "outputs": [],
   "source": [
    "if not os.path.exists('Results_pic/Autocorrelation_graph/Tied'):\n",
    "           os.makedirs('Results_pic/Autocorrelation_graph/Tied')\n",
    "        \n",
    "if not os.path.exists('Results_pic/Autocorrelation_graph/Split'):\n",
    "           os.makedirs('Results_pic/Autocorrelation_graph/Split')"
   ]
  },
  {
   "cell_type": "code",
   "execution_count": 8,
   "id": "76a98043",
   "metadata": {},
   "outputs": [
    {
     "data": {
      "text/plain": [
       "(401, 3600, 8)"
      ]
     },
     "execution_count": 8,
     "metadata": {},
     "output_type": "execute_result"
    }
   ],
   "source": [
    "samp_trajs.shape"
   ]
  },
  {
   "cell_type": "code",
   "execution_count": 11,
   "id": "b8fe9c73",
   "metadata": {},
   "outputs": [],
   "source": [
    "from statsmodels.graphics import tsaplots\n",
    "import math\n",
    "import matplotlib.pyplot as plt\n",
    "\n",
    "        \n",
    "for i in range(samp_trajs.shape[2]):\n",
    "    x = samp_trajs[204, :, i]\n",
    "    fig = tsaplots.plot_acf(x, lags=20, color='r', title='Autocorrelation function')\n",
    "    plt.axhline(y = 1/math.e , color = 'r', linestyle = '-')\n",
    "    plt.savefig('./Results_pic/Autocorrelation_graph/Tied/autocorrelation_tied_positionalvalue{}.png'.format(i), dpi=250)\n",
    "    plt.close()\n",
    "    \n",
    "for i in range(samp_trajs.shape[2]):\n",
    "    x = samp_trajs[215, :, i]\n",
    "    fig = tsaplots.plot_acf(x, lags=20, color='r', title='Autocorrelation function')\n",
    "    plt.axhline(y = 1/math.e , color = 'r', linestyle = '-')\n",
    "    plt.savefig('./Results_pic/Autocorrelation_graph/Split/autocorrelation_split_positionalvalue{}.png'.format(i), dpi=250)\n",
    "    plt.close()"
   ]
  },
  {
   "cell_type": "code",
   "execution_count": null,
   "id": "074985a2",
   "metadata": {},
   "outputs": [],
   "source": []
  }
 ],
 "metadata": {
  "kernelspec": {
   "display_name": "Python 3 (ipykernel)",
   "language": "python",
   "name": "python3"
  },
  "language_info": {
   "codemirror_mode": {
    "name": "ipython",
    "version": 3
   },
   "file_extension": ".py",
   "mimetype": "text/x-python",
   "name": "python",
   "nbconvert_exporter": "python",
   "pygments_lexer": "ipython3",
   "version": "3.10.9"
  }
 },
 "nbformat": 4,
 "nbformat_minor": 5
}
