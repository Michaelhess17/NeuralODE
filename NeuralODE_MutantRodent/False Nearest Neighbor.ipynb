{
 "cells": [
  {
   "cell_type": "markdown",
   "id": "ebe6d133",
   "metadata": {},
   "source": [
    "## Improved FNN by Cao"
   ]
  },
  {
   "cell_type": "code",
   "execution_count": 1,
   "id": "aff9496f",
   "metadata": {},
   "outputs": [],
   "source": [
    "import os\n",
    "import argparse\n",
    "import logging\n",
    "import time\n",
    "import numpy as np\n",
    "import numpy.random as npr\n",
    "import matplotlib\n",
    "matplotlib.use('agg')\n",
    "import matplotlib.pyplot as plt\n",
    "\n",
    "datafilepath = 'C:/Users/shiny/Documents/NeuralODE_MutantRodent/All_Rodent_concatenated_csv/RodentPaws_fps200.npy'"
   ]
  },
  {
   "cell_type": "code",
   "execution_count": 2,
   "id": "550e9fbc",
   "metadata": {},
   "outputs": [],
   "source": [
    "def load_data(datafilepath):\n",
    "    data = np.load(datafilepath)\n",
    "    traj_tot = data.copy()\n",
    "    traj_tot = traj_tot[:,2000:9000,:]\n",
    "    data = data[:, 2000:(7000+6*3*120), :]\n",
    "    \n",
    "    n = data.shape[1]\n",
    "    start = 0\n",
    "    stop = 0.25 + 1\n",
    "\n",
    "    start_idx = 0\n",
    "    stop_idx = n\n",
    "    tot_idx = np.int64(data.shape[1]/120-start)\n",
    "\n",
    "    orig_ts = np.linspace(start, stop-1, num=tot_idx)\n",
    "    samp_ts = orig_ts[start_idx:stop_idx]\n",
    "\n",
    "    orig_trajs = np.zeros((data.shape[0],data.shape[1],data.shape[2]))\n",
    "    for i in range(data.shape[0]):\n",
    "        for j in range(data.shape[2]):\n",
    "            trajs = data[i,:,j]\n",
    "            trajs_tot = traj_tot[i,:,j]\n",
    "            orig_trajs[i,:,j] = (trajs - trajs_tot.mean()) / trajs_tot.std()\n",
    "            samp_trajs = orig_trajs[:,start_idx:stop_idx,:]\n",
    "    \n",
    "    samp_trajs = samp_trajs.reshape(401, 7160, 8)\n",
    "\n",
    "\n",
    "    return orig_trajs, samp_trajs, orig_ts, samp_ts\n"
   ]
  },
  {
   "cell_type": "code",
   "execution_count": 4,
   "id": "42eb0d40",
   "metadata": {},
   "outputs": [],
   "source": [
    "orig_trajs, samp_trajs, orig_ts, samp_ts = load_data(datafilepath)"
   ]
  },
  {
   "cell_type": "code",
   "execution_count": 5,
   "id": "a538807c",
   "metadata": {},
   "outputs": [],
   "source": [
    "samp_trajs = samp_trajs.reshape(401,7160,8)"
   ]
  },
  {
   "cell_type": "code",
   "execution_count": 6,
   "id": "40e15ebe",
   "metadata": {},
   "outputs": [],
   "source": [
    "X = samp_trajs[:50,0:500,:]"
   ]
  },
  {
   "cell_type": "code",
   "execution_count": null,
   "id": "a17944aa",
   "metadata": {},
   "outputs": [],
   "source": [
    "import rpy2.robjects as ro\n",
    "from rpy2.robjects.packages import importr\n",
    "from rpy2.robjects import numpy2ri\n",
    "\n",
    "nonlinearTseries = importr(\"nonlinearTseries\")\n",
    "data = numpy2ri.numpy2rpy(X)\n",
    "\n",
    "cao_emb_dim = nonlinearTseries.estimateEmbeddingDim(\n",
    "    data,  # time series\n",
    "    len(data),  # number of points to use, use entire series\n",
    "    6,  # time delay\n",
    "    12,  # max no. of dimension\n",
    "    0.95,  # threshold value\n",
    "    0.1,  # max relative change\n",
    "    True,  # do the plot\n",
    "    \"Computing the embedding dimension\",  # main\n",
    "    \"dimension (d)\",  # x_label\n",
    "    \"E1(d) & E2(d)\",  # y_label\n",
    "    ro.NULL,  # x_lim\n",
    "    ro.NULL,  # y_lim\n",
    "    0  # add a small amount of noise to the original series to avoid the\n",
    "          # appearance of false neighbours due to discretization errors.\n",
    "          # This also prevents the method to fail with periodic signals, 0 for no noise\n",
    ")\n",
    "\n",
    "embedding_dimension = int(cao_emb_dim[0])"
   ]
  },
  {
   "cell_type": "code",
   "execution_count": 13,
   "id": "ed274455",
   "metadata": {},
   "outputs": [
    {
     "data": {
      "text/plain": [
       "-2147483648"
      ]
     },
     "execution_count": 13,
     "metadata": {},
     "output_type": "execute_result"
    }
   ],
   "source": [
    "embedding_dimension"
   ]
  },
  {
   "cell_type": "code",
   "execution_count": 28,
   "id": "fe13a779",
   "metadata": {},
   "outputs": [],
   "source": [
    "plt.savefig('books_read.png')"
   ]
  },
  {
   "cell_type": "code",
   "execution_count": null,
   "id": "8cfee1a2",
   "metadata": {},
   "outputs": [],
   "source": []
  }
 ],
 "metadata": {
  "kernelspec": {
   "display_name": "Python 3 (ipykernel)",
   "language": "python",
   "name": "python3"
  },
  "language_info": {
   "codemirror_mode": {
    "name": "ipython",
    "version": 3
   },
   "file_extension": ".py",
   "mimetype": "text/x-python",
   "name": "python",
   "nbconvert_exporter": "python",
   "pygments_lexer": "ipython3",
   "version": "3.10.9"
  }
 },
 "nbformat": 4,
 "nbformat_minor": 5
}
