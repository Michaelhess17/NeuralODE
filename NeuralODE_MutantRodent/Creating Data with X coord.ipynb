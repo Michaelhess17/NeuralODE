{
 "cells": [
  {
   "cell_type": "code",
   "execution_count": 2,
   "id": "971f63cb",
   "metadata": {},
   "outputs": [],
   "source": [
    "import os\n",
    "import argparse\n",
    "import logging\n",
    "import time\n",
    "import numpy as np\n",
    "import numpy.random as npr\n",
    "import matplotlib\n",
    "matplotlib.use('agg')\n",
    "import matplotlib.pyplot as plt\n",
    "import torch\n",
    "import torch.nn as nn\n",
    "import torch.optim as optim\n",
    "import torch.nn.functional as F\n",
    "from torchdiffeq import odeint_adjoint as odeint\n",
    "os.environ['KMP_DUPLICATE_LIB_OK']='True'"
   ]
  },
  {
   "cell_type": "code",
   "execution_count": null,
   "id": "a71a472d",
   "metadata": {},
   "outputs": [],
   "source": [
    "fps400data = np.load('C:/Users/shiny/Documents/NeuralODE_MutantRodent/All_Rodent_concatenated_csv/JovinData.npy')\n",
    "fps200data = fps400data[:,::2,:]\n",
    "\n",
    "\n",
    "datafilepath = 'C:/Users/shiny/Documents/NeuralODE_MutantRodent/All_Rodent_concatenated_csv/All_Rodent_fps200.npy'\n",
    "np.save(datafilepath, fps200data)"
   ]
  },
  {
   "cell_type": "code",
   "execution_count": null,
   "id": "8b65a3de",
   "metadata": {},
   "outputs": [],
   "source": [
    "X = fps200data.copy()\n",
    "goodpoint = [0, 1, 2, 3, 15, 16, 17, 18, 19, 20]\n",
    "Multiple_Trials_Concatenated_ExcludingBadIndex = X[:,:,goodpoint]\n",
    "datafilepath = 'C:/Users/shiny/Documents/NeuralODE_MutantRodent/All_Rodent_concatenated_csv/RodentXcoord_fps200.npy'\n",
    "np.save(datafilepath, Multiple_Trials_Concatenated_ExcludingBadIndex)"
   ]
  },
  {
   "cell_type": "code",
   "execution_count": 2,
   "id": "d299b14b",
   "metadata": {},
   "outputs": [],
   "source": [
    "def load_data_normalize(obs_dim, datafilepath):\n",
    "    data = np.load(datafilepath)\n",
    "    traj_tot = data.copy()\n",
    "    traj_tot = traj_tot[:,2000:9000,:]\n",
    "    data = data[:, 2000:9000, :]\n",
    "    data = data.reshape(data.shape[0], 7000, obs_dim)\n",
    "    noise_std = 0.2\n",
    "\n",
    "    orig_trajs = np.zeros((data.shape[0],data.shape[1],data.shape[2]))\n",
    "    for i in range(data.shape[0]):\n",
    "        for j in range(data.shape[2]):\n",
    "            trajs = data[i,:,j]\n",
    "            trajs_tot = traj_tot[i,:,j]\n",
    "            orig_trajs[i,:,j] = (trajs - trajs_tot.mean()) / trajs_tot.std()\n",
    "            \n",
    "    #samp_trajs += npr.randn(*samp_trajs.shape) * noise_std #add noise\n",
    "\n",
    "    return orig_trajs\n",
    "\n",
    "def takenembedding(data, tau, k, obs_dim, device):\n",
    "    data_TE = np.zeros((data.shape[0], data.shape[1]-tau*k, data.shape[2]), dtype = object)\n",
    "    \n",
    "    for i in range(data.shape[0]):\n",
    "        for j in range(data.shape[2]):\n",
    "            for t in range(data.shape[1]-tau*k):\n",
    "                data_TE[i,t,j] = data[i, t:t+tau*k+1, j][::tau][::-1]\n",
    "                \n",
    "    data_TE = np.array(data_TE.tolist())\n",
    "    data_TE = data_TE.reshape(data_TE.shape[0],data_TE.shape[1],obs_dim*(k+1))\n",
    "    \n",
    "    return data_TE\n",
    "    "
   ]
  },
  {
   "cell_type": "code",
   "execution_count": 6,
   "id": "ee8c3e3e",
   "metadata": {},
   "outputs": [
    {
     "ename": "NameError",
     "evalue": "name 'load_data_normalize' is not defined",
     "output_type": "error",
     "traceback": [
      "\u001b[1;31m---------------------------------------------------------------------------\u001b[0m",
      "\u001b[1;31mNameError\u001b[0m                                 Traceback (most recent call last)",
      "Cell \u001b[1;32mIn[6], line 7\u001b[0m\n\u001b[0;32m      4\u001b[0m obs_dim \u001b[38;5;241m=\u001b[39m \u001b[38;5;241m10\u001b[39m\n\u001b[0;32m      5\u001b[0m device \u001b[38;5;241m=\u001b[39m torch\u001b[38;5;241m.\u001b[39mdevice(\u001b[38;5;124m'\u001b[39m\u001b[38;5;124mcuda\u001b[39m\u001b[38;5;124m'\u001b[39m \u001b[38;5;28;01mif\u001b[39;00m torch\u001b[38;5;241m.\u001b[39mcuda\u001b[38;5;241m.\u001b[39mis_available() \u001b[38;5;28;01melse\u001b[39;00m \u001b[38;5;124m'\u001b[39m\u001b[38;5;124mcpu\u001b[39m\u001b[38;5;124m'\u001b[39m)\n\u001b[1;32m----> 7\u001b[0m orig_trajs \u001b[38;5;241m=\u001b[39m \u001b[43mload_data_normalize\u001b[49m(obs_dim, \u001b[38;5;124m'\u001b[39m\u001b[38;5;124mC:/Users/shiny/Documents/NeuralODE_MutantRodent/All_Rodent_concatenated_csv/RodentXcoord_fps200.npy\u001b[39m\u001b[38;5;124m'\u001b[39m)\n\u001b[0;32m      8\u001b[0m orig_trajs_TE \u001b[38;5;241m=\u001b[39m takenembedding(orig_trajs, tau, k, obs_dim, device)\n",
      "\u001b[1;31mNameError\u001b[0m: name 'load_data_normalize' is not defined"
     ]
    }
   ],
   "source": [
    "npr.seed(42)\n",
    "tau = 6\n",
    "k = 9\n",
    "obs_dim = 10\n",
    "device = torch.device('cuda' if torch.cuda.is_available() else 'cpu')\n",
    "\n",
    "orig_trajs = load_data_normalize(obs_dim, 'C:/Users/shiny/Documents/NeuralODE_MutantRodent/All_Rodent_concatenated_csv/RodentXcoord_fps200.npy')\n",
    "orig_trajs_TE = takenembedding(orig_trajs, tau, k, obs_dim, device)"
   ]
  },
  {
   "cell_type": "markdown",
   "id": "65ecb44a",
   "metadata": {},
   "source": [
    "## Add Speed"
   ]
  },
  {
   "cell_type": "code",
   "execution_count": 4,
   "id": "dde7106b",
   "metadata": {},
   "outputs": [],
   "source": [
    "path = 'C:/Users/shiny/Documents/NeuralODE_MutantRodent/JovinData_h5'\n",
    "dir_list = os.listdir(path)\n",
    "\n",
    "X = np.zeros((orig_trajs_TE.shape[0],orig_trajs_TE.shape[1],2))\n",
    "\n",
    "for i in range(orig_trajs_TE.shape[0]):\n",
    "    DLC_index = dir_list[::2][i].find('DLC')\n",
    "    X[i, :, 0] = dir_list[::2][i][DLC_index-17:DLC_index-5].replace(\",\", \".\" ).replace(\"_\", \"\" )[0:5]\n",
    "    X[i, :, 1] = dir_list[::2][i][DLC_index-17:DLC_index-5].replace(\",\", \".\" ).replace(\"_\", \"\" )[5:10]\n",
    "    \n",
    "orig_trajs_TE = np.concatenate((orig_trajs_TE, X), axis=2)\n",
    "orig_trajs_TE = torch.from_numpy(orig_trajs_TE).float().to(device)\n",
    "orig_trajs_TE = orig_trajs_TE[:, :6800, :]\n",
    "orig_trajs_TE = orig_trajs_TE.reshape(orig_trajs_TE.shape[0]*34, 200, obs_dim*(k+1)+2)\n",
    "\n",
    "orig_trajs_TE = orig_trajs_TE.detach().cpu().numpy()\n",
    "np.save('orig_trajs_TE_tau6k9_Xcoord.npy',orig_trajs_TE)"
   ]
  },
  {
   "cell_type": "code",
   "execution_count": 5,
   "id": "81bfef4f",
   "metadata": {},
   "outputs": [],
   "source": [
    "npr.seed(42)\n",
    "tau = 6\n",
    "k = 9\n",
    "obs_dim = 10\n",
    "device = torch.device('cuda' if torch.cuda.is_available() else 'cpu')"
   ]
  },
  {
   "cell_type": "code",
   "execution_count": 6,
   "id": "ce6780d5",
   "metadata": {},
   "outputs": [],
   "source": [
    "orig_trajs_TE = np.load('orig_trajs_TE_tau6k9_Xcoord.npy')\n",
    "orig_trajs_TE = torch.from_numpy(orig_trajs_TE).float().to(device).reshape(401*34*4, 50, obs_dim*(k+1)+2)\n",
    "\n",
    "perm_index = torch.randperm(orig_trajs_TE.shape[0])\n",
    "samp_trajs_TE = orig_trajs_TE[perm_index[:15000]]\n",
    "samp_trajs_val_TE = orig_trajs_TE[perm_index[21000:24000]]\n",
    "\n",
    "torch.save(samp_trajs_TE, 'samp_trajs_TE_nonoise_Xcoord_tau6k9.pt')\n",
    "torch.save(samp_trajs_val_TE, 'samp_trajs_val_TE_nonoise_Xcoord_tau6k9.pt')"
   ]
  },
  {
   "cell_type": "markdown",
   "id": "526fcf98",
   "metadata": {},
   "source": [
    "## Reducing amount to train"
   ]
  },
  {
   "cell_type": "code",
   "execution_count": 8,
   "id": "e2cf695f",
   "metadata": {},
   "outputs": [],
   "source": [
    "orig_trajs_TE = np.load('orig_trajs_TE_tau6k9_Xcoord.npy')\n",
    "orig_trajs_TE = orig_trajs_TE[:6000]\n",
    "orig_trajs_TE = torch.from_numpy(orig_trajs_TE).float().to(device).reshape(6000*4, 50, obs_dim*(k+1)+2)\n",
    "\n",
    "perm_index = torch.randperm(orig_trajs_TE.shape[0])\n",
    "samp_trajs_TE = orig_trajs_TE[:15000]\n",
    "samp_trajs_val_TE = orig_trajs_TE[perm_index[21000:24000]]\n",
    "\n",
    "torch.save(samp_trajs_TE, 'samp_trajs_TE_nonoise_shortened_Xcoord_tau6k9.pt')\n",
    "torch.save(samp_trajs_val_TE, 'samp_trajs_val_TE_nonoise_shortened_Xcoord_tau6k9.pt')"
   ]
  },
  {
   "cell_type": "code",
   "execution_count": null,
   "id": "6923fcca",
   "metadata": {},
   "outputs": [],
   "source": []
  },
  {
   "cell_type": "code",
   "execution_count": null,
   "id": "af7529c7",
   "metadata": {},
   "outputs": [],
   "source": []
  },
  {
   "cell_type": "code",
   "execution_count": null,
   "id": "657c96d7",
   "metadata": {},
   "outputs": [],
   "source": []
  },
  {
   "cell_type": "code",
   "execution_count": null,
   "id": "bb25cfc0",
   "metadata": {},
   "outputs": [],
   "source": []
  }
 ],
 "metadata": {
  "kernelspec": {
   "display_name": "Python 3 (ipykernel)",
   "language": "python",
   "name": "python3"
  },
  "language_info": {
   "codemirror_mode": {
    "name": "ipython",
    "version": 3
   },
   "file_extension": ".py",
   "mimetype": "text/x-python",
   "name": "python",
   "nbconvert_exporter": "python",
   "pygments_lexer": "ipython3",
   "version": "3.10.9"
  }
 },
 "nbformat": 4,
 "nbformat_minor": 5
}
