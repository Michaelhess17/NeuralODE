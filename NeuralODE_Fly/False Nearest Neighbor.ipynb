{
 "cells": [
  {
   "cell_type": "markdown",
   "id": "ebe6d133",
   "metadata": {},
   "source": [
    "## Improved FNN by Cao"
   ]
  },
  {
   "cell_type": "code",
   "execution_count": 2,
   "id": "aff9496f",
   "metadata": {},
   "outputs": [],
   "source": [
    "import os\n",
    "import argparse\n",
    "import logging\n",
    "import time\n",
    "import numpy as np\n",
    "import numpy.random as npr\n",
    "import matplotlib\n",
    "matplotlib.use('agg')\n",
    "import matplotlib.pyplot as plt\n"
   ]
  },
  {
   "cell_type": "code",
   "execution_count": 3,
   "id": "550e9fbc",
   "metadata": {},
   "outputs": [],
   "source": [
    "Normalized_Concatenated_Flies_path = 'C:/Users/shiny/Documents/NeuralODE_Fly/Normalized_Concatenated_Flies_Data'\n",
    "Norm_Concatenated_file_name = os.path.join(Normalized_Concatenated_Flies_path, 'Flies_Concatenated_Norm.npy')\n",
    "samp_trajs = np.load(Norm_Concatenated_file_name)"
   ]
  },
  {
   "cell_type": "code",
   "execution_count": 4,
   "id": "78b6d44e",
   "metadata": {},
   "outputs": [],
   "source": [
    "good_ind = [18,19, 24, 25, 28,29,30,31, 34, 35, 40, 41]"
   ]
  },
  {
   "cell_type": "code",
   "execution_count": 5,
   "id": "40e15ebe",
   "metadata": {},
   "outputs": [],
   "source": [
    "X = samp_trajs[:,30000:30500,good_ind]"
   ]
  },
  {
   "cell_type": "code",
   "execution_count": 5,
   "id": "53afb69d",
   "metadata": {},
   "outputs": [],
   "source": [
    "X = X[:,::2,:]"
   ]
  },
  {
   "cell_type": "code",
   "execution_count": 6,
   "id": "a17944aa",
   "metadata": {},
   "outputs": [],
   "source": [
    "import rpy2.robjects as ro\n",
    "from rpy2.robjects.packages import importr\n",
    "from rpy2.robjects import numpy2ri\n",
    "\n",
    "nonlinearTseries = importr(\"nonlinearTseries\")\n",
    "data = numpy2ri.numpy2rpy(X)\n",
    "\n",
    "cao_emb_dim = nonlinearTseries.estimateEmbeddingDim(\n",
    "    data,  # time series\n",
    "    len(data),  # number of points to use, use entire series\n",
    "    3,  # time delay\n",
    "    12,  # max no. of dimension\n",
    "    0.95,  # threshold value\n",
    "    0.1,  # max relative change\n",
    "    True,  # do the plot\n",
    "    \"Computing the embedding dimension\",  # main\n",
    "    \"dimension (d)\",  # x_label\n",
    "    \"E1(d) & E2(d)\",  # y_label\n",
    "    ro.NULL,  # x_lim\n",
    "    ro.NULL,  # y_lim\n",
    "    0  # add a small amount of noise to the original series to avoid the\n",
    "          # appearance of false neighbours due to discretization errors.\n",
    "          # This also prevents the method to fail with periodic signals, 0 for no noise\n",
    ")\n",
    "\n",
    "embedding_dimension = int(cao_emb_dim[0])"
   ]
  },
  {
   "cell_type": "code",
   "execution_count": 13,
   "id": "ed274455",
   "metadata": {},
   "outputs": [
    {
     "data": {
      "text/plain": [
       "-2147483648"
      ]
     },
     "execution_count": 13,
     "metadata": {},
     "output_type": "execute_result"
    }
   ],
   "source": [
    "embedding_dimension"
   ]
  },
  {
   "cell_type": "code",
   "execution_count": 28,
   "id": "fe13a779",
   "metadata": {},
   "outputs": [],
   "source": [
    "plt.savefig('books_read.png')"
   ]
  },
  {
   "cell_type": "code",
   "execution_count": null,
   "id": "8cfee1a2",
   "metadata": {},
   "outputs": [],
   "source": []
  }
 ],
 "metadata": {
  "kernelspec": {
   "display_name": "Python 3 (ipykernel)",
   "language": "python",
   "name": "python3"
  },
  "language_info": {
   "codemirror_mode": {
    "name": "ipython",
    "version": 3
   },
   "file_extension": ".py",
   "mimetype": "text/x-python",
   "name": "python",
   "nbconvert_exporter": "python",
   "pygments_lexer": "ipython3",
   "version": "3.10.9"
  }
 },
 "nbformat": 4,
 "nbformat_minor": 5
}
