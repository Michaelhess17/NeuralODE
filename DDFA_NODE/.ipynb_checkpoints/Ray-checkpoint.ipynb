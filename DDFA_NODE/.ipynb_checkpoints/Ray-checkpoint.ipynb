{
 "cells": [
  {
   "cell_type": "code",
   "execution_count": 2,
   "id": "d2f152a6-3c1e-432b-9f98-22b95a7c17ab",
   "metadata": {},
   "outputs": [],
   "source": [
    "import os\n",
    "os.environ[\"CUDA_VISIBLE_DEVICES\"] = \"0,1,2\"\n",
    "import tempfile\n",
    "\n",
    "import torch\n",
    "import torch.nn as nn\n",
    "import torch.optim as optim\n",
    "from torch.utils.data import DataLoader\n",
    "import src as ddfa_node\n",
    "import ray\n",
    "from ray import train, tune\n",
    "from ray.train import Checkpoint, ScalingConfig\n",
    "from ray.train.torch import TorchTrainer, get_device\n",
    "from ray.tune.examples.mnist_pytorch import ConvNet, get_data_loaders, test_func\n",
    "from ray.tune.schedulers import PopulationBasedTraining\n",
    "from ray.tune.schedulers.pb2 import PB2\n",
    "from torchdiffeq import odeint\n",
    "from hyperopt import hp\n",
    "\n",
    "import numpy as np\n",
    "\n",
    "import sys\n",
    "sys.path.append('/home/michael/Synology/Desktop/Data/Python/Gait-Signatures/NeuralODE/DDFA_NODE/')\n",
    "\n",
    "\n",
    "def train_convnet(config):\n",
    "    device = torch.device('cuda' if torch.cuda.is_available() else 'cpu')\n",
    "    # Create our data loaders, model, and optmizer.\n",
    "    step = 1\n",
    "    batch_size = config.get(\"batch_size\", 32)\n",
    "    latent_dim = config.get(\"latent_dim\", 32)\n",
    "    timesteps_per_sample = config.get(\"timesteps_per_sample\", 300)\n",
    "    n_hidden = 64\n",
    "    dec_hidden = 16\n",
    "    rnn_hidden = config.get(\"rnn_hidden\", 128)\n",
    "    dec_dropout = config.get(\"dec_dropout\", 0.1)\n",
    "    weight_decay = config.get(\"weight_decay\", 1e-3)\n",
    "    alpha = config.get(\"alpha\", 1e-5)\n",
    "    \n",
    "    data = ddfa_node.load_data_normalize(6, '/home/michael/Synology/Desktop/Data/Julia/data/human_data.npy')\n",
    "    time_delayed_data, k, τ = ddfa_node.embed_data(data, maxlags=500)\n",
    "    k, τ = 5, 19\n",
    "    time_delayed_data = ddfa_node.takens_embedding(data, tau=τ, k=k)\n",
    "\n",
    "    \n",
    "    data = ddfa_node.change_trial_length(time_delayed_data, timesteps_per_subsample=timesteps_per_sample, skip=50)\n",
    "\n",
    "    # Train/test splitting\n",
    "    train_size = 0.7\n",
    "    data_train, data_val = ddfa_node.split_data(data, train_size=train_size)\n",
    "    obs_dim = data_train.shape[-1]\n",
    "\n",
    "    # Add noise to data\n",
    "    noise_std = 0.2\n",
    "    data_train = ddfa_node.augment_data_with_noise(data_train, n_copies=5, noise_std=noise_std)\n",
    "\n",
    "    data_train, data_val = torch.from_numpy(data_train).float().to(device), torch.from_numpy(data_val).float().to(device)\n",
    "    train_loader = DataLoader(dataset = data_train, batch_size = batch_size, shuffle = True, drop_last = True)\n",
    "    val_loader = DataLoader(dataset = data_val, batch_size = batch_size, shuffle = True, drop_last = True)\n",
    "\n",
    "    ts_num = 2.5*3/5\n",
    "    tot_num = data_train.shape[1]\n",
    "\n",
    "    samp_ts = np.linspace(0, ts_num, num=tot_num)\n",
    "    samp_ts = torch.from_numpy(samp_ts).float().to(device)\n",
    "    \n",
    "    func = ddfa_node.LatentODEfunc(latent_dim, n_hidden).to(device)\n",
    "    rec = ddfa_node.RecognitionRNN(latent_dim, obs_dim, rnn_hidden, dec_dropout, batch_size).to(device)\n",
    "    dec = ddfa_node.Decoder(latent_dim, obs_dim, dec_hidden, dropout=dec_dropout).to(device)\n",
    "    \n",
    "    \n",
    "    model = NODE(func, rec, dec, latent_dim, odeint, samp_ts, device)\n",
    "    MSELoss = nn.MSELoss()\n",
    "    \n",
    "    optimizer = optim.Adam(\n",
    "        model.parameters(),\n",
    "        lr=config.get(\"lr\", 0.0001),\n",
    "        weight_decay=weight_decay\n",
    "    )\n",
    "    loss_fn_1 = torch.nn.MSELoss()\n",
    "    # If `train.get_checkpoint()` is populated, then we are resuming from a checkpoint.\n",
    "    checkpoint = train.get_checkpoint()\n",
    "    if checkpoint:\n",
    "        with checkpoint.as_directory() as checkpoint_dir:\n",
    "            checkpoint_dict = torch.load(os.path.join(checkpoint_dir, \"checkpoint.pt\"))\n",
    "\n",
    "        # Load model state and iteration step from checkpoint.\n",
    "        model.load_state_dict(checkpoint_dict[\"model_state_dict\"])\n",
    "        # Load optimizer state (needed since we're using momentum),\n",
    "        # then set the `lr` and `momentum` according to the config.\n",
    "        optimizer.load_state_dict(checkpoint_dict[\"optimizer_state_dict\"])\n",
    "        for param_group in optimizer.param_groups:\n",
    "            if \"lr\" in config:\n",
    "                param_group[\"lr\"] = config[\"lr\"]\n",
    "            if \"momentum\" in config:\n",
    "                param_group[\"momentum\"] = config[\"momentum\"]\n",
    "            if \"batch_size\" in config:\n",
    "                param_group[\"batch_size\"] = config[\"batch_size\"]\n",
    "            if \"latent_dim\" in config:\n",
    "                param_group[\"latent_dim\"] = config[\"latent_dim\"]\n",
    "            if \"rnn_hidden\" in config:\n",
    "                param_group[\"rnn_hidden\"] = config[\"rnn_hidden\"]\n",
    "            if \"dec_dropout\" in config:\n",
    "                param_group[\"dec_dropout\"] = config[\"dec_dropout\"]\n",
    "            if \"alpha\" in config:\n",
    "                param_group[\"alpha\"] = config[\"alpha\"]\n",
    "            if \"weight_decay\" in config:\n",
    "                param_group[\"weight_decay\"] = config[\"weight_decay\"]\n",
    "            if \"timesteps_per_sample\" in config:\n",
    "                param_group[\"timesteps_per_sample\"] = config[\"timesteps_per_sample\"]\n",
    "            \n",
    "\n",
    "        # Note: Make sure to increment the checkpointed step by 1 to get the current step.\n",
    "        last_step = checkpoint_dict[\"step\"]\n",
    "        step = last_step + 1\n",
    "\n",
    "    while True:\n",
    "        for data in train_loader:\n",
    "            optimizer.zero_grad()\n",
    "            pred_x, z0, qz0_mean, qz0_logvar = model(data)\n",
    "            \n",
    "            # compute loss\n",
    "            noise_std_ = torch.zeros(pred_x.size()).to(device) + noise_std\n",
    "            noise_logvar = 2. * torch.log(noise_std_).to(device)\n",
    "            logpx = ddfa_node.log_normal_pdf(\n",
    "                data, pred_x, noise_logvar).sum(-1).sum(-1)\n",
    "            pz0_mean = pz0_logvar = torch.zeros(z0.size()).to(device)\n",
    "            analytic_kl = ddfa_node.normal_kl(qz0_mean, qz0_logvar,\n",
    "                                    pz0_mean, pz0_logvar).sum(-1)\n",
    "            kl_loss = torch.mean(-logpx + analytic_kl, dim=0)\n",
    "            mse_loss = MSELoss(pred_x, data)\n",
    "            loss = alpha*kl_loss + mse_loss\n",
    "\n",
    "            loss.backward()\n",
    "            optimizer.step()\n",
    "            \n",
    "        \n",
    "        losses = torch.zeros(len(val_loader))\n",
    "        with torch.no_grad():\n",
    "            for idx, data in enumerate(val_loader):\n",
    "                pred_x, z0, qz0_mean, qz0_logvar = model(data)\n",
    "                \n",
    "                # compute loss\n",
    "                noise_std_ = torch.zeros(pred_x.size()).to(device) + noise_std\n",
    "                noise_logvar = 2. * torch.log(noise_std_).to(device)\n",
    "                logpx = ddfa_node.log_normal_pdf(\n",
    "                    data, pred_x, noise_logvar).sum(-1).sum(-1)\n",
    "                pz0_mean = pz0_logvar = torch.zeros(z0.size()).to(device)\n",
    "                analytic_kl = ddfa_node.normal_kl(qz0_mean, qz0_logvar,\n",
    "                                        pz0_mean, pz0_logvar).sum(-1)\n",
    "                val_kl_loss = torch.mean(-logpx + analytic_kl, dim=0)\n",
    "                val_mse_loss = MSELoss(pred_x, data)\n",
    "                val_loss = alpha*val_kl_loss + val_mse_loss\n",
    "                \n",
    "                losses[idx] = val_loss\n",
    "        metrics = {\"total_loss\": -loss.item(), \"kl_loss\": -kl_loss.item(), \"mse_loss\": -mse_loss.item(), \"total_val_loss\": -val_loss.item(), \"val_kl_loss\": -val_kl_loss.item(), \"val_mse_loss\": -val_mse_loss.item(), \"lr\": config[\"lr\"], \"alpha\": config[\"alpha\"], \"weight_decay\": config[\"weight_decay\"]}\n",
    "\n",
    "        # Every `checkpoint_interval` steps, checkpoint our current state.\n",
    "        if step % config[\"checkpoint_interval\"] == 0:\n",
    "            with tempfile.TemporaryDirectory() as tmpdir:\n",
    "                torch.save(\n",
    "                    {\n",
    "                        \"step\": step,\n",
    "                        \"model_state_dict\": model.state_dict(),\n",
    "                        \"optimizer_state_dict\": optimizer.state_dict(),\n",
    "                    },\n",
    "                    os.path.join(tmpdir, \"checkpoint.pt\"),\n",
    "                )\n",
    "                train.report(metrics, checkpoint=Checkpoint.from_directory(tmpdir))\n",
    "        else:\n",
    "            train.report(metrics)\n",
    "\n",
    "        step += 1"
   ]
  },
  {
   "cell_type": "code",
   "execution_count": 3,
   "id": "09a34da1-561b-4aca-b683-622a850be62f",
   "metadata": {},
   "outputs": [],
   "source": [
    "class NODE(torch.nn.Module):\n",
    "    def __init__(self, func, rec, dec, latent_dim, odeint, samp_ts, device):\n",
    "        super(NODE, self).__init__()\n",
    "        self.func = func\n",
    "        self.rec = rec\n",
    "        self.dec = dec\n",
    "        self.latent_dim = latent_dim\n",
    "        self.odeint = odeint\n",
    "        self.samp_ts = samp_ts\n",
    "        self.device = device\n",
    "\n",
    "    def forward(self, x):\n",
    "        h = self.rec.initHidden().to(self.device)\n",
    "        c = self.rec.initHidden().to(self.device)\n",
    "        hn = h[0, :, :]\n",
    "        cn = c[0, :, :]\n",
    "        for t in reversed(range(x.size(1))):\n",
    "            obs = x[:, t, :]\n",
    "            out, hn, cn = self.rec.forward(obs, hn, cn)\n",
    "        qz0_mean, qz0_logvar = out[:, :self.latent_dim], out[:, self.latent_dim:]\n",
    "        epsilon = torch.randn(qz0_mean.size()).to(self.device)\n",
    "        z0 = epsilon * torch.exp(.5 * qz0_logvar) + qz0_mean   \n",
    "\n",
    "        # forward in time and solve ode for reconstructions\n",
    "        pred_z = self.odeint(self.func, z0, self.samp_ts).permute(1, 0, 2)\n",
    "        pred_x = self.dec(pred_z)\n",
    "\n",
    "        return pred_x, z0, qz0_mean, qz0_logvar\n",
    "    \n",
    "# def get_dataloaders(batch_size, device, timesteps_per_sample=150, data_path = \"/home/michael/Synology/Desktop/Data/Julia/data/human_data.npy\"):\n",
    "#     data = ddfa_node.load_data_normalize(6, data_path)\n",
    "#     # time_delayed_data, k, τ = ddfa_node.embed_data(data, maxlags=500)\n",
    "#     τ, k = 19, 5\n",
    "#     time_delayed_data = ddfa_node.takens_embedding(data, τ, k)\n",
    "    \n",
    "#     # Train/test splitting\n",
    "#     train_size = 0.7\n",
    "#     data_train, data_val = ddfa_node.split_data(time_delayed_data, train_size=train_size)\n",
    "\n",
    "#     # Subsample whole trials to smaller ones\n",
    "    \n",
    "#     data_train, data_val = ddfa_node.change_trial_length(data_train, timesteps_per_subsample=timesteps_per_sample), ddfa_node.change_trial_length(data_val, timesteps_per_subsample=timesteps_per_sample)\n",
    "\n",
    "#     # Add noise to data\n",
    "#     # noise_std = 0.05\n",
    "#     # data_train = ddfa_node.augment_data_with_noise(data_train, n_copies=5, noise_std=noise_std)\n",
    "\n",
    "#     data_train, data_val = torch.from_numpy(data_train).float() .to(device), torch.from_numpy(data_val).float() .to(device)\n",
    "#     train_loader = DataLoader(dataset = data_train, batch_size = batch_size, shuffle = True, drop_last = True)\n",
    "#     val_loader = DataLoader(dataset = data_val, batch_size = batch_size, shuffle = True, drop_last = True)\n",
    "#     return train_loader, val_loader, data_train.shape"
   ]
  },
  {
   "cell_type": "code",
   "execution_count": 9,
   "id": "8654d663-925f-4d5b-b438-6cb05fae10da",
   "metadata": {},
   "outputs": [],
   "source": [
    "perturbation_interval = 10\n",
    "scheduler = PopulationBasedTraining(\n",
    "    time_attr=\"training_iteration\",\n",
    "    perturbation_interval=perturbation_interval,\n",
    "    metric=\"test_loss\",\n",
    "    mode=\"max\",\n",
    "    hyperparam_mutations={\n",
    "        # distribution for resampling\n",
    "        \"lr\": tune.loguniform(5e-5, 1e-2),\n",
    "        \"dec_dropout\": tune.loguniform(0.01, 0.4)\n",
    "    },\n",
    ")\n",
    "pb2_scheduler = PB2(\n",
    "    time_attr='training_iteration',\n",
    "    metric='total_val_loss',\n",
    "    mode='max',\n",
    "    perturbation_interval=perturbation_interval,\n",
    "    hyperparam_bounds={\n",
    "        \"lr\": [1e-5, 1e-2],\n",
    "        \"dec_dropout\": [0, 0.4],\n",
    "        \"alpha\": [0, 1e-3],\n",
    "        \"weight_decay\": [0, 1e-2]\n",
    "    }\n",
    ")"
   ]
  },
  {
   "cell_type": "code",
   "execution_count": 5,
   "id": "c9c682d3-a2cb-4277-8bf3-c549ffaf6189",
   "metadata": {
    "scrolled": true,
    "tags": []
   },
   "outputs": [
    {
     "name": "stderr",
     "output_type": "stream",
     "text": [
      "2024-04-01 02:53:15,719\tINFO worker.py:1752 -- Started a local Ray instance.\n",
      "2024-04-01 02:53:15,731\tINFO packaging.py:530 -- Creating a file package for local directory '/home/michael/Synology/Desktop/Data/Python/Gait-Signatures/NeuralODE/DDFA_NODE/'.\n",
      "2024-04-01 02:53:15,740\tINFO packaging.py:358 -- Pushing file package 'gcs://_ray_pkg_4a5ca631833e4fab.zip' (1.10MiB) to Ray cluster...\n",
      "2024-04-01 02:53:15,744\tINFO packaging.py:371 -- Successfully pushed file package 'gcs://_ray_pkg_4a5ca631833e4fab.zip'.\n"
     ]
    },
    {
     "data": {
      "application/vnd.jupyter.widget-view+json": {
       "model_id": "4af8f4157fd24106beab5a1470a11541",
       "version_major": 2,
       "version_minor": 0
      },
      "text/html": [
       "<div class=\"lm-Widget p-Widget lm-Panel p-Panel jp-Cell-outputWrapper\">\n",
       "    <div style=\"margin-left: 50px;display: flex;flex-direction: row;align-items: center\">\n",
       "        <div class=\"jp-RenderedHTMLCommon\" style=\"display: flex; flex-direction: row;\">\n",
       "  <svg viewBox=\"0 0 567 224\" fill=\"none\" xmlns=\"http://www.w3.org/2000/svg\" style=\"height: 3em;\">\n",
       "    <g clip-path=\"url(#clip0_4338_178347)\">\n",
       "        <path d=\"M341.29 165.561H355.29L330.13 129.051C345.63 123.991 354.21 112.051 354.21 94.2307C354.21 71.3707 338.72 58.1807 311.88 58.1807H271V165.561H283.27V131.661H311.8C314.25 131.661 316.71 131.501 319.01 131.351L341.25 165.561H341.29ZM283.29 119.851V70.0007H311.82C331.3 70.0007 342.34 78.2907 342.34 94.5507C342.34 111.271 331.34 119.861 311.82 119.861L283.29 119.851ZM451.4 138.411L463.4 165.561H476.74L428.74 58.1807H416L367.83 165.561H380.83L392.83 138.411H451.4ZM446.19 126.601H398L422 72.1407L446.24 126.601H446.19ZM526.11 128.741L566.91 58.1807H554.35L519.99 114.181L485.17 58.1807H472.44L514.01 129.181V165.541H526.13V128.741H526.11Z\" fill=\"var(--jp-ui-font-color0)\"/>\n",
       "        <path d=\"M82.35 104.44C84.0187 97.8827 87.8248 92.0678 93.1671 87.9146C98.5094 83.7614 105.083 81.5067 111.85 81.5067C118.617 81.5067 125.191 83.7614 130.533 87.9146C135.875 92.0678 139.681 97.8827 141.35 104.44H163.75C164.476 101.562 165.622 98.8057 167.15 96.2605L127.45 56.5605C121.071 60.3522 113.526 61.6823 106.235 60.3005C98.9443 58.9187 92.4094 54.9203 87.8602 49.0574C83.3109 43.1946 81.0609 35.8714 81.5332 28.4656C82.0056 21.0599 85.1679 14.0819 90.4252 8.8446C95.6824 3.60726 102.672 0.471508 110.08 0.0272655C117.487 -0.416977 124.802 1.86091 130.647 6.4324C136.493 11.0039 140.467 17.5539 141.821 24.8501C143.175 32.1463 141.816 39.6859 138 46.0505L177.69 85.7505C182.31 82.9877 187.58 81.4995 192.962 81.4375C198.345 81.3755 203.648 82.742 208.33 85.3976C213.012 88.0532 216.907 91.9029 219.616 96.5544C222.326 101.206 223.753 106.492 223.753 111.875C223.753 117.258 222.326 122.545 219.616 127.197C216.907 131.848 213.012 135.698 208.33 138.353C203.648 141.009 198.345 142.375 192.962 142.313C187.58 142.251 182.31 140.763 177.69 138L138 177.7C141.808 184.071 143.155 191.614 141.79 198.91C140.424 206.205 136.44 212.75 130.585 217.313C124.731 221.875 117.412 224.141 110.004 223.683C102.596 223.226 95.6103 220.077 90.3621 214.828C85.1139 209.58 81.9647 202.595 81.5072 195.187C81.0497 187.779 83.3154 180.459 87.878 174.605C92.4405 168.751 98.9853 164.766 106.281 163.401C113.576 162.035 121.119 163.383 127.49 167.19L167.19 127.49C165.664 124.941 164.518 122.182 163.79 119.3H141.39C139.721 125.858 135.915 131.673 130.573 135.826C125.231 139.98 118.657 142.234 111.89 142.234C105.123 142.234 98.5494 139.98 93.2071 135.826C87.8648 131.673 84.0587 125.858 82.39 119.3H60C58.1878 126.495 53.8086 132.78 47.6863 136.971C41.5641 141.163 34.1211 142.972 26.7579 142.059C19.3947 141.146 12.6191 137.574 7.70605 132.014C2.79302 126.454 0.0813599 119.29 0.0813599 111.87C0.0813599 104.451 2.79302 97.2871 7.70605 91.7272C12.6191 86.1673 19.3947 82.5947 26.7579 81.6817C34.1211 80.7686 41.5641 82.5781 47.6863 86.7696C53.8086 90.9611 58.1878 97.2456 60 104.44H82.35ZM100.86 204.32C103.407 206.868 106.759 208.453 110.345 208.806C113.93 209.159 117.527 208.258 120.522 206.256C123.517 204.254 125.725 201.276 126.771 197.828C127.816 194.38 127.633 190.677 126.253 187.349C124.874 184.021 122.383 181.274 119.205 179.577C116.027 177.88 112.359 177.337 108.826 178.042C105.293 178.746 102.113 180.654 99.8291 183.44C97.5451 186.226 96.2979 189.718 96.3 193.32C96.2985 195.364 96.7006 197.388 97.4831 199.275C98.2656 201.163 99.4132 202.877 100.86 204.32ZM204.32 122.88C206.868 120.333 208.453 116.981 208.806 113.396C209.159 109.811 208.258 106.214 206.256 103.219C204.254 100.223 201.275 98.0151 197.827 96.97C194.38 95.9249 190.676 96.1077 187.348 97.4873C184.02 98.8669 181.274 101.358 179.577 104.536C177.879 107.714 177.337 111.382 178.041 114.915C178.746 118.448 180.653 121.627 183.439 123.911C186.226 126.195 189.717 127.443 193.32 127.44C195.364 127.443 197.388 127.042 199.275 126.259C201.163 125.476 202.878 124.328 204.32 122.88ZM122.88 19.4205C120.333 16.8729 116.981 15.2876 113.395 14.9347C109.81 14.5817 106.213 15.483 103.218 17.4849C100.223 19.4868 98.0146 22.4654 96.9696 25.9131C95.9245 29.3608 96.1073 33.0642 97.4869 36.3922C98.8665 39.7202 101.358 42.4668 104.535 44.1639C107.713 45.861 111.381 46.4036 114.914 45.6992C118.447 44.9949 121.627 43.0871 123.911 40.301C126.195 37.515 127.442 34.0231 127.44 30.4205C127.44 28.3772 127.038 26.3539 126.255 24.4664C125.473 22.5788 124.326 20.8642 122.88 19.4205ZM19.42 100.86C16.8725 103.408 15.2872 106.76 14.9342 110.345C14.5813 113.93 15.4826 117.527 17.4844 120.522C19.4863 123.518 22.4649 125.726 25.9127 126.771C29.3604 127.816 33.0638 127.633 36.3918 126.254C39.7198 124.874 42.4664 122.383 44.1635 119.205C45.8606 116.027 46.4032 112.359 45.6988 108.826C44.9944 105.293 43.0866 102.114 40.3006 99.8296C37.5145 97.5455 34.0227 96.2983 30.42 96.3005C26.2938 96.3018 22.337 97.9421 19.42 100.86ZM100.86 100.86C98.3125 103.408 96.7272 106.76 96.3742 110.345C96.0213 113.93 96.9226 117.527 98.9244 120.522C100.926 123.518 103.905 125.726 107.353 126.771C110.8 127.816 114.504 127.633 117.832 126.254C121.16 124.874 123.906 122.383 125.604 119.205C127.301 116.027 127.843 112.359 127.139 108.826C126.434 105.293 124.527 102.114 121.741 99.8296C118.955 97.5455 115.463 96.2983 111.86 96.3005C109.817 96.299 107.793 96.701 105.905 97.4835C104.018 98.2661 102.303 99.4136 100.86 100.86Z\" fill=\"#00AEEF\"/>\n",
       "    </g>\n",
       "    <defs>\n",
       "        <clipPath id=\"clip0_4338_178347\">\n",
       "            <rect width=\"566.93\" height=\"223.75\" fill=\"white\"/>\n",
       "        </clipPath>\n",
       "    </defs>\n",
       "  </svg>\n",
       "</div>\n",
       "\n",
       "        <table class=\"jp-RenderedHTMLCommon\" style=\"border-collapse: collapse;color: var(--jp-ui-font-color1);font-size: var(--jp-ui-font-size1);\">\n",
       "    <tr>\n",
       "        <td style=\"text-align: left\"><b>Python version:</b></td>\n",
       "        <td style=\"text-align: left\"><b>3.11.8</b></td>\n",
       "    </tr>\n",
       "    <tr>\n",
       "        <td style=\"text-align: left\"><b>Ray version:</b></td>\n",
       "        <td style=\"text-align: left\"><b>2.10.0</b></td>\n",
       "    </tr>\n",
       "    \n",
       "</table>\n",
       "\n",
       "    </div>\n",
       "</div>\n"
      ],
      "text/plain": [
       "RayContext(dashboard_url='', python_version='3.11.8', ray_version='2.10.0', ray_commit='09abba26b5bf2707639bb637c208d062a47b46f6')"
      ]
     },
     "execution_count": 5,
     "metadata": {},
     "output_type": "execute_result"
    },
    {
     "name": "stderr",
     "output_type": "stream",
     "text": [
      "\u001b[36m(train_convnet pid=53282)\u001b[0m /tmp/ray/session_2024-04-01_02-53-14_060472_46839/runtime_resources/working_dir_files/_ray_pkg_4a5ca631833e4fab/src/tde.py:132: RuntimeWarning: divide by zero encountered in divide\n",
      "\u001b[36m(train_convnet pid=53282)\u001b[0m   a.append(np.divide(np.linalg.norm(tsrecon[ind_m, :]-tsrecon[ind, :], ord=np.inf, axis=1),\n",
      "\u001b[36m(train_convnet pid=53282)\u001b[0m /tmp/ray/session_2024-04-01_02-53-14_060472_46839/runtime_resources/working_dir_files/_ray_pkg_4a5ca631833e4fab/src/tde.py:132: RuntimeWarning: invalid value encountered in divide\n",
      "\u001b[36m(train_convnet pid=53282)\u001b[0m   a.append(np.divide(np.linalg.norm(tsrecon[ind_m, :]-tsrecon[ind, :], ord=np.inf, axis=1),\n"
     ]
    },
    {
     "name": "stdout",
     "output_type": "stream",
     "text": [
      "\u001b[36m(train_convnet pid=53282)\u001b[0m Data has been embedded using a delay of 19 timesteps and an embedding dimension of 5\n"
     ]
    },
    {
     "name": "stderr",
     "output_type": "stream",
     "text": [
      "\u001b[36m(train_convnet pid=60519)\u001b[0m /tmp/ray/session_2024-04-01_02-53-14_060472_46839/runtime_resources/working_dir_files/_ray_pkg_4a5ca631833e4fab/src/tde.py:132: RuntimeWarning: divide by zero encountered in divide\n",
      "\u001b[36m(train_convnet pid=60519)\u001b[0m   a.append(np.divide(np.linalg.norm(tsrecon[ind_m, :]-tsrecon[ind, :], ord=np.inf, axis=1),\n",
      "\u001b[36m(train_convnet pid=60519)\u001b[0m /tmp/ray/session_2024-04-01_02-53-14_060472_46839/runtime_resources/working_dir_files/_ray_pkg_4a5ca631833e4fab/src/tde.py:132: RuntimeWarning: invalid value encountered in divide\n",
      "\u001b[36m(train_convnet pid=60519)\u001b[0m   a.append(np.divide(np.linalg.norm(tsrecon[ind_m, :]-tsrecon[ind, :], ord=np.inf, axis=1),\n"
     ]
    },
    {
     "name": "stdout",
     "output_type": "stream",
     "text": [
      "\u001b[36m(train_convnet pid=60519)\u001b[0m Data has been embedded using a delay of 19 timesteps and an embedding dimension of 5\n"
     ]
    },
    {
     "name": "stderr",
     "output_type": "stream",
     "text": [
      "\u001b[36m(train_convnet pid=68810)\u001b[0m /tmp/ray/session_2024-04-01_02-53-14_060472_46839/runtime_resources/working_dir_files/_ray_pkg_4a5ca631833e4fab/src/tde.py:132: RuntimeWarning: divide by zero encountered in divide\n",
      "\u001b[36m(train_convnet pid=68810)\u001b[0m   a.append(np.divide(np.linalg.norm(tsrecon[ind_m, :]-tsrecon[ind, :], ord=np.inf, axis=1),\n",
      "\u001b[36m(train_convnet pid=68810)\u001b[0m /tmp/ray/session_2024-04-01_02-53-14_060472_46839/runtime_resources/working_dir_files/_ray_pkg_4a5ca631833e4fab/src/tde.py:132: RuntimeWarning: invalid value encountered in divide\n",
      "\u001b[36m(train_convnet pid=68810)\u001b[0m   a.append(np.divide(np.linalg.norm(tsrecon[ind_m, :]-tsrecon[ind, :], ord=np.inf, axis=1),\n"
     ]
    },
    {
     "name": "stdout",
     "output_type": "stream",
     "text": [
      "\u001b[36m(train_convnet pid=68810)\u001b[0m Data has been embedded using a delay of 19 timesteps and an embedding dimension of 5\n"
     ]
    },
    {
     "name": "stderr",
     "output_type": "stream",
     "text": [
      "\u001b[36m(train_convnet pid=76958)\u001b[0m /tmp/ray/session_2024-04-01_02-53-14_060472_46839/runtime_resources/working_dir_files/_ray_pkg_4a5ca631833e4fab/src/tde.py:132: RuntimeWarning: divide by zero encountered in divide\n",
      "\u001b[36m(train_convnet pid=76958)\u001b[0m   a.append(np.divide(np.linalg.norm(tsrecon[ind_m, :]-tsrecon[ind, :], ord=np.inf, axis=1),\n",
      "\u001b[36m(train_convnet pid=76958)\u001b[0m /tmp/ray/session_2024-04-01_02-53-14_060472_46839/runtime_resources/working_dir_files/_ray_pkg_4a5ca631833e4fab/src/tde.py:132: RuntimeWarning: invalid value encountered in divide\n",
      "\u001b[36m(train_convnet pid=76958)\u001b[0m   a.append(np.divide(np.linalg.norm(tsrecon[ind_m, :]-tsrecon[ind, :], ord=np.inf, axis=1),\n"
     ]
    },
    {
     "name": "stdout",
     "output_type": "stream",
     "text": [
      "\u001b[36m(train_convnet pid=76958)\u001b[0m Data has been embedded using a delay of 19 timesteps and an embedding dimension of 5\n"
     ]
    },
    {
     "name": "stderr",
     "output_type": "stream",
     "text": [
      "\u001b[36m(train_convnet pid=78995)\u001b[0m /tmp/ray/session_2024-04-01_02-53-14_060472_46839/runtime_resources/working_dir_files/_ray_pkg_4a5ca631833e4fab/src/tde.py:132: RuntimeWarning: divide by zero encountered in divide\n",
      "\u001b[36m(train_convnet pid=78995)\u001b[0m   a.append(np.divide(np.linalg.norm(tsrecon[ind_m, :]-tsrecon[ind, :], ord=np.inf, axis=1),\n",
      "\u001b[36m(train_convnet pid=78995)\u001b[0m /tmp/ray/session_2024-04-01_02-53-14_060472_46839/runtime_resources/working_dir_files/_ray_pkg_4a5ca631833e4fab/src/tde.py:132: RuntimeWarning: invalid value encountered in divide\n",
      "\u001b[36m(train_convnet pid=78995)\u001b[0m   a.append(np.divide(np.linalg.norm(tsrecon[ind_m, :]-tsrecon[ind, :], ord=np.inf, axis=1),\n"
     ]
    },
    {
     "name": "stdout",
     "output_type": "stream",
     "text": [
      "\u001b[36m(train_convnet pid=78995)\u001b[0m Data has been embedded using a delay of 19 timesteps and an embedding dimension of 5\n",
      "\u001b[36m(train_convnet pid=79003)\u001b[0m Data has been embedded using a delay of 19 timesteps and an embedding dimension of 5\u001b[32m [repeated 20x across cluster]\u001b[0m\n"
     ]
    },
    {
     "name": "stderr",
     "output_type": "stream",
     "text": [
      "\u001b[36m(train_convnet pid=78995)\u001b[0m Checkpoint successfully created at: Checkpoint(filesystem=local, path=/home/michael/Synology/Desktop/Data/Python/Gait-Signatures/ray_results/pb2/train_convnet_6f9de_00001_1_alpha=0.0000,batch_size=32,dec_dropout=0.2072,latent_dim=8,lr=0.0031,rnn_hidden=256,timesteps_per_tria_2024-04-01_03-03-38/checkpoint_000000)\n",
      "\u001b[36m(train_convnet pid=79003)\u001b[0m /tmp/ray/session_2024-04-01_02-53-14_060472_46839/runtime_resources/working_dir_files/_ray_pkg_4a5ca631833e4fab/src/tde.py:132: RuntimeWarning: divide by zero encountered in divide\u001b[32m [repeated 20x across cluster]\u001b[0m\n",
      "\u001b[36m(train_convnet pid=79003)\u001b[0m   a.append(np.divide(np.linalg.norm(tsrecon[ind_m, :]-tsrecon[ind, :], ord=np.inf, axis=1),\u001b[32m [repeated 40x across cluster]\u001b[0m\n",
      "\u001b[36m(train_convnet pid=79003)\u001b[0m /tmp/ray/session_2024-04-01_02-53-14_060472_46839/runtime_resources/working_dir_files/_ray_pkg_4a5ca631833e4fab/src/tde.py:132: RuntimeWarning: invalid value encountered in divide\u001b[32m [repeated 20x across cluster]\u001b[0m\n",
      "\u001b[36m(train_convnet pid=79006)\u001b[0m Checkpoint successfully created at: Checkpoint(filesystem=local, path=/home/michael/Synology/Desktop/Data/Python/Gait-Signatures/ray_results/pb2/train_convnet_6f9de_00009_9_alpha=0.0001,batch_size=32,dec_dropout=0.2133,latent_dim=8,lr=0.0044,rnn_hidden=32,timesteps_per_trial_2024-04-01_03-03-38/checkpoint_000000)\n",
      "\u001b[36m(train_convnet pid=79010)\u001b[0m Checkpoint successfully created at: Checkpoint(filesystem=local, path=/home/michael/Synology/Desktop/Data/Python/Gait-Signatures/ray_results/pb2/train_convnet_6f9de_00013_13_alpha=0.0000,batch_size=32,dec_dropout=0.0850,latent_dim=32,lr=0.0046,rnn_hidden=64,timesteps_per_tri_2024-04-01_03-03-38/checkpoint_000000)\n",
      "\u001b[36m(train_convnet pid=106494)\u001b[0m /tmp/ray/session_2024-04-01_02-53-14_060472_46839/runtime_resources/working_dir_files/_ray_pkg_4a5ca631833e4fab/src/tde.py:132: RuntimeWarning: divide by zero encountered in divide\n",
      "\u001b[36m(train_convnet pid=106494)\u001b[0m   a.append(np.divide(np.linalg.norm(tsrecon[ind_m, :]-tsrecon[ind, :], ord=np.inf, axis=1),\n",
      "\u001b[36m(train_convnet pid=106494)\u001b[0m /tmp/ray/session_2024-04-01_02-53-14_060472_46839/runtime_resources/working_dir_files/_ray_pkg_4a5ca631833e4fab/src/tde.py:132: RuntimeWarning: invalid value encountered in divide\n",
      "\u001b[36m(train_convnet pid=106494)\u001b[0m   a.append(np.divide(np.linalg.norm(tsrecon[ind_m, :]-tsrecon[ind, :], ord=np.inf, axis=1),\n"
     ]
    },
    {
     "name": "stdout",
     "output_type": "stream",
     "text": [
      "\u001b[36m(train_convnet pid=106494)\u001b[0m Data has been embedded using a delay of 19 timesteps and an embedding dimension of 5\n"
     ]
    },
    {
     "name": "stderr",
     "output_type": "stream",
     "text": [
      "\u001b[36m(train_convnet pid=78994)\u001b[0m Checkpoint successfully created at: Checkpoint(filesystem=local, path=/home/michael/Synology/Desktop/Data/Python/Gait-Signatures/ray_results/pb2/train_convnet_6f9de_00000_0_alpha=0.0000,batch_size=32,dec_dropout=0.2151,latent_dim=32,lr=0.0020,rnn_hidden=64,timesteps_per_tria_2024-04-01_03-03-38/checkpoint_000000)\n",
      "\u001b[36m(train_convnet pid=106927)\u001b[0m /tmp/ray/session_2024-04-01_02-53-14_060472_46839/runtime_resources/working_dir_files/_ray_pkg_4a5ca631833e4fab/src/tde.py:132: RuntimeWarning: divide by zero encountered in divide\n",
      "\u001b[36m(train_convnet pid=106927)\u001b[0m   a.append(np.divide(np.linalg.norm(tsrecon[ind_m, :]-tsrecon[ind, :], ord=np.inf, axis=1),\u001b[32m [repeated 2x across cluster]\u001b[0m\n",
      "\u001b[36m(train_convnet pid=106927)\u001b[0m /tmp/ray/session_2024-04-01_02-53-14_060472_46839/runtime_resources/working_dir_files/_ray_pkg_4a5ca631833e4fab/src/tde.py:132: RuntimeWarning: invalid value encountered in divide\n",
      "\u001b[36m(train_convnet pid=106928)\u001b[0m /tmp/ray/session_2024-04-01_02-53-14_060472_46839/runtime_resources/working_dir_files/_ray_pkg_4a5ca631833e4fab/src/tde.py:132: RuntimeWarning: divide by zero encountered in divide\n",
      "\u001b[36m(train_convnet pid=106928)\u001b[0m /tmp/ray/session_2024-04-01_02-53-14_060472_46839/runtime_resources/working_dir_files/_ray_pkg_4a5ca631833e4fab/src/tde.py:132: RuntimeWarning: invalid value encountered in divide\n"
     ]
    },
    {
     "name": "stdout",
     "output_type": "stream",
     "text": [
      "\u001b[36m(train_convnet pid=106927)\u001b[0m Data has been embedded using a delay of 19 timesteps and an embedding dimension of 5\n"
     ]
    },
    {
     "name": "stderr",
     "output_type": "stream",
     "text": [
      "\u001b[36m(train_convnet pid=79003)\u001b[0m Checkpoint successfully created at: Checkpoint(filesystem=local, path=/home/michael/Synology/Desktop/Data/Python/Gait-Signatures/ray_results/pb2/train_convnet_6f9de_00005_5_alpha=0.0000,batch_size=32,dec_dropout=0.1197,latent_dim=16,lr=0.0083,rnn_hidden=256,timesteps_per_tri_2024-04-01_03-03-38/checkpoint_000000)\n",
      "\u001b[36m(train_convnet pid=106929)\u001b[0m   a.append(np.divide(np.linalg.norm(tsrecon[ind_m, :]-tsrecon[ind, :], ord=np.inf, axis=1),\u001b[32m [repeated 4x across cluster]\u001b[0m\n",
      "\u001b[36m(train_convnet pid=106929)\u001b[0m /tmp/ray/session_2024-04-01_02-53-14_060472_46839/runtime_resources/working_dir_files/_ray_pkg_4a5ca631833e4fab/src/tde.py:132: RuntimeWarning: divide by zero encountered in divide\n",
      "\u001b[36m(train_convnet pid=106929)\u001b[0m /tmp/ray/session_2024-04-01_02-53-14_060472_46839/runtime_resources/working_dir_files/_ray_pkg_4a5ca631833e4fab/src/tde.py:132: RuntimeWarning: invalid value encountered in divide\n",
      "\u001b[36m(train_convnet pid=79007)\u001b[0m Checkpoint successfully created at: Checkpoint(filesystem=local, path=/home/michael/Synology/Desktop/Data/Python/Gait-Signatures/ray_results/pb2/train_convnet_6f9de_00010_10_alpha=0.0000,batch_size=32,dec_dropout=0.2241,latent_dim=8,lr=0.0015,rnn_hidden=128,timesteps_per_tri_2024-04-01_03-03-38/checkpoint_000000)\u001b[32m [repeated 4x across cluster]\u001b[0m\n",
      "\u001b[36m(train_convnet pid=108692)\u001b[0m /tmp/ray/session_2024-04-01_02-53-14_060472_46839/runtime_resources/working_dir_files/_ray_pkg_4a5ca631833e4fab/src/tde.py:132: RuntimeWarning: divide by zero encountered in divide\n",
      "\u001b[36m(train_convnet pid=108692)\u001b[0m   a.append(np.divide(np.linalg.norm(tsrecon[ind_m, :]-tsrecon[ind, :], ord=np.inf, axis=1),\n",
      "\u001b[36m(train_convnet pid=108692)\u001b[0m /tmp/ray/session_2024-04-01_02-53-14_060472_46839/runtime_resources/working_dir_files/_ray_pkg_4a5ca631833e4fab/src/tde.py:132: RuntimeWarning: invalid value encountered in divide\n",
      "\u001b[36m(train_convnet pid=108692)\u001b[0m   a.append(np.divide(np.linalg.norm(tsrecon[ind_m, :]-tsrecon[ind, :], ord=np.inf, axis=1),\n",
      "\u001b[36m(train_convnet pid=79012)\u001b[0m Checkpoint successfully created at: Checkpoint(filesystem=local, path=/home/michael/Synology/Desktop/Data/Python/Gait-Signatures/ray_results/pb2/train_convnet_6f9de_00017_17_alpha=0.0001,batch_size=32,dec_dropout=0.0791,latent_dim=16,lr=0.0068,rnn_hidden=256,timesteps_per_tr_2024-04-01_03-03-38/checkpoint_000000)\u001b[32m [repeated 3x across cluster]\u001b[0m\n"
     ]
    },
    {
     "name": "stdout",
     "output_type": "stream",
     "text": [
      "\u001b[36m(train_convnet pid=108692)\u001b[0m Data has been embedded using a delay of 19 timesteps and an embedding dimension of 5\u001b[32m [repeated 3x across cluster]\u001b[0m\n"
     ]
    },
    {
     "name": "stderr",
     "output_type": "stream",
     "text": [
      "\u001b[36m(train_convnet pid=109494)\u001b[0m Restored on 170.140.242.239 from checkpoint: Checkpoint(filesystem=local, path=/home/michael/Synology/Desktop/Data/Python/Gait-Signatures/ray_results/pb2/train_convnet_6f9de_00000_0_alpha=0.0000,batch_size=32,dec_dropout=0.2151,latent_dim=32,lr=0.0020,rnn_hidden=64,timesteps_per_tria_2024-04-01_03-03-38/checkpoint_000000)\n",
      "\u001b[36m(train_convnet pid=108871)\u001b[0m /tmp/ray/session_2024-04-01_02-53-14_060472_46839/runtime_resources/working_dir_files/_ray_pkg_4a5ca631833e4fab/src/tde.py:132: RuntimeWarning: divide by zero encountered in divide\u001b[32m [repeated 3x across cluster]\u001b[0m\n",
      "\u001b[36m(train_convnet pid=108871)\u001b[0m   a.append(np.divide(np.linalg.norm(tsrecon[ind_m, :]-tsrecon[ind, :], ord=np.inf, axis=1),\u001b[32m [repeated 6x across cluster]\u001b[0m\n",
      "\u001b[36m(train_convnet pid=108871)\u001b[0m /tmp/ray/session_2024-04-01_02-53-14_060472_46839/runtime_resources/working_dir_files/_ray_pkg_4a5ca631833e4fab/src/tde.py:132: RuntimeWarning: invalid value encountered in divide\u001b[32m [repeated 3x across cluster]\u001b[0m\n",
      "\u001b[36m(train_convnet pid=79008)\u001b[0m Checkpoint successfully created at: Checkpoint(filesystem=local, path=/home/michael/Synology/Desktop/Data/Python/Gait-Signatures/ray_results/pb2/train_convnet_6f9de_00011_11_alpha=0.0000,batch_size=32,dec_dropout=0.1529,latent_dim=32,lr=0.0061,rnn_hidden=64,timesteps_per_tri_2024-04-01_03-03-38/checkpoint_000000)\u001b[32m [repeated 2x across cluster]\u001b[0m\n",
      "\u001b[36m(train_convnet pid=109795)\u001b[0m Restored on 170.140.242.239 from checkpoint: Checkpoint(filesystem=local, path=/home/michael/Synology/Desktop/Data/Python/Gait-Signatures/ray_results/pb2/train_convnet_6f9de_00001_1_alpha=0.0000,batch_size=32,dec_dropout=0.2072,latent_dim=8,lr=0.0031,rnn_hidden=256,timesteps_per_tria_2024-04-01_03-03-38/checkpoint_000000)\n",
      "\u001b[36m(train_convnet pid=109332)\u001b[0m /tmp/ray/session_2024-04-01_02-53-14_060472_46839/runtime_resources/working_dir_files/_ray_pkg_4a5ca631833e4fab/src/tde.py:132: RuntimeWarning: divide by zero encountered in divide\n",
      "\u001b[36m(train_convnet pid=109332)\u001b[0m   a.append(np.divide(np.linalg.norm(tsrecon[ind_m, :]-tsrecon[ind, :], ord=np.inf, axis=1),\u001b[32m [repeated 2x across cluster]\u001b[0m\n",
      "\u001b[36m(train_convnet pid=109332)\u001b[0m /tmp/ray/session_2024-04-01_02-53-14_060472_46839/runtime_resources/working_dir_files/_ray_pkg_4a5ca631833e4fab/src/tde.py:132: RuntimeWarning: invalid value encountered in divide\n",
      "\u001b[36m(train_convnet pid=79004)\u001b[0m Checkpoint successfully created at: Checkpoint(filesystem=local, path=/home/michael/Synology/Desktop/Data/Python/Gait-Signatures/ray_results/pb2/train_convnet_6f9de_00006_6_alpha=0.0000,batch_size=32,dec_dropout=0.1047,latent_dim=8,lr=0.0058,rnn_hidden=256,timesteps_per_tria_2024-04-01_03-03-38/checkpoint_000000)\n",
      "\u001b[36m(train_convnet pid=109494)\u001b[0m /tmp/ray/session_2024-04-01_02-53-14_060472_46839/runtime_resources/working_dir_files/_ray_pkg_4a5ca631833e4fab/src/tde.py:132: RuntimeWarning: divide by zero encountered in divide\n",
      "\u001b[36m(train_convnet pid=109494)\u001b[0m /tmp/ray/session_2024-04-01_02-53-14_060472_46839/runtime_resources/working_dir_files/_ray_pkg_4a5ca631833e4fab/src/tde.py:132: RuntimeWarning: invalid value encountered in divide\n",
      "\u001b[36m(train_convnet pid=109967)\u001b[0m Restored on 170.140.242.239 from checkpoint: Checkpoint(filesystem=local, path=/home/michael/Synology/Desktop/Data/Python/Gait-Signatures/ray_results/pb2/train_convnet_6f9de_00005_5_alpha=0.0000,batch_size=32,dec_dropout=0.1197,latent_dim=16,lr=0.0083,rnn_hidden=256,timesteps_per_tri_2024-04-01_03-03-38/checkpoint_000000)\n"
     ]
    },
    {
     "name": "stdout",
     "output_type": "stream",
     "text": [
      "\u001b[36m(train_convnet pid=109332)\u001b[0m Data has been embedded using a delay of 19 timesteps and an embedding dimension of 5\u001b[32m [repeated 4x across cluster]\u001b[0m\n"
     ]
    },
    {
     "name": "stderr",
     "output_type": "stream",
     "text": [
      "\u001b[36m(train_convnet pid=109494)\u001b[0m   a.append(np.divide(np.linalg.norm(tsrecon[ind_m, :]-tsrecon[ind, :], ord=np.inf, axis=1),\u001b[32m [repeated 2x across cluster]\u001b[0m\n",
      "\u001b[36m(train_convnet pid=79002)\u001b[0m Checkpoint successfully created at: Checkpoint(filesystem=local, path=/home/michael/Synology/Desktop/Data/Python/Gait-Signatures/ray_results/pb2/train_convnet_6f9de_00004_4_alpha=0.0001,batch_size=32,dec_dropout=0.1387,latent_dim=8,lr=0.0057,rnn_hidden=32,timesteps_per_trial_2024-04-01_03-03-38/checkpoint_000000)\n",
      "\u001b[36m(train_convnet pid=109795)\u001b[0m /tmp/ray/session_2024-04-01_02-53-14_060472_46839/runtime_resources/working_dir_files/_ray_pkg_4a5ca631833e4fab/src/tde.py:132: RuntimeWarning: divide by zero encountered in divide\n",
      "\u001b[36m(train_convnet pid=109795)\u001b[0m /tmp/ray/session_2024-04-01_02-53-14_060472_46839/runtime_resources/working_dir_files/_ray_pkg_4a5ca631833e4fab/src/tde.py:132: RuntimeWarning: invalid value encountered in divide\n",
      "\u001b[36m(train_convnet pid=110183)\u001b[0m Restored on 170.140.242.239 from checkpoint: Checkpoint(filesystem=local, path=/home/michael/Synology/Desktop/Data/Python/Gait-Signatures/ray_results/pb2/train_convnet_6f9de_00016_16_alpha=0.0000,batch_size=32,dec_dropout=0.1390,latent_dim=32,lr=0.0011,rnn_hidden=128,timesteps_per_tr_2024-04-01_03-03-38/checkpoint_000000)\u001b[32m [repeated 2x across cluster]\u001b[0m\n"
     ]
    },
    {
     "name": "stdout",
     "output_type": "stream",
     "text": [
      "\u001b[36m(train_convnet pid=109795)\u001b[0m Data has been embedded using a delay of 19 timesteps and an embedding dimension of 5\u001b[32m [repeated 2x across cluster]\u001b[0m\n"
     ]
    },
    {
     "name": "stderr",
     "output_type": "stream",
     "text": [
      "\u001b[36m(train_convnet pid=109795)\u001b[0m   a.append(np.divide(np.linalg.norm(tsrecon[ind_m, :]-tsrecon[ind, :], ord=np.inf, axis=1),\u001b[32m [repeated 2x across cluster]\u001b[0m\n",
      "\u001b[36m(train_convnet pid=109967)\u001b[0m /tmp/ray/session_2024-04-01_02-53-14_060472_46839/runtime_resources/working_dir_files/_ray_pkg_4a5ca631833e4fab/src/tde.py:132: RuntimeWarning: divide by zero encountered in divide\n",
      "\u001b[36m(train_convnet pid=109967)\u001b[0m /tmp/ray/session_2024-04-01_02-53-14_060472_46839/runtime_resources/working_dir_files/_ray_pkg_4a5ca631833e4fab/src/tde.py:132: RuntimeWarning: invalid value encountered in divide\n",
      "\u001b[36m(train_convnet pid=110560)\u001b[0m Restored on 170.140.242.239 from checkpoint: Checkpoint(filesystem=local, path=/home/michael/Synology/Desktop/Data/Python/Gait-Signatures/ray_results/pb2/train_convnet_6f9de_00006_6_alpha=0.0000,batch_size=32,dec_dropout=0.1047,latent_dim=8,lr=0.0058,rnn_hidden=256,timesteps_per_tria_2024-04-01_03-03-38/checkpoint_000000)\n",
      "\u001b[36m(train_convnet pid=110727)\u001b[0m Restored on 170.140.242.239 from checkpoint: Checkpoint(filesystem=local, path=/home/michael/Synology/Desktop/Data/Python/Gait-Signatures/ray_results/pb2/train_convnet_6f9de_00007_7_alpha=0.0000,batch_size=32,dec_dropout=0.1227,latent_dim=32,lr=0.0066,rnn_hidden=64,timesteps_per_tria_2024-04-01_03-03-38/checkpoint_000000)\n",
      "\u001b[36m(train_convnet pid=110183)\u001b[0m   a.append(np.divide(np.linalg.norm(tsrecon[ind_m, :]-tsrecon[ind, :], ord=np.inf, axis=1),\u001b[32m [repeated 4x across cluster]\u001b[0m\n"
     ]
    },
    {
     "name": "stdout",
     "output_type": "stream",
     "text": [
      "\u001b[36m(train_convnet pid=109967)\u001b[0m Data has been embedded using a delay of 19 timesteps and an embedding dimension of 5\n",
      "\u001b[36m(train_convnet pid=110183)\u001b[0m Data has been embedded using a delay of 19 timesteps and an embedding dimension of 5\n"
     ]
    },
    {
     "name": "stderr",
     "output_type": "stream",
     "text": [
      "\u001b[36m(train_convnet pid=110560)\u001b[0m /tmp/ray/session_2024-04-01_02-53-14_060472_46839/runtime_resources/working_dir_files/_ray_pkg_4a5ca631833e4fab/src/tde.py:132: RuntimeWarning: divide by zero encountered in divide\u001b[32m [repeated 3x across cluster]\u001b[0m\n",
      "\u001b[36m(train_convnet pid=110560)\u001b[0m /tmp/ray/session_2024-04-01_02-53-14_060472_46839/runtime_resources/working_dir_files/_ray_pkg_4a5ca631833e4fab/src/tde.py:132: RuntimeWarning: invalid value encountered in divide\u001b[32m [repeated 3x across cluster]\u001b[0m\n",
      "\u001b[36m(train_convnet pid=110727)\u001b[0m   a.append(np.divide(np.linalg.norm(tsrecon[ind_m, :]-tsrecon[ind, :], ord=np.inf, axis=1),\u001b[32m [repeated 6x across cluster]\u001b[0m\n",
      "\u001b[36m(train_convnet pid=110727)\u001b[0m /tmp/ray/session_2024-04-01_02-53-14_060472_46839/runtime_resources/working_dir_files/_ray_pkg_4a5ca631833e4fab/src/tde.py:132: RuntimeWarning: divide by zero encountered in divide\n",
      "\u001b[36m(train_convnet pid=110727)\u001b[0m /tmp/ray/session_2024-04-01_02-53-14_060472_46839/runtime_resources/working_dir_files/_ray_pkg_4a5ca631833e4fab/src/tde.py:132: RuntimeWarning: invalid value encountered in divide\n"
     ]
    },
    {
     "name": "stdout",
     "output_type": "stream",
     "text": [
      "\u001b[36m(train_convnet pid=110727)\u001b[0m Data has been embedded using a delay of 19 timesteps and an embedding dimension of 5\u001b[32m [repeated 3x across cluster]\u001b[0m\n"
     ]
    },
    {
     "name": "stderr",
     "output_type": "stream",
     "text": [
      "\u001b[36m(train_convnet pid=79014)\u001b[0m Checkpoint successfully created at: Checkpoint(filesystem=local, path=/home/michael/Synology/Desktop/Data/Python/Gait-Signatures/ray_results/pb2/train_convnet_6f9de_00014_14_alpha=0.0001,batch_size=32,dec_dropout=0.1006,latent_dim=8,lr=0.0001,rnn_hidden=64,timesteps_per_tria_2024-04-01_03-03-38/checkpoint_000000)\n",
      "\u001b[36m(train_convnet pid=112017)\u001b[0m Restored on 170.140.242.239 from checkpoint: Checkpoint(filesystem=local, path=/home/michael/Synology/Desktop/Data/Python/Gait-Signatures/ray_results/pb2/train_convnet_6f9de_00008_8_alpha=0.0001,batch_size=32,dec_dropout=0.2858,latent_dim=16,lr=0.0042,rnn_hidden=64,timesteps_per_tria_2024-04-01_03-03-38/checkpoint_000000)\n",
      "\u001b[36m(train_convnet pid=112017)\u001b[0m /tmp/ray/session_2024-04-01_02-53-14_060472_46839/runtime_resources/working_dir_files/_ray_pkg_4a5ca631833e4fab/src/tde.py:132: RuntimeWarning: divide by zero encountered in divide\n",
      "\u001b[36m(train_convnet pid=112017)\u001b[0m   a.append(np.divide(np.linalg.norm(tsrecon[ind_m, :]-tsrecon[ind, :], ord=np.inf, axis=1),\n",
      "\u001b[36m(train_convnet pid=112017)\u001b[0m /tmp/ray/session_2024-04-01_02-53-14_060472_46839/runtime_resources/working_dir_files/_ray_pkg_4a5ca631833e4fab/src/tde.py:132: RuntimeWarning: invalid value encountered in divide\n",
      "\u001b[36m(train_convnet pid=112017)\u001b[0m   a.append(np.divide(np.linalg.norm(tsrecon[ind_m, :]-tsrecon[ind, :], ord=np.inf, axis=1),\n"
     ]
    },
    {
     "name": "stdout",
     "output_type": "stream",
     "text": [
      "\u001b[36m(train_convnet pid=112017)\u001b[0m Data has been embedded using a delay of 19 timesteps and an embedding dimension of 5\n"
     ]
    },
    {
     "name": "stderr",
     "output_type": "stream",
     "text": [
      "\u001b[36m(train_convnet pid=106927)\u001b[0m Checkpoint successfully created at: Checkpoint(filesystem=local, path=/home/michael/Synology/Desktop/Data/Python/Gait-Signatures/ray_results/pb2/train_convnet_6f9de_00022_22_alpha=0.0001,batch_size=32,dec_dropout=0.0276,latent_dim=32,lr=0.0072,rnn_hidden=64,timesteps_per_tri_2024-04-01_03-03-38/checkpoint_000000)\n",
      "\u001b[36m(train_convnet pid=4486)\u001b[0m Restored on 170.140.242.239 from checkpoint: Checkpoint(filesystem=local, path=/home/michael/Synology/Desktop/Data/Python/Gait-Signatures/ray_results/pb2/train_convnet_6f9de_00009_9_alpha=0.0001,batch_size=32,dec_dropout=0.2133,latent_dim=8,lr=0.0044,rnn_hidden=32,timesteps_per_trial_2024-04-01_03-03-38/checkpoint_000000)\n",
      "\u001b[36m(train_convnet pid=106928)\u001b[0m Checkpoint successfully created at: Checkpoint(filesystem=local, path=/home/michael/Synology/Desktop/Data/Python/Gait-Signatures/ray_results/pb2/train_convnet_6f9de_00023_23_alpha=0.0001,batch_size=32,dec_dropout=0.1309,latent_dim=32,lr=0.0073,rnn_hidden=256,timesteps_per_tr_2024-04-01_03-03-38/checkpoint_000000)\n",
      "\u001b[36m(train_convnet pid=4486)\u001b[0m /tmp/ray/session_2024-04-01_02-53-14_060472_46839/runtime_resources/working_dir_files/_ray_pkg_4a5ca631833e4fab/src/tde.py:132: RuntimeWarning: divide by zero encountered in divide\n",
      "\u001b[36m(train_convnet pid=4486)\u001b[0m   a.append(np.divide(np.linalg.norm(tsrecon[ind_m, :]-tsrecon[ind, :], ord=np.inf, axis=1),\n",
      "\u001b[36m(train_convnet pid=4486)\u001b[0m /tmp/ray/session_2024-04-01_02-53-14_060472_46839/runtime_resources/working_dir_files/_ray_pkg_4a5ca631833e4fab/src/tde.py:132: RuntimeWarning: invalid value encountered in divide\n",
      "\u001b[36m(train_convnet pid=4486)\u001b[0m   a.append(np.divide(np.linalg.norm(tsrecon[ind_m, :]-tsrecon[ind, :], ord=np.inf, axis=1),\n",
      "\u001b[36m(train_convnet pid=4788)\u001b[0m Restored on 170.140.242.239 from checkpoint: Checkpoint(filesystem=local, path=/home/michael/Synology/Desktop/Data/Python/Gait-Signatures/ray_results/pb2/train_convnet_6f9de_00010_10_alpha=0.0000,batch_size=32,dec_dropout=0.2241,latent_dim=8,lr=0.0015,rnn_hidden=128,timesteps_per_tri_2024-04-01_03-03-38/checkpoint_000000)\n"
     ]
    },
    {
     "name": "stdout",
     "output_type": "stream",
     "text": [
      "\u001b[36m(train_convnet pid=4486)\u001b[0m Data has been embedded using a delay of 19 timesteps and an embedding dimension of 5\n"
     ]
    },
    {
     "name": "stderr",
     "output_type": "stream",
     "text": [
      "\u001b[36m(train_convnet pid=4788)\u001b[0m /tmp/ray/session_2024-04-01_02-53-14_060472_46839/runtime_resources/working_dir_files/_ray_pkg_4a5ca631833e4fab/src/tde.py:132: RuntimeWarning: divide by zero encountered in divide\n",
      "\u001b[36m(train_convnet pid=4788)\u001b[0m   a.append(np.divide(np.linalg.norm(tsrecon[ind_m, :]-tsrecon[ind, :], ord=np.inf, axis=1),\u001b[32m [repeated 2x across cluster]\u001b[0m\n",
      "\u001b[36m(train_convnet pid=4788)\u001b[0m /tmp/ray/session_2024-04-01_02-53-14_060472_46839/runtime_resources/working_dir_files/_ray_pkg_4a5ca631833e4fab/src/tde.py:132: RuntimeWarning: invalid value encountered in divide\n",
      "\u001b[36m(train_convnet pid=106494)\u001b[0m Checkpoint successfully created at: Checkpoint(filesystem=local, path=/home/michael/Synology/Desktop/Data/Python/Gait-Signatures/ray_results/pb2/train_convnet_6f9de_00021_21_alpha=0.0001,batch_size=32,dec_dropout=0.2106,latent_dim=16,lr=0.0042,rnn_hidden=128,timesteps_per_tr_2024-04-01_03-03-38/checkpoint_000000)\n"
     ]
    },
    {
     "name": "stdout",
     "output_type": "stream",
     "text": [
      "\u001b[36m(train_convnet pid=4788)\u001b[0m Data has been embedded using a delay of 19 timesteps and an embedding dimension of 5\n"
     ]
    },
    {
     "name": "stderr",
     "output_type": "stream",
     "text": [
      "\u001b[36m(train_convnet pid=5329)\u001b[0m Restored on 170.140.242.239 from checkpoint: Checkpoint(filesystem=local, path=/home/michael/Synology/Desktop/Data/Python/Gait-Signatures/ray_results/pb2/train_convnet_6f9de_00011_11_alpha=0.0000,batch_size=32,dec_dropout=0.1529,latent_dim=32,lr=0.0061,rnn_hidden=64,timesteps_per_tri_2024-04-01_03-03-38/checkpoint_000000)\n",
      "\u001b[36m(train_convnet pid=5329)\u001b[0m /tmp/ray/session_2024-04-01_02-53-14_060472_46839/runtime_resources/working_dir_files/_ray_pkg_4a5ca631833e4fab/src/tde.py:132: RuntimeWarning: divide by zero encountered in divide\n",
      "\u001b[36m(train_convnet pid=5329)\u001b[0m   a.append(np.divide(np.linalg.norm(tsrecon[ind_m, :]-tsrecon[ind, :], ord=np.inf, axis=1),\n",
      "\u001b[36m(train_convnet pid=5329)\u001b[0m /tmp/ray/session_2024-04-01_02-53-14_060472_46839/runtime_resources/working_dir_files/_ray_pkg_4a5ca631833e4fab/src/tde.py:132: RuntimeWarning: invalid value encountered in divide\n",
      "\u001b[36m(train_convnet pid=5329)\u001b[0m   a.append(np.divide(np.linalg.norm(tsrecon[ind_m, :]-tsrecon[ind, :], ord=np.inf, axis=1),\n"
     ]
    },
    {
     "name": "stdout",
     "output_type": "stream",
     "text": [
      "\u001b[36m(train_convnet pid=5329)\u001b[0m Data has been embedded using a delay of 19 timesteps and an embedding dimension of 5\n"
     ]
    },
    {
     "name": "stderr",
     "output_type": "stream",
     "text": [
      "\u001b[36m(train_convnet pid=109795)\u001b[0m Checkpoint successfully created at: Checkpoint(filesystem=local, path=/home/michael/Synology/Desktop/Data/Python/Gait-Signatures/ray_results/pb2/train_convnet_6f9de_00001_1_alpha=0.0000,batch_size=32,dec_dropout=0.2072,latent_dim=8,lr=0.0031,rnn_hidden=256,timesteps_per_tria_2024-04-01_03-03-38/checkpoint_000001)\n",
      "\u001b[36m(train_convnet pid=6425)\u001b[0m Restored on 170.140.242.239 from checkpoint: Checkpoint(filesystem=local, path=/home/michael/Synology/Desktop/Data/Python/Gait-Signatures/ray_results/pb2/train_convnet_6f9de_00012_12_alpha=0.0000,batch_size=32,dec_dropout=0.1471,latent_dim=16,lr=0.0054,rnn_hidden=64,timesteps_per_tri_2024-04-01_03-03-38/checkpoint_000000)\n",
      "\u001b[36m(train_convnet pid=109967)\u001b[0m Checkpoint successfully created at: Checkpoint(filesystem=local, path=/home/michael/Synology/Desktop/Data/Python/Gait-Signatures/ray_results/pb2/train_convnet_6f9de_00003_3_alpha=0.0001,batch_size=32,dec_dropout=0.2684,latent_dim=32,lr=0.0026,rnn_hidden=256,timesteps_per_tri_2024-04-01_03-03-38/checkpoint_000000)\n",
      "\u001b[36m(train_convnet pid=6425)\u001b[0m /tmp/ray/session_2024-04-01_02-53-14_060472_46839/runtime_resources/working_dir_files/_ray_pkg_4a5ca631833e4fab/src/tde.py:132: RuntimeWarning: divide by zero encountered in divide\n",
      "\u001b[36m(train_convnet pid=6425)\u001b[0m   a.append(np.divide(np.linalg.norm(tsrecon[ind_m, :]-tsrecon[ind, :], ord=np.inf, axis=1),\n",
      "\u001b[36m(train_convnet pid=6425)\u001b[0m /tmp/ray/session_2024-04-01_02-53-14_060472_46839/runtime_resources/working_dir_files/_ray_pkg_4a5ca631833e4fab/src/tde.py:132: RuntimeWarning: invalid value encountered in divide\n",
      "\u001b[36m(train_convnet pid=6425)\u001b[0m   a.append(np.divide(np.linalg.norm(tsrecon[ind_m, :]-tsrecon[ind, :], ord=np.inf, axis=1),\n",
      "\u001b[36m(train_convnet pid=6702)\u001b[0m Restored on 170.140.242.239 from checkpoint: Checkpoint(filesystem=local, path=/home/michael/Synology/Desktop/Data/Python/Gait-Signatures/ray_results/pb2/train_convnet_6f9de_00013_13_alpha=0.0000,batch_size=32,dec_dropout=0.0850,latent_dim=32,lr=0.0046,rnn_hidden=64,timesteps_per_tri_2024-04-01_03-03-38/checkpoint_000000)\n"
     ]
    },
    {
     "name": "stdout",
     "output_type": "stream",
     "text": [
      "\u001b[36m(train_convnet pid=6425)\u001b[0m Data has been embedded using a delay of 19 timesteps and an embedding dimension of 5\n"
     ]
    },
    {
     "name": "stderr",
     "output_type": "stream",
     "text": [
      "\u001b[36m(train_convnet pid=6702)\u001b[0m /tmp/ray/session_2024-04-01_02-53-14_060472_46839/runtime_resources/working_dir_files/_ray_pkg_4a5ca631833e4fab/src/tde.py:132: RuntimeWarning: divide by zero encountered in divide\n",
      "\u001b[36m(train_convnet pid=6702)\u001b[0m   a.append(np.divide(np.linalg.norm(tsrecon[ind_m, :]-tsrecon[ind, :], ord=np.inf, axis=1),\u001b[32m [repeated 2x across cluster]\u001b[0m\n",
      "\u001b[36m(train_convnet pid=6702)\u001b[0m /tmp/ray/session_2024-04-01_02-53-14_060472_46839/runtime_resources/working_dir_files/_ray_pkg_4a5ca631833e4fab/src/tde.py:132: RuntimeWarning: invalid value encountered in divide\n"
     ]
    },
    {
     "name": "stdout",
     "output_type": "stream",
     "text": [
      "\u001b[36m(train_convnet pid=6702)\u001b[0m Data has been embedded using a delay of 19 timesteps and an embedding dimension of 5\n"
     ]
    },
    {
     "name": "stderr",
     "output_type": "stream",
     "text": [
      "\u001b[36m(train_convnet pid=108871)\u001b[0m Checkpoint successfully created at: Checkpoint(filesystem=local, path=/home/michael/Synology/Desktop/Data/Python/Gait-Signatures/ray_results/pb2/train_convnet_6f9de_00028_28_alpha=0.0000,batch_size=32,dec_dropout=0.2394,latent_dim=8,lr=0.0005,rnn_hidden=128,timesteps_per_tri_2024-04-01_03-03-38/checkpoint_000000)\n",
      "\u001b[36m(train_convnet pid=7518)\u001b[0m Restored on 170.140.242.239 from checkpoint: Checkpoint(filesystem=local, path=/home/michael/Synology/Desktop/Data/Python/Gait-Signatures/ray_results/pb2/train_convnet_6f9de_00006_6_alpha=0.0000,batch_size=32,dec_dropout=0.1047,latent_dim=8,lr=0.0058,rnn_hidden=256,timesteps_per_tria_2024-04-01_03-03-38/checkpoint_000000)\n",
      "\u001b[36m(train_convnet pid=7518)\u001b[0m /tmp/ray/session_2024-04-01_02-53-14_060472_46839/runtime_resources/working_dir_files/_ray_pkg_4a5ca631833e4fab/src/tde.py:132: RuntimeWarning: divide by zero encountered in divide\n",
      "\u001b[36m(train_convnet pid=7518)\u001b[0m   a.append(np.divide(np.linalg.norm(tsrecon[ind_m, :]-tsrecon[ind, :], ord=np.inf, axis=1),\n",
      "\u001b[36m(train_convnet pid=7518)\u001b[0m /tmp/ray/session_2024-04-01_02-53-14_060472_46839/runtime_resources/working_dir_files/_ray_pkg_4a5ca631833e4fab/src/tde.py:132: RuntimeWarning: invalid value encountered in divide\n",
      "\u001b[36m(train_convnet pid=7518)\u001b[0m   a.append(np.divide(np.linalg.norm(tsrecon[ind_m, :]-tsrecon[ind, :], ord=np.inf, axis=1),\n",
      "\u001b[36m(train_convnet pid=110727)\u001b[0m Checkpoint successfully created at: Checkpoint(filesystem=local, path=/home/michael/Synology/Desktop/Data/Python/Gait-Signatures/ray_results/pb2/train_convnet_6f9de_00007_7_alpha=0.0000,batch_size=32,dec_dropout=0.1227,latent_dim=32,lr=0.0066,rnn_hidden=64,timesteps_per_tria_2024-04-01_03-03-38/checkpoint_000001)\n"
     ]
    },
    {
     "name": "stdout",
     "output_type": "stream",
     "text": [
      "\u001b[36m(train_convnet pid=7518)\u001b[0m Data has been embedded using a delay of 19 timesteps and an embedding dimension of 5\n"
     ]
    },
    {
     "name": "stderr",
     "output_type": "stream",
     "text": [
      "\u001b[36m(train_convnet pid=110560)\u001b[0m Checkpoint successfully created at: Checkpoint(filesystem=local, path=/home/michael/Synology/Desktop/Data/Python/Gait-Signatures/ray_results/pb2/train_convnet_6f9de_00006_6_alpha=0.0000,batch_size=32,dec_dropout=0.1047,latent_dim=8,lr=0.0058,rnn_hidden=256,timesteps_per_tria_2024-04-01_03-03-38/checkpoint_000001)\u001b[32m [repeated 3x across cluster]\u001b[0m\n",
      "\u001b[36m(train_convnet pid=8212)\u001b[0m Restored on 170.140.242.239 from checkpoint: Checkpoint(filesystem=local, path=/home/michael/Synology/Desktop/Data/Python/Gait-Signatures/ray_results/pb2/train_convnet_6f9de_00016_16_alpha=0.0000,batch_size=32,dec_dropout=0.1390,latent_dim=32,lr=0.0011,rnn_hidden=128,timesteps_per_tr_2024-04-01_03-03-38/checkpoint_000000)\n",
      "\u001b[36m(train_convnet pid=109494)\u001b[0m Checkpoint successfully created at: Checkpoint(filesystem=local, path=/home/michael/Synology/Desktop/Data/Python/Gait-Signatures/ray_results/pb2/train_convnet_6f9de_00000_0_alpha=0.0000,batch_size=32,dec_dropout=0.2151,latent_dim=32,lr=0.0020,rnn_hidden=64,timesteps_per_tria_2024-04-01_03-03-38/checkpoint_000001)\n",
      "\u001b[36m(train_convnet pid=8542)\u001b[0m Restored on 170.140.242.239 from checkpoint: Checkpoint(filesystem=local, path=/home/michael/Synology/Desktop/Data/Python/Gait-Signatures/ray_results/pb2/train_convnet_6f9de_00018_18_alpha=0.0000,batch_size=32,dec_dropout=0.0493,latent_dim=32,lr=0.0100,rnn_hidden=256,timesteps_per_tr_2024-04-01_03-03-38/checkpoint_000000)\u001b[32m [repeated 2x across cluster]\u001b[0m\n",
      "\u001b[36m(train_convnet pid=8212)\u001b[0m /tmp/ray/session_2024-04-01_02-53-14_060472_46839/runtime_resources/working_dir_files/_ray_pkg_4a5ca631833e4fab/src/tde.py:132: RuntimeWarning: divide by zero encountered in divide\n",
      "\u001b[36m(train_convnet pid=8212)\u001b[0m   a.append(np.divide(np.linalg.norm(tsrecon[ind_m, :]-tsrecon[ind, :], ord=np.inf, axis=1),\n",
      "\u001b[36m(train_convnet pid=8212)\u001b[0m /tmp/ray/session_2024-04-01_02-53-14_060472_46839/runtime_resources/working_dir_files/_ray_pkg_4a5ca631833e4fab/src/tde.py:132: RuntimeWarning: invalid value encountered in divide\n",
      "\u001b[36m(train_convnet pid=8212)\u001b[0m   a.append(np.divide(np.linalg.norm(tsrecon[ind_m, :]-tsrecon[ind, :], ord=np.inf, axis=1),\n",
      "\u001b[36m(train_convnet pid=108782)\u001b[0m Checkpoint successfully created at: Checkpoint(filesystem=local, path=/home/michael/Synology/Desktop/Data/Python/Gait-Signatures/ray_results/pb2/train_convnet_6f9de_00026_26_alpha=0.0000,batch_size=32,dec_dropout=0.1056,latent_dim=32,lr=0.0065,rnn_hidden=128,timesteps_per_tr_2024-04-01_03-03-38/checkpoint_000000)\n",
      "\u001b[36m(train_convnet pid=8844)\u001b[0m Restored on 170.140.242.239 from checkpoint: Checkpoint(filesystem=local, path=/home/michael/Synology/Desktop/Data/Python/Gait-Signatures/ray_results/pb2/train_convnet_6f9de_00021_21_alpha=0.0001,batch_size=32,dec_dropout=0.2106,latent_dim=16,lr=0.0042,rnn_hidden=128,timesteps_per_tr_2024-04-01_03-03-38/checkpoint_000000)\n"
     ]
    },
    {
     "name": "stdout",
     "output_type": "stream",
     "text": [
      "\u001b[36m(train_convnet pid=8212)\u001b[0m Data has been embedded using a delay of 19 timesteps and an embedding dimension of 5\n"
     ]
    },
    {
     "name": "stderr",
     "output_type": "stream",
     "text": [
      "\u001b[36m(train_convnet pid=9011)\u001b[0m Restored on 170.140.242.239 from checkpoint: Checkpoint(filesystem=local, path=/home/michael/Synology/Desktop/Data/Python/Gait-Signatures/ray_results/pb2/train_convnet_6f9de_00022_22_alpha=0.0001,batch_size=32,dec_dropout=0.0276,latent_dim=32,lr=0.0072,rnn_hidden=64,timesteps_per_tri_2024-04-01_03-03-38/checkpoint_000000)\n",
      "\u001b[36m(train_convnet pid=8377)\u001b[0m /tmp/ray/session_2024-04-01_02-53-14_060472_46839/runtime_resources/working_dir_files/_ray_pkg_4a5ca631833e4fab/src/tde.py:132: RuntimeWarning: divide by zero encountered in divide\n",
      "\u001b[36m(train_convnet pid=8377)\u001b[0m   a.append(np.divide(np.linalg.norm(tsrecon[ind_m, :]-tsrecon[ind, :], ord=np.inf, axis=1),\u001b[32m [repeated 2x across cluster]\u001b[0m\n",
      "\u001b[36m(train_convnet pid=8377)\u001b[0m /tmp/ray/session_2024-04-01_02-53-14_060472_46839/runtime_resources/working_dir_files/_ray_pkg_4a5ca631833e4fab/src/tde.py:132: RuntimeWarning: invalid value encountered in divide\n",
      "\u001b[36m(train_convnet pid=8542)\u001b[0m /tmp/ray/session_2024-04-01_02-53-14_060472_46839/runtime_resources/working_dir_files/_ray_pkg_4a5ca631833e4fab/src/tde.py:132: RuntimeWarning: divide by zero encountered in divide\n",
      "\u001b[36m(train_convnet pid=8542)\u001b[0m /tmp/ray/session_2024-04-01_02-53-14_060472_46839/runtime_resources/working_dir_files/_ray_pkg_4a5ca631833e4fab/src/tde.py:132: RuntimeWarning: invalid value encountered in divide\n",
      "\u001b[36m(train_convnet pid=9176)\u001b[0m Restored on 170.140.242.239 from checkpoint: Checkpoint(filesystem=local, path=/home/michael/Synology/Desktop/Data/Python/Gait-Signatures/ray_results/pb2/train_convnet_6f9de_00016_16_alpha=0.0000,batch_size=32,dec_dropout=0.1390,latent_dim=32,lr=0.0011,rnn_hidden=128,timesteps_per_tr_2024-04-01_03-03-38/checkpoint_000000)\n",
      "\u001b[36m(train_convnet pid=8844)\u001b[0m   a.append(np.divide(np.linalg.norm(tsrecon[ind_m, :]-tsrecon[ind, :], ord=np.inf, axis=1),\u001b[32m [repeated 4x across cluster]\u001b[0m\n"
     ]
    },
    {
     "name": "stdout",
     "output_type": "stream",
     "text": [
      "\u001b[36m(train_convnet pid=8542)\u001b[0m Data has been embedded using a delay of 19 timesteps and an embedding dimension of 5\u001b[32m [repeated 2x across cluster]\u001b[0m\n"
     ]
    },
    {
     "name": "stderr",
     "output_type": "stream",
     "text": [
      "\u001b[36m(train_convnet pid=108870)\u001b[0m Checkpoint successfully created at: Checkpoint(filesystem=local, path=/home/michael/Synology/Desktop/Data/Python/Gait-Signatures/ray_results/pb2/train_convnet_6f9de_00027_27_alpha=0.0000,batch_size=32,dec_dropout=0.2811,latent_dim=8,lr=0.0003,rnn_hidden=64,timesteps_per_tria_2024-04-01_03-03-38/checkpoint_000000)\n",
      "\u001b[36m(train_convnet pid=8844)\u001b[0m /tmp/ray/session_2024-04-01_02-53-14_060472_46839/runtime_resources/working_dir_files/_ray_pkg_4a5ca631833e4fab/src/tde.py:132: RuntimeWarning: divide by zero encountered in divide\n",
      "\u001b[36m(train_convnet pid=8844)\u001b[0m /tmp/ray/session_2024-04-01_02-53-14_060472_46839/runtime_resources/working_dir_files/_ray_pkg_4a5ca631833e4fab/src/tde.py:132: RuntimeWarning: invalid value encountered in divide\n",
      "\u001b[36m(train_convnet pid=9011)\u001b[0m /tmp/ray/session_2024-04-01_02-53-14_060472_46839/runtime_resources/working_dir_files/_ray_pkg_4a5ca631833e4fab/src/tde.py:132: RuntimeWarning: divide by zero encountered in divide\n",
      "\u001b[36m(train_convnet pid=9011)\u001b[0m   a.append(np.divide(np.linalg.norm(tsrecon[ind_m, :]-tsrecon[ind, :], ord=np.inf, axis=1),\n",
      "\u001b[36m(train_convnet pid=9011)\u001b[0m /tmp/ray/session_2024-04-01_02-53-14_060472_46839/runtime_resources/working_dir_files/_ray_pkg_4a5ca631833e4fab/src/tde.py:132: RuntimeWarning: invalid value encountered in divide\n",
      "\u001b[36m(train_convnet pid=9011)\u001b[0m   a.append(np.divide(np.linalg.norm(tsrecon[ind_m, :]-tsrecon[ind, :], ord=np.inf, axis=1),\n"
     ]
    },
    {
     "name": "stdout",
     "output_type": "stream",
     "text": [
      "\u001b[36m(train_convnet pid=9011)\u001b[0m Data has been embedded using a delay of 19 timesteps and an embedding dimension of 5\u001b[32m [repeated 2x across cluster]\u001b[0m\n"
     ]
    },
    {
     "name": "stderr",
     "output_type": "stream",
     "text": [
      "\u001b[36m(train_convnet pid=9635)\u001b[0m Restored on 170.140.242.239 from checkpoint: Checkpoint(filesystem=local, path=/home/michael/Synology/Desktop/Data/Python/Gait-Signatures/ray_results/pb2/train_convnet_6f9de_00026_26_alpha=0.0000,batch_size=32,dec_dropout=0.1056,latent_dim=32,lr=0.0065,rnn_hidden=128,timesteps_per_tr_2024-04-01_03-03-38/checkpoint_000000)\n",
      "\u001b[36m(train_convnet pid=110170)\u001b[0m Checkpoint successfully created at: Checkpoint(filesystem=local, path=/home/michael/Synology/Desktop/Data/Python/Gait-Signatures/ray_results/pb2/train_convnet_6f9de_00005_5_alpha=0.0000,batch_size=32,dec_dropout=0.1197,latent_dim=16,lr=0.0083,rnn_hidden=256,timesteps_per_tri_2024-04-01_03-03-38/checkpoint_000001)\u001b[32m [repeated 2x across cluster]\u001b[0m\n",
      "\u001b[36m(train_convnet pid=9176)\u001b[0m /tmp/ray/session_2024-04-01_02-53-14_060472_46839/runtime_resources/working_dir_files/_ray_pkg_4a5ca631833e4fab/src/tde.py:132: RuntimeWarning: divide by zero encountered in divide\n",
      "\u001b[36m(train_convnet pid=9176)\u001b[0m   a.append(np.divide(np.linalg.norm(tsrecon[ind_m, :]-tsrecon[ind, :], ord=np.inf, axis=1),\u001b[32m [repeated 2x across cluster]\u001b[0m\n",
      "\u001b[36m(train_convnet pid=9176)\u001b[0m /tmp/ray/session_2024-04-01_02-53-14_060472_46839/runtime_resources/working_dir_files/_ray_pkg_4a5ca631833e4fab/src/tde.py:132: RuntimeWarning: invalid value encountered in divide\n",
      "\u001b[36m(train_convnet pid=10056)\u001b[0m Restored on 170.140.242.239 from checkpoint: Checkpoint(filesystem=local, path=/home/michael/Synology/Desktop/Data/Python/Gait-Signatures/ray_results/pb2/train_convnet_6f9de_00027_27_alpha=0.0000,batch_size=32,dec_dropout=0.2811,latent_dim=8,lr=0.0003,rnn_hidden=64,timesteps_per_tria_2024-04-01_03-03-38/checkpoint_000000)\u001b[32m [repeated 2x across cluster]\u001b[0m\n",
      "\u001b[36m(train_convnet pid=9635)\u001b[0m /tmp/ray/session_2024-04-01_02-53-14_060472_46839/runtime_resources/working_dir_files/_ray_pkg_4a5ca631833e4fab/src/tde.py:132: RuntimeWarning: divide by zero encountered in divide\n",
      "\u001b[36m(train_convnet pid=9635)\u001b[0m   a.append(np.divide(np.linalg.norm(tsrecon[ind_m, :]-tsrecon[ind, :], ord=np.inf, axis=1),\n",
      "\u001b[36m(train_convnet pid=9635)\u001b[0m /tmp/ray/session_2024-04-01_02-53-14_060472_46839/runtime_resources/working_dir_files/_ray_pkg_4a5ca631833e4fab/src/tde.py:132: RuntimeWarning: invalid value encountered in divide\n",
      "\u001b[36m(train_convnet pid=9635)\u001b[0m   a.append(np.divide(np.linalg.norm(tsrecon[ind_m, :]-tsrecon[ind, :], ord=np.inf, axis=1),\n",
      "\u001b[36m(train_convnet pid=112017)\u001b[0m Checkpoint successfully created at: Checkpoint(filesystem=local, path=/home/michael/Synology/Desktop/Data/Python/Gait-Signatures/ray_results/pb2/train_convnet_6f9de_00008_8_alpha=0.0001,batch_size=32,dec_dropout=0.2858,latent_dim=16,lr=0.0042,rnn_hidden=64,timesteps_per_tria_2024-04-01_03-03-38/checkpoint_000001)\n"
     ]
    },
    {
     "name": "stdout",
     "output_type": "stream",
     "text": [
      "\u001b[36m(train_convnet pid=9635)\u001b[0m Data has been embedded using a delay of 19 timesteps and an embedding dimension of 5\u001b[32m [repeated 2x across cluster]\u001b[0m\n"
     ]
    },
    {
     "name": "stderr",
     "output_type": "stream",
     "text": [
      "\u001b[36m(train_convnet pid=10056)\u001b[0m /tmp/ray/session_2024-04-01_02-53-14_060472_46839/runtime_resources/working_dir_files/_ray_pkg_4a5ca631833e4fab/src/tde.py:132: RuntimeWarning: divide by zero encountered in divide\u001b[32m [repeated 2x across cluster]\u001b[0m\n",
      "\u001b[36m(train_convnet pid=10056)\u001b[0m   a.append(np.divide(np.linalg.norm(tsrecon[ind_m, :]-tsrecon[ind, :], ord=np.inf, axis=1),\u001b[32m [repeated 4x across cluster]\u001b[0m\n",
      "\u001b[36m(train_convnet pid=10056)\u001b[0m /tmp/ray/session_2024-04-01_02-53-14_060472_46839/runtime_resources/working_dir_files/_ray_pkg_4a5ca631833e4fab/src/tde.py:132: RuntimeWarning: invalid value encountered in divide\u001b[32m [repeated 2x across cluster]\u001b[0m\n",
      "\u001b[36m(train_convnet pid=10465)\u001b[0m Restored on 170.140.242.239 from checkpoint: Checkpoint(filesystem=local, path=/home/michael/Synology/Desktop/Data/Python/Gait-Signatures/ray_results/pb2/train_convnet_6f9de_00028_28_alpha=0.0000,batch_size=32,dec_dropout=0.2394,latent_dim=8,lr=0.0005,rnn_hidden=128,timesteps_per_tri_2024-04-01_03-03-38/checkpoint_000000)\n"
     ]
    },
    {
     "name": "stdout",
     "output_type": "stream",
     "text": [
      "\u001b[36m(train_convnet pid=10056)\u001b[0m Data has been embedded using a delay of 19 timesteps and an embedding dimension of 5\u001b[32m [repeated 2x across cluster]\u001b[0m\n"
     ]
    },
    {
     "name": "stderr",
     "output_type": "stream",
     "text": [
      "\u001b[36m(train_convnet pid=10465)\u001b[0m /tmp/ray/session_2024-04-01_02-53-14_060472_46839/runtime_resources/working_dir_files/_ray_pkg_4a5ca631833e4fab/src/tde.py:132: RuntimeWarning: divide by zero encountered in divide\n",
      "\u001b[36m(train_convnet pid=10465)\u001b[0m   a.append(np.divide(np.linalg.norm(tsrecon[ind_m, :]-tsrecon[ind, :], ord=np.inf, axis=1),\u001b[32m [repeated 2x across cluster]\u001b[0m\n",
      "\u001b[36m(train_convnet pid=10465)\u001b[0m /tmp/ray/session_2024-04-01_02-53-14_060472_46839/runtime_resources/working_dir_files/_ray_pkg_4a5ca631833e4fab/src/tde.py:132: RuntimeWarning: invalid value encountered in divide\n"
     ]
    },
    {
     "name": "stdout",
     "output_type": "stream",
     "text": [
      "\u001b[36m(train_convnet pid=10465)\u001b[0m Data has been embedded using a delay of 19 timesteps and an embedding dimension of 5\n"
     ]
    },
    {
     "name": "stderr",
     "output_type": "stream",
     "text": [
      "\u001b[36m(train_convnet pid=78996)\u001b[0m Checkpoint successfully created at: Checkpoint(filesystem=local, path=/home/michael/Synology/Desktop/Data/Python/Gait-Signatures/ray_results/pb2/train_convnet_6f9de_00002_2_alpha=0.0001,batch_size=32,dec_dropout=0.1597,latent_dim=8,lr=0.0039,rnn_hidden=32,timesteps_per_trial_2024-04-01_03-03-38/checkpoint_000000)\n",
      "\u001b[36m(train_convnet pid=17277)\u001b[0m Restored on 170.140.242.239 from checkpoint: Checkpoint(filesystem=local, path=/home/michael/Synology/Desktop/Data/Python/Gait-Signatures/ray_results/pb2/train_convnet_6f9de_00028_28_alpha=0.0000,batch_size=32,dec_dropout=0.2394,latent_dim=8,lr=0.0005,rnn_hidden=128,timesteps_per_tri_2024-04-01_03-03-38/checkpoint_000000)\n",
      "\u001b[36m(train_convnet pid=17277)\u001b[0m /tmp/ray/session_2024-04-01_02-53-14_060472_46839/runtime_resources/working_dir_files/_ray_pkg_4a5ca631833e4fab/src/tde.py:132: RuntimeWarning: divide by zero encountered in divide\n",
      "\u001b[36m(train_convnet pid=17277)\u001b[0m   a.append(np.divide(np.linalg.norm(tsrecon[ind_m, :]-tsrecon[ind, :], ord=np.inf, axis=1),\n",
      "\u001b[36m(train_convnet pid=17277)\u001b[0m /tmp/ray/session_2024-04-01_02-53-14_060472_46839/runtime_resources/working_dir_files/_ray_pkg_4a5ca631833e4fab/src/tde.py:132: RuntimeWarning: invalid value encountered in divide\n",
      "\u001b[36m(train_convnet pid=17277)\u001b[0m   a.append(np.divide(np.linalg.norm(tsrecon[ind_m, :]-tsrecon[ind, :], ord=np.inf, axis=1),\n"
     ]
    },
    {
     "name": "stdout",
     "output_type": "stream",
     "text": [
      "\u001b[36m(train_convnet pid=17277)\u001b[0m Data has been embedded using a delay of 19 timesteps and an embedding dimension of 5\n"
     ]
    },
    {
     "name": "stderr",
     "output_type": "stream",
     "text": [
      "\u001b[36m(train_convnet pid=79018)\u001b[0m Checkpoint successfully created at: Checkpoint(filesystem=local, path=/home/michael/Synology/Desktop/Data/Python/Gait-Signatures/ray_results/pb2/train_convnet_6f9de_00019_19_alpha=0.0001,batch_size=32,dec_dropout=0.2964,latent_dim=8,lr=0.0076,rnn_hidden=64,timesteps_per_tria_2024-04-01_03-03-38/checkpoint_000000)\n",
      "\u001b[36m(train_convnet pid=24615)\u001b[0m Restored on 170.140.242.239 from checkpoint: Checkpoint(filesystem=local, path=/home/michael/Synology/Desktop/Data/Python/Gait-Signatures/ray_results/pb2/train_convnet_6f9de_00002_2_alpha=0.0001,batch_size=32,dec_dropout=0.1597,latent_dim=8,lr=0.0039,rnn_hidden=32,timesteps_per_trial_2024-04-01_03-03-38/checkpoint_000000)\n",
      "\u001b[36m(train_convnet pid=24615)\u001b[0m /tmp/ray/session_2024-04-01_02-53-14_060472_46839/runtime_resources/working_dir_files/_ray_pkg_4a5ca631833e4fab/src/tde.py:132: RuntimeWarning: divide by zero encountered in divide\n",
      "\u001b[36m(train_convnet pid=24615)\u001b[0m   a.append(np.divide(np.linalg.norm(tsrecon[ind_m, :]-tsrecon[ind, :], ord=np.inf, axis=1),\n",
      "\u001b[36m(train_convnet pid=24615)\u001b[0m /tmp/ray/session_2024-04-01_02-53-14_060472_46839/runtime_resources/working_dir_files/_ray_pkg_4a5ca631833e4fab/src/tde.py:132: RuntimeWarning: invalid value encountered in divide\n",
      "\u001b[36m(train_convnet pid=24615)\u001b[0m   a.append(np.divide(np.linalg.norm(tsrecon[ind_m, :]-tsrecon[ind, :], ord=np.inf, axis=1),\n"
     ]
    },
    {
     "name": "stdout",
     "output_type": "stream",
     "text": [
      "\u001b[36m(train_convnet pid=24615)\u001b[0m Data has been embedded using a delay of 19 timesteps and an embedding dimension of 5\n"
     ]
    },
    {
     "name": "stderr",
     "output_type": "stream",
     "text": [
      "\u001b[36m(train_convnet pid=79015)\u001b[0m Checkpoint successfully created at: Checkpoint(filesystem=local, path=/home/michael/Synology/Desktop/Data/Python/Gait-Signatures/ray_results/pb2/train_convnet_6f9de_00020_20_alpha=0.0001,batch_size=32,dec_dropout=0.0150,latent_dim=8,lr=0.0038,rnn_hidden=32,timesteps_per_tria_2024-04-01_03-03-38/checkpoint_000000)\n",
      "\u001b[36m(train_convnet pid=26630)\u001b[0m Restored on 170.140.242.239 from checkpoint: Checkpoint(filesystem=local, path=/home/michael/Synology/Desktop/Data/Python/Gait-Signatures/ray_results/pb2/train_convnet_6f9de_00019_19_alpha=0.0001,batch_size=32,dec_dropout=0.2964,latent_dim=8,lr=0.0076,rnn_hidden=64,timesteps_per_tria_2024-04-01_03-03-38/checkpoint_000000)\n",
      "\u001b[36m(train_convnet pid=26630)\u001b[0m /tmp/ray/session_2024-04-01_02-53-14_060472_46839/runtime_resources/working_dir_files/_ray_pkg_4a5ca631833e4fab/src/tde.py:132: RuntimeWarning: divide by zero encountered in divide\n",
      "\u001b[36m(train_convnet pid=26630)\u001b[0m   a.append(np.divide(np.linalg.norm(tsrecon[ind_m, :]-tsrecon[ind, :], ord=np.inf, axis=1),\n",
      "\u001b[36m(train_convnet pid=26630)\u001b[0m /tmp/ray/session_2024-04-01_02-53-14_060472_46839/runtime_resources/working_dir_files/_ray_pkg_4a5ca631833e4fab/src/tde.py:132: RuntimeWarning: invalid value encountered in divide\n",
      "\u001b[36m(train_convnet pid=26630)\u001b[0m   a.append(np.divide(np.linalg.norm(tsrecon[ind_m, :]-tsrecon[ind, :], ord=np.inf, axis=1),\n"
     ]
    },
    {
     "name": "stdout",
     "output_type": "stream",
     "text": [
      "\u001b[36m(train_convnet pid=26630)\u001b[0m Data has been embedded using a delay of 19 timesteps and an embedding dimension of 5\n"
     ]
    },
    {
     "name": "stderr",
     "output_type": "stream",
     "text": [
      "\u001b[36m(train_convnet pid=79016)\u001b[0m Checkpoint successfully created at: Checkpoint(filesystem=local, path=/home/michael/Synology/Desktop/Data/Python/Gait-Signatures/ray_results/pb2/train_convnet_6f9de_00015_15_alpha=0.0000,batch_size=32,dec_dropout=0.1839,latent_dim=8,lr=0.0059,rnn_hidden=128,timesteps_per_tri_2024-04-01_03-03-38/checkpoint_000000)\n",
      "\u001b[36m(train_convnet pid=29717)\u001b[0m Restored on 170.140.242.239 from checkpoint: Checkpoint(filesystem=local, path=/home/michael/Synology/Desktop/Data/Python/Gait-Signatures/ray_results/pb2/train_convnet_6f9de_00020_20_alpha=0.0001,batch_size=32,dec_dropout=0.0150,latent_dim=8,lr=0.0038,rnn_hidden=32,timesteps_per_tria_2024-04-01_03-03-38/checkpoint_000000)\n",
      "\u001b[36m(train_convnet pid=29717)\u001b[0m /tmp/ray/session_2024-04-01_02-53-14_060472_46839/runtime_resources/working_dir_files/_ray_pkg_4a5ca631833e4fab/src/tde.py:132: RuntimeWarning: divide by zero encountered in divide\n",
      "\u001b[36m(train_convnet pid=29717)\u001b[0m   a.append(np.divide(np.linalg.norm(tsrecon[ind_m, :]-tsrecon[ind, :], ord=np.inf, axis=1),\n",
      "\u001b[36m(train_convnet pid=29717)\u001b[0m /tmp/ray/session_2024-04-01_02-53-14_060472_46839/runtime_resources/working_dir_files/_ray_pkg_4a5ca631833e4fab/src/tde.py:132: RuntimeWarning: invalid value encountered in divide\n",
      "\u001b[36m(train_convnet pid=29717)\u001b[0m   a.append(np.divide(np.linalg.norm(tsrecon[ind_m, :]-tsrecon[ind, :], ord=np.inf, axis=1),\n"
     ]
    },
    {
     "name": "stdout",
     "output_type": "stream",
     "text": [
      "\u001b[36m(train_convnet pid=29717)\u001b[0m Data has been embedded using a delay of 19 timesteps and an embedding dimension of 5\n"
     ]
    },
    {
     "name": "stderr",
     "output_type": "stream",
     "text": [
      "\u001b[36m(train_convnet pid=5329)\u001b[0m Checkpoint successfully created at: Checkpoint(filesystem=local, path=/home/michael/Synology/Desktop/Data/Python/Gait-Signatures/ray_results/pb2/train_convnet_6f9de_00011_11_alpha=0.0000,batch_size=32,dec_dropout=0.1529,latent_dim=32,lr=0.0061,rnn_hidden=64,timesteps_per_tri_2024-04-01_03-03-38/checkpoint_000001)\n",
      "\u001b[36m(train_convnet pid=32270)\u001b[0m Restored on 170.140.242.239 from checkpoint: Checkpoint(filesystem=local, path=/home/michael/Synology/Desktop/Data/Python/Gait-Signatures/ray_results/pb2/train_convnet_6f9de_00015_15_alpha=0.0000,batch_size=32,dec_dropout=0.1839,latent_dim=8,lr=0.0059,rnn_hidden=128,timesteps_per_tri_2024-04-01_03-03-38/checkpoint_000000)\n",
      "\u001b[36m(train_convnet pid=32270)\u001b[0m /tmp/ray/session_2024-04-01_02-53-14_060472_46839/runtime_resources/working_dir_files/_ray_pkg_4a5ca631833e4fab/src/tde.py:132: RuntimeWarning: divide by zero encountered in divide\n",
      "\u001b[36m(train_convnet pid=32270)\u001b[0m   a.append(np.divide(np.linalg.norm(tsrecon[ind_m, :]-tsrecon[ind, :], ord=np.inf, axis=1),\n",
      "\u001b[36m(train_convnet pid=32270)\u001b[0m /tmp/ray/session_2024-04-01_02-53-14_060472_46839/runtime_resources/working_dir_files/_ray_pkg_4a5ca631833e4fab/src/tde.py:132: RuntimeWarning: invalid value encountered in divide\n",
      "\u001b[36m(train_convnet pid=32270)\u001b[0m   a.append(np.divide(np.linalg.norm(tsrecon[ind_m, :]-tsrecon[ind, :], ord=np.inf, axis=1),\n"
     ]
    },
    {
     "name": "stdout",
     "output_type": "stream",
     "text": [
      "\u001b[36m(train_convnet pid=32270)\u001b[0m Data has been embedded using a delay of 19 timesteps and an embedding dimension of 5\n"
     ]
    },
    {
     "name": "stderr",
     "output_type": "stream",
     "text": [
      "\u001b[36m(train_convnet pid=4788)\u001b[0m Checkpoint successfully created at: Checkpoint(filesystem=local, path=/home/michael/Synology/Desktop/Data/Python/Gait-Signatures/ray_results/pb2/train_convnet_6f9de_00010_10_alpha=0.0000,batch_size=32,dec_dropout=0.2241,latent_dim=8,lr=0.0015,rnn_hidden=128,timesteps_per_tri_2024-04-01_03-03-38/checkpoint_000001)\n",
      "\u001b[36m(train_convnet pid=33492)\u001b[0m Restored on 170.140.242.239 from checkpoint: Checkpoint(filesystem=local, path=/home/michael/Synology/Desktop/Data/Python/Gait-Signatures/ray_results/pb2/train_convnet_6f9de_00029_29_alpha=0.0000,batch_size=32,dec_dropout=0.2387,latent_dim=8,lr=0.0022,rnn_hidden=128,timesteps_per_tri_2024-04-01_03-03-38/checkpoint_000000)\n",
      "\u001b[36m(train_convnet pid=33492)\u001b[0m /tmp/ray/session_2024-04-01_02-53-14_060472_46839/runtime_resources/working_dir_files/_ray_pkg_4a5ca631833e4fab/src/tde.py:132: RuntimeWarning: divide by zero encountered in divide\n",
      "\u001b[36m(train_convnet pid=33492)\u001b[0m   a.append(np.divide(np.linalg.norm(tsrecon[ind_m, :]-tsrecon[ind, :], ord=np.inf, axis=1),\n",
      "\u001b[36m(train_convnet pid=33492)\u001b[0m /tmp/ray/session_2024-04-01_02-53-14_060472_46839/runtime_resources/working_dir_files/_ray_pkg_4a5ca631833e4fab/src/tde.py:132: RuntimeWarning: invalid value encountered in divide\n",
      "\u001b[36m(train_convnet pid=33492)\u001b[0m   a.append(np.divide(np.linalg.norm(tsrecon[ind_m, :]-tsrecon[ind, :], ord=np.inf, axis=1),\n"
     ]
    },
    {
     "name": "stdout",
     "output_type": "stream",
     "text": [
      "\u001b[36m(train_convnet pid=33492)\u001b[0m Data has been embedded using a delay of 19 timesteps and an embedding dimension of 5\n"
     ]
    },
    {
     "name": "stderr",
     "output_type": "stream",
     "text": [
      "\u001b[36m(train_convnet pid=4486)\u001b[0m Checkpoint successfully created at: Checkpoint(filesystem=local, path=/home/michael/Synology/Desktop/Data/Python/Gait-Signatures/ray_results/pb2/train_convnet_6f9de_00009_9_alpha=0.0001,batch_size=32,dec_dropout=0.2133,latent_dim=8,lr=0.0044,rnn_hidden=32,timesteps_per_trial_2024-04-01_03-03-38/checkpoint_000001)\n",
      "\u001b[36m(train_convnet pid=35887)\u001b[0m Restored on 170.140.242.239 from checkpoint: Checkpoint(filesystem=local, path=/home/michael/Synology/Desktop/Data/Python/Gait-Signatures/ray_results/pb2/train_convnet_6f9de_00000_0_alpha=0.0000,batch_size=32,dec_dropout=0.2151,latent_dim=32,lr=0.0020,rnn_hidden=64,timesteps_per_tria_2024-04-01_03-03-38/checkpoint_000001)\n",
      "\u001b[36m(train_convnet pid=6425)\u001b[0m Checkpoint successfully created at: Checkpoint(filesystem=local, path=/home/michael/Synology/Desktop/Data/Python/Gait-Signatures/ray_results/pb2/train_convnet_6f9de_00012_12_alpha=0.0000,batch_size=32,dec_dropout=0.1471,latent_dim=16,lr=0.0054,rnn_hidden=64,timesteps_per_tri_2024-04-01_03-03-38/checkpoint_000001)\n",
      "\u001b[36m(train_convnet pid=36085)\u001b[0m Restored on 170.140.242.239 from checkpoint: Checkpoint(filesystem=local, path=/home/michael/Synology/Desktop/Data/Python/Gait-Signatures/ray_results/pb2/train_convnet_6f9de_00001_1_alpha=0.0000,batch_size=32,dec_dropout=0.2072,latent_dim=8,lr=0.0031,rnn_hidden=256,timesteps_per_tria_2024-04-01_03-03-38/checkpoint_000001)\n",
      "\u001b[36m(train_convnet pid=9176)\u001b[0m Checkpoint successfully created at: Checkpoint(filesystem=local, path=/home/michael/Synology/Desktop/Data/Python/Gait-Signatures/ray_results/pb2/train_convnet_6f9de_00023_23_alpha=0.0001,batch_size=32,dec_dropout=0.1309,latent_dim=32,lr=0.0073,rnn_hidden=256,timesteps_per_tr_2024-04-01_03-03-38/checkpoint_000000)\n",
      "\u001b[36m(train_convnet pid=35887)\u001b[0m /tmp/ray/session_2024-04-01_02-53-14_060472_46839/runtime_resources/working_dir_files/_ray_pkg_4a5ca631833e4fab/src/tde.py:132: RuntimeWarning: divide by zero encountered in divide\n",
      "\u001b[36m(train_convnet pid=35887)\u001b[0m   a.append(np.divide(np.linalg.norm(tsrecon[ind_m, :]-tsrecon[ind, :], ord=np.inf, axis=1),\n",
      "\u001b[36m(train_convnet pid=35887)\u001b[0m /tmp/ray/session_2024-04-01_02-53-14_060472_46839/runtime_resources/working_dir_files/_ray_pkg_4a5ca631833e4fab/src/tde.py:132: RuntimeWarning: invalid value encountered in divide\n",
      "\u001b[36m(train_convnet pid=35887)\u001b[0m   a.append(np.divide(np.linalg.norm(tsrecon[ind_m, :]-tsrecon[ind, :], ord=np.inf, axis=1),\n"
     ]
    },
    {
     "name": "stdout",
     "output_type": "stream",
     "text": [
      "\u001b[36m(train_convnet pid=35887)\u001b[0m Data has been embedded using a delay of 19 timesteps and an embedding dimension of 5\n"
     ]
    },
    {
     "name": "stderr",
     "output_type": "stream",
     "text": [
      "\u001b[36m(train_convnet pid=36467)\u001b[0m Restored on 170.140.242.239 from checkpoint: Checkpoint(filesystem=local, path=/home/michael/Synology/Desktop/Data/Python/Gait-Signatures/ray_results/pb2/train_convnet_6f9de_00003_3_alpha=0.0001,batch_size=32,dec_dropout=0.2684,latent_dim=32,lr=0.0026,rnn_hidden=256,timesteps_per_tri_2024-04-01_03-03-38/checkpoint_000000)\n",
      "\u001b[36m(train_convnet pid=6702)\u001b[0m Checkpoint successfully created at: Checkpoint(filesystem=local, path=/home/michael/Synology/Desktop/Data/Python/Gait-Signatures/ray_results/pb2/train_convnet_6f9de_00013_13_alpha=0.0000,batch_size=32,dec_dropout=0.0850,latent_dim=32,lr=0.0046,rnn_hidden=64,timesteps_per_tri_2024-04-01_03-03-38/checkpoint_000001)\n",
      "\u001b[36m(train_convnet pid=36085)\u001b[0m /tmp/ray/session_2024-04-01_02-53-14_060472_46839/runtime_resources/working_dir_files/_ray_pkg_4a5ca631833e4fab/src/tde.py:132: RuntimeWarning: divide by zero encountered in divide\n",
      "\u001b[36m(train_convnet pid=36085)\u001b[0m   a.append(np.divide(np.linalg.norm(tsrecon[ind_m, :]-tsrecon[ind, :], ord=np.inf, axis=1),\n",
      "\u001b[36m(train_convnet pid=36085)\u001b[0m /tmp/ray/session_2024-04-01_02-53-14_060472_46839/runtime_resources/working_dir_files/_ray_pkg_4a5ca631833e4fab/src/tde.py:132: RuntimeWarning: invalid value encountered in divide\n",
      "\u001b[36m(train_convnet pid=36085)\u001b[0m   a.append(np.divide(np.linalg.norm(tsrecon[ind_m, :]-tsrecon[ind, :], ord=np.inf, axis=1),\n",
      "\u001b[36m(train_convnet pid=36626)\u001b[0m Restored on 170.140.242.239 from checkpoint: Checkpoint(filesystem=local, path=/home/michael/Synology/Desktop/Data/Python/Gait-Signatures/ray_results/pb2/train_convnet_6f9de_00004_4_alpha=0.0001,batch_size=32,dec_dropout=0.1387,latent_dim=8,lr=0.0057,rnn_hidden=32,timesteps_per_trial_2024-04-01_03-03-38/checkpoint_000000)\n"
     ]
    },
    {
     "name": "stdout",
     "output_type": "stream",
     "text": [
      "\u001b[36m(train_convnet pid=36085)\u001b[0m Data has been embedded using a delay of 19 timesteps and an embedding dimension of 5\n"
     ]
    },
    {
     "name": "stderr",
     "output_type": "stream",
     "text": [
      "\u001b[36m(train_convnet pid=36467)\u001b[0m /tmp/ray/session_2024-04-01_02-53-14_060472_46839/runtime_resources/working_dir_files/_ray_pkg_4a5ca631833e4fab/src/tde.py:132: RuntimeWarning: divide by zero encountered in divide\n",
      "\u001b[36m(train_convnet pid=36467)\u001b[0m   a.append(np.divide(np.linalg.norm(tsrecon[ind_m, :]-tsrecon[ind, :], ord=np.inf, axis=1),\u001b[32m [repeated 2x across cluster]\u001b[0m\n",
      "\u001b[36m(train_convnet pid=36467)\u001b[0m /tmp/ray/session_2024-04-01_02-53-14_060472_46839/runtime_resources/working_dir_files/_ray_pkg_4a5ca631833e4fab/src/tde.py:132: RuntimeWarning: invalid value encountered in divide\n",
      "\u001b[36m(train_convnet pid=7518)\u001b[0m Checkpoint successfully created at: Checkpoint(filesystem=local, path=/home/michael/Synology/Desktop/Data/Python/Gait-Signatures/ray_results/pb2/train_convnet_6f9de_00014_14_alpha=0.0001,batch_size=32,dec_dropout=0.1006,latent_dim=8,lr=0.0001,rnn_hidden=64,timesteps_per_tria_2024-04-01_03-03-38/checkpoint_000000)\n"
     ]
    },
    {
     "name": "stdout",
     "output_type": "stream",
     "text": [
      "\u001b[36m(train_convnet pid=36467)\u001b[0m Data has been embedded using a delay of 19 timesteps and an embedding dimension of 5\n"
     ]
    },
    {
     "name": "stderr",
     "output_type": "stream",
     "text": [
      "\u001b[36m(train_convnet pid=36626)\u001b[0m /tmp/ray/session_2024-04-01_02-53-14_060472_46839/runtime_resources/working_dir_files/_ray_pkg_4a5ca631833e4fab/src/tde.py:132: RuntimeWarning: divide by zero encountered in divide\n",
      "\u001b[36m(train_convnet pid=36626)\u001b[0m /tmp/ray/session_2024-04-01_02-53-14_060472_46839/runtime_resources/working_dir_files/_ray_pkg_4a5ca631833e4fab/src/tde.py:132: RuntimeWarning: invalid value encountered in divide\n",
      "\u001b[36m(train_convnet pid=36626)\u001b[0m   a.append(np.divide(np.linalg.norm(tsrecon[ind_m, :]-tsrecon[ind, :], ord=np.inf, axis=1),\u001b[32m [repeated 2x across cluster]\u001b[0m\n",
      "\u001b[36m(train_convnet pid=37075)\u001b[0m Restored on 170.140.242.239 from checkpoint: Checkpoint(filesystem=local, path=/home/michael/Synology/Desktop/Data/Python/Gait-Signatures/ray_results/pb2/train_convnet_6f9de_00005_5_alpha=0.0000,batch_size=32,dec_dropout=0.1197,latent_dim=16,lr=0.0083,rnn_hidden=256,timesteps_per_tri_2024-04-01_03-03-38/checkpoint_000001)\n"
     ]
    },
    {
     "name": "stdout",
     "output_type": "stream",
     "text": [
      "\u001b[36m(train_convnet pid=36626)\u001b[0m Data has been embedded using a delay of 19 timesteps and an embedding dimension of 5\n"
     ]
    },
    {
     "name": "stderr",
     "output_type": "stream",
     "text": [
      "\u001b[36m(train_convnet pid=8844)\u001b[0m Checkpoint successfully created at: Checkpoint(filesystem=local, path=/home/michael/Synology/Desktop/Data/Python/Gait-Signatures/ray_results/pb2/train_convnet_6f9de_00021_21_alpha=0.0001,batch_size=32,dec_dropout=0.2106,latent_dim=16,lr=0.0042,rnn_hidden=128,timesteps_per_tr_2024-04-01_03-03-38/checkpoint_000001)\n",
      "\u001b[36m(train_convnet pid=37257)\u001b[0m Restored on 170.140.242.239 from checkpoint: Checkpoint(filesystem=local, path=/home/michael/Synology/Desktop/Data/Python/Gait-Signatures/ray_results/pb2/train_convnet_6f9de_00020_20_alpha=0.0001,batch_size=32,dec_dropout=0.0150,latent_dim=8,lr=0.0038,rnn_hidden=32,timesteps_per_tria_2024-04-01_03-03-38/checkpoint_000000)\n",
      "\u001b[36m(train_convnet pid=37075)\u001b[0m /tmp/ray/session_2024-04-01_02-53-14_060472_46839/runtime_resources/working_dir_files/_ray_pkg_4a5ca631833e4fab/src/tde.py:132: RuntimeWarning: divide by zero encountered in divide\n",
      "\u001b[36m(train_convnet pid=37075)\u001b[0m   a.append(np.divide(np.linalg.norm(tsrecon[ind_m, :]-tsrecon[ind, :], ord=np.inf, axis=1),\n",
      "\u001b[36m(train_convnet pid=37075)\u001b[0m /tmp/ray/session_2024-04-01_02-53-14_060472_46839/runtime_resources/working_dir_files/_ray_pkg_4a5ca631833e4fab/src/tde.py:132: RuntimeWarning: invalid value encountered in divide\n",
      "\u001b[36m(train_convnet pid=37075)\u001b[0m   a.append(np.divide(np.linalg.norm(tsrecon[ind_m, :]-tsrecon[ind, :], ord=np.inf, axis=1),\n"
     ]
    },
    {
     "name": "stdout",
     "output_type": "stream",
     "text": [
      "\u001b[36m(train_convnet pid=37075)\u001b[0m Data has been embedded using a delay of 19 timesteps and an embedding dimension of 5\n"
     ]
    },
    {
     "name": "stderr",
     "output_type": "stream",
     "text": [
      "\u001b[36m(train_convnet pid=37257)\u001b[0m /tmp/ray/session_2024-04-01_02-53-14_060472_46839/runtime_resources/working_dir_files/_ray_pkg_4a5ca631833e4fab/src/tde.py:132: RuntimeWarning: divide by zero encountered in divide\n",
      "\u001b[36m(train_convnet pid=37257)\u001b[0m   a.append(np.divide(np.linalg.norm(tsrecon[ind_m, :]-tsrecon[ind, :], ord=np.inf, axis=1),\u001b[32m [repeated 2x across cluster]\u001b[0m\n",
      "\u001b[36m(train_convnet pid=37257)\u001b[0m /tmp/ray/session_2024-04-01_02-53-14_060472_46839/runtime_resources/working_dir_files/_ray_pkg_4a5ca631833e4fab/src/tde.py:132: RuntimeWarning: invalid value encountered in divide\n"
     ]
    },
    {
     "name": "stdout",
     "output_type": "stream",
     "text": [
      "\u001b[36m(train_convnet pid=37257)\u001b[0m Data has been embedded using a delay of 19 timesteps and an embedding dimension of 5\n"
     ]
    },
    {
     "name": "stderr",
     "output_type": "stream",
     "text": [
      "\u001b[36m(train_convnet pid=8212)\u001b[0m Checkpoint successfully created at: Checkpoint(filesystem=local, path=/home/michael/Synology/Desktop/Data/Python/Gait-Signatures/ray_results/pb2/train_convnet_6f9de_00016_16_alpha=0.0000,batch_size=32,dec_dropout=0.1390,latent_dim=32,lr=0.0011,rnn_hidden=128,timesteps_per_tr_2024-04-01_03-03-38/checkpoint_000001)\n",
      "\u001b[36m(train_convnet pid=38150)\u001b[0m Restored on 170.140.242.239 from checkpoint: Checkpoint(filesystem=local, path=/home/michael/Synology/Desktop/Data/Python/Gait-Signatures/ray_results/pb2/train_convnet_6f9de_00006_6_alpha=0.0000,batch_size=32,dec_dropout=0.1047,latent_dim=8,lr=0.0058,rnn_hidden=256,timesteps_per_tria_2024-04-01_03-03-38/checkpoint_000001)\n",
      "\u001b[36m(train_convnet pid=8542)\u001b[0m Checkpoint successfully created at: Checkpoint(filesystem=local, path=/home/michael/Synology/Desktop/Data/Python/Gait-Signatures/ray_results/pb2/train_convnet_6f9de_00018_18_alpha=0.0000,batch_size=32,dec_dropout=0.0493,latent_dim=32,lr=0.0100,rnn_hidden=256,timesteps_per_tr_2024-04-01_03-03-38/checkpoint_000001)\n",
      "\u001b[36m(train_convnet pid=38559)\u001b[0m Restored on 170.140.242.239 from checkpoint: Checkpoint(filesystem=local, path=/home/michael/Synology/Desktop/Data/Python/Gait-Signatures/ray_results/pb2/train_convnet_6f9de_00007_7_alpha=0.0000,batch_size=32,dec_dropout=0.1227,latent_dim=32,lr=0.0066,rnn_hidden=64,timesteps_per_tria_2024-04-01_03-03-38/checkpoint_000001)\n",
      "\u001b[36m(train_convnet pid=38150)\u001b[0m /tmp/ray/session_2024-04-01_02-53-14_060472_46839/runtime_resources/working_dir_files/_ray_pkg_4a5ca631833e4fab/src/tde.py:132: RuntimeWarning: divide by zero encountered in divide\n",
      "\u001b[36m(train_convnet pid=38150)\u001b[0m   a.append(np.divide(np.linalg.norm(tsrecon[ind_m, :]-tsrecon[ind, :], ord=np.inf, axis=1),\n",
      "\u001b[36m(train_convnet pid=38150)\u001b[0m /tmp/ray/session_2024-04-01_02-53-14_060472_46839/runtime_resources/working_dir_files/_ray_pkg_4a5ca631833e4fab/src/tde.py:132: RuntimeWarning: invalid value encountered in divide\n",
      "\u001b[36m(train_convnet pid=38150)\u001b[0m   a.append(np.divide(np.linalg.norm(tsrecon[ind_m, :]-tsrecon[ind, :], ord=np.inf, axis=1),\n"
     ]
    },
    {
     "name": "stdout",
     "output_type": "stream",
     "text": [
      "\u001b[36m(train_convnet pid=38150)\u001b[0m Data has been embedded using a delay of 19 timesteps and an embedding dimension of 5\n"
     ]
    },
    {
     "name": "stderr",
     "output_type": "stream",
     "text": [
      "\u001b[36m(train_convnet pid=38559)\u001b[0m /tmp/ray/session_2024-04-01_02-53-14_060472_46839/runtime_resources/working_dir_files/_ray_pkg_4a5ca631833e4fab/src/tde.py:132: RuntimeWarning: divide by zero encountered in divide\n",
      "\u001b[36m(train_convnet pid=38559)\u001b[0m   a.append(np.divide(np.linalg.norm(tsrecon[ind_m, :]-tsrecon[ind, :], ord=np.inf, axis=1),\u001b[32m [repeated 2x across cluster]\u001b[0m\n",
      "\u001b[36m(train_convnet pid=38559)\u001b[0m /tmp/ray/session_2024-04-01_02-53-14_060472_46839/runtime_resources/working_dir_files/_ray_pkg_4a5ca631833e4fab/src/tde.py:132: RuntimeWarning: invalid value encountered in divide\n"
     ]
    },
    {
     "name": "stdout",
     "output_type": "stream",
     "text": [
      "\u001b[36m(train_convnet pid=38559)\u001b[0m Data has been embedded using a delay of 19 timesteps and an embedding dimension of 5\n"
     ]
    },
    {
     "name": "stderr",
     "output_type": "stream",
     "text": [
      "\u001b[36m(train_convnet pid=8377)\u001b[0m Checkpoint successfully created at: Checkpoint(filesystem=local, path=/home/michael/Synology/Desktop/Data/Python/Gait-Signatures/ray_results/pb2/train_convnet_6f9de_00017_17_alpha=0.0001,batch_size=32,dec_dropout=0.0791,latent_dim=16,lr=0.0068,rnn_hidden=256,timesteps_per_tr_2024-04-01_03-03-38/checkpoint_000000)\n",
      "\u001b[36m(train_convnet pid=39565)\u001b[0m Restored on 170.140.242.239 from checkpoint: Checkpoint(filesystem=local, path=/home/michael/Synology/Desktop/Data/Python/Gait-Signatures/ray_results/pb2/train_convnet_6f9de_00001_1_alpha=0.0000,batch_size=32,dec_dropout=0.2072,latent_dim=8,lr=0.0031,rnn_hidden=256,timesteps_per_tria_2024-04-01_03-03-38/checkpoint_000001)\n",
      "\u001b[36m(train_convnet pid=9011)\u001b[0m Checkpoint successfully created at: Checkpoint(filesystem=local, path=/home/michael/Synology/Desktop/Data/Python/Gait-Signatures/ray_results/pb2/train_convnet_6f9de_00022_22_alpha=0.0001,batch_size=32,dec_dropout=0.0276,latent_dim=32,lr=0.0072,rnn_hidden=64,timesteps_per_tri_2024-04-01_03-03-38/checkpoint_000001)\n",
      "\u001b[36m(train_convnet pid=39565)\u001b[0m /tmp/ray/session_2024-04-01_02-53-14_060472_46839/runtime_resources/working_dir_files/_ray_pkg_4a5ca631833e4fab/src/tde.py:132: RuntimeWarning: divide by zero encountered in divide\n",
      "\u001b[36m(train_convnet pid=39565)\u001b[0m   a.append(np.divide(np.linalg.norm(tsrecon[ind_m, :]-tsrecon[ind, :], ord=np.inf, axis=1),\n",
      "\u001b[36m(train_convnet pid=39565)\u001b[0m /tmp/ray/session_2024-04-01_02-53-14_060472_46839/runtime_resources/working_dir_files/_ray_pkg_4a5ca631833e4fab/src/tde.py:132: RuntimeWarning: invalid value encountered in divide\n",
      "\u001b[36m(train_convnet pid=39565)\u001b[0m   a.append(np.divide(np.linalg.norm(tsrecon[ind_m, :]-tsrecon[ind, :], ord=np.inf, axis=1),\n",
      "\u001b[36m(train_convnet pid=39937)\u001b[0m Restored on 170.140.242.239 from checkpoint: Checkpoint(filesystem=local, path=/home/michael/Synology/Desktop/Data/Python/Gait-Signatures/ray_results/pb2/train_convnet_6f9de_00010_10_alpha=0.0000,batch_size=32,dec_dropout=0.2241,latent_dim=8,lr=0.0015,rnn_hidden=128,timesteps_per_tri_2024-04-01_03-03-38/checkpoint_000001)\n"
     ]
    },
    {
     "name": "stdout",
     "output_type": "stream",
     "text": [
      "\u001b[36m(train_convnet pid=39565)\u001b[0m Data has been embedded using a delay of 19 timesteps and an embedding dimension of 5\n"
     ]
    },
    {
     "name": "stderr",
     "output_type": "stream",
     "text": [
      "\u001b[36m(train_convnet pid=39937)\u001b[0m /tmp/ray/session_2024-04-01_02-53-14_060472_46839/runtime_resources/working_dir_files/_ray_pkg_4a5ca631833e4fab/src/tde.py:132: RuntimeWarning: divide by zero encountered in divide\n",
      "\u001b[36m(train_convnet pid=39937)\u001b[0m   a.append(np.divide(np.linalg.norm(tsrecon[ind_m, :]-tsrecon[ind, :], ord=np.inf, axis=1),\u001b[32m [repeated 2x across cluster]\u001b[0m\n",
      "\u001b[36m(train_convnet pid=39937)\u001b[0m /tmp/ray/session_2024-04-01_02-53-14_060472_46839/runtime_resources/working_dir_files/_ray_pkg_4a5ca631833e4fab/src/tde.py:132: RuntimeWarning: invalid value encountered in divide\n"
     ]
    },
    {
     "name": "stdout",
     "output_type": "stream",
     "text": [
      "\u001b[36m(train_convnet pid=39937)\u001b[0m Data has been embedded using a delay of 19 timesteps and an embedding dimension of 5\n"
     ]
    },
    {
     "name": "stderr",
     "output_type": "stream",
     "text": [
      "\u001b[36m(train_convnet pid=9833)\u001b[0m Checkpoint successfully created at: Checkpoint(filesystem=local, path=/home/michael/Synology/Desktop/Data/Python/Gait-Signatures/ray_results/pb2/train_convnet_6f9de_00025_25_alpha=0.0000,batch_size=32,dec_dropout=0.0776,latent_dim=8,lr=0.0022,rnn_hidden=64,timesteps_per_tria_2024-04-01_03-03-38/checkpoint_000001)\n",
      "\u001b[36m(train_convnet pid=40744)\u001b[0m Restored on 170.140.242.239 from checkpoint: Checkpoint(filesystem=local, path=/home/michael/Synology/Desktop/Data/Python/Gait-Signatures/ray_results/pb2/train_convnet_6f9de_00011_11_alpha=0.0000,batch_size=32,dec_dropout=0.1529,latent_dim=32,lr=0.0061,rnn_hidden=64,timesteps_per_tri_2024-04-01_03-03-38/checkpoint_000001)\n",
      "\u001b[36m(train_convnet pid=9635)\u001b[0m Checkpoint successfully created at: Checkpoint(filesystem=local, path=/home/michael/Synology/Desktop/Data/Python/Gait-Signatures/ray_results/pb2/train_convnet_6f9de_00026_26_alpha=0.0000,batch_size=32,dec_dropout=0.1056,latent_dim=32,lr=0.0065,rnn_hidden=128,timesteps_per_tr_2024-04-01_03-03-38/checkpoint_000001)\n",
      "\u001b[36m(train_convnet pid=40744)\u001b[0m /tmp/ray/session_2024-04-01_02-53-14_060472_46839/runtime_resources/working_dir_files/_ray_pkg_4a5ca631833e4fab/src/tde.py:132: RuntimeWarning: divide by zero encountered in divide\n",
      "\u001b[36m(train_convnet pid=40744)\u001b[0m   a.append(np.divide(np.linalg.norm(tsrecon[ind_m, :]-tsrecon[ind, :], ord=np.inf, axis=1),\n",
      "\u001b[36m(train_convnet pid=40744)\u001b[0m /tmp/ray/session_2024-04-01_02-53-14_060472_46839/runtime_resources/working_dir_files/_ray_pkg_4a5ca631833e4fab/src/tde.py:132: RuntimeWarning: invalid value encountered in divide\n",
      "\u001b[36m(train_convnet pid=40744)\u001b[0m   a.append(np.divide(np.linalg.norm(tsrecon[ind_m, :]-tsrecon[ind, :], ord=np.inf, axis=1),\n",
      "\u001b[36m(train_convnet pid=41197)\u001b[0m Restored on 170.140.242.239 from checkpoint: Checkpoint(filesystem=local, path=/home/michael/Synology/Desktop/Data/Python/Gait-Signatures/ray_results/pb2/train_convnet_6f9de_00012_12_alpha=0.0000,batch_size=32,dec_dropout=0.1471,latent_dim=16,lr=0.0054,rnn_hidden=64,timesteps_per_tri_2024-04-01_03-03-38/checkpoint_000001)\n"
     ]
    },
    {
     "name": "stdout",
     "output_type": "stream",
     "text": [
      "\u001b[36m(train_convnet pid=40744)\u001b[0m Data has been embedded using a delay of 19 timesteps and an embedding dimension of 5\n"
     ]
    },
    {
     "name": "stderr",
     "output_type": "stream",
     "text": [
      "\u001b[36m(train_convnet pid=10056)\u001b[0m Checkpoint successfully created at: Checkpoint(filesystem=local, path=/home/michael/Synology/Desktop/Data/Python/Gait-Signatures/ray_results/pb2/train_convnet_6f9de_00027_27_alpha=0.0000,batch_size=32,dec_dropout=0.2811,latent_dim=8,lr=0.0003,rnn_hidden=64,timesteps_per_tria_2024-04-01_03-03-38/checkpoint_000001)\n",
      "\u001b[36m(train_convnet pid=41197)\u001b[0m /tmp/ray/session_2024-04-01_02-53-14_060472_46839/runtime_resources/working_dir_files/_ray_pkg_4a5ca631833e4fab/src/tde.py:132: RuntimeWarning: divide by zero encountered in divide\n",
      "\u001b[36m(train_convnet pid=41197)\u001b[0m   a.append(np.divide(np.linalg.norm(tsrecon[ind_m, :]-tsrecon[ind, :], ord=np.inf, axis=1),\n",
      "\u001b[36m(train_convnet pid=41197)\u001b[0m /tmp/ray/session_2024-04-01_02-53-14_060472_46839/runtime_resources/working_dir_files/_ray_pkg_4a5ca631833e4fab/src/tde.py:132: RuntimeWarning: invalid value encountered in divide\n",
      "\u001b[36m(train_convnet pid=41197)\u001b[0m   a.append(np.divide(np.linalg.norm(tsrecon[ind_m, :]-tsrecon[ind, :], ord=np.inf, axis=1),\n",
      "\u001b[36m(train_convnet pid=41680)\u001b[0m Restored on 170.140.242.239 from checkpoint: Checkpoint(filesystem=local, path=/home/michael/Synology/Desktop/Data/Python/Gait-Signatures/ray_results/pb2/train_convnet_6f9de_00001_1_alpha=0.0000,batch_size=32,dec_dropout=0.2072,latent_dim=8,lr=0.0031,rnn_hidden=256,timesteps_per_tria_2024-04-01_03-03-38/checkpoint_000001)\n",
      "\u001b[36m(train_convnet pid=10465)\u001b[0m Checkpoint successfully created at: Checkpoint(filesystem=local, path=/home/michael/Synology/Desktop/Data/Python/Gait-Signatures/ray_results/pb2/train_convnet_6f9de_00028_28_alpha=0.0000,batch_size=32,dec_dropout=0.2394,latent_dim=8,lr=0.0005,rnn_hidden=128,timesteps_per_tri_2024-04-01_03-03-38/checkpoint_000001)\n"
     ]
    },
    {
     "name": "stdout",
     "output_type": "stream",
     "text": [
      "\u001b[36m(train_convnet pid=41197)\u001b[0m Data has been embedded using a delay of 19 timesteps and an embedding dimension of 5\n"
     ]
    },
    {
     "name": "stderr",
     "output_type": "stream",
     "text": [
      "\u001b[36m(train_convnet pid=41680)\u001b[0m /tmp/ray/session_2024-04-01_02-53-14_060472_46839/runtime_resources/working_dir_files/_ray_pkg_4a5ca631833e4fab/src/tde.py:132: RuntimeWarning: divide by zero encountered in divide\n",
      "\u001b[36m(train_convnet pid=41680)\u001b[0m   a.append(np.divide(np.linalg.norm(tsrecon[ind_m, :]-tsrecon[ind, :], ord=np.inf, axis=1),\n",
      "\u001b[36m(train_convnet pid=41680)\u001b[0m /tmp/ray/session_2024-04-01_02-53-14_060472_46839/runtime_resources/working_dir_files/_ray_pkg_4a5ca631833e4fab/src/tde.py:132: RuntimeWarning: invalid value encountered in divide\n",
      "\u001b[36m(train_convnet pid=41680)\u001b[0m   a.append(np.divide(np.linalg.norm(tsrecon[ind_m, :]-tsrecon[ind, :], ord=np.inf, axis=1),\n",
      "\u001b[36m(train_convnet pid=41844)\u001b[0m Restored on 170.140.242.239 from checkpoint: Checkpoint(filesystem=local, path=/home/michael/Synology/Desktop/Data/Python/Gait-Signatures/ray_results/pb2/train_convnet_6f9de_00014_14_alpha=0.0001,batch_size=32,dec_dropout=0.1006,latent_dim=8,lr=0.0001,rnn_hidden=64,timesteps_per_tria_2024-04-01_03-03-38/checkpoint_000000)\n",
      "\u001b[36m(train_convnet pid=41844)\u001b[0m /tmp/ray/session_2024-04-01_02-53-14_060472_46839/runtime_resources/working_dir_files/_ray_pkg_4a5ca631833e4fab/src/tde.py:132: RuntimeWarning: divide by zero encountered in divide\n",
      "\u001b[36m(train_convnet pid=41844)\u001b[0m   a.append(np.divide(np.linalg.norm(tsrecon[ind_m, :]-tsrecon[ind, :], ord=np.inf, axis=1),\u001b[32m [repeated 2x across cluster]\u001b[0m\n",
      "\u001b[36m(train_convnet pid=41844)\u001b[0m /tmp/ray/session_2024-04-01_02-53-14_060472_46839/runtime_resources/working_dir_files/_ray_pkg_4a5ca631833e4fab/src/tde.py:132: RuntimeWarning: invalid value encountered in divide\n"
     ]
    },
    {
     "name": "stdout",
     "output_type": "stream",
     "text": [
      "\u001b[36m(train_convnet pid=41680)\u001b[0m Data has been embedded using a delay of 19 timesteps and an embedding dimension of 5\n",
      "\u001b[36m(train_convnet pid=41844)\u001b[0m Data has been embedded using a delay of 19 timesteps and an embedding dimension of 5\n"
     ]
    },
    {
     "name": "stderr",
     "output_type": "stream",
     "text": [
      "\u001b[36m(train_convnet pid=106929)\u001b[0m Checkpoint successfully created at: Checkpoint(filesystem=local, path=/home/michael/Synology/Desktop/Data/Python/Gait-Signatures/ray_results/pb2/train_convnet_6f9de_00024_24_alpha=0.0000,batch_size=32,dec_dropout=0.0301,latent_dim=8,lr=0.0022,rnn_hidden=256,timesteps_per_tri_2024-04-01_03-03-38/checkpoint_000000)\n",
      "\u001b[36m(train_convnet pid=44661)\u001b[0m Restored on 170.140.242.239 from checkpoint: Checkpoint(filesystem=local, path=/home/michael/Synology/Desktop/Data/Python/Gait-Signatures/ray_results/pb2/train_convnet_6f9de_00016_16_alpha=0.0000,batch_size=32,dec_dropout=0.1390,latent_dim=32,lr=0.0011,rnn_hidden=128,timesteps_per_tr_2024-04-01_03-03-38/checkpoint_000001)\n",
      "\u001b[36m(train_convnet pid=44661)\u001b[0m /tmp/ray/session_2024-04-01_02-53-14_060472_46839/runtime_resources/working_dir_files/_ray_pkg_4a5ca631833e4fab/src/tde.py:132: RuntimeWarning: divide by zero encountered in divide\n",
      "\u001b[36m(train_convnet pid=44661)\u001b[0m   a.append(np.divide(np.linalg.norm(tsrecon[ind_m, :]-tsrecon[ind, :], ord=np.inf, axis=1),\n",
      "\u001b[36m(train_convnet pid=44661)\u001b[0m /tmp/ray/session_2024-04-01_02-53-14_060472_46839/runtime_resources/working_dir_files/_ray_pkg_4a5ca631833e4fab/src/tde.py:132: RuntimeWarning: invalid value encountered in divide\n",
      "\u001b[36m(train_convnet pid=44661)\u001b[0m   a.append(np.divide(np.linalg.norm(tsrecon[ind_m, :]-tsrecon[ind, :], ord=np.inf, axis=1),\n"
     ]
    },
    {
     "name": "stdout",
     "output_type": "stream",
     "text": [
      "\u001b[36m(train_convnet pid=44661)\u001b[0m Data has been embedded using a delay of 19 timesteps and an embedding dimension of 5\n"
     ]
    },
    {
     "name": "stderr",
     "output_type": "stream",
     "text": [
      "\u001b[36m(train_convnet pid=17277)\u001b[0m Checkpoint successfully created at: Checkpoint(filesystem=local, path=/home/michael/Synology/Desktop/Data/Python/Gait-Signatures/ray_results/pb2/train_convnet_6f9de_00008_8_alpha=0.0001,batch_size=32,dec_dropout=0.2858,latent_dim=16,lr=0.0042,rnn_hidden=64,timesteps_per_tria_2024-04-01_03-03-38/checkpoint_000001)\n",
      "\u001b[36m(train_convnet pid=48078)\u001b[0m Restored on 170.140.242.239 from checkpoint: Checkpoint(filesystem=local, path=/home/michael/Synology/Desktop/Data/Python/Gait-Signatures/ray_results/pb2/train_convnet_6f9de_00024_24_alpha=0.0000,batch_size=32,dec_dropout=0.0301,latent_dim=8,lr=0.0022,rnn_hidden=256,timesteps_per_tri_2024-04-01_03-03-38/checkpoint_000000)\n",
      "\u001b[36m(train_convnet pid=48078)\u001b[0m /tmp/ray/session_2024-04-01_02-53-14_060472_46839/runtime_resources/working_dir_files/_ray_pkg_4a5ca631833e4fab/src/tde.py:132: RuntimeWarning: divide by zero encountered in divide\n",
      "\u001b[36m(train_convnet pid=48078)\u001b[0m   a.append(np.divide(np.linalg.norm(tsrecon[ind_m, :]-tsrecon[ind, :], ord=np.inf, axis=1),\n",
      "\u001b[36m(train_convnet pid=48078)\u001b[0m /tmp/ray/session_2024-04-01_02-53-14_060472_46839/runtime_resources/working_dir_files/_ray_pkg_4a5ca631833e4fab/src/tde.py:132: RuntimeWarning: invalid value encountered in divide\n",
      "\u001b[36m(train_convnet pid=48078)\u001b[0m   a.append(np.divide(np.linalg.norm(tsrecon[ind_m, :]-tsrecon[ind, :], ord=np.inf, axis=1),\n"
     ]
    },
    {
     "name": "stdout",
     "output_type": "stream",
     "text": [
      "\u001b[36m(train_convnet pid=48078)\u001b[0m Data has been embedded using a delay of 19 timesteps and an embedding dimension of 5\n"
     ]
    },
    {
     "name": "stderr",
     "output_type": "stream",
     "text": [
      "\u001b[36m(train_convnet pid=33492)\u001b[0m Checkpoint successfully created at: Checkpoint(filesystem=local, path=/home/michael/Synology/Desktop/Data/Python/Gait-Signatures/ray_results/pb2/train_convnet_6f9de_00029_29_alpha=0.0000,batch_size=32,dec_dropout=0.2387,latent_dim=8,lr=0.0022,rnn_hidden=128,timesteps_per_tri_2024-04-01_03-03-38/checkpoint_000001)\n",
      "\u001b[36m(train_convnet pid=64003)\u001b[0m Restored on 170.140.242.239 from checkpoint: Checkpoint(filesystem=local, path=/home/michael/Synology/Desktop/Data/Python/Gait-Signatures/ray_results/pb2/train_convnet_6f9de_00008_8_alpha=0.0001,batch_size=32,dec_dropout=0.2858,latent_dim=16,lr=0.0042,rnn_hidden=64,timesteps_per_tria_2024-04-01_03-03-38/checkpoint_000001)\n",
      "\u001b[36m(train_convnet pid=64003)\u001b[0m /tmp/ray/session_2024-04-01_02-53-14_060472_46839/runtime_resources/working_dir_files/_ray_pkg_4a5ca631833e4fab/src/tde.py:132: RuntimeWarning: divide by zero encountered in divide\n",
      "\u001b[36m(train_convnet pid=64003)\u001b[0m   a.append(np.divide(np.linalg.norm(tsrecon[ind_m, :]-tsrecon[ind, :], ord=np.inf, axis=1),\n",
      "\u001b[36m(train_convnet pid=64003)\u001b[0m /tmp/ray/session_2024-04-01_02-53-14_060472_46839/runtime_resources/working_dir_files/_ray_pkg_4a5ca631833e4fab/src/tde.py:132: RuntimeWarning: invalid value encountered in divide\n",
      "\u001b[36m(train_convnet pid=64003)\u001b[0m   a.append(np.divide(np.linalg.norm(tsrecon[ind_m, :]-tsrecon[ind, :], ord=np.inf, axis=1),\n"
     ]
    },
    {
     "name": "stdout",
     "output_type": "stream",
     "text": [
      "\u001b[36m(train_convnet pid=64003)\u001b[0m Data has been embedded using a delay of 19 timesteps and an embedding dimension of 5\n"
     ]
    },
    {
     "name": "stderr",
     "output_type": "stream",
     "text": [
      "\u001b[36m(train_convnet pid=35887)\u001b[0m Checkpoint successfully created at: Checkpoint(filesystem=local, path=/home/michael/Synology/Desktop/Data/Python/Gait-Signatures/ray_results/pb2/train_convnet_6f9de_00000_0_alpha=0.0000,batch_size=32,dec_dropout=0.2151,latent_dim=32,lr=0.0020,rnn_hidden=64,timesteps_per_tria_2024-04-01_03-03-38/checkpoint_000002)\n",
      "\u001b[36m(train_convnet pid=65555)\u001b[0m Restored on 170.140.242.239 from checkpoint: Checkpoint(filesystem=local, path=/home/michael/Synology/Desktop/Data/Python/Gait-Signatures/ray_results/pb2/train_convnet_6f9de_00017_17_alpha=0.0001,batch_size=32,dec_dropout=0.0791,latent_dim=16,lr=0.0068,rnn_hidden=256,timesteps_per_tr_2024-04-01_03-03-38/checkpoint_000000)\n",
      "\u001b[36m(train_convnet pid=65555)\u001b[0m /tmp/ray/session_2024-04-01_02-53-14_060472_46839/runtime_resources/working_dir_files/_ray_pkg_4a5ca631833e4fab/src/tde.py:132: RuntimeWarning: divide by zero encountered in divide\n",
      "\u001b[36m(train_convnet pid=65555)\u001b[0m   a.append(np.divide(np.linalg.norm(tsrecon[ind_m, :]-tsrecon[ind, :], ord=np.inf, axis=1),\n",
      "\u001b[36m(train_convnet pid=65555)\u001b[0m /tmp/ray/session_2024-04-01_02-53-14_060472_46839/runtime_resources/working_dir_files/_ray_pkg_4a5ca631833e4fab/src/tde.py:132: RuntimeWarning: invalid value encountered in divide\n",
      "\u001b[36m(train_convnet pid=65555)\u001b[0m   a.append(np.divide(np.linalg.norm(tsrecon[ind_m, :]-tsrecon[ind, :], ord=np.inf, axis=1),\n",
      "\u001b[36m(train_convnet pid=37075)\u001b[0m Checkpoint successfully created at: Checkpoint(filesystem=local, path=/home/michael/Synology/Desktop/Data/Python/Gait-Signatures/ray_results/pb2/train_convnet_6f9de_00005_5_alpha=0.0000,batch_size=32,dec_dropout=0.1197,latent_dim=16,lr=0.0083,rnn_hidden=256,timesteps_per_tri_2024-04-01_03-03-38/checkpoint_000002)\n"
     ]
    },
    {
     "name": "stdout",
     "output_type": "stream",
     "text": [
      "\u001b[36m(train_convnet pid=65555)\u001b[0m Data has been embedded using a delay of 19 timesteps and an embedding dimension of 5\n"
     ]
    },
    {
     "name": "stderr",
     "output_type": "stream",
     "text": [
      "\u001b[36m(train_convnet pid=66131)\u001b[0m Restored on 170.140.242.239 from checkpoint: Checkpoint(filesystem=local, path=/home/michael/Synology/Desktop/Data/Python/Gait-Signatures/ray_results/pb2/train_convnet_6f9de_00018_18_alpha=0.0000,batch_size=32,dec_dropout=0.0493,latent_dim=32,lr=0.0100,rnn_hidden=256,timesteps_per_tr_2024-04-01_03-03-38/checkpoint_000001)\n",
      "\u001b[36m(train_convnet pid=66131)\u001b[0m /tmp/ray/session_2024-04-01_02-53-14_060472_46839/runtime_resources/working_dir_files/_ray_pkg_4a5ca631833e4fab/src/tde.py:132: RuntimeWarning: divide by zero encountered in divide\n",
      "\u001b[36m(train_convnet pid=66131)\u001b[0m   a.append(np.divide(np.linalg.norm(tsrecon[ind_m, :]-tsrecon[ind, :], ord=np.inf, axis=1),\n",
      "\u001b[36m(train_convnet pid=66131)\u001b[0m /tmp/ray/session_2024-04-01_02-53-14_060472_46839/runtime_resources/working_dir_files/_ray_pkg_4a5ca631833e4fab/src/tde.py:132: RuntimeWarning: invalid value encountered in divide\n",
      "\u001b[36m(train_convnet pid=66131)\u001b[0m   a.append(np.divide(np.linalg.norm(tsrecon[ind_m, :]-tsrecon[ind, :], ord=np.inf, axis=1),\n"
     ]
    },
    {
     "name": "stdout",
     "output_type": "stream",
     "text": [
      "\u001b[36m(train_convnet pid=66131)\u001b[0m Data has been embedded using a delay of 19 timesteps and an embedding dimension of 5\n"
     ]
    },
    {
     "name": "stderr",
     "output_type": "stream",
     "text": [
      "\u001b[36m(train_convnet pid=36085)\u001b[0m Checkpoint successfully created at: Checkpoint(filesystem=local, path=/home/michael/Synology/Desktop/Data/Python/Gait-Signatures/ray_results/pb2/train_convnet_6f9de_00001_1_alpha=0.0000,batch_size=32,dec_dropout=0.2072,latent_dim=8,lr=0.0031,rnn_hidden=256,timesteps_per_tria_2024-04-01_03-03-38/checkpoint_000002)\n",
      "\u001b[36m(train_convnet pid=67154)\u001b[0m Restored on 170.140.242.239 from checkpoint: Checkpoint(filesystem=local, path=/home/michael/Synology/Desktop/Data/Python/Gait-Signatures/ray_results/pb2/train_convnet_6f9de_00011_11_alpha=0.0000,batch_size=32,dec_dropout=0.1529,latent_dim=32,lr=0.0061,rnn_hidden=64,timesteps_per_tri_2024-04-01_03-03-38/checkpoint_000001)\n",
      "\u001b[36m(train_convnet pid=38150)\u001b[0m Checkpoint successfully created at: Checkpoint(filesystem=local, path=/home/michael/Synology/Desktop/Data/Python/Gait-Signatures/ray_results/pb2/train_convnet_6f9de_00006_6_alpha=0.0000,batch_size=32,dec_dropout=0.1047,latent_dim=8,lr=0.0058,rnn_hidden=256,timesteps_per_tria_2024-04-01_03-03-38/checkpoint_000002)\n",
      "\u001b[36m(train_convnet pid=67332)\u001b[0m Restored on 170.140.242.239 from checkpoint: Checkpoint(filesystem=local, path=/home/michael/Synology/Desktop/Data/Python/Gait-Signatures/ray_results/pb2/train_convnet_6f9de_00023_23_alpha=0.0001,batch_size=32,dec_dropout=0.1309,latent_dim=32,lr=0.0073,rnn_hidden=256,timesteps_per_tr_2024-04-01_03-03-38/checkpoint_000000)\n",
      "\u001b[36m(train_convnet pid=67154)\u001b[0m /tmp/ray/session_2024-04-01_02-53-14_060472_46839/runtime_resources/working_dir_files/_ray_pkg_4a5ca631833e4fab/src/tde.py:132: RuntimeWarning: divide by zero encountered in divide\n",
      "\u001b[36m(train_convnet pid=67154)\u001b[0m   a.append(np.divide(np.linalg.norm(tsrecon[ind_m, :]-tsrecon[ind, :], ord=np.inf, axis=1),\n",
      "\u001b[36m(train_convnet pid=67154)\u001b[0m /tmp/ray/session_2024-04-01_02-53-14_060472_46839/runtime_resources/working_dir_files/_ray_pkg_4a5ca631833e4fab/src/tde.py:132: RuntimeWarning: invalid value encountered in divide\n",
      "\u001b[36m(train_convnet pid=67154)\u001b[0m   a.append(np.divide(np.linalg.norm(tsrecon[ind_m, :]-tsrecon[ind, :], ord=np.inf, axis=1),\n",
      "\u001b[36m(train_convnet pid=36467)\u001b[0m Checkpoint successfully created at: Checkpoint(filesystem=local, path=/home/michael/Synology/Desktop/Data/Python/Gait-Signatures/ray_results/pb2/train_convnet_6f9de_00003_3_alpha=0.0001,batch_size=32,dec_dropout=0.2684,latent_dim=32,lr=0.0026,rnn_hidden=256,timesteps_per_tri_2024-04-01_03-03-38/checkpoint_000001)\n"
     ]
    },
    {
     "name": "stdout",
     "output_type": "stream",
     "text": [
      "\u001b[36m(train_convnet pid=67154)\u001b[0m Data has been embedded using a delay of 19 timesteps and an embedding dimension of 5\n"
     ]
    },
    {
     "name": "stderr",
     "output_type": "stream",
     "text": [
      "\u001b[36m(train_convnet pid=67332)\u001b[0m /tmp/ray/session_2024-04-01_02-53-14_060472_46839/runtime_resources/working_dir_files/_ray_pkg_4a5ca631833e4fab/src/tde.py:132: RuntimeWarning: divide by zero encountered in divide\n",
      "\u001b[36m(train_convnet pid=67332)\u001b[0m   a.append(np.divide(np.linalg.norm(tsrecon[ind_m, :]-tsrecon[ind, :], ord=np.inf, axis=1),\u001b[32m [repeated 2x across cluster]\u001b[0m\n",
      "\u001b[36m(train_convnet pid=67332)\u001b[0m /tmp/ray/session_2024-04-01_02-53-14_060472_46839/runtime_resources/working_dir_files/_ray_pkg_4a5ca631833e4fab/src/tde.py:132: RuntimeWarning: invalid value encountered in divide\n",
      "\u001b[36m(train_convnet pid=67732)\u001b[0m Restored on 170.140.242.239 from checkpoint: Checkpoint(filesystem=local, path=/home/michael/Synology/Desktop/Data/Python/Gait-Signatures/ray_results/pb2/train_convnet_6f9de_00011_11_alpha=0.0000,batch_size=32,dec_dropout=0.1529,latent_dim=32,lr=0.0061,rnn_hidden=64,timesteps_per_tri_2024-04-01_03-03-38/checkpoint_000001)\n"
     ]
    },
    {
     "name": "stdout",
     "output_type": "stream",
     "text": [
      "\u001b[36m(train_convnet pid=67332)\u001b[0m Data has been embedded using a delay of 19 timesteps and an embedding dimension of 5\n"
     ]
    },
    {
     "name": "stderr",
     "output_type": "stream",
     "text": [
      "\u001b[36m(train_convnet pid=67732)\u001b[0m /tmp/ray/session_2024-04-01_02-53-14_060472_46839/runtime_resources/working_dir_files/_ray_pkg_4a5ca631833e4fab/src/tde.py:132: RuntimeWarning: divide by zero encountered in divide\n",
      "\u001b[36m(train_convnet pid=67732)\u001b[0m /tmp/ray/session_2024-04-01_02-53-14_060472_46839/runtime_resources/working_dir_files/_ray_pkg_4a5ca631833e4fab/src/tde.py:132: RuntimeWarning: invalid value encountered in divide\n",
      "\u001b[36m(train_convnet pid=67732)\u001b[0m   a.append(np.divide(np.linalg.norm(tsrecon[ind_m, :]-tsrecon[ind, :], ord=np.inf, axis=1),\u001b[32m [repeated 2x across cluster]\u001b[0m\n"
     ]
    },
    {
     "name": "stdout",
     "output_type": "stream",
     "text": [
      "\u001b[36m(train_convnet pid=67732)\u001b[0m Data has been embedded using a delay of 19 timesteps and an embedding dimension of 5\n"
     ]
    },
    {
     "name": "stderr",
     "output_type": "stream",
     "text": [
      "\u001b[36m(train_convnet pid=36626)\u001b[0m Checkpoint successfully created at: Checkpoint(filesystem=local, path=/home/michael/Synology/Desktop/Data/Python/Gait-Signatures/ray_results/pb2/train_convnet_6f9de_00004_4_alpha=0.0001,batch_size=32,dec_dropout=0.1387,latent_dim=8,lr=0.0057,rnn_hidden=32,timesteps_per_trial_2024-04-01_03-03-38/checkpoint_000001)\n",
      "\u001b[36m(train_convnet pid=69107)\u001b[0m Restored on 170.140.242.239 from checkpoint: Checkpoint(filesystem=local, path=/home/michael/Synology/Desktop/Data/Python/Gait-Signatures/ray_results/pb2/train_convnet_6f9de_00026_26_alpha=0.0000,batch_size=32,dec_dropout=0.1056,latent_dim=32,lr=0.0065,rnn_hidden=128,timesteps_per_tr_2024-04-01_03-03-38/checkpoint_000001)\n",
      "\u001b[36m(train_convnet pid=38559)\u001b[0m Checkpoint successfully created at: Checkpoint(filesystem=local, path=/home/michael/Synology/Desktop/Data/Python/Gait-Signatures/ray_results/pb2/train_convnet_6f9de_00007_7_alpha=0.0000,batch_size=32,dec_dropout=0.1227,latent_dim=32,lr=0.0066,rnn_hidden=64,timesteps_per_tria_2024-04-01_03-03-38/checkpoint_000002)\n",
      "\u001b[36m(train_convnet pid=69414)\u001b[0m Restored on 170.140.242.239 from checkpoint: Checkpoint(filesystem=local, path=/home/michael/Synology/Desktop/Data/Python/Gait-Signatures/ray_results/pb2/train_convnet_6f9de_00027_27_alpha=0.0000,batch_size=32,dec_dropout=0.2811,latent_dim=8,lr=0.0003,rnn_hidden=64,timesteps_per_tria_2024-04-01_03-03-38/checkpoint_000001)\n",
      "\u001b[36m(train_convnet pid=39937)\u001b[0m Checkpoint successfully created at: Checkpoint(filesystem=local, path=/home/michael/Synology/Desktop/Data/Python/Gait-Signatures/ray_results/pb2/train_convnet_6f9de_00010_10_alpha=0.0000,batch_size=32,dec_dropout=0.2241,latent_dim=8,lr=0.0015,rnn_hidden=128,timesteps_per_tri_2024-04-01_03-03-38/checkpoint_000002)\n",
      "\u001b[36m(train_convnet pid=69107)\u001b[0m /tmp/ray/session_2024-04-01_02-53-14_060472_46839/runtime_resources/working_dir_files/_ray_pkg_4a5ca631833e4fab/src/tde.py:132: RuntimeWarning: divide by zero encountered in divide\n",
      "\u001b[36m(train_convnet pid=69107)\u001b[0m   a.append(np.divide(np.linalg.norm(tsrecon[ind_m, :]-tsrecon[ind, :], ord=np.inf, axis=1),\n",
      "\u001b[36m(train_convnet pid=69107)\u001b[0m /tmp/ray/session_2024-04-01_02-53-14_060472_46839/runtime_resources/working_dir_files/_ray_pkg_4a5ca631833e4fab/src/tde.py:132: RuntimeWarning: invalid value encountered in divide\n",
      "\u001b[36m(train_convnet pid=69107)\u001b[0m   a.append(np.divide(np.linalg.norm(tsrecon[ind_m, :]-tsrecon[ind, :], ord=np.inf, axis=1),\n",
      "\u001b[36m(train_convnet pid=69614)\u001b[0m Restored on 170.140.242.239 from checkpoint: Checkpoint(filesystem=local, path=/home/michael/Synology/Desktop/Data/Python/Gait-Signatures/ray_results/pb2/train_convnet_6f9de_00028_28_alpha=0.0000,batch_size=32,dec_dropout=0.2394,latent_dim=8,lr=0.0005,rnn_hidden=128,timesteps_per_tri_2024-04-01_03-03-38/checkpoint_000001)\n"
     ]
    },
    {
     "name": "stdout",
     "output_type": "stream",
     "text": [
      "\u001b[36m(train_convnet pid=69107)\u001b[0m Data has been embedded using a delay of 19 timesteps and an embedding dimension of 5\n"
     ]
    },
    {
     "name": "stderr",
     "output_type": "stream",
     "text": [
      "\u001b[36m(train_convnet pid=69414)\u001b[0m /tmp/ray/session_2024-04-01_02-53-14_060472_46839/runtime_resources/working_dir_files/_ray_pkg_4a5ca631833e4fab/src/tde.py:132: RuntimeWarning: divide by zero encountered in divide\n",
      "\u001b[36m(train_convnet pid=69414)\u001b[0m   a.append(np.divide(np.linalg.norm(tsrecon[ind_m, :]-tsrecon[ind, :], ord=np.inf, axis=1),\u001b[32m [repeated 2x across cluster]\u001b[0m\n",
      "\u001b[36m(train_convnet pid=69414)\u001b[0m /tmp/ray/session_2024-04-01_02-53-14_060472_46839/runtime_resources/working_dir_files/_ray_pkg_4a5ca631833e4fab/src/tde.py:132: RuntimeWarning: invalid value encountered in divide\n"
     ]
    },
    {
     "name": "stdout",
     "output_type": "stream",
     "text": [
      "\u001b[36m(train_convnet pid=69414)\u001b[0m Data has been embedded using a delay of 19 timesteps and an embedding dimension of 5\n"
     ]
    },
    {
     "name": "stderr",
     "output_type": "stream",
     "text": [
      "\u001b[36m(train_convnet pid=69614)\u001b[0m /tmp/ray/session_2024-04-01_02-53-14_060472_46839/runtime_resources/working_dir_files/_ray_pkg_4a5ca631833e4fab/src/tde.py:132: RuntimeWarning: divide by zero encountered in divide\n",
      "\u001b[36m(train_convnet pid=69614)\u001b[0m /tmp/ray/session_2024-04-01_02-53-14_060472_46839/runtime_resources/working_dir_files/_ray_pkg_4a5ca631833e4fab/src/tde.py:132: RuntimeWarning: invalid value encountered in divide\n",
      "\u001b[36m(train_convnet pid=69614)\u001b[0m   a.append(np.divide(np.linalg.norm(tsrecon[ind_m, :]-tsrecon[ind, :], ord=np.inf, axis=1),\u001b[32m [repeated 2x across cluster]\u001b[0m\n",
      "\u001b[36m(train_convnet pid=39565)\u001b[0m Checkpoint successfully created at: Checkpoint(filesystem=local, path=/home/michael/Synology/Desktop/Data/Python/Gait-Signatures/ray_results/pb2/train_convnet_6f9de_00009_9_alpha=0.0001,batch_size=32,dec_dropout=0.2133,latent_dim=8,lr=0.0044,rnn_hidden=32,timesteps_per_trial_2024-04-01_03-03-38/checkpoint_000001)\n"
     ]
    },
    {
     "name": "stdout",
     "output_type": "stream",
     "text": [
      "\u001b[36m(train_convnet pid=69614)\u001b[0m Data has been embedded using a delay of 19 timesteps and an embedding dimension of 5\n"
     ]
    },
    {
     "name": "stderr",
     "output_type": "stream",
     "text": [
      "\u001b[36m(train_convnet pid=70334)\u001b[0m Restored on 170.140.242.239 from checkpoint: Checkpoint(filesystem=local, path=/home/michael/Synology/Desktop/Data/Python/Gait-Signatures/ray_results/pb2/train_convnet_6f9de_00029_29_alpha=0.0000,batch_size=32,dec_dropout=0.2387,latent_dim=8,lr=0.0022,rnn_hidden=128,timesteps_per_tri_2024-04-01_03-03-38/checkpoint_000001)\n",
      "\u001b[36m(train_convnet pid=70334)\u001b[0m /tmp/ray/session_2024-04-01_02-53-14_060472_46839/runtime_resources/working_dir_files/_ray_pkg_4a5ca631833e4fab/src/tde.py:132: RuntimeWarning: divide by zero encountered in divide\n",
      "\u001b[36m(train_convnet pid=70334)\u001b[0m   a.append(np.divide(np.linalg.norm(tsrecon[ind_m, :]-tsrecon[ind, :], ord=np.inf, axis=1),\n",
      "\u001b[36m(train_convnet pid=70334)\u001b[0m /tmp/ray/session_2024-04-01_02-53-14_060472_46839/runtime_resources/working_dir_files/_ray_pkg_4a5ca631833e4fab/src/tde.py:132: RuntimeWarning: invalid value encountered in divide\n",
      "\u001b[36m(train_convnet pid=70334)\u001b[0m   a.append(np.divide(np.linalg.norm(tsrecon[ind_m, :]-tsrecon[ind, :], ord=np.inf, axis=1),\n",
      "\u001b[36m(train_convnet pid=40744)\u001b[0m Checkpoint successfully created at: Checkpoint(filesystem=local, path=/home/michael/Synology/Desktop/Data/Python/Gait-Signatures/ray_results/pb2/train_convnet_6f9de_00011_11_alpha=0.0000,batch_size=32,dec_dropout=0.1529,latent_dim=32,lr=0.0061,rnn_hidden=64,timesteps_per_tri_2024-04-01_03-03-38/checkpoint_000002)\n"
     ]
    },
    {
     "name": "stdout",
     "output_type": "stream",
     "text": [
      "\u001b[36m(train_convnet pid=70334)\u001b[0m Data has been embedded using a delay of 19 timesteps and an embedding dimension of 5\n"
     ]
    },
    {
     "name": "stderr",
     "output_type": "stream",
     "text": [
      "\u001b[36m(train_convnet pid=70942)\u001b[0m Restored on 170.140.242.239 from checkpoint: Checkpoint(filesystem=local, path=/home/michael/Synology/Desktop/Data/Python/Gait-Signatures/ray_results/pb2/train_convnet_6f9de_00000_0_alpha=0.0000,batch_size=32,dec_dropout=0.2151,latent_dim=32,lr=0.0020,rnn_hidden=64,timesteps_per_tria_2024-04-01_03-03-38/checkpoint_000002)\n",
      "\u001b[36m(train_convnet pid=70942)\u001b[0m /tmp/ray/session_2024-04-01_02-53-14_060472_46839/runtime_resources/working_dir_files/_ray_pkg_4a5ca631833e4fab/src/tde.py:132: RuntimeWarning: divide by zero encountered in divide\n",
      "\u001b[36m(train_convnet pid=70942)\u001b[0m   a.append(np.divide(np.linalg.norm(tsrecon[ind_m, :]-tsrecon[ind, :], ord=np.inf, axis=1),\n",
      "\u001b[36m(train_convnet pid=70942)\u001b[0m /tmp/ray/session_2024-04-01_02-53-14_060472_46839/runtime_resources/working_dir_files/_ray_pkg_4a5ca631833e4fab/src/tde.py:132: RuntimeWarning: invalid value encountered in divide\n",
      "\u001b[36m(train_convnet pid=70942)\u001b[0m   a.append(np.divide(np.linalg.norm(tsrecon[ind_m, :]-tsrecon[ind, :], ord=np.inf, axis=1),\n"
     ]
    },
    {
     "name": "stdout",
     "output_type": "stream",
     "text": [
      "\u001b[36m(train_convnet pid=70942)\u001b[0m Data has been embedded using a delay of 19 timesteps and an embedding dimension of 5\n"
     ]
    },
    {
     "name": "stderr",
     "output_type": "stream",
     "text": [
      "\u001b[36m(train_convnet pid=41680)\u001b[0m Checkpoint successfully created at: Checkpoint(filesystem=local, path=/home/michael/Synology/Desktop/Data/Python/Gait-Signatures/ray_results/pb2/train_convnet_6f9de_00013_13_alpha=0.0000,batch_size=32,dec_dropout=0.0850,latent_dim=32,lr=0.0046,rnn_hidden=64,timesteps_per_tri_2024-04-01_03-03-38/checkpoint_000001)\n",
      "\u001b[36m(train_convnet pid=71786)\u001b[0m Restored on 170.140.242.239 from checkpoint: Checkpoint(filesystem=local, path=/home/michael/Synology/Desktop/Data/Python/Gait-Signatures/ray_results/pb2/train_convnet_6f9de_00001_1_alpha=0.0000,batch_size=32,dec_dropout=0.2072,latent_dim=8,lr=0.0031,rnn_hidden=256,timesteps_per_tria_2024-04-01_03-03-38/checkpoint_000002)\n",
      "\u001b[36m(train_convnet pid=71786)\u001b[0m /tmp/ray/session_2024-04-01_02-53-14_060472_46839/runtime_resources/working_dir_files/_ray_pkg_4a5ca631833e4fab/src/tde.py:132: RuntimeWarning: divide by zero encountered in divide\n",
      "\u001b[36m(train_convnet pid=71786)\u001b[0m   a.append(np.divide(np.linalg.norm(tsrecon[ind_m, :]-tsrecon[ind, :], ord=np.inf, axis=1),\n",
      "\u001b[36m(train_convnet pid=71786)\u001b[0m /tmp/ray/session_2024-04-01_02-53-14_060472_46839/runtime_resources/working_dir_files/_ray_pkg_4a5ca631833e4fab/src/tde.py:132: RuntimeWarning: invalid value encountered in divide\n",
      "\u001b[36m(train_convnet pid=71786)\u001b[0m   a.append(np.divide(np.linalg.norm(tsrecon[ind_m, :]-tsrecon[ind, :], ord=np.inf, axis=1),\n"
     ]
    },
    {
     "name": "stdout",
     "output_type": "stream",
     "text": [
      "\u001b[36m(train_convnet pid=71786)\u001b[0m Data has been embedded using a delay of 19 timesteps and an embedding dimension of 5\n"
     ]
    },
    {
     "name": "stderr",
     "output_type": "stream",
     "text": [
      "\u001b[36m(train_convnet pid=41844)\u001b[0m Checkpoint successfully created at: Checkpoint(filesystem=local, path=/home/michael/Synology/Desktop/Data/Python/Gait-Signatures/ray_results/pb2/train_convnet_6f9de_00014_14_alpha=0.0001,batch_size=32,dec_dropout=0.1006,latent_dim=8,lr=0.0001,rnn_hidden=64,timesteps_per_tria_2024-04-01_03-03-38/checkpoint_000001)\n",
      "\u001b[36m(train_convnet pid=72525)\u001b[0m Restored on 170.140.242.239 from checkpoint: Checkpoint(filesystem=local, path=/home/michael/Synology/Desktop/Data/Python/Gait-Signatures/ray_results/pb2/train_convnet_6f9de_00016_16_alpha=0.0000,batch_size=32,dec_dropout=0.1390,latent_dim=32,lr=0.0011,rnn_hidden=128,timesteps_per_tr_2024-04-01_03-03-38/checkpoint_000001)\n",
      "\u001b[36m(train_convnet pid=72525)\u001b[0m /tmp/ray/session_2024-04-01_02-53-14_060472_46839/runtime_resources/working_dir_files/_ray_pkg_4a5ca631833e4fab/src/tde.py:132: RuntimeWarning: divide by zero encountered in divide\n",
      "\u001b[36m(train_convnet pid=72525)\u001b[0m   a.append(np.divide(np.linalg.norm(tsrecon[ind_m, :]-tsrecon[ind, :], ord=np.inf, axis=1),\n",
      "\u001b[36m(train_convnet pid=72525)\u001b[0m /tmp/ray/session_2024-04-01_02-53-14_060472_46839/runtime_resources/working_dir_files/_ray_pkg_4a5ca631833e4fab/src/tde.py:132: RuntimeWarning: invalid value encountered in divide\n",
      "\u001b[36m(train_convnet pid=72525)\u001b[0m   a.append(np.divide(np.linalg.norm(tsrecon[ind_m, :]-tsrecon[ind, :], ord=np.inf, axis=1),\n"
     ]
    },
    {
     "name": "stdout",
     "output_type": "stream",
     "text": [
      "\u001b[36m(train_convnet pid=72525)\u001b[0m Data has been embedded using a delay of 19 timesteps and an embedding dimension of 5\n"
     ]
    },
    {
     "name": "stderr",
     "output_type": "stream",
     "text": [
      "\u001b[36m(train_convnet pid=41197)\u001b[0m Checkpoint successfully created at: Checkpoint(filesystem=local, path=/home/michael/Synology/Desktop/Data/Python/Gait-Signatures/ray_results/pb2/train_convnet_6f9de_00012_12_alpha=0.0000,batch_size=32,dec_dropout=0.1471,latent_dim=16,lr=0.0054,rnn_hidden=64,timesteps_per_tri_2024-04-01_03-03-38/checkpoint_000002)\n",
      "\u001b[36m(train_convnet pid=73336)\u001b[0m Restored on 170.140.242.239 from checkpoint: Checkpoint(filesystem=local, path=/home/michael/Synology/Desktop/Data/Python/Gait-Signatures/ray_results/pb2/train_convnet_6f9de_00003_3_alpha=0.0001,batch_size=32,dec_dropout=0.2684,latent_dim=32,lr=0.0026,rnn_hidden=256,timesteps_per_tri_2024-04-01_03-03-38/checkpoint_000001)\n",
      "\u001b[36m(train_convnet pid=73336)\u001b[0m /tmp/ray/session_2024-04-01_02-53-14_060472_46839/runtime_resources/working_dir_files/_ray_pkg_4a5ca631833e4fab/src/tde.py:132: RuntimeWarning: divide by zero encountered in divide\n",
      "\u001b[36m(train_convnet pid=73336)\u001b[0m   a.append(np.divide(np.linalg.norm(tsrecon[ind_m, :]-tsrecon[ind, :], ord=np.inf, axis=1),\n",
      "\u001b[36m(train_convnet pid=73336)\u001b[0m /tmp/ray/session_2024-04-01_02-53-14_060472_46839/runtime_resources/working_dir_files/_ray_pkg_4a5ca631833e4fab/src/tde.py:132: RuntimeWarning: invalid value encountered in divide\n",
      "\u001b[36m(train_convnet pid=73336)\u001b[0m   a.append(np.divide(np.linalg.norm(tsrecon[ind_m, :]-tsrecon[ind, :], ord=np.inf, axis=1),\n"
     ]
    },
    {
     "name": "stdout",
     "output_type": "stream",
     "text": [
      "\u001b[36m(train_convnet pid=73336)\u001b[0m Data has been embedded using a delay of 19 timesteps and an embedding dimension of 5\n"
     ]
    },
    {
     "name": "stderr",
     "output_type": "stream",
     "text": [
      "\u001b[36m(train_convnet pid=44661)\u001b[0m Checkpoint successfully created at: Checkpoint(filesystem=local, path=/home/michael/Synology/Desktop/Data/Python/Gait-Signatures/ray_results/pb2/train_convnet_6f9de_00016_16_alpha=0.0000,batch_size=32,dec_dropout=0.1390,latent_dim=32,lr=0.0011,rnn_hidden=128,timesteps_per_tr_2024-04-01_03-03-38/checkpoint_000002)\n",
      "\u001b[36m(train_convnet pid=76613)\u001b[0m Restored on 170.140.242.239 from checkpoint: Checkpoint(filesystem=local, path=/home/michael/Synology/Desktop/Data/Python/Gait-Signatures/ray_results/pb2/train_convnet_6f9de_00016_16_alpha=0.0000,batch_size=32,dec_dropout=0.1390,latent_dim=32,lr=0.0011,rnn_hidden=128,timesteps_per_tr_2024-04-01_03-03-38/checkpoint_000001)\n",
      "\u001b[36m(train_convnet pid=76613)\u001b[0m /tmp/ray/session_2024-04-01_02-53-14_060472_46839/runtime_resources/working_dir_files/_ray_pkg_4a5ca631833e4fab/src/tde.py:132: RuntimeWarning: divide by zero encountered in divide\n",
      "\u001b[36m(train_convnet pid=76613)\u001b[0m   a.append(np.divide(np.linalg.norm(tsrecon[ind_m, :]-tsrecon[ind, :], ord=np.inf, axis=1),\n",
      "\u001b[36m(train_convnet pid=76613)\u001b[0m /tmp/ray/session_2024-04-01_02-53-14_060472_46839/runtime_resources/working_dir_files/_ray_pkg_4a5ca631833e4fab/src/tde.py:132: RuntimeWarning: invalid value encountered in divide\n",
      "\u001b[36m(train_convnet pid=76613)\u001b[0m   a.append(np.divide(np.linalg.norm(tsrecon[ind_m, :]-tsrecon[ind, :], ord=np.inf, axis=1),\n"
     ]
    },
    {
     "name": "stdout",
     "output_type": "stream",
     "text": [
      "\u001b[36m(train_convnet pid=76613)\u001b[0m Data has been embedded using a delay of 19 timesteps and an embedding dimension of 5\n"
     ]
    },
    {
     "name": "stderr",
     "output_type": "stream",
     "text": [
      "\u001b[36m(train_convnet pid=64003)\u001b[0m Checkpoint successfully created at: Checkpoint(filesystem=local, path=/home/michael/Synology/Desktop/Data/Python/Gait-Signatures/ray_results/pb2/train_convnet_6f9de_00008_8_alpha=0.0001,batch_size=32,dec_dropout=0.2858,latent_dim=16,lr=0.0042,rnn_hidden=64,timesteps_per_tria_2024-04-01_03-03-38/checkpoint_000002)\n",
      "\u001b[36m(train_convnet pid=92320)\u001b[0m Restored on 170.140.242.239 from checkpoint: Checkpoint(filesystem=local, path=/home/michael/Synology/Desktop/Data/Python/Gait-Signatures/ray_results/pb2/train_convnet_6f9de_00004_4_alpha=0.0001,batch_size=32,dec_dropout=0.1387,latent_dim=8,lr=0.0057,rnn_hidden=32,timesteps_per_trial_2024-04-01_03-03-38/checkpoint_000001)\n",
      "\u001b[36m(train_convnet pid=66131)\u001b[0m Checkpoint successfully created at: Checkpoint(filesystem=local, path=/home/michael/Synology/Desktop/Data/Python/Gait-Signatures/ray_results/pb2/train_convnet_6f9de_00018_18_alpha=0.0000,batch_size=32,dec_dropout=0.0493,latent_dim=32,lr=0.0100,rnn_hidden=256,timesteps_per_tr_2024-04-01_03-03-38/checkpoint_000002)\n",
      "\u001b[36m(train_convnet pid=92320)\u001b[0m /tmp/ray/session_2024-04-01_02-53-14_060472_46839/runtime_resources/working_dir_files/_ray_pkg_4a5ca631833e4fab/src/tde.py:132: RuntimeWarning: divide by zero encountered in divide\n",
      "\u001b[36m(train_convnet pid=92320)\u001b[0m   a.append(np.divide(np.linalg.norm(tsrecon[ind_m, :]-tsrecon[ind, :], ord=np.inf, axis=1),\n",
      "\u001b[36m(train_convnet pid=92320)\u001b[0m /tmp/ray/session_2024-04-01_02-53-14_060472_46839/runtime_resources/working_dir_files/_ray_pkg_4a5ca631833e4fab/src/tde.py:132: RuntimeWarning: invalid value encountered in divide\n",
      "\u001b[36m(train_convnet pid=92320)\u001b[0m   a.append(np.divide(np.linalg.norm(tsrecon[ind_m, :]-tsrecon[ind, :], ord=np.inf, axis=1),\n",
      "\u001b[36m(train_convnet pid=92815)\u001b[0m Restored on 170.140.242.239 from checkpoint: Checkpoint(filesystem=local, path=/home/michael/Synology/Desktop/Data/Python/Gait-Signatures/ray_results/pb2/train_convnet_6f9de_00005_5_alpha=0.0000,batch_size=32,dec_dropout=0.1197,latent_dim=16,lr=0.0083,rnn_hidden=256,timesteps_per_tri_2024-04-01_03-03-38/checkpoint_000002)\n"
     ]
    },
    {
     "name": "stdout",
     "output_type": "stream",
     "text": [
      "\u001b[36m(train_convnet pid=92320)\u001b[0m Data has been embedded using a delay of 19 timesteps and an embedding dimension of 5\n"
     ]
    },
    {
     "name": "stderr",
     "output_type": "stream",
     "text": [
      "\u001b[36m(train_convnet pid=65555)\u001b[0m Checkpoint successfully created at: Checkpoint(filesystem=local, path=/home/michael/Synology/Desktop/Data/Python/Gait-Signatures/ray_results/pb2/train_convnet_6f9de_00017_17_alpha=0.0001,batch_size=32,dec_dropout=0.0791,latent_dim=16,lr=0.0068,rnn_hidden=256,timesteps_per_tr_2024-04-01_03-03-38/checkpoint_000001)\n",
      "\u001b[36m(train_convnet pid=93225)\u001b[0m Restored on 170.140.242.239 from checkpoint: Checkpoint(filesystem=local, path=/home/michael/Synology/Desktop/Data/Python/Gait-Signatures/ray_results/pb2/train_convnet_6f9de_00023_23_alpha=0.0001,batch_size=32,dec_dropout=0.1309,latent_dim=32,lr=0.0073,rnn_hidden=256,timesteps_per_tr_2024-04-01_03-03-38/checkpoint_000000)\n",
      "\u001b[36m(train_convnet pid=92815)\u001b[0m /tmp/ray/session_2024-04-01_02-53-14_060472_46839/runtime_resources/working_dir_files/_ray_pkg_4a5ca631833e4fab/src/tde.py:132: RuntimeWarning: divide by zero encountered in divide\n",
      "\u001b[36m(train_convnet pid=92815)\u001b[0m   a.append(np.divide(np.linalg.norm(tsrecon[ind_m, :]-tsrecon[ind, :], ord=np.inf, axis=1),\n",
      "\u001b[36m(train_convnet pid=92815)\u001b[0m /tmp/ray/session_2024-04-01_02-53-14_060472_46839/runtime_resources/working_dir_files/_ray_pkg_4a5ca631833e4fab/src/tde.py:132: RuntimeWarning: invalid value encountered in divide\n",
      "\u001b[36m(train_convnet pid=92815)\u001b[0m   a.append(np.divide(np.linalg.norm(tsrecon[ind_m, :]-tsrecon[ind, :], ord=np.inf, axis=1),\n"
     ]
    },
    {
     "name": "stdout",
     "output_type": "stream",
     "text": [
      "\u001b[36m(train_convnet pid=92815)\u001b[0m Data has been embedded using a delay of 19 timesteps and an embedding dimension of 5\n"
     ]
    },
    {
     "name": "stderr",
     "output_type": "stream",
     "text": [
      "\u001b[36m(train_convnet pid=93225)\u001b[0m /tmp/ray/session_2024-04-01_02-53-14_060472_46839/runtime_resources/working_dir_files/_ray_pkg_4a5ca631833e4fab/src/tde.py:132: RuntimeWarning: divide by zero encountered in divide\n",
      "\u001b[36m(train_convnet pid=93225)\u001b[0m   a.append(np.divide(np.linalg.norm(tsrecon[ind_m, :]-tsrecon[ind, :], ord=np.inf, axis=1),\u001b[32m [repeated 2x across cluster]\u001b[0m\n",
      "\u001b[36m(train_convnet pid=93225)\u001b[0m /tmp/ray/session_2024-04-01_02-53-14_060472_46839/runtime_resources/working_dir_files/_ray_pkg_4a5ca631833e4fab/src/tde.py:132: RuntimeWarning: invalid value encountered in divide\n"
     ]
    },
    {
     "name": "stdout",
     "output_type": "stream",
     "text": [
      "\u001b[36m(train_convnet pid=93225)\u001b[0m Data has been embedded using a delay of 19 timesteps and an embedding dimension of 5\n"
     ]
    },
    {
     "name": "stderr",
     "output_type": "stream",
     "text": [
      "\u001b[36m(train_convnet pid=67154)\u001b[0m Checkpoint successfully created at: Checkpoint(filesystem=local, path=/home/michael/Synology/Desktop/Data/Python/Gait-Signatures/ray_results/pb2/train_convnet_6f9de_00022_22_alpha=0.0001,batch_size=32,dec_dropout=0.0276,latent_dim=32,lr=0.0072,rnn_hidden=64,timesteps_per_tri_2024-04-01_03-03-38/checkpoint_000001)\n",
      "\u001b[36m(train_convnet pid=94425)\u001b[0m Restored on 170.140.242.239 from checkpoint: Checkpoint(filesystem=local, path=/home/michael/Synology/Desktop/Data/Python/Gait-Signatures/ray_results/pb2/train_convnet_6f9de_00006_6_alpha=0.0000,batch_size=32,dec_dropout=0.1047,latent_dim=8,lr=0.0058,rnn_hidden=256,timesteps_per_tria_2024-04-01_03-03-38/checkpoint_000002)\n",
      "\u001b[36m(train_convnet pid=67732)\u001b[0m Checkpoint successfully created at: Checkpoint(filesystem=local, path=/home/michael/Synology/Desktop/Data/Python/Gait-Signatures/ray_results/pb2/train_convnet_6f9de_00025_25_alpha=0.0000,batch_size=32,dec_dropout=0.0776,latent_dim=8,lr=0.0022,rnn_hidden=64,timesteps_per_tria_2024-04-01_03-03-38/checkpoint_000001)\n",
      "\u001b[36m(train_convnet pid=67332)\u001b[0m Checkpoint successfully created at: Checkpoint(filesystem=local, path=/home/michael/Synology/Desktop/Data/Python/Gait-Signatures/ray_results/pb2/train_convnet_6f9de_00023_23_alpha=0.0001,batch_size=32,dec_dropout=0.1309,latent_dim=32,lr=0.0073,rnn_hidden=256,timesteps_per_tr_2024-04-01_03-03-38/checkpoint_000001)\n",
      "\u001b[36m(train_convnet pid=94586)\u001b[0m Restored on 170.140.242.239 from checkpoint: Checkpoint(filesystem=local, path=/home/michael/Synology/Desktop/Data/Python/Gait-Signatures/ray_results/pb2/train_convnet_6f9de_00007_7_alpha=0.0000,batch_size=32,dec_dropout=0.1227,latent_dim=32,lr=0.0066,rnn_hidden=64,timesteps_per_tria_2024-04-01_03-03-38/checkpoint_000002)\n",
      "\u001b[36m(train_convnet pid=94896)\u001b[0m Restored on 170.140.242.239 from checkpoint: Checkpoint(filesystem=local, path=/home/michael/Synology/Desktop/Data/Python/Gait-Signatures/ray_results/pb2/train_convnet_6f9de_00008_8_alpha=0.0001,batch_size=32,dec_dropout=0.2858,latent_dim=16,lr=0.0042,rnn_hidden=64,timesteps_per_tria_2024-04-01_03-03-38/checkpoint_000002)\n",
      "\u001b[36m(train_convnet pid=94425)\u001b[0m /tmp/ray/session_2024-04-01_02-53-14_060472_46839/runtime_resources/working_dir_files/_ray_pkg_4a5ca631833e4fab/src/tde.py:132: RuntimeWarning: divide by zero encountered in divide\n",
      "\u001b[36m(train_convnet pid=94425)\u001b[0m   a.append(np.divide(np.linalg.norm(tsrecon[ind_m, :]-tsrecon[ind, :], ord=np.inf, axis=1),\n",
      "\u001b[36m(train_convnet pid=94425)\u001b[0m /tmp/ray/session_2024-04-01_02-53-14_060472_46839/runtime_resources/working_dir_files/_ray_pkg_4a5ca631833e4fab/src/tde.py:132: RuntimeWarning: invalid value encountered in divide\n",
      "\u001b[36m(train_convnet pid=94425)\u001b[0m   a.append(np.divide(np.linalg.norm(tsrecon[ind_m, :]-tsrecon[ind, :], ord=np.inf, axis=1),\n"
     ]
    },
    {
     "name": "stdout",
     "output_type": "stream",
     "text": [
      "\u001b[36m(train_convnet pid=94425)\u001b[0m Data has been embedded using a delay of 19 timesteps and an embedding dimension of 5\n"
     ]
    },
    {
     "name": "stderr",
     "output_type": "stream",
     "text": [
      "\u001b[36m(train_convnet pid=94586)\u001b[0m /tmp/ray/session_2024-04-01_02-53-14_060472_46839/runtime_resources/working_dir_files/_ray_pkg_4a5ca631833e4fab/src/tde.py:132: RuntimeWarning: divide by zero encountered in divide\n",
      "\u001b[36m(train_convnet pid=94586)\u001b[0m   a.append(np.divide(np.linalg.norm(tsrecon[ind_m, :]-tsrecon[ind, :], ord=np.inf, axis=1),\u001b[32m [repeated 2x across cluster]\u001b[0m\n",
      "\u001b[36m(train_convnet pid=94586)\u001b[0m /tmp/ray/session_2024-04-01_02-53-14_060472_46839/runtime_resources/working_dir_files/_ray_pkg_4a5ca631833e4fab/src/tde.py:132: RuntimeWarning: invalid value encountered in divide\n",
      "\u001b[36m(train_convnet pid=94896)\u001b[0m /tmp/ray/session_2024-04-01_02-53-14_060472_46839/runtime_resources/working_dir_files/_ray_pkg_4a5ca631833e4fab/src/tde.py:132: RuntimeWarning: divide by zero encountered in divide\n",
      "\u001b[36m(train_convnet pid=94896)\u001b[0m /tmp/ray/session_2024-04-01_02-53-14_060472_46839/runtime_resources/working_dir_files/_ray_pkg_4a5ca631833e4fab/src/tde.py:132: RuntimeWarning: invalid value encountered in divide\n"
     ]
    },
    {
     "name": "stdout",
     "output_type": "stream",
     "text": [
      "\u001b[36m(train_convnet pid=94896)\u001b[0m Data has been embedded using a delay of 19 timesteps and an embedding dimension of 5\u001b[32m [repeated 2x across cluster]\u001b[0m\n"
     ]
    },
    {
     "name": "stderr",
     "output_type": "stream",
     "text": [
      "\u001b[36m(train_convnet pid=70334)\u001b[0m Checkpoint successfully created at: Checkpoint(filesystem=local, path=/home/michael/Synology/Desktop/Data/Python/Gait-Signatures/ray_results/pb2/train_convnet_6f9de_00029_29_alpha=0.0000,batch_size=32,dec_dropout=0.2387,latent_dim=8,lr=0.0022,rnn_hidden=128,timesteps_per_tri_2024-04-01_03-03-38/checkpoint_000002)\n",
      "\u001b[36m(train_convnet pid=94896)\u001b[0m   a.append(np.divide(np.linalg.norm(tsrecon[ind_m, :]-tsrecon[ind, :], ord=np.inf, axis=1),\u001b[32m [repeated 2x across cluster]\u001b[0m\n",
      "\u001b[36m(train_convnet pid=97736)\u001b[0m Restored on 170.140.242.239 from checkpoint: Checkpoint(filesystem=local, path=/home/michael/Synology/Desktop/Data/Python/Gait-Signatures/ray_results/pb2/train_convnet_6f9de_00009_9_alpha=0.0001,batch_size=32,dec_dropout=0.2133,latent_dim=8,lr=0.0044,rnn_hidden=32,timesteps_per_trial_2024-04-01_03-03-38/checkpoint_000001)\n",
      "\u001b[36m(train_convnet pid=70942)\u001b[0m Checkpoint successfully created at: Checkpoint(filesystem=local, path=/home/michael/Synology/Desktop/Data/Python/Gait-Signatures/ray_results/pb2/train_convnet_6f9de_00000_0_alpha=0.0000,batch_size=32,dec_dropout=0.2151,latent_dim=32,lr=0.0020,rnn_hidden=64,timesteps_per_tria_2024-04-01_03-03-38/checkpoint_000003)\n",
      "\u001b[36m(train_convnet pid=98131)\u001b[0m Restored on 170.140.242.239 from checkpoint: Checkpoint(filesystem=local, path=/home/michael/Synology/Desktop/Data/Python/Gait-Signatures/ray_results/pb2/train_convnet_6f9de_00010_10_alpha=0.0000,batch_size=32,dec_dropout=0.2241,latent_dim=8,lr=0.0015,rnn_hidden=128,timesteps_per_tri_2024-04-01_03-03-38/checkpoint_000002)\n",
      "\u001b[36m(train_convnet pid=97736)\u001b[0m /tmp/ray/session_2024-04-01_02-53-14_060472_46839/runtime_resources/working_dir_files/_ray_pkg_4a5ca631833e4fab/src/tde.py:132: RuntimeWarning: divide by zero encountered in divide\n",
      "\u001b[36m(train_convnet pid=97736)\u001b[0m   a.append(np.divide(np.linalg.norm(tsrecon[ind_m, :]-tsrecon[ind, :], ord=np.inf, axis=1),\n",
      "\u001b[36m(train_convnet pid=97736)\u001b[0m /tmp/ray/session_2024-04-01_02-53-14_060472_46839/runtime_resources/working_dir_files/_ray_pkg_4a5ca631833e4fab/src/tde.py:132: RuntimeWarning: invalid value encountered in divide\n",
      "\u001b[36m(train_convnet pid=97736)\u001b[0m   a.append(np.divide(np.linalg.norm(tsrecon[ind_m, :]-tsrecon[ind, :], ord=np.inf, axis=1),\n",
      "\u001b[36m(train_convnet pid=69107)\u001b[0m Checkpoint successfully created at: Checkpoint(filesystem=local, path=/home/michael/Synology/Desktop/Data/Python/Gait-Signatures/ray_results/pb2/train_convnet_6f9de_00026_26_alpha=0.0000,batch_size=32,dec_dropout=0.1056,latent_dim=32,lr=0.0065,rnn_hidden=128,timesteps_per_tr_2024-04-01_03-03-38/checkpoint_000002)\n"
     ]
    },
    {
     "name": "stdout",
     "output_type": "stream",
     "text": [
      "\u001b[36m(train_convnet pid=97736)\u001b[0m Data has been embedded using a delay of 19 timesteps and an embedding dimension of 5\n"
     ]
    },
    {
     "name": "stderr",
     "output_type": "stream",
     "text": [
      "\u001b[36m(train_convnet pid=98369)\u001b[0m Restored on 170.140.242.239 from checkpoint: Checkpoint(filesystem=local, path=/home/michael/Synology/Desktop/Data/Python/Gait-Signatures/ray_results/pb2/train_convnet_6f9de_00011_11_alpha=0.0000,batch_size=32,dec_dropout=0.1529,latent_dim=32,lr=0.0061,rnn_hidden=64,timesteps_per_tri_2024-04-01_03-03-38/checkpoint_000002)\n",
      "\u001b[36m(train_convnet pid=69414)\u001b[0m Checkpoint successfully created at: Checkpoint(filesystem=local, path=/home/michael/Synology/Desktop/Data/Python/Gait-Signatures/ray_results/pb2/train_convnet_6f9de_00027_27_alpha=0.0000,batch_size=32,dec_dropout=0.2811,latent_dim=8,lr=0.0003,rnn_hidden=64,timesteps_per_tria_2024-04-01_03-03-38/checkpoint_000002)\n",
      "\u001b[36m(train_convnet pid=98131)\u001b[0m /tmp/ray/session_2024-04-01_02-53-14_060472_46839/runtime_resources/working_dir_files/_ray_pkg_4a5ca631833e4fab/src/tde.py:132: RuntimeWarning: divide by zero encountered in divide\n",
      "\u001b[36m(train_convnet pid=98131)\u001b[0m   a.append(np.divide(np.linalg.norm(tsrecon[ind_m, :]-tsrecon[ind, :], ord=np.inf, axis=1),\n",
      "\u001b[36m(train_convnet pid=98131)\u001b[0m /tmp/ray/session_2024-04-01_02-53-14_060472_46839/runtime_resources/working_dir_files/_ray_pkg_4a5ca631833e4fab/src/tde.py:132: RuntimeWarning: invalid value encountered in divide\n",
      "\u001b[36m(train_convnet pid=98131)\u001b[0m   a.append(np.divide(np.linalg.norm(tsrecon[ind_m, :]-tsrecon[ind, :], ord=np.inf, axis=1),\n"
     ]
    },
    {
     "name": "stdout",
     "output_type": "stream",
     "text": [
      "\u001b[36m(train_convnet pid=98131)\u001b[0m Data has been embedded using a delay of 19 timesteps and an embedding dimension of 5\n"
     ]
    },
    {
     "name": "stderr",
     "output_type": "stream",
     "text": [
      "\u001b[36m(train_convnet pid=98564)\u001b[0m Restored on 170.140.242.239 from checkpoint: Checkpoint(filesystem=local, path=/home/michael/Synology/Desktop/Data/Python/Gait-Signatures/ray_results/pb2/train_convnet_6f9de_00024_24_alpha=0.0000,batch_size=32,dec_dropout=0.0301,latent_dim=8,lr=0.0022,rnn_hidden=256,timesteps_per_tri_2024-04-01_03-03-38/checkpoint_000000)\n",
      "\u001b[36m(train_convnet pid=98369)\u001b[0m /tmp/ray/session_2024-04-01_02-53-14_060472_46839/runtime_resources/working_dir_files/_ray_pkg_4a5ca631833e4fab/src/tde.py:132: RuntimeWarning: divide by zero encountered in divide\n",
      "\u001b[36m(train_convnet pid=98369)\u001b[0m   a.append(np.divide(np.linalg.norm(tsrecon[ind_m, :]-tsrecon[ind, :], ord=np.inf, axis=1),\u001b[32m [repeated 2x across cluster]\u001b[0m\n",
      "\u001b[36m(train_convnet pid=98369)\u001b[0m /tmp/ray/session_2024-04-01_02-53-14_060472_46839/runtime_resources/working_dir_files/_ray_pkg_4a5ca631833e4fab/src/tde.py:132: RuntimeWarning: invalid value encountered in divide\n",
      "\u001b[36m(train_convnet pid=98564)\u001b[0m /tmp/ray/session_2024-04-01_02-53-14_060472_46839/runtime_resources/working_dir_files/_ray_pkg_4a5ca631833e4fab/src/tde.py:132: RuntimeWarning: divide by zero encountered in divide\n",
      "\u001b[36m(train_convnet pid=98564)\u001b[0m /tmp/ray/session_2024-04-01_02-53-14_060472_46839/runtime_resources/working_dir_files/_ray_pkg_4a5ca631833e4fab/src/tde.py:132: RuntimeWarning: invalid value encountered in divide\n",
      "\u001b[36m(train_convnet pid=69614)\u001b[0m Checkpoint successfully created at: Checkpoint(filesystem=local, path=/home/michael/Synology/Desktop/Data/Python/Gait-Signatures/ray_results/pb2/train_convnet_6f9de_00028_28_alpha=0.0000,batch_size=32,dec_dropout=0.2394,latent_dim=8,lr=0.0005,rnn_hidden=128,timesteps_per_tri_2024-04-01_03-03-38/checkpoint_000002)\n"
     ]
    },
    {
     "name": "stdout",
     "output_type": "stream",
     "text": [
      "\u001b[36m(train_convnet pid=98369)\u001b[0m Data has been embedded using a delay of 19 timesteps and an embedding dimension of 5\n",
      "\u001b[36m(train_convnet pid=98564)\u001b[0m Data has been embedded using a delay of 19 timesteps and an embedding dimension of 5\n"
     ]
    },
    {
     "name": "stderr",
     "output_type": "stream",
     "text": [
      "\u001b[36m(train_convnet pid=99112)\u001b[0m Restored on 170.140.242.239 from checkpoint: Checkpoint(filesystem=local, path=/home/michael/Synology/Desktop/Data/Python/Gait-Signatures/ray_results/pb2/train_convnet_6f9de_00014_14_alpha=0.0001,batch_size=32,dec_dropout=0.1006,latent_dim=8,lr=0.0001,rnn_hidden=64,timesteps_per_tria_2024-04-01_03-03-38/checkpoint_000001)\n",
      "\u001b[36m(train_convnet pid=98564)\u001b[0m   a.append(np.divide(np.linalg.norm(tsrecon[ind_m, :]-tsrecon[ind, :], ord=np.inf, axis=1),\u001b[32m [repeated 2x across cluster]\u001b[0m\n",
      "\u001b[36m(train_convnet pid=99112)\u001b[0m /tmp/ray/session_2024-04-01_02-53-14_060472_46839/runtime_resources/working_dir_files/_ray_pkg_4a5ca631833e4fab/src/tde.py:132: RuntimeWarning: divide by zero encountered in divide\n",
      "\u001b[36m(train_convnet pid=99112)\u001b[0m /tmp/ray/session_2024-04-01_02-53-14_060472_46839/runtime_resources/working_dir_files/_ray_pkg_4a5ca631833e4fab/src/tde.py:132: RuntimeWarning: invalid value encountered in divide\n",
      "\u001b[36m(train_convnet pid=99112)\u001b[0m   a.append(np.divide(np.linalg.norm(tsrecon[ind_m, :]-tsrecon[ind, :], ord=np.inf, axis=1),\u001b[32m [repeated 2x across cluster]\u001b[0m\n"
     ]
    },
    {
     "name": "stdout",
     "output_type": "stream",
     "text": [
      "\u001b[36m(train_convnet pid=99112)\u001b[0m Data has been embedded using a delay of 19 timesteps and an embedding dimension of 5\n"
     ]
    },
    {
     "name": "stderr",
     "output_type": "stream",
     "text": [
      "\u001b[36m(train_convnet pid=71786)\u001b[0m Checkpoint successfully created at: Checkpoint(filesystem=local, path=/home/michael/Synology/Desktop/Data/Python/Gait-Signatures/ray_results/pb2/train_convnet_6f9de_00001_1_alpha=0.0000,batch_size=32,dec_dropout=0.2072,latent_dim=8,lr=0.0031,rnn_hidden=256,timesteps_per_tria_2024-04-01_03-03-38/checkpoint_000003)\n",
      "\u001b[36m(train_convnet pid=99711)\u001b[0m Restored on 170.140.242.239 from checkpoint: Checkpoint(filesystem=local, path=/home/michael/Synology/Desktop/Data/Python/Gait-Signatures/ray_results/pb2/train_convnet_6f9de_00016_16_alpha=0.0000,batch_size=32,dec_dropout=0.1390,latent_dim=32,lr=0.0011,rnn_hidden=128,timesteps_per_tr_2024-04-01_03-03-38/checkpoint_000002)\n",
      "\u001b[36m(train_convnet pid=99711)\u001b[0m /tmp/ray/session_2024-04-01_02-53-14_060472_46839/runtime_resources/working_dir_files/_ray_pkg_4a5ca631833e4fab/src/tde.py:132: RuntimeWarning: divide by zero encountered in divide\n",
      "\u001b[36m(train_convnet pid=99711)\u001b[0m   a.append(np.divide(np.linalg.norm(tsrecon[ind_m, :]-tsrecon[ind, :], ord=np.inf, axis=1),\n",
      "\u001b[36m(train_convnet pid=99711)\u001b[0m /tmp/ray/session_2024-04-01_02-53-14_060472_46839/runtime_resources/working_dir_files/_ray_pkg_4a5ca631833e4fab/src/tde.py:132: RuntimeWarning: invalid value encountered in divide\n",
      "\u001b[36m(train_convnet pid=99711)\u001b[0m   a.append(np.divide(np.linalg.norm(tsrecon[ind_m, :]-tsrecon[ind, :], ord=np.inf, axis=1),\n"
     ]
    },
    {
     "name": "stdout",
     "output_type": "stream",
     "text": [
      "\u001b[36m(train_convnet pid=99711)\u001b[0m Data has been embedded using a delay of 19 timesteps and an embedding dimension of 5\n"
     ]
    },
    {
     "name": "stderr",
     "output_type": "stream",
     "text": [
      "\u001b[36m(train_convnet pid=73336)\u001b[0m Checkpoint successfully created at: Checkpoint(filesystem=local, path=/home/michael/Synology/Desktop/Data/Python/Gait-Signatures/ray_results/pb2/train_convnet_6f9de_00003_3_alpha=0.0001,batch_size=32,dec_dropout=0.2684,latent_dim=32,lr=0.0026,rnn_hidden=256,timesteps_per_tri_2024-04-01_03-03-38/checkpoint_000002)\n",
      "\u001b[36m(train_convnet pid=100941)\u001b[0m Restored on 170.140.242.239 from checkpoint: Checkpoint(filesystem=local, path=/home/michael/Synology/Desktop/Data/Python/Gait-Signatures/ray_results/pb2/train_convnet_6f9de_00017_17_alpha=0.0001,batch_size=32,dec_dropout=0.0791,latent_dim=16,lr=0.0068,rnn_hidden=256,timesteps_per_tr_2024-04-01_03-03-38/checkpoint_000001)\n",
      "\u001b[36m(train_convnet pid=100941)\u001b[0m /tmp/ray/session_2024-04-01_02-53-14_060472_46839/runtime_resources/working_dir_files/_ray_pkg_4a5ca631833e4fab/src/tde.py:132: RuntimeWarning: divide by zero encountered in divide\n",
      "\u001b[36m(train_convnet pid=100941)\u001b[0m   a.append(np.divide(np.linalg.norm(tsrecon[ind_m, :]-tsrecon[ind, :], ord=np.inf, axis=1),\n",
      "\u001b[36m(train_convnet pid=100941)\u001b[0m /tmp/ray/session_2024-04-01_02-53-14_060472_46839/runtime_resources/working_dir_files/_ray_pkg_4a5ca631833e4fab/src/tde.py:132: RuntimeWarning: invalid value encountered in divide\n",
      "\u001b[36m(train_convnet pid=100941)\u001b[0m   a.append(np.divide(np.linalg.norm(tsrecon[ind_m, :]-tsrecon[ind, :], ord=np.inf, axis=1),\n"
     ]
    },
    {
     "name": "stdout",
     "output_type": "stream",
     "text": [
      "\u001b[36m(train_convnet pid=100941)\u001b[0m Data has been embedded using a delay of 19 timesteps and an embedding dimension of 5\n"
     ]
    },
    {
     "name": "stderr",
     "output_type": "stream",
     "text": [
      "\u001b[36m(train_convnet pid=24615)\u001b[0m Checkpoint successfully created at: Checkpoint(filesystem=local, path=/home/michael/Synology/Desktop/Data/Python/Gait-Signatures/ray_results/pb2/train_convnet_6f9de_00002_2_alpha=0.0001,batch_size=32,dec_dropout=0.1597,latent_dim=8,lr=0.0039,rnn_hidden=32,timesteps_per_trial_2024-04-01_03-03-38/checkpoint_000001)\n",
      "\u001b[36m(train_convnet pid=103956)\u001b[0m Restored on 170.140.242.239 from checkpoint: Checkpoint(filesystem=local, path=/home/michael/Synology/Desktop/Data/Python/Gait-Signatures/ray_results/pb2/train_convnet_6f9de_00016_16_alpha=0.0000,batch_size=32,dec_dropout=0.1390,latent_dim=32,lr=0.0011,rnn_hidden=128,timesteps_per_tr_2024-04-01_03-03-38/checkpoint_000002)\n",
      "\u001b[36m(train_convnet pid=103956)\u001b[0m /tmp/ray/session_2024-04-01_02-53-14_060472_46839/runtime_resources/working_dir_files/_ray_pkg_4a5ca631833e4fab/src/tde.py:132: RuntimeWarning: divide by zero encountered in divide\n",
      "\u001b[36m(train_convnet pid=103956)\u001b[0m   a.append(np.divide(np.linalg.norm(tsrecon[ind_m, :]-tsrecon[ind, :], ord=np.inf, axis=1),\n",
      "\u001b[36m(train_convnet pid=103956)\u001b[0m /tmp/ray/session_2024-04-01_02-53-14_060472_46839/runtime_resources/working_dir_files/_ray_pkg_4a5ca631833e4fab/src/tde.py:132: RuntimeWarning: invalid value encountered in divide\n",
      "\u001b[36m(train_convnet pid=103956)\u001b[0m   a.append(np.divide(np.linalg.norm(tsrecon[ind_m, :]-tsrecon[ind, :], ord=np.inf, axis=1),\n"
     ]
    },
    {
     "name": "stdout",
     "output_type": "stream",
     "text": [
      "\u001b[36m(train_convnet pid=103956)\u001b[0m Data has been embedded using a delay of 19 timesteps and an embedding dimension of 5\n"
     ]
    },
    {
     "name": "stderr",
     "output_type": "stream",
     "text": [
      "\u001b[36m(train_convnet pid=76613)\u001b[0m Checkpoint successfully created at: Checkpoint(filesystem=local, path=/home/michael/Synology/Desktop/Data/Python/Gait-Signatures/ray_results/pb2/train_convnet_6f9de_00012_12_alpha=0.0000,batch_size=32,dec_dropout=0.1471,latent_dim=16,lr=0.0054,rnn_hidden=64,timesteps_per_tri_2024-04-01_03-03-38/checkpoint_000002)\n",
      "\u001b[36m(train_convnet pid=105547)\u001b[0m Restored on 170.140.242.239 from checkpoint: Checkpoint(filesystem=local, path=/home/michael/Synology/Desktop/Data/Python/Gait-Signatures/ray_results/pb2/train_convnet_6f9de_00002_2_alpha=0.0001,batch_size=32,dec_dropout=0.1597,latent_dim=8,lr=0.0039,rnn_hidden=32,timesteps_per_trial_2024-04-01_03-03-38/checkpoint_000001)\n",
      "\u001b[36m(train_convnet pid=105547)\u001b[0m /tmp/ray/session_2024-04-01_02-53-14_060472_46839/runtime_resources/working_dir_files/_ray_pkg_4a5ca631833e4fab/src/tde.py:132: RuntimeWarning: divide by zero encountered in divide\n",
      "\u001b[36m(train_convnet pid=105547)\u001b[0m   a.append(np.divide(np.linalg.norm(tsrecon[ind_m, :]-tsrecon[ind, :], ord=np.inf, axis=1),\n",
      "\u001b[36m(train_convnet pid=105547)\u001b[0m /tmp/ray/session_2024-04-01_02-53-14_060472_46839/runtime_resources/working_dir_files/_ray_pkg_4a5ca631833e4fab/src/tde.py:132: RuntimeWarning: invalid value encountered in divide\n",
      "\u001b[36m(train_convnet pid=105547)\u001b[0m   a.append(np.divide(np.linalg.norm(tsrecon[ind_m, :]-tsrecon[ind, :], ord=np.inf, axis=1),\n"
     ]
    },
    {
     "name": "stdout",
     "output_type": "stream",
     "text": [
      "\u001b[36m(train_convnet pid=105547)\u001b[0m Data has been embedded using a delay of 19 timesteps and an embedding dimension of 5\n"
     ]
    },
    {
     "name": "stderr",
     "output_type": "stream",
     "text": [
      "\u001b[36m(train_convnet pid=72525)\u001b[0m Checkpoint successfully created at: Checkpoint(filesystem=local, path=/home/michael/Synology/Desktop/Data/Python/Gait-Signatures/ray_results/pb2/train_convnet_6f9de_00013_13_alpha=0.0000,batch_size=32,dec_dropout=0.0850,latent_dim=32,lr=0.0046,rnn_hidden=64,timesteps_per_tri_2024-04-01_03-03-38/checkpoint_000001)\n",
      "\u001b[36m(train_convnet pid=108348)\u001b[0m Restored on 170.140.242.239 from checkpoint: Checkpoint(filesystem=local, path=/home/michael/Synology/Desktop/Data/Python/Gait-Signatures/ray_results/pb2/train_convnet_6f9de_00011_11_alpha=0.0000,batch_size=32,dec_dropout=0.1529,latent_dim=32,lr=0.0061,rnn_hidden=64,timesteps_per_tri_2024-04-01_03-03-38/checkpoint_000002)\n",
      "\u001b[36m(train_convnet pid=108348)\u001b[0m /tmp/ray/session_2024-04-01_02-53-14_060472_46839/runtime_resources/working_dir_files/_ray_pkg_4a5ca631833e4fab/src/tde.py:132: RuntimeWarning: divide by zero encountered in divide\n",
      "\u001b[36m(train_convnet pid=108348)\u001b[0m   a.append(np.divide(np.linalg.norm(tsrecon[ind_m, :]-tsrecon[ind, :], ord=np.inf, axis=1),\n",
      "\u001b[36m(train_convnet pid=108348)\u001b[0m /tmp/ray/session_2024-04-01_02-53-14_060472_46839/runtime_resources/working_dir_files/_ray_pkg_4a5ca631833e4fab/src/tde.py:132: RuntimeWarning: invalid value encountered in divide\n",
      "\u001b[36m(train_convnet pid=108348)\u001b[0m   a.append(np.divide(np.linalg.norm(tsrecon[ind_m, :]-tsrecon[ind, :], ord=np.inf, axis=1),\n"
     ]
    },
    {
     "name": "stdout",
     "output_type": "stream",
     "text": [
      "\u001b[36m(train_convnet pid=108348)\u001b[0m Data has been embedded using a delay of 19 timesteps and an embedding dimension of 5\n"
     ]
    },
    {
     "name": "stderr",
     "output_type": "stream",
     "text": [
      "\u001b[36m(train_convnet pid=26630)\u001b[0m Checkpoint successfully created at: Checkpoint(filesystem=local, path=/home/michael/Synology/Desktop/Data/Python/Gait-Signatures/ray_results/pb2/train_convnet_6f9de_00019_19_alpha=0.0001,batch_size=32,dec_dropout=0.2964,latent_dim=8,lr=0.0076,rnn_hidden=64,timesteps_per_tria_2024-04-01_03-03-38/checkpoint_000001)\n",
      "\u001b[36m(train_convnet pid=109811)\u001b[0m Restored on 170.140.242.239 from checkpoint: Checkpoint(filesystem=local, path=/home/michael/Synology/Desktop/Data/Python/Gait-Signatures/ray_results/pb2/train_convnet_6f9de_00023_23_alpha=0.0001,batch_size=32,dec_dropout=0.1309,latent_dim=32,lr=0.0073,rnn_hidden=256,timesteps_per_tr_2024-04-01_03-03-38/checkpoint_000001)\n",
      "\u001b[36m(train_convnet pid=109811)\u001b[0m /tmp/ray/session_2024-04-01_02-53-14_060472_46839/runtime_resources/working_dir_files/_ray_pkg_4a5ca631833e4fab/src/tde.py:132: RuntimeWarning: divide by zero encountered in divide\n",
      "\u001b[36m(train_convnet pid=109811)\u001b[0m   a.append(np.divide(np.linalg.norm(tsrecon[ind_m, :]-tsrecon[ind, :], ord=np.inf, axis=1),\n",
      "\u001b[36m(train_convnet pid=109811)\u001b[0m /tmp/ray/session_2024-04-01_02-53-14_060472_46839/runtime_resources/working_dir_files/_ray_pkg_4a5ca631833e4fab/src/tde.py:132: RuntimeWarning: invalid value encountered in divide\n",
      "\u001b[36m(train_convnet pid=109811)\u001b[0m   a.append(np.divide(np.linalg.norm(tsrecon[ind_m, :]-tsrecon[ind, :], ord=np.inf, axis=1),\n"
     ]
    },
    {
     "name": "stdout",
     "output_type": "stream",
     "text": [
      "\u001b[36m(train_convnet pid=109811)\u001b[0m Data has been embedded using a delay of 19 timesteps and an embedding dimension of 5\n"
     ]
    },
    {
     "name": "stderr",
     "output_type": "stream",
     "text": [
      "\u001b[36m(train_convnet pid=29717)\u001b[0m Checkpoint successfully created at: Checkpoint(filesystem=local, path=/home/michael/Synology/Desktop/Data/Python/Gait-Signatures/ray_results/pb2/train_convnet_6f9de_00020_20_alpha=0.0001,batch_size=32,dec_dropout=0.0150,latent_dim=8,lr=0.0038,rnn_hidden=32,timesteps_per_tria_2024-04-01_03-03-38/checkpoint_000001)\n",
      "\u001b[36m(train_convnet pid=111110)\u001b[0m Restored on 170.140.242.239 from checkpoint: Checkpoint(filesystem=local, path=/home/michael/Synology/Desktop/Data/Python/Gait-Signatures/ray_results/pb2/train_convnet_6f9de_00019_19_alpha=0.0001,batch_size=32,dec_dropout=0.2964,latent_dim=8,lr=0.0076,rnn_hidden=64,timesteps_per_tria_2024-04-01_03-03-38/checkpoint_000001)\n",
      "\u001b[36m(train_convnet pid=111110)\u001b[0m /tmp/ray/session_2024-04-01_02-53-14_060472_46839/runtime_resources/working_dir_files/_ray_pkg_4a5ca631833e4fab/src/tde.py:132: RuntimeWarning: divide by zero encountered in divide\n",
      "\u001b[36m(train_convnet pid=111110)\u001b[0m   a.append(np.divide(np.linalg.norm(tsrecon[ind_m, :]-tsrecon[ind, :], ord=np.inf, axis=1),\n",
      "\u001b[36m(train_convnet pid=111110)\u001b[0m /tmp/ray/session_2024-04-01_02-53-14_060472_46839/runtime_resources/working_dir_files/_ray_pkg_4a5ca631833e4fab/src/tde.py:132: RuntimeWarning: invalid value encountered in divide\n",
      "\u001b[36m(train_convnet pid=111110)\u001b[0m   a.append(np.divide(np.linalg.norm(tsrecon[ind_m, :]-tsrecon[ind, :], ord=np.inf, axis=1),\n"
     ]
    },
    {
     "name": "stdout",
     "output_type": "stream",
     "text": [
      "\u001b[36m(train_convnet pid=111110)\u001b[0m Data has been embedded using a delay of 19 timesteps and an embedding dimension of 5\n"
     ]
    },
    {
     "name": "stderr",
     "output_type": "stream",
     "text": [
      "\u001b[36m(train_convnet pid=32270)\u001b[0m Checkpoint successfully created at: Checkpoint(filesystem=local, path=/home/michael/Synology/Desktop/Data/Python/Gait-Signatures/ray_results/pb2/train_convnet_6f9de_00015_15_alpha=0.0000,batch_size=32,dec_dropout=0.1839,latent_dim=8,lr=0.0059,rnn_hidden=128,timesteps_per_tri_2024-04-01_03-03-38/checkpoint_000001)\n",
      "\u001b[36m(train_convnet pid=113656)\u001b[0m Restored on 170.140.242.239 from checkpoint: Checkpoint(filesystem=local, path=/home/michael/Synology/Desktop/Data/Python/Gait-Signatures/ray_results/pb2/train_convnet_6f9de_00020_20_alpha=0.0001,batch_size=32,dec_dropout=0.0150,latent_dim=8,lr=0.0038,rnn_hidden=32,timesteps_per_tria_2024-04-01_03-03-38/checkpoint_000001)\n",
      "\u001b[36m(train_convnet pid=113656)\u001b[0m /tmp/ray/session_2024-04-01_02-53-14_060472_46839/runtime_resources/working_dir_files/_ray_pkg_4a5ca631833e4fab/src/tde.py:132: RuntimeWarning: divide by zero encountered in divide\n",
      "\u001b[36m(train_convnet pid=113656)\u001b[0m   a.append(np.divide(np.linalg.norm(tsrecon[ind_m, :]-tsrecon[ind, :], ord=np.inf, axis=1),\n",
      "\u001b[36m(train_convnet pid=113656)\u001b[0m /tmp/ray/session_2024-04-01_02-53-14_060472_46839/runtime_resources/working_dir_files/_ray_pkg_4a5ca631833e4fab/src/tde.py:132: RuntimeWarning: invalid value encountered in divide\n",
      "\u001b[36m(train_convnet pid=113656)\u001b[0m   a.append(np.divide(np.linalg.norm(tsrecon[ind_m, :]-tsrecon[ind, :], ord=np.inf, axis=1),\n"
     ]
    },
    {
     "name": "stdout",
     "output_type": "stream",
     "text": [
      "\u001b[36m(train_convnet pid=113656)\u001b[0m Data has been embedded using a delay of 19 timesteps and an embedding dimension of 5\n"
     ]
    },
    {
     "name": "stderr",
     "output_type": "stream",
     "text": [
      "\u001b[36m(train_convnet pid=37257)\u001b[0m Checkpoint successfully created at: Checkpoint(filesystem=local, path=/home/michael/Synology/Desktop/Data/Python/Gait-Signatures/ray_results/pb2/train_convnet_6f9de_00021_21_alpha=0.0001,batch_size=32,dec_dropout=0.2106,latent_dim=16,lr=0.0042,rnn_hidden=128,timesteps_per_tr_2024-04-01_03-03-38/checkpoint_000001)\n",
      "\u001b[36m(train_convnet pid=118318)\u001b[0m Restored on 170.140.242.239 from checkpoint: Checkpoint(filesystem=local, path=/home/michael/Synology/Desktop/Data/Python/Gait-Signatures/ray_results/pb2/train_convnet_6f9de_00015_15_alpha=0.0000,batch_size=32,dec_dropout=0.1839,latent_dim=8,lr=0.0059,rnn_hidden=128,timesteps_per_tri_2024-04-01_03-03-38/checkpoint_000001)\n",
      "\u001b[36m(train_convnet pid=118318)\u001b[0m /tmp/ray/session_2024-04-01_02-53-14_060472_46839/runtime_resources/working_dir_files/_ray_pkg_4a5ca631833e4fab/src/tde.py:132: RuntimeWarning: divide by zero encountered in divide\n",
      "\u001b[36m(train_convnet pid=118318)\u001b[0m   a.append(np.divide(np.linalg.norm(tsrecon[ind_m, :]-tsrecon[ind, :], ord=np.inf, axis=1),\n",
      "\u001b[36m(train_convnet pid=118318)\u001b[0m /tmp/ray/session_2024-04-01_02-53-14_060472_46839/runtime_resources/working_dir_files/_ray_pkg_4a5ca631833e4fab/src/tde.py:132: RuntimeWarning: invalid value encountered in divide\n",
      "\u001b[36m(train_convnet pid=118318)\u001b[0m   a.append(np.divide(np.linalg.norm(tsrecon[ind_m, :]-tsrecon[ind, :], ord=np.inf, axis=1),\n"
     ]
    },
    {
     "name": "stdout",
     "output_type": "stream",
     "text": [
      "\u001b[36m(train_convnet pid=118318)\u001b[0m Data has been embedded using a delay of 19 timesteps and an embedding dimension of 5\n"
     ]
    },
    {
     "name": "stderr",
     "output_type": "stream",
     "text": [
      "\u001b[36m(train_convnet pid=93225)\u001b[0m Checkpoint successfully created at: Checkpoint(filesystem=local, path=/home/michael/Synology/Desktop/Data/Python/Gait-Signatures/ray_results/pb2/train_convnet_6f9de_00018_18_alpha=0.0000,batch_size=32,dec_dropout=0.0493,latent_dim=32,lr=0.0100,rnn_hidden=256,timesteps_per_tr_2024-04-01_03-03-38/checkpoint_000002)\n",
      "\u001b[36m(train_convnet pid=120959)\u001b[0m Restored on 170.140.242.239 from checkpoint: Checkpoint(filesystem=local, path=/home/michael/Synology/Desktop/Data/Python/Gait-Signatures/ray_results/pb2/train_convnet_6f9de_00021_21_alpha=0.0001,batch_size=32,dec_dropout=0.2106,latent_dim=16,lr=0.0042,rnn_hidden=128,timesteps_per_tr_2024-04-01_03-03-38/checkpoint_000001)\n",
      "\u001b[36m(train_convnet pid=92815)\u001b[0m Checkpoint successfully created at: Checkpoint(filesystem=local, path=/home/michael/Synology/Desktop/Data/Python/Gait-Signatures/ray_results/pb2/train_convnet_6f9de_00005_5_alpha=0.0000,batch_size=32,dec_dropout=0.1197,latent_dim=16,lr=0.0083,rnn_hidden=256,timesteps_per_tri_2024-04-01_03-03-38/checkpoint_000003)\n",
      "\u001b[36m(train_convnet pid=92320)\u001b[0m Checkpoint successfully created at: Checkpoint(filesystem=local, path=/home/michael/Synology/Desktop/Data/Python/Gait-Signatures/ray_results/pb2/train_convnet_6f9de_00004_4_alpha=0.0001,batch_size=32,dec_dropout=0.1387,latent_dim=8,lr=0.0057,rnn_hidden=32,timesteps_per_trial_2024-04-01_03-03-38/checkpoint_000002)\n",
      "\u001b[36m(train_convnet pid=121283)\u001b[0m Restored on 170.140.242.239 from checkpoint: Checkpoint(filesystem=local, path=/home/michael/Synology/Desktop/Data/Python/Gait-Signatures/ray_results/pb2/train_convnet_6f9de_00023_23_alpha=0.0001,batch_size=32,dec_dropout=0.1309,latent_dim=32,lr=0.0073,rnn_hidden=256,timesteps_per_tr_2024-04-01_03-03-38/checkpoint_000001)\u001b[32m [repeated 2x across cluster]\u001b[0m\n",
      "\u001b[36m(train_convnet pid=120959)\u001b[0m /tmp/ray/session_2024-04-01_02-53-14_060472_46839/runtime_resources/working_dir_files/_ray_pkg_4a5ca631833e4fab/src/tde.py:132: RuntimeWarning: divide by zero encountered in divide\n",
      "\u001b[36m(train_convnet pid=120959)\u001b[0m   a.append(np.divide(np.linalg.norm(tsrecon[ind_m, :]-tsrecon[ind, :], ord=np.inf, axis=1),\n",
      "\u001b[36m(train_convnet pid=120959)\u001b[0m /tmp/ray/session_2024-04-01_02-53-14_060472_46839/runtime_resources/working_dir_files/_ray_pkg_4a5ca631833e4fab/src/tde.py:132: RuntimeWarning: invalid value encountered in divide\n",
      "\u001b[36m(train_convnet pid=120959)\u001b[0m   a.append(np.divide(np.linalg.norm(tsrecon[ind_m, :]-tsrecon[ind, :], ord=np.inf, axis=1),\n"
     ]
    },
    {
     "name": "stdout",
     "output_type": "stream",
     "text": [
      "\u001b[36m(train_convnet pid=120959)\u001b[0m Data has been embedded using a delay of 19 timesteps and an embedding dimension of 5\n"
     ]
    },
    {
     "name": "stderr",
     "output_type": "stream",
     "text": [
      "\u001b[36m(train_convnet pid=121283)\u001b[0m /tmp/ray/session_2024-04-01_02-53-14_060472_46839/runtime_resources/working_dir_files/_ray_pkg_4a5ca631833e4fab/src/tde.py:132: RuntimeWarning: divide by zero encountered in divide\u001b[32m [repeated 2x across cluster]\u001b[0m\n",
      "\u001b[36m(train_convnet pid=121283)\u001b[0m   a.append(np.divide(np.linalg.norm(tsrecon[ind_m, :]-tsrecon[ind, :], ord=np.inf, axis=1),\u001b[32m [repeated 4x across cluster]\u001b[0m\n",
      "\u001b[36m(train_convnet pid=121283)\u001b[0m /tmp/ray/session_2024-04-01_02-53-14_060472_46839/runtime_resources/working_dir_files/_ray_pkg_4a5ca631833e4fab/src/tde.py:132: RuntimeWarning: invalid value encountered in divide\u001b[32m [repeated 2x across cluster]\u001b[0m\n"
     ]
    },
    {
     "name": "stdout",
     "output_type": "stream",
     "text": [
      "\u001b[36m(train_convnet pid=121120)\u001b[0m Data has been embedded using a delay of 19 timesteps and an embedding dimension of 5\n"
     ]
    },
    {
     "name": "stderr",
     "output_type": "stream",
     "text": [
      "\u001b[36m(train_convnet pid=94896)\u001b[0m Checkpoint successfully created at: Checkpoint(filesystem=local, path=/home/michael/Synology/Desktop/Data/Python/Gait-Signatures/ray_results/pb2/train_convnet_6f9de_00008_8_alpha=0.0001,batch_size=32,dec_dropout=0.2858,latent_dim=16,lr=0.0042,rnn_hidden=64,timesteps_per_tria_2024-04-01_03-03-38/checkpoint_000003)\n",
      "\u001b[36m(train_convnet pid=122553)\u001b[0m Restored on 170.140.242.239 from checkpoint: Checkpoint(filesystem=local, path=/home/michael/Synology/Desktop/Data/Python/Gait-Signatures/ray_results/pb2/train_convnet_6f9de_00025_25_alpha=0.0000,batch_size=32,dec_dropout=0.0776,latent_dim=8,lr=0.0022,rnn_hidden=64,timesteps_per_tria_2024-04-01_03-03-38/checkpoint_000001)\n",
      "\u001b[36m(train_convnet pid=94425)\u001b[0m Checkpoint successfully created at: Checkpoint(filesystem=local, path=/home/michael/Synology/Desktop/Data/Python/Gait-Signatures/ray_results/pb2/train_convnet_6f9de_00006_6_alpha=0.0000,batch_size=32,dec_dropout=0.1047,latent_dim=8,lr=0.0058,rnn_hidden=256,timesteps_per_tria_2024-04-01_03-03-38/checkpoint_000003)\n",
      "\u001b[36m(train_convnet pid=122553)\u001b[0m /tmp/ray/session_2024-04-01_02-53-14_060472_46839/runtime_resources/working_dir_files/_ray_pkg_4a5ca631833e4fab/src/tde.py:132: RuntimeWarning: divide by zero encountered in divide\n",
      "\u001b[36m(train_convnet pid=122553)\u001b[0m   a.append(np.divide(np.linalg.norm(tsrecon[ind_m, :]-tsrecon[ind, :], ord=np.inf, axis=1),\n",
      "\u001b[36m(train_convnet pid=122553)\u001b[0m /tmp/ray/session_2024-04-01_02-53-14_060472_46839/runtime_resources/working_dir_files/_ray_pkg_4a5ca631833e4fab/src/tde.py:132: RuntimeWarning: invalid value encountered in divide\n",
      "\u001b[36m(train_convnet pid=122553)\u001b[0m   a.append(np.divide(np.linalg.norm(tsrecon[ind_m, :]-tsrecon[ind, :], ord=np.inf, axis=1),\n",
      "\u001b[36m(train_convnet pid=122983)\u001b[0m Restored on 170.140.242.239 from checkpoint: Checkpoint(filesystem=local, path=/home/michael/Synology/Desktop/Data/Python/Gait-Signatures/ray_results/pb2/train_convnet_6f9de_00001_1_alpha=0.0000,batch_size=32,dec_dropout=0.2072,latent_dim=8,lr=0.0031,rnn_hidden=256,timesteps_per_tria_2024-04-01_03-03-38/checkpoint_000002)\n",
      "\u001b[36m(train_convnet pid=94586)\u001b[0m Checkpoint successfully created at: Checkpoint(filesystem=local, path=/home/michael/Synology/Desktop/Data/Python/Gait-Signatures/ray_results/pb2/train_convnet_6f9de_00007_7_alpha=0.0000,batch_size=32,dec_dropout=0.1227,latent_dim=32,lr=0.0066,rnn_hidden=64,timesteps_per_tria_2024-04-01_03-03-38/checkpoint_000003)\n"
     ]
    },
    {
     "name": "stdout",
     "output_type": "stream",
     "text": [
      "\u001b[36m(train_convnet pid=122553)\u001b[0m Data has been embedded using a delay of 19 timesteps and an embedding dimension of 5\u001b[32m [repeated 2x across cluster]\u001b[0m\n"
     ]
    },
    {
     "name": "stderr",
     "output_type": "stream",
     "text": [
      "\u001b[36m(train_convnet pid=123326)\u001b[0m Restored on 170.140.242.239 from checkpoint: Checkpoint(filesystem=local, path=/home/michael/Synology/Desktop/Data/Python/Gait-Signatures/ray_results/pb2/train_convnet_6f9de_00028_28_alpha=0.0000,batch_size=32,dec_dropout=0.2394,latent_dim=8,lr=0.0005,rnn_hidden=128,timesteps_per_tri_2024-04-01_03-03-38/checkpoint_000002)\n",
      "\u001b[36m(train_convnet pid=122983)\u001b[0m /tmp/ray/session_2024-04-01_02-53-14_060472_46839/runtime_resources/working_dir_files/_ray_pkg_4a5ca631833e4fab/src/tde.py:132: RuntimeWarning: divide by zero encountered in divide\n",
      "\u001b[36m(train_convnet pid=122983)\u001b[0m   a.append(np.divide(np.linalg.norm(tsrecon[ind_m, :]-tsrecon[ind, :], ord=np.inf, axis=1),\n",
      "\u001b[36m(train_convnet pid=122983)\u001b[0m /tmp/ray/session_2024-04-01_02-53-14_060472_46839/runtime_resources/working_dir_files/_ray_pkg_4a5ca631833e4fab/src/tde.py:132: RuntimeWarning: invalid value encountered in divide\n",
      "\u001b[36m(train_convnet pid=122983)\u001b[0m   a.append(np.divide(np.linalg.norm(tsrecon[ind_m, :]-tsrecon[ind, :], ord=np.inf, axis=1),\n"
     ]
    },
    {
     "name": "stdout",
     "output_type": "stream",
     "text": [
      "\u001b[36m(train_convnet pid=122983)\u001b[0m Data has been embedded using a delay of 19 timesteps and an embedding dimension of 5\n"
     ]
    },
    {
     "name": "stderr",
     "output_type": "stream",
     "text": [
      "\u001b[36m(train_convnet pid=123326)\u001b[0m /tmp/ray/session_2024-04-01_02-53-14_060472_46839/runtime_resources/working_dir_files/_ray_pkg_4a5ca631833e4fab/src/tde.py:132: RuntimeWarning: divide by zero encountered in divide\n",
      "\u001b[36m(train_convnet pid=123326)\u001b[0m   a.append(np.divide(np.linalg.norm(tsrecon[ind_m, :]-tsrecon[ind, :], ord=np.inf, axis=1),\u001b[32m [repeated 2x across cluster]\u001b[0m\n",
      "\u001b[36m(train_convnet pid=123326)\u001b[0m /tmp/ray/session_2024-04-01_02-53-14_060472_46839/runtime_resources/working_dir_files/_ray_pkg_4a5ca631833e4fab/src/tde.py:132: RuntimeWarning: invalid value encountered in divide\n"
     ]
    },
    {
     "name": "stdout",
     "output_type": "stream",
     "text": [
      "\u001b[36m(train_convnet pid=123326)\u001b[0m Data has been embedded using a delay of 19 timesteps and an embedding dimension of 5\n"
     ]
    },
    {
     "name": "stderr",
     "output_type": "stream",
     "text": [
      "\u001b[36m(train_convnet pid=98131)\u001b[0m Checkpoint successfully created at: Checkpoint(filesystem=local, path=/home/michael/Synology/Desktop/Data/Python/Gait-Signatures/ray_results/pb2/train_convnet_6f9de_00010_10_alpha=0.0000,batch_size=32,dec_dropout=0.2241,latent_dim=8,lr=0.0015,rnn_hidden=128,timesteps_per_tri_2024-04-01_03-03-38/checkpoint_000003)\n",
      "\u001b[36m(train_convnet pid=124937)\u001b[0m Restored on 170.140.242.239 from checkpoint: Checkpoint(filesystem=local, path=/home/michael/Synology/Desktop/Data/Python/Gait-Signatures/ray_results/pb2/train_convnet_6f9de_00029_29_alpha=0.0000,batch_size=32,dec_dropout=0.2387,latent_dim=8,lr=0.0022,rnn_hidden=128,timesteps_per_tri_2024-04-01_03-03-38/checkpoint_000002)\n",
      "\u001b[36m(train_convnet pid=124937)\u001b[0m /tmp/ray/session_2024-04-01_02-53-14_060472_46839/runtime_resources/working_dir_files/_ray_pkg_4a5ca631833e4fab/src/tde.py:132: RuntimeWarning: divide by zero encountered in divide\n",
      "\u001b[36m(train_convnet pid=124937)\u001b[0m   a.append(np.divide(np.linalg.norm(tsrecon[ind_m, :]-tsrecon[ind, :], ord=np.inf, axis=1),\n",
      "\u001b[36m(train_convnet pid=124937)\u001b[0m /tmp/ray/session_2024-04-01_02-53-14_060472_46839/runtime_resources/working_dir_files/_ray_pkg_4a5ca631833e4fab/src/tde.py:132: RuntimeWarning: invalid value encountered in divide\n",
      "\u001b[36m(train_convnet pid=124937)\u001b[0m   a.append(np.divide(np.linalg.norm(tsrecon[ind_m, :]-tsrecon[ind, :], ord=np.inf, axis=1),\n"
     ]
    },
    {
     "name": "stdout",
     "output_type": "stream",
     "text": [
      "\u001b[36m(train_convnet pid=124937)\u001b[0m Data has been embedded using a delay of 19 timesteps and an embedding dimension of 5\n"
     ]
    },
    {
     "name": "stderr",
     "output_type": "stream",
     "text": [
      "\u001b[36m(train_convnet pid=97736)\u001b[0m Checkpoint successfully created at: Checkpoint(filesystem=local, path=/home/michael/Synology/Desktop/Data/Python/Gait-Signatures/ray_results/pb2/train_convnet_6f9de_00009_9_alpha=0.0001,batch_size=32,dec_dropout=0.2133,latent_dim=8,lr=0.0044,rnn_hidden=32,timesteps_per_trial_2024-04-01_03-03-38/checkpoint_000002)\n",
      "\u001b[36m(train_convnet pid=125793)\u001b[0m Restored on 170.140.242.239 from checkpoint: Checkpoint(filesystem=local, path=/home/michael/Synology/Desktop/Data/Python/Gait-Signatures/ray_results/pb2/train_convnet_6f9de_00015_15_alpha=0.0000,batch_size=32,dec_dropout=0.1839,latent_dim=8,lr=0.0059,rnn_hidden=128,timesteps_per_tri_2024-04-01_03-03-38/checkpoint_000001)\n",
      "\u001b[36m(train_convnet pid=125793)\u001b[0m /tmp/ray/session_2024-04-01_02-53-14_060472_46839/runtime_resources/working_dir_files/_ray_pkg_4a5ca631833e4fab/src/tde.py:132: RuntimeWarning: divide by zero encountered in divide\n",
      "\u001b[36m(train_convnet pid=125793)\u001b[0m   a.append(np.divide(np.linalg.norm(tsrecon[ind_m, :]-tsrecon[ind, :], ord=np.inf, axis=1),\n",
      "\u001b[36m(train_convnet pid=125793)\u001b[0m /tmp/ray/session_2024-04-01_02-53-14_060472_46839/runtime_resources/working_dir_files/_ray_pkg_4a5ca631833e4fab/src/tde.py:132: RuntimeWarning: invalid value encountered in divide\n",
      "\u001b[36m(train_convnet pid=125793)\u001b[0m   a.append(np.divide(np.linalg.norm(tsrecon[ind_m, :]-tsrecon[ind, :], ord=np.inf, axis=1),\n"
     ]
    },
    {
     "name": "stdout",
     "output_type": "stream",
     "text": [
      "\u001b[36m(train_convnet pid=125793)\u001b[0m Data has been embedded using a delay of 19 timesteps and an embedding dimension of 5\n"
     ]
    },
    {
     "name": "stderr",
     "output_type": "stream",
     "text": [
      "\u001b[36m(train_convnet pid=99112)\u001b[0m Checkpoint successfully created at: Checkpoint(filesystem=local, path=/home/michael/Synology/Desktop/Data/Python/Gait-Signatures/ray_results/pb2/train_convnet_6f9de_00014_14_alpha=0.0001,batch_size=32,dec_dropout=0.1006,latent_dim=8,lr=0.0001,rnn_hidden=64,timesteps_per_tria_2024-04-01_03-03-38/checkpoint_000002)\n",
      "\u001b[36m(train_convnet pid=127290)\u001b[0m Restored on 170.140.242.239 from checkpoint: Checkpoint(filesystem=local, path=/home/michael/Synology/Desktop/Data/Python/Gait-Signatures/ray_results/pb2/train_convnet_6f9de_00000_0_alpha=0.0000,batch_size=32,dec_dropout=0.2151,latent_dim=32,lr=0.0020,rnn_hidden=64,timesteps_per_tria_2024-04-01_03-03-38/checkpoint_000003)\n",
      "\u001b[36m(train_convnet pid=127290)\u001b[0m /tmp/ray/session_2024-04-01_02-53-14_060472_46839/runtime_resources/working_dir_files/_ray_pkg_4a5ca631833e4fab/src/tde.py:132: RuntimeWarning: divide by zero encountered in divide\n",
      "\u001b[36m(train_convnet pid=127290)\u001b[0m   a.append(np.divide(np.linalg.norm(tsrecon[ind_m, :]-tsrecon[ind, :], ord=np.inf, axis=1),\n",
      "\u001b[36m(train_convnet pid=127290)\u001b[0m /tmp/ray/session_2024-04-01_02-53-14_060472_46839/runtime_resources/working_dir_files/_ray_pkg_4a5ca631833e4fab/src/tde.py:132: RuntimeWarning: invalid value encountered in divide\n",
      "\u001b[36m(train_convnet pid=127290)\u001b[0m   a.append(np.divide(np.linalg.norm(tsrecon[ind_m, :]-tsrecon[ind, :], ord=np.inf, axis=1),\n"
     ]
    },
    {
     "name": "stdout",
     "output_type": "stream",
     "text": [
      "\u001b[36m(train_convnet pid=127290)\u001b[0m Data has been embedded using a delay of 19 timesteps and an embedding dimension of 5\n"
     ]
    },
    {
     "name": "stderr",
     "output_type": "stream",
     "text": [
      "\u001b[36m(train_convnet pid=99711)\u001b[0m Checkpoint successfully created at: Checkpoint(filesystem=local, path=/home/michael/Synology/Desktop/Data/Python/Gait-Signatures/ray_results/pb2/train_convnet_6f9de_00016_16_alpha=0.0000,batch_size=32,dec_dropout=0.1390,latent_dim=32,lr=0.0011,rnn_hidden=128,timesteps_per_tr_2024-04-01_03-03-38/checkpoint_000003)\n",
      "\u001b[36m(train_convnet pid=128149)\u001b[0m Restored on 170.140.242.239 from checkpoint: Checkpoint(filesystem=local, path=/home/michael/Synology/Desktop/Data/Python/Gait-Signatures/ray_results/pb2/train_convnet_6f9de_00001_1_alpha=0.0000,batch_size=32,dec_dropout=0.2072,latent_dim=8,lr=0.0031,rnn_hidden=256,timesteps_per_tria_2024-04-01_03-03-38/checkpoint_000003)\n",
      "\u001b[36m(train_convnet pid=98369)\u001b[0m Checkpoint successfully created at: Checkpoint(filesystem=local, path=/home/michael/Synology/Desktop/Data/Python/Gait-Signatures/ray_results/pb2/train_convnet_6f9de_00011_11_alpha=0.0000,batch_size=32,dec_dropout=0.1529,latent_dim=32,lr=0.0061,rnn_hidden=64,timesteps_per_tri_2024-04-01_03-03-38/checkpoint_000003)\n",
      "\u001b[36m(train_convnet pid=128381)\u001b[0m Restored on 170.140.242.239 from checkpoint: Checkpoint(filesystem=local, path=/home/michael/Synology/Desktop/Data/Python/Gait-Signatures/ray_results/pb2/train_convnet_6f9de_00003_3_alpha=0.0001,batch_size=32,dec_dropout=0.2684,latent_dim=32,lr=0.0026,rnn_hidden=256,timesteps_per_tri_2024-04-01_03-03-38/checkpoint_000002)\n",
      "\u001b[36m(train_convnet pid=128149)\u001b[0m /tmp/ray/session_2024-04-01_02-53-14_060472_46839/runtime_resources/working_dir_files/_ray_pkg_4a5ca631833e4fab/src/tde.py:132: RuntimeWarning: divide by zero encountered in divide\n",
      "\u001b[36m(train_convnet pid=128149)\u001b[0m   a.append(np.divide(np.linalg.norm(tsrecon[ind_m, :]-tsrecon[ind, :], ord=np.inf, axis=1),\n",
      "\u001b[36m(train_convnet pid=128149)\u001b[0m /tmp/ray/session_2024-04-01_02-53-14_060472_46839/runtime_resources/working_dir_files/_ray_pkg_4a5ca631833e4fab/src/tde.py:132: RuntimeWarning: invalid value encountered in divide\n",
      "\u001b[36m(train_convnet pid=128149)\u001b[0m   a.append(np.divide(np.linalg.norm(tsrecon[ind_m, :]-tsrecon[ind, :], ord=np.inf, axis=1),\n",
      "\u001b[36m(train_convnet pid=48078)\u001b[0m Checkpoint successfully created at: Checkpoint(filesystem=local, path=/home/michael/Synology/Desktop/Data/Python/Gait-Signatures/ray_results/pb2/train_convnet_6f9de_00024_24_alpha=0.0000,batch_size=32,dec_dropout=0.0301,latent_dim=8,lr=0.0022,rnn_hidden=256,timesteps_per_tri_2024-04-01_03-03-38/checkpoint_000001)\n"
     ]
    },
    {
     "name": "stdout",
     "output_type": "stream",
     "text": [
      "\u001b[36m(train_convnet pid=128149)\u001b[0m Data has been embedded using a delay of 19 timesteps and an embedding dimension of 5\n"
     ]
    },
    {
     "name": "stderr",
     "output_type": "stream",
     "text": [
      "\u001b[36m(train_convnet pid=128754)\u001b[0m Restored on 170.140.242.239 from checkpoint: Checkpoint(filesystem=local, path=/home/michael/Synology/Desktop/Data/Python/Gait-Signatures/ray_results/pb2/train_convnet_6f9de_00004_4_alpha=0.0001,batch_size=32,dec_dropout=0.1387,latent_dim=8,lr=0.0057,rnn_hidden=32,timesteps_per_trial_2024-04-01_03-03-38/checkpoint_000002)\n",
      "\u001b[36m(train_convnet pid=100941)\u001b[0m Checkpoint successfully created at: Checkpoint(filesystem=local, path=/home/michael/Synology/Desktop/Data/Python/Gait-Signatures/ray_results/pb2/train_convnet_6f9de_00017_17_alpha=0.0001,batch_size=32,dec_dropout=0.0791,latent_dim=16,lr=0.0068,rnn_hidden=256,timesteps_per_tr_2024-04-01_03-03-38/checkpoint_000002)\n",
      "\u001b[36m(train_convnet pid=128381)\u001b[0m /tmp/ray/session_2024-04-01_02-53-14_060472_46839/runtime_resources/working_dir_files/_ray_pkg_4a5ca631833e4fab/src/tde.py:132: RuntimeWarning: divide by zero encountered in divide\n",
      "\u001b[36m(train_convnet pid=128381)\u001b[0m   a.append(np.divide(np.linalg.norm(tsrecon[ind_m, :]-tsrecon[ind, :], ord=np.inf, axis=1),\n",
      "\u001b[36m(train_convnet pid=128381)\u001b[0m /tmp/ray/session_2024-04-01_02-53-14_060472_46839/runtime_resources/working_dir_files/_ray_pkg_4a5ca631833e4fab/src/tde.py:132: RuntimeWarning: invalid value encountered in divide\n",
      "\u001b[36m(train_convnet pid=128381)\u001b[0m   a.append(np.divide(np.linalg.norm(tsrecon[ind_m, :]-tsrecon[ind, :], ord=np.inf, axis=1),\n"
     ]
    },
    {
     "name": "stdout",
     "output_type": "stream",
     "text": [
      "\u001b[36m(train_convnet pid=128381)\u001b[0m Data has been embedded using a delay of 19 timesteps and an embedding dimension of 5\n"
     ]
    },
    {
     "name": "stderr",
     "output_type": "stream",
     "text": [
      "\u001b[36m(train_convnet pid=128823)\u001b[0m Restored on 170.140.242.239 from checkpoint: Checkpoint(filesystem=local, path=/home/michael/Synology/Desktop/Data/Python/Gait-Signatures/ray_results/pb2/train_convnet_6f9de_00024_24_alpha=0.0000,batch_size=32,dec_dropout=0.0301,latent_dim=8,lr=0.0022,rnn_hidden=256,timesteps_per_tri_2024-04-01_03-03-38/checkpoint_000001)\n",
      "\u001b[36m(train_convnet pid=128754)\u001b[0m /tmp/ray/session_2024-04-01_02-53-14_060472_46839/runtime_resources/working_dir_files/_ray_pkg_4a5ca631833e4fab/src/tde.py:132: RuntimeWarning: divide by zero encountered in divide\n",
      "\u001b[36m(train_convnet pid=128754)\u001b[0m   a.append(np.divide(np.linalg.norm(tsrecon[ind_m, :]-tsrecon[ind, :], ord=np.inf, axis=1),\u001b[32m [repeated 2x across cluster]\u001b[0m\n",
      "\u001b[36m(train_convnet pid=128754)\u001b[0m /tmp/ray/session_2024-04-01_02-53-14_060472_46839/runtime_resources/working_dir_files/_ray_pkg_4a5ca631833e4fab/src/tde.py:132: RuntimeWarning: invalid value encountered in divide\n",
      "\u001b[36m(train_convnet pid=128823)\u001b[0m /tmp/ray/session_2024-04-01_02-53-14_060472_46839/runtime_resources/working_dir_files/_ray_pkg_4a5ca631833e4fab/src/tde.py:132: RuntimeWarning: divide by zero encountered in divide\n",
      "\u001b[36m(train_convnet pid=128823)\u001b[0m /tmp/ray/session_2024-04-01_02-53-14_060472_46839/runtime_resources/working_dir_files/_ray_pkg_4a5ca631833e4fab/src/tde.py:132: RuntimeWarning: invalid value encountered in divide\n"
     ]
    },
    {
     "name": "stdout",
     "output_type": "stream",
     "text": [
      "\u001b[36m(train_convnet pid=128754)\u001b[0m Data has been embedded using a delay of 19 timesteps and an embedding dimension of 5\n"
     ]
    },
    {
     "name": "stderr",
     "output_type": "stream",
     "text": [
      "\u001b[36m(train_convnet pid=109811)\u001b[0m Checkpoint successfully created at: Checkpoint(filesystem=local, path=/home/michael/Synology/Desktop/Data/Python/Gait-Signatures/ray_results/pb2/train_convnet_6f9de_00013_13_alpha=0.0000,batch_size=32,dec_dropout=0.0850,latent_dim=32,lr=0.0046,rnn_hidden=64,timesteps_per_tri_2024-04-01_03-03-38/checkpoint_000001)\n",
      "\u001b[36m(train_convnet pid=128823)\u001b[0m   a.append(np.divide(np.linalg.norm(tsrecon[ind_m, :]-tsrecon[ind, :], ord=np.inf, axis=1),\u001b[32m [repeated 2x across cluster]\u001b[0m\n",
      "\u001b[36m(train_convnet pid=7345)\u001b[0m Restored on 170.140.242.239 from checkpoint: Checkpoint(filesystem=local, path=/home/michael/Synology/Desktop/Data/Python/Gait-Signatures/ray_results/pb2/train_convnet_6f9de_00005_5_alpha=0.0000,batch_size=32,dec_dropout=0.1197,latent_dim=16,lr=0.0083,rnn_hidden=256,timesteps_per_tri_2024-04-01_03-03-38/checkpoint_000003)\n",
      "\u001b[36m(train_convnet pid=7345)\u001b[0m /tmp/ray/session_2024-04-01_02-53-14_060472_46839/runtime_resources/working_dir_files/_ray_pkg_4a5ca631833e4fab/src/tde.py:132: RuntimeWarning: divide by zero encountered in divide\n",
      "\u001b[36m(train_convnet pid=7345)\u001b[0m   a.append(np.divide(np.linalg.norm(tsrecon[ind_m, :]-tsrecon[ind, :], ord=np.inf, axis=1),\n",
      "\u001b[36m(train_convnet pid=7345)\u001b[0m /tmp/ray/session_2024-04-01_02-53-14_060472_46839/runtime_resources/working_dir_files/_ray_pkg_4a5ca631833e4fab/src/tde.py:132: RuntimeWarning: invalid value encountered in divide\n",
      "\u001b[36m(train_convnet pid=7345)\u001b[0m   a.append(np.divide(np.linalg.norm(tsrecon[ind_m, :]-tsrecon[ind, :], ord=np.inf, axis=1),\n"
     ]
    },
    {
     "name": "stdout",
     "output_type": "stream",
     "text": [
      "\u001b[36m(train_convnet pid=7345)\u001b[0m Data has been embedded using a delay of 19 timesteps and an embedding dimension of 5\u001b[32m [repeated 2x across cluster]\u001b[0m\n"
     ]
    },
    {
     "name": "stderr",
     "output_type": "stream",
     "text": [
      "\u001b[36m(train_convnet pid=121120)\u001b[0m Checkpoint successfully created at: Checkpoint(filesystem=local, path=/home/michael/Synology/Desktop/Data/Python/Gait-Signatures/ray_results/pb2/train_convnet_6f9de_00018_18_alpha=0.0000,batch_size=32,dec_dropout=0.0493,latent_dim=32,lr=0.0100,rnn_hidden=256,timesteps_per_tr_2024-04-01_03-03-38/checkpoint_000003)\n",
      "\u001b[36m(train_convnet pid=18198)\u001b[0m Restored on 170.140.242.239 from checkpoint: Checkpoint(filesystem=local, path=/home/michael/Synology/Desktop/Data/Python/Gait-Signatures/ray_results/pb2/train_convnet_6f9de_00006_6_alpha=0.0000,batch_size=32,dec_dropout=0.1047,latent_dim=8,lr=0.0058,rnn_hidden=256,timesteps_per_tria_2024-04-01_03-03-38/checkpoint_000003)\n",
      "\u001b[36m(train_convnet pid=18198)\u001b[0m /tmp/ray/session_2024-04-01_02-53-14_060472_46839/runtime_resources/working_dir_files/_ray_pkg_4a5ca631833e4fab/src/tde.py:132: RuntimeWarning: divide by zero encountered in divide\n",
      "\u001b[36m(train_convnet pid=18198)\u001b[0m   a.append(np.divide(np.linalg.norm(tsrecon[ind_m, :]-tsrecon[ind, :], ord=np.inf, axis=1),\n",
      "\u001b[36m(train_convnet pid=18198)\u001b[0m /tmp/ray/session_2024-04-01_02-53-14_060472_46839/runtime_resources/working_dir_files/_ray_pkg_4a5ca631833e4fab/src/tde.py:132: RuntimeWarning: invalid value encountered in divide\n",
      "\u001b[36m(train_convnet pid=18198)\u001b[0m   a.append(np.divide(np.linalg.norm(tsrecon[ind_m, :]-tsrecon[ind, :], ord=np.inf, axis=1),\n"
     ]
    },
    {
     "name": "stdout",
     "output_type": "stream",
     "text": [
      "\u001b[36m(train_convnet pid=18198)\u001b[0m Data has been embedded using a delay of 19 timesteps and an embedding dimension of 5\n"
     ]
    },
    {
     "name": "stderr",
     "output_type": "stream",
     "text": [
      "\u001b[36m(train_convnet pid=121283)\u001b[0m Checkpoint successfully created at: Checkpoint(filesystem=local, path=/home/michael/Synology/Desktop/Data/Python/Gait-Signatures/ray_results/pb2/train_convnet_6f9de_00023_23_alpha=0.0001,batch_size=32,dec_dropout=0.1309,latent_dim=32,lr=0.0073,rnn_hidden=256,timesteps_per_tr_2024-04-01_03-03-38/checkpoint_000002)\n",
      "\u001b[36m(train_convnet pid=19063)\u001b[0m Restored on 170.140.242.239 from checkpoint: Checkpoint(filesystem=local, path=/home/michael/Synology/Desktop/Data/Python/Gait-Signatures/ray_results/pb2/train_convnet_6f9de_00001_1_alpha=0.0000,batch_size=32,dec_dropout=0.2072,latent_dim=8,lr=0.0031,rnn_hidden=256,timesteps_per_tria_2024-04-01_03-03-38/checkpoint_000003)\n",
      "\u001b[36m(train_convnet pid=122553)\u001b[0m Checkpoint successfully created at: Checkpoint(filesystem=local, path=/home/michael/Synology/Desktop/Data/Python/Gait-Signatures/ray_results/pb2/train_convnet_6f9de_00025_25_alpha=0.0000,batch_size=32,dec_dropout=0.0776,latent_dim=8,lr=0.0022,rnn_hidden=64,timesteps_per_tria_2024-04-01_03-03-38/checkpoint_000002)\n",
      "\u001b[36m(train_convnet pid=19333)\u001b[0m Restored on 170.140.242.239 from checkpoint: Checkpoint(filesystem=local, path=/home/michael/Synology/Desktop/Data/Python/Gait-Signatures/ray_results/pb2/train_convnet_6f9de_00008_8_alpha=0.0001,batch_size=32,dec_dropout=0.2858,latent_dim=16,lr=0.0042,rnn_hidden=64,timesteps_per_tria_2024-04-01_03-03-38/checkpoint_000003)\n",
      "\u001b[36m(train_convnet pid=19063)\u001b[0m /tmp/ray/session_2024-04-01_02-53-14_060472_46839/runtime_resources/working_dir_files/_ray_pkg_4a5ca631833e4fab/src/tde.py:132: RuntimeWarning: divide by zero encountered in divide\n",
      "\u001b[36m(train_convnet pid=19063)\u001b[0m   a.append(np.divide(np.linalg.norm(tsrecon[ind_m, :]-tsrecon[ind, :], ord=np.inf, axis=1),\n",
      "\u001b[36m(train_convnet pid=19063)\u001b[0m /tmp/ray/session_2024-04-01_02-53-14_060472_46839/runtime_resources/working_dir_files/_ray_pkg_4a5ca631833e4fab/src/tde.py:132: RuntimeWarning: invalid value encountered in divide\n",
      "\u001b[36m(train_convnet pid=19063)\u001b[0m   a.append(np.divide(np.linalg.norm(tsrecon[ind_m, :]-tsrecon[ind, :], ord=np.inf, axis=1),\n"
     ]
    },
    {
     "name": "stdout",
     "output_type": "stream",
     "text": [
      "\u001b[36m(train_convnet pid=19063)\u001b[0m Data has been embedded using a delay of 19 timesteps and an embedding dimension of 5\n"
     ]
    },
    {
     "name": "stderr",
     "output_type": "stream",
     "text": [
      "\u001b[36m(train_convnet pid=19333)\u001b[0m /tmp/ray/session_2024-04-01_02-53-14_060472_46839/runtime_resources/working_dir_files/_ray_pkg_4a5ca631833e4fab/src/tde.py:132: RuntimeWarning: divide by zero encountered in divide\n",
      "\u001b[36m(train_convnet pid=19333)\u001b[0m   a.append(np.divide(np.linalg.norm(tsrecon[ind_m, :]-tsrecon[ind, :], ord=np.inf, axis=1),\u001b[32m [repeated 2x across cluster]\u001b[0m\n",
      "\u001b[36m(train_convnet pid=19333)\u001b[0m /tmp/ray/session_2024-04-01_02-53-14_060472_46839/runtime_resources/working_dir_files/_ray_pkg_4a5ca631833e4fab/src/tde.py:132: RuntimeWarning: invalid value encountered in divide\n"
     ]
    },
    {
     "name": "stdout",
     "output_type": "stream",
     "text": [
      "\u001b[36m(train_convnet pid=19333)\u001b[0m Data has been embedded using a delay of 19 timesteps and an embedding dimension of 5\n"
     ]
    },
    {
     "name": "stderr",
     "output_type": "stream",
     "text": [
      "\u001b[36m(train_convnet pid=123326)\u001b[0m Checkpoint successfully created at: Checkpoint(filesystem=local, path=/home/michael/Synology/Desktop/Data/Python/Gait-Signatures/ray_results/pb2/train_convnet_6f9de_00028_28_alpha=0.0000,batch_size=32,dec_dropout=0.2394,latent_dim=8,lr=0.0005,rnn_hidden=128,timesteps_per_tri_2024-04-01_03-03-38/checkpoint_000003)\n",
      "\u001b[36m(train_convnet pid=20104)\u001b[0m Restored on 170.140.242.239 from checkpoint: Checkpoint(filesystem=local, path=/home/michael/Synology/Desktop/Data/Python/Gait-Signatures/ray_results/pb2/train_convnet_6f9de_00009_9_alpha=0.0001,batch_size=32,dec_dropout=0.2133,latent_dim=8,lr=0.0044,rnn_hidden=32,timesteps_per_trial_2024-04-01_03-03-38/checkpoint_000002)\n",
      "\u001b[36m(train_convnet pid=20104)\u001b[0m /tmp/ray/session_2024-04-01_02-53-14_060472_46839/runtime_resources/working_dir_files/_ray_pkg_4a5ca631833e4fab/src/tde.py:132: RuntimeWarning: divide by zero encountered in divide\n",
      "\u001b[36m(train_convnet pid=20104)\u001b[0m   a.append(np.divide(np.linalg.norm(tsrecon[ind_m, :]-tsrecon[ind, :], ord=np.inf, axis=1),\n",
      "\u001b[36m(train_convnet pid=20104)\u001b[0m /tmp/ray/session_2024-04-01_02-53-14_060472_46839/runtime_resources/working_dir_files/_ray_pkg_4a5ca631833e4fab/src/tde.py:132: RuntimeWarning: invalid value encountered in divide\n",
      "\u001b[36m(train_convnet pid=20104)\u001b[0m   a.append(np.divide(np.linalg.norm(tsrecon[ind_m, :]-tsrecon[ind, :], ord=np.inf, axis=1),\n"
     ]
    },
    {
     "name": "stdout",
     "output_type": "stream",
     "text": [
      "\u001b[36m(train_convnet pid=20104)\u001b[0m Data has been embedded using a delay of 19 timesteps and an embedding dimension of 5\n"
     ]
    },
    {
     "name": "stderr",
     "output_type": "stream",
     "text": [
      "\u001b[36m(train_convnet pid=124937)\u001b[0m Checkpoint successfully created at: Checkpoint(filesystem=local, path=/home/michael/Synology/Desktop/Data/Python/Gait-Signatures/ray_results/pb2/train_convnet_6f9de_00029_29_alpha=0.0000,batch_size=32,dec_dropout=0.2387,latent_dim=8,lr=0.0022,rnn_hidden=128,timesteps_per_tri_2024-04-01_03-03-38/checkpoint_000003)\n",
      "\u001b[36m(train_convnet pid=21855)\u001b[0m Restored on 170.140.242.239 from checkpoint: Checkpoint(filesystem=local, path=/home/michael/Synology/Desktop/Data/Python/Gait-Signatures/ray_results/pb2/train_convnet_6f9de_00011_11_alpha=0.0000,batch_size=32,dec_dropout=0.1529,latent_dim=32,lr=0.0061,rnn_hidden=64,timesteps_per_tri_2024-04-01_03-03-38/checkpoint_000003)\n",
      "\u001b[36m(train_convnet pid=127290)\u001b[0m Checkpoint successfully created at: Checkpoint(filesystem=local, path=/home/michael/Synology/Desktop/Data/Python/Gait-Signatures/ray_results/pb2/train_convnet_6f9de_00000_0_alpha=0.0000,batch_size=32,dec_dropout=0.2151,latent_dim=32,lr=0.0020,rnn_hidden=64,timesteps_per_tria_2024-04-01_03-03-38/checkpoint_000004)\n",
      "\u001b[36m(train_convnet pid=21855)\u001b[0m /tmp/ray/session_2024-04-01_02-53-14_060472_46839/runtime_resources/working_dir_files/_ray_pkg_4a5ca631833e4fab/src/tde.py:132: RuntimeWarning: divide by zero encountered in divide\n",
      "\u001b[36m(train_convnet pid=21855)\u001b[0m   a.append(np.divide(np.linalg.norm(tsrecon[ind_m, :]-tsrecon[ind, :], ord=np.inf, axis=1),\n",
      "\u001b[36m(train_convnet pid=21855)\u001b[0m /tmp/ray/session_2024-04-01_02-53-14_060472_46839/runtime_resources/working_dir_files/_ray_pkg_4a5ca631833e4fab/src/tde.py:132: RuntimeWarning: invalid value encountered in divide\n",
      "\u001b[36m(train_convnet pid=21855)\u001b[0m   a.append(np.divide(np.linalg.norm(tsrecon[ind_m, :]-tsrecon[ind, :], ord=np.inf, axis=1),\n",
      "\u001b[36m(train_convnet pid=22244)\u001b[0m Restored on 170.140.242.239 from checkpoint: Checkpoint(filesystem=local, path=/home/michael/Synology/Desktop/Data/Python/Gait-Signatures/ray_results/pb2/train_convnet_6f9de_00013_13_alpha=0.0000,batch_size=32,dec_dropout=0.0850,latent_dim=32,lr=0.0046,rnn_hidden=64,timesteps_per_tri_2024-04-01_03-03-38/checkpoint_000001)\n"
     ]
    },
    {
     "name": "stdout",
     "output_type": "stream",
     "text": [
      "\u001b[36m(train_convnet pid=21855)\u001b[0m Data has been embedded using a delay of 19 timesteps and an embedding dimension of 5\n"
     ]
    },
    {
     "name": "stderr",
     "output_type": "stream",
     "text": [
      "\u001b[36m(train_convnet pid=22244)\u001b[0m /tmp/ray/session_2024-04-01_02-53-14_060472_46839/runtime_resources/working_dir_files/_ray_pkg_4a5ca631833e4fab/src/tde.py:132: RuntimeWarning: divide by zero encountered in divide\n",
      "\u001b[36m(train_convnet pid=22244)\u001b[0m   a.append(np.divide(np.linalg.norm(tsrecon[ind_m, :]-tsrecon[ind, :], ord=np.inf, axis=1),\u001b[32m [repeated 2x across cluster]\u001b[0m\n",
      "\u001b[36m(train_convnet pid=22244)\u001b[0m /tmp/ray/session_2024-04-01_02-53-14_060472_46839/runtime_resources/working_dir_files/_ray_pkg_4a5ca631833e4fab/src/tde.py:132: RuntimeWarning: invalid value encountered in divide\n"
     ]
    },
    {
     "name": "stdout",
     "output_type": "stream",
     "text": [
      "\u001b[36m(train_convnet pid=22244)\u001b[0m Data has been embedded using a delay of 19 timesteps and an embedding dimension of 5\n"
     ]
    },
    {
     "name": "stderr",
     "output_type": "stream",
     "text": [
      "\u001b[36m(train_convnet pid=128149)\u001b[0m Checkpoint successfully created at: Checkpoint(filesystem=local, path=/home/michael/Synology/Desktop/Data/Python/Gait-Signatures/ray_results/pb2/train_convnet_6f9de_00001_1_alpha=0.0000,batch_size=32,dec_dropout=0.2072,latent_dim=8,lr=0.0031,rnn_hidden=256,timesteps_per_tria_2024-04-01_03-03-38/checkpoint_000004)\n",
      "\u001b[36m(train_convnet pid=24979)\u001b[0m Restored on 170.140.242.239 from checkpoint: Checkpoint(filesystem=local, path=/home/michael/Synology/Desktop/Data/Python/Gait-Signatures/ray_results/pb2/train_convnet_6f9de_00018_18_alpha=0.0000,batch_size=32,dec_dropout=0.0493,latent_dim=32,lr=0.0100,rnn_hidden=256,timesteps_per_tr_2024-04-01_03-03-38/checkpoint_000003)\n",
      "\u001b[36m(train_convnet pid=128754)\u001b[0m Checkpoint successfully created at: Checkpoint(filesystem=local, path=/home/michael/Synology/Desktop/Data/Python/Gait-Signatures/ray_results/pb2/train_convnet_6f9de_00004_4_alpha=0.0001,batch_size=32,dec_dropout=0.1387,latent_dim=8,lr=0.0057,rnn_hidden=32,timesteps_per_trial_2024-04-01_03-03-38/checkpoint_000003)\n",
      "\u001b[36m(train_convnet pid=25357)\u001b[0m Restored on 170.140.242.239 from checkpoint: Checkpoint(filesystem=local, path=/home/michael/Synology/Desktop/Data/Python/Gait-Signatures/ray_results/pb2/train_convnet_6f9de_00014_14_alpha=0.0001,batch_size=32,dec_dropout=0.1006,latent_dim=8,lr=0.0001,rnn_hidden=64,timesteps_per_tria_2024-04-01_03-03-38/checkpoint_000002)\n",
      "\u001b[36m(train_convnet pid=24979)\u001b[0m /tmp/ray/session_2024-04-01_02-53-14_060472_46839/runtime_resources/working_dir_files/_ray_pkg_4a5ca631833e4fab/src/tde.py:132: RuntimeWarning: divide by zero encountered in divide\n",
      "\u001b[36m(train_convnet pid=24979)\u001b[0m   a.append(np.divide(np.linalg.norm(tsrecon[ind_m, :]-tsrecon[ind, :], ord=np.inf, axis=1),\n",
      "\u001b[36m(train_convnet pid=24979)\u001b[0m /tmp/ray/session_2024-04-01_02-53-14_060472_46839/runtime_resources/working_dir_files/_ray_pkg_4a5ca631833e4fab/src/tde.py:132: RuntimeWarning: invalid value encountered in divide\n",
      "\u001b[36m(train_convnet pid=24979)\u001b[0m   a.append(np.divide(np.linalg.norm(tsrecon[ind_m, :]-tsrecon[ind, :], ord=np.inf, axis=1),\n"
     ]
    },
    {
     "name": "stdout",
     "output_type": "stream",
     "text": [
      "\u001b[36m(train_convnet pid=24979)\u001b[0m Data has been embedded using a delay of 19 timesteps and an embedding dimension of 5\n"
     ]
    },
    {
     "name": "stderr",
     "output_type": "stream",
     "text": [
      "\u001b[36m(train_convnet pid=25357)\u001b[0m /tmp/ray/session_2024-04-01_02-53-14_060472_46839/runtime_resources/working_dir_files/_ray_pkg_4a5ca631833e4fab/src/tde.py:132: RuntimeWarning: divide by zero encountered in divide\n",
      "\u001b[36m(train_convnet pid=25357)\u001b[0m   a.append(np.divide(np.linalg.norm(tsrecon[ind_m, :]-tsrecon[ind, :], ord=np.inf, axis=1),\u001b[32m [repeated 2x across cluster]\u001b[0m\n",
      "\u001b[36m(train_convnet pid=25357)\u001b[0m /tmp/ray/session_2024-04-01_02-53-14_060472_46839/runtime_resources/working_dir_files/_ray_pkg_4a5ca631833e4fab/src/tde.py:132: RuntimeWarning: invalid value encountered in divide\n"
     ]
    },
    {
     "name": "stdout",
     "output_type": "stream",
     "text": [
      "\u001b[36m(train_convnet pid=25357)\u001b[0m Data has been embedded using a delay of 19 timesteps and an embedding dimension of 5\n"
     ]
    },
    {
     "name": "stderr",
     "output_type": "stream",
     "text": [
      "\u001b[36m(train_convnet pid=128381)\u001b[0m Checkpoint successfully created at: Checkpoint(filesystem=local, path=/home/michael/Synology/Desktop/Data/Python/Gait-Signatures/ray_results/pb2/train_convnet_6f9de_00003_3_alpha=0.0001,batch_size=32,dec_dropout=0.2684,latent_dim=32,lr=0.0026,rnn_hidden=256,timesteps_per_tri_2024-04-01_03-03-38/checkpoint_000003)\n",
      "\u001b[36m(train_convnet pid=26814)\u001b[0m Restored on 170.140.242.239 from checkpoint: Checkpoint(filesystem=local, path=/home/michael/Synology/Desktop/Data/Python/Gait-Signatures/ray_results/pb2/train_convnet_6f9de_00016_16_alpha=0.0000,batch_size=32,dec_dropout=0.1390,latent_dim=32,lr=0.0011,rnn_hidden=128,timesteps_per_tr_2024-04-01_03-03-38/checkpoint_000003)\n",
      "\u001b[36m(train_convnet pid=26814)\u001b[0m /tmp/ray/session_2024-04-01_02-53-14_060472_46839/runtime_resources/working_dir_files/_ray_pkg_4a5ca631833e4fab/src/tde.py:132: RuntimeWarning: divide by zero encountered in divide\n",
      "\u001b[36m(train_convnet pid=26814)\u001b[0m   a.append(np.divide(np.linalg.norm(tsrecon[ind_m, :]-tsrecon[ind, :], ord=np.inf, axis=1),\n",
      "\u001b[36m(train_convnet pid=26814)\u001b[0m /tmp/ray/session_2024-04-01_02-53-14_060472_46839/runtime_resources/working_dir_files/_ray_pkg_4a5ca631833e4fab/src/tde.py:132: RuntimeWarning: invalid value encountered in divide\n",
      "\u001b[36m(train_convnet pid=26814)\u001b[0m   a.append(np.divide(np.linalg.norm(tsrecon[ind_m, :]-tsrecon[ind, :], ord=np.inf, axis=1),\n"
     ]
    },
    {
     "name": "stdout",
     "output_type": "stream",
     "text": [
      "\u001b[36m(train_convnet pid=26814)\u001b[0m Data has been embedded using a delay of 19 timesteps and an embedding dimension of 5\n"
     ]
    },
    {
     "name": "stderr",
     "output_type": "stream",
     "text": [
      "\u001b[36m(train_convnet pid=7345)\u001b[0m Checkpoint successfully created at: Checkpoint(filesystem=local, path=/home/michael/Synology/Desktop/Data/Python/Gait-Signatures/ray_results/pb2/train_convnet_6f9de_00005_5_alpha=0.0000,batch_size=32,dec_dropout=0.1197,latent_dim=16,lr=0.0083,rnn_hidden=256,timesteps_per_tri_2024-04-01_03-03-38/checkpoint_000004)\n",
      "\u001b[36m(train_convnet pid=35817)\u001b[0m Restored on 170.140.242.239 from checkpoint: Checkpoint(filesystem=local, path=/home/michael/Synology/Desktop/Data/Python/Gait-Signatures/ray_results/pb2/train_convnet_6f9de_00017_17_alpha=0.0001,batch_size=32,dec_dropout=0.0791,latent_dim=16,lr=0.0068,rnn_hidden=256,timesteps_per_tr_2024-04-01_03-03-38/checkpoint_000002)\n",
      "\u001b[36m(train_convnet pid=125793)\u001b[0m Checkpoint successfully created at: Checkpoint(filesystem=local, path=/home/michael/Synology/Desktop/Data/Python/Gait-Signatures/ray_results/pb2/train_convnet_6f9de_00010_10_alpha=0.0000,batch_size=32,dec_dropout=0.2241,latent_dim=8,lr=0.0015,rnn_hidden=128,timesteps_per_tri_2024-04-01_03-03-38/checkpoint_000003)\n",
      "\u001b[36m(train_convnet pid=35817)\u001b[0m /tmp/ray/session_2024-04-01_02-53-14_060472_46839/runtime_resources/working_dir_files/_ray_pkg_4a5ca631833e4fab/src/tde.py:132: RuntimeWarning: divide by zero encountered in divide\n",
      "\u001b[36m(train_convnet pid=35817)\u001b[0m   a.append(np.divide(np.linalg.norm(tsrecon[ind_m, :]-tsrecon[ind, :], ord=np.inf, axis=1),\n",
      "\u001b[36m(train_convnet pid=35817)\u001b[0m /tmp/ray/session_2024-04-01_02-53-14_060472_46839/runtime_resources/working_dir_files/_ray_pkg_4a5ca631833e4fab/src/tde.py:132: RuntimeWarning: invalid value encountered in divide\n",
      "\u001b[36m(train_convnet pid=35817)\u001b[0m   a.append(np.divide(np.linalg.norm(tsrecon[ind_m, :]-tsrecon[ind, :], ord=np.inf, axis=1),\n",
      "\u001b[36m(train_convnet pid=36283)\u001b[0m Restored on 170.140.242.239 from checkpoint: Checkpoint(filesystem=local, path=/home/michael/Synology/Desktop/Data/Python/Gait-Signatures/ray_results/pb2/train_convnet_6f9de_00018_18_alpha=0.0000,batch_size=32,dec_dropout=0.0493,latent_dim=32,lr=0.0100,rnn_hidden=256,timesteps_per_tr_2024-04-01_03-03-38/checkpoint_000003)\n"
     ]
    },
    {
     "name": "stdout",
     "output_type": "stream",
     "text": [
      "\u001b[36m(train_convnet pid=35817)\u001b[0m Data has been embedded using a delay of 19 timesteps and an embedding dimension of 5\n"
     ]
    },
    {
     "name": "stderr",
     "output_type": "stream",
     "text": [
      "\u001b[36m(train_convnet pid=36283)\u001b[0m /tmp/ray/session_2024-04-01_02-53-14_060472_46839/runtime_resources/working_dir_files/_ray_pkg_4a5ca631833e4fab/src/tde.py:132: RuntimeWarning: divide by zero encountered in divide\n",
      "\u001b[36m(train_convnet pid=36283)\u001b[0m   a.append(np.divide(np.linalg.norm(tsrecon[ind_m, :]-tsrecon[ind, :], ord=np.inf, axis=1),\u001b[32m [repeated 2x across cluster]\u001b[0m\n",
      "\u001b[36m(train_convnet pid=36283)\u001b[0m /tmp/ray/session_2024-04-01_02-53-14_060472_46839/runtime_resources/working_dir_files/_ray_pkg_4a5ca631833e4fab/src/tde.py:132: RuntimeWarning: invalid value encountered in divide\n"
     ]
    },
    {
     "name": "stdout",
     "output_type": "stream",
     "text": [
      "\u001b[36m(train_convnet pid=36283)\u001b[0m Data has been embedded using a delay of 19 timesteps and an embedding dimension of 5\n"
     ]
    },
    {
     "name": "stderr",
     "output_type": "stream",
     "text": [
      "\u001b[36m(train_convnet pid=18198)\u001b[0m Checkpoint successfully created at: Checkpoint(filesystem=local, path=/home/michael/Synology/Desktop/Data/Python/Gait-Signatures/ray_results/pb2/train_convnet_6f9de_00006_6_alpha=0.0000,batch_size=32,dec_dropout=0.1047,latent_dim=8,lr=0.0058,rnn_hidden=256,timesteps_per_tria_2024-04-01_03-03-38/checkpoint_000004)\n",
      "\u001b[36m(train_convnet pid=45381)\u001b[0m Restored on 170.140.242.239 from checkpoint: Checkpoint(filesystem=local, path=/home/michael/Synology/Desktop/Data/Python/Gait-Signatures/ray_results/pb2/train_convnet_6f9de_00016_16_alpha=0.0000,batch_size=32,dec_dropout=0.1390,latent_dim=32,lr=0.0011,rnn_hidden=128,timesteps_per_tr_2024-04-01_03-03-38/checkpoint_000003)\n",
      "\u001b[36m(train_convnet pid=20104)\u001b[0m Checkpoint successfully created at: Checkpoint(filesystem=local, path=/home/michael/Synology/Desktop/Data/Python/Gait-Signatures/ray_results/pb2/train_convnet_6f9de_00009_9_alpha=0.0001,batch_size=32,dec_dropout=0.2133,latent_dim=8,lr=0.0044,rnn_hidden=32,timesteps_per_trial_2024-04-01_03-03-38/checkpoint_000003)\n",
      "\u001b[36m(train_convnet pid=45381)\u001b[0m /tmp/ray/session_2024-04-01_02-53-14_060472_46839/runtime_resources/working_dir_files/_ray_pkg_4a5ca631833e4fab/src/tde.py:132: RuntimeWarning: divide by zero encountered in divide\n",
      "\u001b[36m(train_convnet pid=45381)\u001b[0m   a.append(np.divide(np.linalg.norm(tsrecon[ind_m, :]-tsrecon[ind, :], ord=np.inf, axis=1),\n",
      "\u001b[36m(train_convnet pid=45381)\u001b[0m /tmp/ray/session_2024-04-01_02-53-14_060472_46839/runtime_resources/working_dir_files/_ray_pkg_4a5ca631833e4fab/src/tde.py:132: RuntimeWarning: invalid value encountered in divide\n",
      "\u001b[36m(train_convnet pid=45381)\u001b[0m   a.append(np.divide(np.linalg.norm(tsrecon[ind_m, :]-tsrecon[ind, :], ord=np.inf, axis=1),\n"
     ]
    },
    {
     "name": "stdout",
     "output_type": "stream",
     "text": [
      "\u001b[36m(train_convnet pid=45381)\u001b[0m Data has been embedded using a delay of 19 timesteps and an embedding dimension of 5\n"
     ]
    },
    {
     "name": "stderr",
     "output_type": "stream",
     "text": [
      "\u001b[36m(train_convnet pid=45884)\u001b[0m Restored on 170.140.242.239 from checkpoint: Checkpoint(filesystem=local, path=/home/michael/Synology/Desktop/Data/Python/Gait-Signatures/ray_results/pb2/train_convnet_6f9de_00023_23_alpha=0.0001,batch_size=32,dec_dropout=0.1309,latent_dim=32,lr=0.0073,rnn_hidden=256,timesteps_per_tr_2024-04-01_03-03-38/checkpoint_000002)\n",
      "\u001b[36m(train_convnet pid=19063)\u001b[0m Checkpoint successfully created at: Checkpoint(filesystem=local, path=/home/michael/Synology/Desktop/Data/Python/Gait-Signatures/ray_results/pb2/train_convnet_6f9de_00007_7_alpha=0.0000,batch_size=32,dec_dropout=0.1227,latent_dim=32,lr=0.0066,rnn_hidden=64,timesteps_per_tria_2024-04-01_03-03-38/checkpoint_000003)\n",
      "\u001b[36m(train_convnet pid=98564)\u001b[0m Checkpoint successfully created at: Checkpoint(filesystem=local, path=/home/michael/Synology/Desktop/Data/Python/Gait-Signatures/ray_results/pb2/train_convnet_6f9de_00027_27_alpha=0.0000,batch_size=32,dec_dropout=0.2811,latent_dim=8,lr=0.0003,rnn_hidden=64,timesteps_per_tria_2024-04-01_03-03-38/checkpoint_000002)\n",
      "\u001b[36m(train_convnet pid=46154)\u001b[0m Restored on 170.140.242.239 from checkpoint: Checkpoint(filesystem=local, path=/home/michael/Synology/Desktop/Data/Python/Gait-Signatures/ray_results/pb2/train_convnet_6f9de_00027_27_alpha=0.0000,batch_size=32,dec_dropout=0.2811,latent_dim=8,lr=0.0003,rnn_hidden=64,timesteps_per_tria_2024-04-01_03-03-38/checkpoint_000002)\u001b[32m [repeated 2x across cluster]\u001b[0m\n",
      "\u001b[36m(train_convnet pid=45884)\u001b[0m /tmp/ray/session_2024-04-01_02-53-14_060472_46839/runtime_resources/working_dir_files/_ray_pkg_4a5ca631833e4fab/src/tde.py:132: RuntimeWarning: divide by zero encountered in divide\n",
      "\u001b[36m(train_convnet pid=45884)\u001b[0m   a.append(np.divide(np.linalg.norm(tsrecon[ind_m, :]-tsrecon[ind, :], ord=np.inf, axis=1),\n",
      "\u001b[36m(train_convnet pid=45884)\u001b[0m /tmp/ray/session_2024-04-01_02-53-14_060472_46839/runtime_resources/working_dir_files/_ray_pkg_4a5ca631833e4fab/src/tde.py:132: RuntimeWarning: invalid value encountered in divide\n",
      "\u001b[36m(train_convnet pid=45884)\u001b[0m   a.append(np.divide(np.linalg.norm(tsrecon[ind_m, :]-tsrecon[ind, :], ord=np.inf, axis=1),\n",
      "\u001b[36m(train_convnet pid=19333)\u001b[0m Checkpoint successfully created at: Checkpoint(filesystem=local, path=/home/michael/Synology/Desktop/Data/Python/Gait-Signatures/ray_results/pb2/train_convnet_6f9de_00008_8_alpha=0.0001,batch_size=32,dec_dropout=0.2858,latent_dim=16,lr=0.0042,rnn_hidden=64,timesteps_per_tria_2024-04-01_03-03-38/checkpoint_000004)\n"
     ]
    },
    {
     "name": "stdout",
     "output_type": "stream",
     "text": [
      "\u001b[36m(train_convnet pid=45884)\u001b[0m Data has been embedded using a delay of 19 timesteps and an embedding dimension of 5\n"
     ]
    },
    {
     "name": "stderr",
     "output_type": "stream",
     "text": [
      "\u001b[36m(train_convnet pid=46154)\u001b[0m /tmp/ray/session_2024-04-01_02-53-14_060472_46839/runtime_resources/working_dir_files/_ray_pkg_4a5ca631833e4fab/src/tde.py:132: RuntimeWarning: divide by zero encountered in divide\u001b[32m [repeated 2x across cluster]\u001b[0m\n",
      "\u001b[36m(train_convnet pid=46154)\u001b[0m   a.append(np.divide(np.linalg.norm(tsrecon[ind_m, :]-tsrecon[ind, :], ord=np.inf, axis=1),\u001b[32m [repeated 4x across cluster]\u001b[0m\n",
      "\u001b[36m(train_convnet pid=46154)\u001b[0m /tmp/ray/session_2024-04-01_02-53-14_060472_46839/runtime_resources/working_dir_files/_ray_pkg_4a5ca631833e4fab/src/tde.py:132: RuntimeWarning: invalid value encountered in divide\u001b[32m [repeated 2x across cluster]\u001b[0m\n",
      "\u001b[36m(train_convnet pid=46607)\u001b[0m Restored on 170.140.242.239 from checkpoint: Checkpoint(filesystem=local, path=/home/michael/Synology/Desktop/Data/Python/Gait-Signatures/ray_results/pb2/train_convnet_6f9de_00028_28_alpha=0.0000,batch_size=32,dec_dropout=0.2394,latent_dim=8,lr=0.0005,rnn_hidden=128,timesteps_per_tri_2024-04-01_03-03-38/checkpoint_000003)\n"
     ]
    },
    {
     "name": "stdout",
     "output_type": "stream",
     "text": [
      "\u001b[36m(train_convnet pid=46042)\u001b[0m Data has been embedded using a delay of 19 timesteps and an embedding dimension of 5\n"
     ]
    },
    {
     "name": "stderr",
     "output_type": "stream",
     "text": [
      "\u001b[36m(train_convnet pid=46607)\u001b[0m /tmp/ray/session_2024-04-01_02-53-14_060472_46839/runtime_resources/working_dir_files/_ray_pkg_4a5ca631833e4fab/src/tde.py:132: RuntimeWarning: divide by zero encountered in divide\n",
      "\u001b[36m(train_convnet pid=46607)\u001b[0m   a.append(np.divide(np.linalg.norm(tsrecon[ind_m, :]-tsrecon[ind, :], ord=np.inf, axis=1),\u001b[32m [repeated 2x across cluster]\u001b[0m\n",
      "\u001b[36m(train_convnet pid=46607)\u001b[0m /tmp/ray/session_2024-04-01_02-53-14_060472_46839/runtime_resources/working_dir_files/_ray_pkg_4a5ca631833e4fab/src/tde.py:132: RuntimeWarning: invalid value encountered in divide\n"
     ]
    },
    {
     "name": "stdout",
     "output_type": "stream",
     "text": [
      "\u001b[36m(train_convnet pid=46607)\u001b[0m Data has been embedded using a delay of 19 timesteps and an embedding dimension of 5\u001b[32m [repeated 2x across cluster]\u001b[0m\n"
     ]
    },
    {
     "name": "stderr",
     "output_type": "stream",
     "text": [
      "\u001b[36m(train_convnet pid=103956)\u001b[0m Checkpoint successfully created at: Checkpoint(filesystem=local, path=/home/michael/Synology/Desktop/Data/Python/Gait-Signatures/ray_results/pb2/train_convnet_6f9de_00022_22_alpha=0.0001,batch_size=32,dec_dropout=0.0276,latent_dim=32,lr=0.0072,rnn_hidden=64,timesteps_per_tri_2024-04-01_03-03-38/checkpoint_000001)\n",
      "\u001b[36m(train_convnet pid=48867)\u001b[0m Restored on 170.140.242.239 from checkpoint: Checkpoint(filesystem=local, path=/home/michael/Synology/Desktop/Data/Python/Gait-Signatures/ray_results/pb2/train_convnet_6f9de_00029_29_alpha=0.0000,batch_size=32,dec_dropout=0.2387,latent_dim=8,lr=0.0022,rnn_hidden=128,timesteps_per_tri_2024-04-01_03-03-38/checkpoint_000003)\n",
      "\u001b[36m(train_convnet pid=48867)\u001b[0m /tmp/ray/session_2024-04-01_02-53-14_060472_46839/runtime_resources/working_dir_files/_ray_pkg_4a5ca631833e4fab/src/tde.py:132: RuntimeWarning: divide by zero encountered in divide\n",
      "\u001b[36m(train_convnet pid=48867)\u001b[0m   a.append(np.divide(np.linalg.norm(tsrecon[ind_m, :]-tsrecon[ind, :], ord=np.inf, axis=1),\n",
      "\u001b[36m(train_convnet pid=48867)\u001b[0m /tmp/ray/session_2024-04-01_02-53-14_060472_46839/runtime_resources/working_dir_files/_ray_pkg_4a5ca631833e4fab/src/tde.py:132: RuntimeWarning: invalid value encountered in divide\n",
      "\u001b[36m(train_convnet pid=48867)\u001b[0m   a.append(np.divide(np.linalg.norm(tsrecon[ind_m, :]-tsrecon[ind, :], ord=np.inf, axis=1),\n"
     ]
    },
    {
     "name": "stdout",
     "output_type": "stream",
     "text": [
      "\u001b[36m(train_convnet pid=48867)\u001b[0m Data has been embedded using a delay of 19 timesteps and an embedding dimension of 5\n"
     ]
    },
    {
     "name": "stderr",
     "output_type": "stream",
     "text": [
      "\u001b[36m(train_convnet pid=21855)\u001b[0m Checkpoint successfully created at: Checkpoint(filesystem=local, path=/home/michael/Synology/Desktop/Data/Python/Gait-Signatures/ray_results/pb2/train_convnet_6f9de_00011_11_alpha=0.0000,batch_size=32,dec_dropout=0.1529,latent_dim=32,lr=0.0061,rnn_hidden=64,timesteps_per_tri_2024-04-01_03-03-38/checkpoint_000004)\n",
      "\u001b[36m(train_convnet pid=54161)\u001b[0m Restored on 170.140.242.239 from checkpoint: Checkpoint(filesystem=local, path=/home/michael/Synology/Desktop/Data/Python/Gait-Signatures/ray_results/pb2/train_convnet_6f9de_00011_11_alpha=0.0000,batch_size=32,dec_dropout=0.1529,latent_dim=32,lr=0.0061,rnn_hidden=64,timesteps_per_tri_2024-04-01_03-03-38/checkpoint_000003)\n",
      "\u001b[36m(train_convnet pid=54161)\u001b[0m /tmp/ray/session_2024-04-01_02-53-14_060472_46839/runtime_resources/working_dir_files/_ray_pkg_4a5ca631833e4fab/src/tde.py:132: RuntimeWarning: divide by zero encountered in divide\n",
      "\u001b[36m(train_convnet pid=54161)\u001b[0m   a.append(np.divide(np.linalg.norm(tsrecon[ind_m, :]-tsrecon[ind, :], ord=np.inf, axis=1),\n",
      "\u001b[36m(train_convnet pid=54161)\u001b[0m /tmp/ray/session_2024-04-01_02-53-14_060472_46839/runtime_resources/working_dir_files/_ray_pkg_4a5ca631833e4fab/src/tde.py:132: RuntimeWarning: invalid value encountered in divide\n",
      "\u001b[36m(train_convnet pid=54161)\u001b[0m   a.append(np.divide(np.linalg.norm(tsrecon[ind_m, :]-tsrecon[ind, :], ord=np.inf, axis=1),\n"
     ]
    },
    {
     "name": "stdout",
     "output_type": "stream",
     "text": [
      "\u001b[36m(train_convnet pid=54161)\u001b[0m Data has been embedded using a delay of 19 timesteps and an embedding dimension of 5\n"
     ]
    },
    {
     "name": "stderr",
     "output_type": "stream",
     "text": [
      "\u001b[36m(train_convnet pid=22244)\u001b[0m Checkpoint successfully created at: Checkpoint(filesystem=local, path=/home/michael/Synology/Desktop/Data/Python/Gait-Signatures/ray_results/pb2/train_convnet_6f9de_00013_13_alpha=0.0000,batch_size=32,dec_dropout=0.0850,latent_dim=32,lr=0.0046,rnn_hidden=64,timesteps_per_tri_2024-04-01_03-03-38/checkpoint_000002)\n",
      "\u001b[36m(train_convnet pid=55438)\u001b[0m Restored on 170.140.242.239 from checkpoint: Checkpoint(filesystem=local, path=/home/michael/Synology/Desktop/Data/Python/Gait-Signatures/ray_results/pb2/train_convnet_6f9de_00001_1_alpha=0.0000,batch_size=32,dec_dropout=0.2072,latent_dim=8,lr=0.0031,rnn_hidden=256,timesteps_per_tria_2024-04-01_03-03-38/checkpoint_000004)\n",
      "\u001b[36m(train_convnet pid=55438)\u001b[0m /tmp/ray/session_2024-04-01_02-53-14_060472_46839/runtime_resources/working_dir_files/_ray_pkg_4a5ca631833e4fab/src/tde.py:132: RuntimeWarning: divide by zero encountered in divide\n",
      "\u001b[36m(train_convnet pid=55438)\u001b[0m   a.append(np.divide(np.linalg.norm(tsrecon[ind_m, :]-tsrecon[ind, :], ord=np.inf, axis=1),\n",
      "\u001b[36m(train_convnet pid=55438)\u001b[0m /tmp/ray/session_2024-04-01_02-53-14_060472_46839/runtime_resources/working_dir_files/_ray_pkg_4a5ca631833e4fab/src/tde.py:132: RuntimeWarning: invalid value encountered in divide\n",
      "\u001b[36m(train_convnet pid=55438)\u001b[0m   a.append(np.divide(np.linalg.norm(tsrecon[ind_m, :]-tsrecon[ind, :], ord=np.inf, axis=1),\n",
      "\u001b[36m(train_convnet pid=25357)\u001b[0m Checkpoint successfully created at: Checkpoint(filesystem=local, path=/home/michael/Synology/Desktop/Data/Python/Gait-Signatures/ray_results/pb2/train_convnet_6f9de_00014_14_alpha=0.0001,batch_size=32,dec_dropout=0.1006,latent_dim=8,lr=0.0001,rnn_hidden=64,timesteps_per_tria_2024-04-01_03-03-38/checkpoint_000003)\n"
     ]
    },
    {
     "name": "stdout",
     "output_type": "stream",
     "text": [
      "\u001b[36m(train_convnet pid=55438)\u001b[0m Data has been embedded using a delay of 19 timesteps and an embedding dimension of 5\n"
     ]
    },
    {
     "name": "stderr",
     "output_type": "stream",
     "text": [
      "\u001b[36m(train_convnet pid=56155)\u001b[0m Restored on 170.140.242.239 from checkpoint: Checkpoint(filesystem=local, path=/home/michael/Synology/Desktop/Data/Python/Gait-Signatures/ray_results/pb2/train_convnet_6f9de_00003_3_alpha=0.0001,batch_size=32,dec_dropout=0.2684,latent_dim=32,lr=0.0026,rnn_hidden=256,timesteps_per_tri_2024-04-01_03-03-38/checkpoint_000003)\n",
      "\u001b[36m(train_convnet pid=111110)\u001b[0m Checkpoint successfully created at: Checkpoint(filesystem=local, path=/home/michael/Synology/Desktop/Data/Python/Gait-Signatures/ray_results/pb2/train_convnet_6f9de_00019_19_alpha=0.0001,batch_size=32,dec_dropout=0.2964,latent_dim=8,lr=0.0076,rnn_hidden=64,timesteps_per_tria_2024-04-01_03-03-38/checkpoint_000002)\n",
      "\u001b[36m(train_convnet pid=56155)\u001b[0m /tmp/ray/session_2024-04-01_02-53-14_060472_46839/runtime_resources/working_dir_files/_ray_pkg_4a5ca631833e4fab/src/tde.py:132: RuntimeWarning: divide by zero encountered in divide\n",
      "\u001b[36m(train_convnet pid=56155)\u001b[0m   a.append(np.divide(np.linalg.norm(tsrecon[ind_m, :]-tsrecon[ind, :], ord=np.inf, axis=1),\n",
      "\u001b[36m(train_convnet pid=56155)\u001b[0m /tmp/ray/session_2024-04-01_02-53-14_060472_46839/runtime_resources/working_dir_files/_ray_pkg_4a5ca631833e4fab/src/tde.py:132: RuntimeWarning: invalid value encountered in divide\n",
      "\u001b[36m(train_convnet pid=56155)\u001b[0m   a.append(np.divide(np.linalg.norm(tsrecon[ind_m, :]-tsrecon[ind, :], ord=np.inf, axis=1),\n",
      "\u001b[36m(train_convnet pid=56441)\u001b[0m Restored on 170.140.242.239 from checkpoint: Checkpoint(filesystem=local, path=/home/michael/Synology/Desktop/Data/Python/Gait-Signatures/ray_results/pb2/train_convnet_6f9de_00004_4_alpha=0.0001,batch_size=32,dec_dropout=0.1387,latent_dim=8,lr=0.0057,rnn_hidden=32,timesteps_per_trial_2024-04-01_03-03-38/checkpoint_000003)\n"
     ]
    },
    {
     "name": "stdout",
     "output_type": "stream",
     "text": [
      "\u001b[36m(train_convnet pid=56155)\u001b[0m Data has been embedded using a delay of 19 timesteps and an embedding dimension of 5\n"
     ]
    },
    {
     "name": "stderr",
     "output_type": "stream",
     "text": [
      "\u001b[36m(train_convnet pid=56441)\u001b[0m /tmp/ray/session_2024-04-01_02-53-14_060472_46839/runtime_resources/working_dir_files/_ray_pkg_4a5ca631833e4fab/src/tde.py:132: RuntimeWarning: divide by zero encountered in divide\n",
      "\u001b[36m(train_convnet pid=56441)\u001b[0m   a.append(np.divide(np.linalg.norm(tsrecon[ind_m, :]-tsrecon[ind, :], ord=np.inf, axis=1),\u001b[32m [repeated 2x across cluster]\u001b[0m\n",
      "\u001b[36m(train_convnet pid=56441)\u001b[0m /tmp/ray/session_2024-04-01_02-53-14_060472_46839/runtime_resources/working_dir_files/_ray_pkg_4a5ca631833e4fab/src/tde.py:132: RuntimeWarning: invalid value encountered in divide\n"
     ]
    },
    {
     "name": "stdout",
     "output_type": "stream",
     "text": [
      "\u001b[36m(train_convnet pid=56441)\u001b[0m Data has been embedded using a delay of 19 timesteps and an embedding dimension of 5\n"
     ]
    },
    {
     "name": "stderr",
     "output_type": "stream",
     "text": [
      "\u001b[36m(train_convnet pid=26814)\u001b[0m Checkpoint successfully created at: Checkpoint(filesystem=local, path=/home/michael/Synology/Desktop/Data/Python/Gait-Signatures/ray_results/pb2/train_convnet_6f9de_00016_16_alpha=0.0000,batch_size=32,dec_dropout=0.1390,latent_dim=32,lr=0.0011,rnn_hidden=128,timesteps_per_tr_2024-04-01_03-03-38/checkpoint_000004)\n",
      "\u001b[36m(train_convnet pid=57216)\u001b[0m Restored on 170.140.242.239 from checkpoint: Checkpoint(filesystem=local, path=/home/michael/Synology/Desktop/Data/Python/Gait-Signatures/ray_results/pb2/train_convnet_6f9de_00019_19_alpha=0.0001,batch_size=32,dec_dropout=0.2964,latent_dim=8,lr=0.0076,rnn_hidden=64,timesteps_per_tria_2024-04-01_03-03-38/checkpoint_000002)\n",
      "\u001b[36m(train_convnet pid=57216)\u001b[0m /tmp/ray/session_2024-04-01_02-53-14_060472_46839/runtime_resources/working_dir_files/_ray_pkg_4a5ca631833e4fab/src/tde.py:132: RuntimeWarning: divide by zero encountered in divide\n",
      "\u001b[36m(train_convnet pid=57216)\u001b[0m   a.append(np.divide(np.linalg.norm(tsrecon[ind_m, :]-tsrecon[ind, :], ord=np.inf, axis=1),\n",
      "\u001b[36m(train_convnet pid=57216)\u001b[0m /tmp/ray/session_2024-04-01_02-53-14_060472_46839/runtime_resources/working_dir_files/_ray_pkg_4a5ca631833e4fab/src/tde.py:132: RuntimeWarning: invalid value encountered in divide\n",
      "\u001b[36m(train_convnet pid=57216)\u001b[0m   a.append(np.divide(np.linalg.norm(tsrecon[ind_m, :]-tsrecon[ind, :], ord=np.inf, axis=1),\n"
     ]
    },
    {
     "name": "stdout",
     "output_type": "stream",
     "text": [
      "\u001b[36m(train_convnet pid=57216)\u001b[0m Data has been embedded using a delay of 19 timesteps and an embedding dimension of 5\n"
     ]
    },
    {
     "name": "stderr",
     "output_type": "stream",
     "text": [
      "\u001b[36m(train_convnet pid=105547)\u001b[0m Checkpoint successfully created at: Checkpoint(filesystem=local, path=/home/michael/Synology/Desktop/Data/Python/Gait-Signatures/ray_results/pb2/train_convnet_6f9de_00002_2_alpha=0.0001,batch_size=32,dec_dropout=0.1597,latent_dim=8,lr=0.0039,rnn_hidden=32,timesteps_per_trial_2024-04-01_03-03-38/checkpoint_000002)\n",
      "\u001b[36m(train_convnet pid=60588)\u001b[0m Restored on 170.140.242.239 from checkpoint: Checkpoint(filesystem=local, path=/home/michael/Synology/Desktop/Data/Python/Gait-Signatures/ray_results/pb2/train_convnet_6f9de_00005_5_alpha=0.0000,batch_size=32,dec_dropout=0.1197,latent_dim=16,lr=0.0083,rnn_hidden=256,timesteps_per_tri_2024-04-01_03-03-38/checkpoint_000004)\n",
      "\u001b[36m(train_convnet pid=60588)\u001b[0m /tmp/ray/session_2024-04-01_02-53-14_060472_46839/runtime_resources/working_dir_files/_ray_pkg_4a5ca631833e4fab/src/tde.py:132: RuntimeWarning: divide by zero encountered in divide\n",
      "\u001b[36m(train_convnet pid=60588)\u001b[0m   a.append(np.divide(np.linalg.norm(tsrecon[ind_m, :]-tsrecon[ind, :], ord=np.inf, axis=1),\n",
      "\u001b[36m(train_convnet pid=60588)\u001b[0m /tmp/ray/session_2024-04-01_02-53-14_060472_46839/runtime_resources/working_dir_files/_ray_pkg_4a5ca631833e4fab/src/tde.py:132: RuntimeWarning: invalid value encountered in divide\n",
      "\u001b[36m(train_convnet pid=60588)\u001b[0m   a.append(np.divide(np.linalg.norm(tsrecon[ind_m, :]-tsrecon[ind, :], ord=np.inf, axis=1),\n"
     ]
    },
    {
     "name": "stdout",
     "output_type": "stream",
     "text": [
      "\u001b[36m(train_convnet pid=60588)\u001b[0m Data has been embedded using a delay of 19 timesteps and an embedding dimension of 5\n"
     ]
    },
    {
     "name": "stderr",
     "output_type": "stream",
     "text": [
      "\u001b[36m(train_convnet pid=113656)\u001b[0m Checkpoint successfully created at: Checkpoint(filesystem=local, path=/home/michael/Synology/Desktop/Data/Python/Gait-Signatures/ray_results/pb2/train_convnet_6f9de_00020_20_alpha=0.0001,batch_size=32,dec_dropout=0.0150,latent_dim=8,lr=0.0038,rnn_hidden=32,timesteps_per_tria_2024-04-01_03-03-38/checkpoint_000002)\n",
      "\u001b[36m(train_convnet pid=64508)\u001b[0m Restored on 170.140.242.239 from checkpoint: Checkpoint(filesystem=local, path=/home/michael/Synology/Desktop/Data/Python/Gait-Signatures/ray_results/pb2/train_convnet_6f9de_00002_2_alpha=0.0001,batch_size=32,dec_dropout=0.1597,latent_dim=8,lr=0.0039,rnn_hidden=32,timesteps_per_trial_2024-04-01_03-03-38/checkpoint_000002)\n",
      "\u001b[36m(train_convnet pid=64508)\u001b[0m /tmp/ray/session_2024-04-01_02-53-14_060472_46839/runtime_resources/working_dir_files/_ray_pkg_4a5ca631833e4fab/src/tde.py:132: RuntimeWarning: divide by zero encountered in divide\n",
      "\u001b[36m(train_convnet pid=64508)\u001b[0m   a.append(np.divide(np.linalg.norm(tsrecon[ind_m, :]-tsrecon[ind, :], ord=np.inf, axis=1),\n",
      "\u001b[36m(train_convnet pid=64508)\u001b[0m /tmp/ray/session_2024-04-01_02-53-14_060472_46839/runtime_resources/working_dir_files/_ray_pkg_4a5ca631833e4fab/src/tde.py:132: RuntimeWarning: invalid value encountered in divide\n",
      "\u001b[36m(train_convnet pid=64508)\u001b[0m   a.append(np.divide(np.linalg.norm(tsrecon[ind_m, :]-tsrecon[ind, :], ord=np.inf, axis=1),\n"
     ]
    },
    {
     "name": "stdout",
     "output_type": "stream",
     "text": [
      "\u001b[36m(train_convnet pid=64508)\u001b[0m Data has been embedded using a delay of 19 timesteps and an embedding dimension of 5\n"
     ]
    },
    {
     "name": "stderr",
     "output_type": "stream",
     "text": [
      "\u001b[36m(train_convnet pid=36283)\u001b[0m Checkpoint successfully created at: Checkpoint(filesystem=local, path=/home/michael/Synology/Desktop/Data/Python/Gait-Signatures/ray_results/pb2/train_convnet_6f9de_00018_18_alpha=0.0000,batch_size=32,dec_dropout=0.0493,latent_dim=32,lr=0.0100,rnn_hidden=256,timesteps_per_tr_2024-04-01_03-03-38/checkpoint_000004)\n",
      "\u001b[36m(train_convnet pid=66107)\u001b[0m Restored on 170.140.242.239 from checkpoint: Checkpoint(filesystem=local, path=/home/michael/Synology/Desktop/Data/Python/Gait-Signatures/ray_results/pb2/train_convnet_6f9de_00020_20_alpha=0.0001,batch_size=32,dec_dropout=0.0150,latent_dim=8,lr=0.0038,rnn_hidden=32,timesteps_per_tria_2024-04-01_03-03-38/checkpoint_000002)\n",
      "\u001b[36m(train_convnet pid=66107)\u001b[0m /tmp/ray/session_2024-04-01_02-53-14_060472_46839/runtime_resources/working_dir_files/_ray_pkg_4a5ca631833e4fab/src/tde.py:132: RuntimeWarning: divide by zero encountered in divide\n",
      "\u001b[36m(train_convnet pid=66107)\u001b[0m   a.append(np.divide(np.linalg.norm(tsrecon[ind_m, :]-tsrecon[ind, :], ord=np.inf, axis=1),\n",
      "\u001b[36m(train_convnet pid=66107)\u001b[0m /tmp/ray/session_2024-04-01_02-53-14_060472_46839/runtime_resources/working_dir_files/_ray_pkg_4a5ca631833e4fab/src/tde.py:132: RuntimeWarning: invalid value encountered in divide\n",
      "\u001b[36m(train_convnet pid=66107)\u001b[0m   a.append(np.divide(np.linalg.norm(tsrecon[ind_m, :]-tsrecon[ind, :], ord=np.inf, axis=1),\n"
     ]
    },
    {
     "name": "stdout",
     "output_type": "stream",
     "text": [
      "\u001b[36m(train_convnet pid=66107)\u001b[0m Data has been embedded using a delay of 19 timesteps and an embedding dimension of 5\n"
     ]
    },
    {
     "name": "stderr",
     "output_type": "stream",
     "text": [
      "\u001b[36m(train_convnet pid=35817)\u001b[0m Checkpoint successfully created at: Checkpoint(filesystem=local, path=/home/michael/Synology/Desktop/Data/Python/Gait-Signatures/ray_results/pb2/train_convnet_6f9de_00017_17_alpha=0.0001,batch_size=32,dec_dropout=0.0791,latent_dim=16,lr=0.0068,rnn_hidden=256,timesteps_per_tr_2024-04-01_03-03-38/checkpoint_000003)\n",
      "\u001b[36m(train_convnet pid=67407)\u001b[0m Restored on 170.140.242.239 from checkpoint: Checkpoint(filesystem=local, path=/home/michael/Synology/Desktop/Data/Python/Gait-Signatures/ray_results/pb2/train_convnet_6f9de_00006_6_alpha=0.0000,batch_size=32,dec_dropout=0.1047,latent_dim=8,lr=0.0058,rnn_hidden=256,timesteps_per_tria_2024-04-01_03-03-38/checkpoint_000004)\n",
      "\u001b[36m(train_convnet pid=67407)\u001b[0m /tmp/ray/session_2024-04-01_02-53-14_060472_46839/runtime_resources/working_dir_files/_ray_pkg_4a5ca631833e4fab/src/tde.py:132: RuntimeWarning: divide by zero encountered in divide\n",
      "\u001b[36m(train_convnet pid=67407)\u001b[0m   a.append(np.divide(np.linalg.norm(tsrecon[ind_m, :]-tsrecon[ind, :], ord=np.inf, axis=1),\n",
      "\u001b[36m(train_convnet pid=67407)\u001b[0m /tmp/ray/session_2024-04-01_02-53-14_060472_46839/runtime_resources/working_dir_files/_ray_pkg_4a5ca631833e4fab/src/tde.py:132: RuntimeWarning: invalid value encountered in divide\n",
      "\u001b[36m(train_convnet pid=67407)\u001b[0m   a.append(np.divide(np.linalg.norm(tsrecon[ind_m, :]-tsrecon[ind, :], ord=np.inf, axis=1),\n"
     ]
    },
    {
     "name": "stdout",
     "output_type": "stream",
     "text": [
      "\u001b[36m(train_convnet pid=67407)\u001b[0m Data has been embedded using a delay of 19 timesteps and an embedding dimension of 5\n"
     ]
    },
    {
     "name": "stderr",
     "output_type": "stream",
     "text": [
      "\u001b[36m(train_convnet pid=120959)\u001b[0m Checkpoint successfully created at: Checkpoint(filesystem=local, path=/home/michael/Synology/Desktop/Data/Python/Gait-Signatures/ray_results/pb2/train_convnet_6f9de_00021_21_alpha=0.0001,batch_size=32,dec_dropout=0.2106,latent_dim=16,lr=0.0042,rnn_hidden=128,timesteps_per_tr_2024-04-01_03-03-38/checkpoint_000002)\n",
      "\u001b[36m(train_convnet pid=70803)\u001b[0m Restored on 170.140.242.239 from checkpoint: Checkpoint(filesystem=local, path=/home/michael/Synology/Desktop/Data/Python/Gait-Signatures/ray_results/pb2/train_convnet_6f9de_00004_4_alpha=0.0001,batch_size=32,dec_dropout=0.1387,latent_dim=8,lr=0.0057,rnn_hidden=32,timesteps_per_trial_2024-04-01_03-03-38/checkpoint_000003)\n",
      "\u001b[36m(train_convnet pid=70803)\u001b[0m /tmp/ray/session_2024-04-01_02-53-14_060472_46839/runtime_resources/working_dir_files/_ray_pkg_4a5ca631833e4fab/src/tde.py:132: RuntimeWarning: divide by zero encountered in divide\n",
      "\u001b[36m(train_convnet pid=70803)\u001b[0m   a.append(np.divide(np.linalg.norm(tsrecon[ind_m, :]-tsrecon[ind, :], ord=np.inf, axis=1),\n",
      "\u001b[36m(train_convnet pid=70803)\u001b[0m /tmp/ray/session_2024-04-01_02-53-14_060472_46839/runtime_resources/working_dir_files/_ray_pkg_4a5ca631833e4fab/src/tde.py:132: RuntimeWarning: invalid value encountered in divide\n",
      "\u001b[36m(train_convnet pid=70803)\u001b[0m   a.append(np.divide(np.linalg.norm(tsrecon[ind_m, :]-tsrecon[ind, :], ord=np.inf, axis=1),\n"
     ]
    },
    {
     "name": "stdout",
     "output_type": "stream",
     "text": [
      "\u001b[36m(train_convnet pid=70803)\u001b[0m Data has been embedded using a delay of 19 timesteps and an embedding dimension of 5\n"
     ]
    },
    {
     "name": "stderr",
     "output_type": "stream",
     "text": [
      "\u001b[36m(train_convnet pid=118318)\u001b[0m Checkpoint successfully created at: Checkpoint(filesystem=local, path=/home/michael/Synology/Desktop/Data/Python/Gait-Signatures/ray_results/pb2/train_convnet_6f9de_00015_15_alpha=0.0000,batch_size=32,dec_dropout=0.1839,latent_dim=8,lr=0.0059,rnn_hidden=128,timesteps_per_tri_2024-04-01_03-03-38/checkpoint_000002)\n",
      "\u001b[36m(train_convnet pid=72074)\u001b[0m Restored on 170.140.242.239 from checkpoint: Checkpoint(filesystem=local, path=/home/michael/Synology/Desktop/Data/Python/Gait-Signatures/ray_results/pb2/train_convnet_6f9de_00021_21_alpha=0.0001,batch_size=32,dec_dropout=0.2106,latent_dim=16,lr=0.0042,rnn_hidden=128,timesteps_per_tr_2024-04-01_03-03-38/checkpoint_000002)\n",
      "\u001b[36m(train_convnet pid=72074)\u001b[0m /tmp/ray/session_2024-04-01_02-53-14_060472_46839/runtime_resources/working_dir_files/_ray_pkg_4a5ca631833e4fab/src/tde.py:132: RuntimeWarning: divide by zero encountered in divide\n",
      "\u001b[36m(train_convnet pid=72074)\u001b[0m   a.append(np.divide(np.linalg.norm(tsrecon[ind_m, :]-tsrecon[ind, :], ord=np.inf, axis=1),\n",
      "\u001b[36m(train_convnet pid=72074)\u001b[0m /tmp/ray/session_2024-04-01_02-53-14_060472_46839/runtime_resources/working_dir_files/_ray_pkg_4a5ca631833e4fab/src/tde.py:132: RuntimeWarning: invalid value encountered in divide\n",
      "\u001b[36m(train_convnet pid=72074)\u001b[0m   a.append(np.divide(np.linalg.norm(tsrecon[ind_m, :]-tsrecon[ind, :], ord=np.inf, axis=1),\n"
     ]
    },
    {
     "name": "stdout",
     "output_type": "stream",
     "text": [
      "\u001b[36m(train_convnet pid=72074)\u001b[0m Data has been embedded using a delay of 19 timesteps and an embedding dimension of 5\n"
     ]
    },
    {
     "name": "stderr",
     "output_type": "stream",
     "text": [
      "\u001b[36m(train_convnet pid=45381)\u001b[0m Checkpoint successfully created at: Checkpoint(filesystem=local, path=/home/michael/Synology/Desktop/Data/Python/Gait-Signatures/ray_results/pb2/train_convnet_6f9de_00010_10_alpha=0.0000,batch_size=32,dec_dropout=0.2241,latent_dim=8,lr=0.0015,rnn_hidden=128,timesteps_per_tri_2024-04-01_03-03-38/checkpoint_000003)\n",
      "\u001b[36m(train_convnet pid=74328)\u001b[0m Restored on 170.140.242.239 from checkpoint: Checkpoint(filesystem=local, path=/home/michael/Synology/Desktop/Data/Python/Gait-Signatures/ray_results/pb2/train_convnet_6f9de_00015_15_alpha=0.0000,batch_size=32,dec_dropout=0.1839,latent_dim=8,lr=0.0059,rnn_hidden=128,timesteps_per_tri_2024-04-01_03-03-38/checkpoint_000002)\n",
      "\u001b[36m(train_convnet pid=74328)\u001b[0m /tmp/ray/session_2024-04-01_02-53-14_060472_46839/runtime_resources/working_dir_files/_ray_pkg_4a5ca631833e4fab/src/tde.py:132: RuntimeWarning: divide by zero encountered in divide\n",
      "\u001b[36m(train_convnet pid=74328)\u001b[0m   a.append(np.divide(np.linalg.norm(tsrecon[ind_m, :]-tsrecon[ind, :], ord=np.inf, axis=1),\n",
      "\u001b[36m(train_convnet pid=74328)\u001b[0m /tmp/ray/session_2024-04-01_02-53-14_060472_46839/runtime_resources/working_dir_files/_ray_pkg_4a5ca631833e4fab/src/tde.py:132: RuntimeWarning: invalid value encountered in divide\n",
      "\u001b[36m(train_convnet pid=74328)\u001b[0m   a.append(np.divide(np.linalg.norm(tsrecon[ind_m, :]-tsrecon[ind, :], ord=np.inf, axis=1),\n"
     ]
    },
    {
     "name": "stdout",
     "output_type": "stream",
     "text": [
      "\u001b[36m(train_convnet pid=74328)\u001b[0m Data has been embedded using a delay of 19 timesteps and an embedding dimension of 5\n"
     ]
    },
    {
     "name": "stderr",
     "output_type": "stream",
     "text": [
      "\u001b[36m(train_convnet pid=45884)\u001b[0m Checkpoint successfully created at: Checkpoint(filesystem=local, path=/home/michael/Synology/Desktop/Data/Python/Gait-Signatures/ray_results/pb2/train_convnet_6f9de_00023_23_alpha=0.0001,batch_size=32,dec_dropout=0.1309,latent_dim=32,lr=0.0073,rnn_hidden=256,timesteps_per_tr_2024-04-01_03-03-38/checkpoint_000003)\n",
      "\u001b[36m(train_convnet pid=75177)\u001b[0m Restored on 170.140.242.239 from checkpoint: Checkpoint(filesystem=local, path=/home/michael/Synology/Desktop/Data/Python/Gait-Signatures/ray_results/pb2/train_convnet_6f9de_00015_15_alpha=0.0000,batch_size=32,dec_dropout=0.1839,latent_dim=8,lr=0.0059,rnn_hidden=128,timesteps_per_tri_2024-04-01_03-03-38/checkpoint_000002)\n",
      "\u001b[36m(train_convnet pid=75177)\u001b[0m /tmp/ray/session_2024-04-01_02-53-14_060472_46839/runtime_resources/working_dir_files/_ray_pkg_4a5ca631833e4fab/src/tde.py:132: RuntimeWarning: divide by zero encountered in divide\n",
      "\u001b[36m(train_convnet pid=75177)\u001b[0m   a.append(np.divide(np.linalg.norm(tsrecon[ind_m, :]-tsrecon[ind, :], ord=np.inf, axis=1),\n",
      "\u001b[36m(train_convnet pid=75177)\u001b[0m /tmp/ray/session_2024-04-01_02-53-14_060472_46839/runtime_resources/working_dir_files/_ray_pkg_4a5ca631833e4fab/src/tde.py:132: RuntimeWarning: invalid value encountered in divide\n",
      "\u001b[36m(train_convnet pid=75177)\u001b[0m   a.append(np.divide(np.linalg.norm(tsrecon[ind_m, :]-tsrecon[ind, :], ord=np.inf, axis=1),\n"
     ]
    },
    {
     "name": "stdout",
     "output_type": "stream",
     "text": [
      "\u001b[36m(train_convnet pid=75177)\u001b[0m Data has been embedded using a delay of 19 timesteps and an embedding dimension of 5\n"
     ]
    },
    {
     "name": "stderr",
     "output_type": "stream",
     "text": [
      "\u001b[36m(train_convnet pid=46607)\u001b[0m Checkpoint successfully created at: Checkpoint(filesystem=local, path=/home/michael/Synology/Desktop/Data/Python/Gait-Signatures/ray_results/pb2/train_convnet_6f9de_00028_28_alpha=0.0000,batch_size=32,dec_dropout=0.2394,latent_dim=8,lr=0.0005,rnn_hidden=128,timesteps_per_tri_2024-04-01_03-03-38/checkpoint_000004)\n",
      "\u001b[36m(train_convnet pid=76754)\u001b[0m Restored on 170.140.242.239 from checkpoint: Checkpoint(filesystem=local, path=/home/michael/Synology/Desktop/Data/Python/Gait-Signatures/ray_results/pb2/train_convnet_6f9de_00008_8_alpha=0.0001,batch_size=32,dec_dropout=0.2858,latent_dim=16,lr=0.0042,rnn_hidden=64,timesteps_per_tria_2024-04-01_03-03-38/checkpoint_000004)\n",
      "\u001b[36m(train_convnet pid=76754)\u001b[0m /tmp/ray/session_2024-04-01_02-53-14_060472_46839/runtime_resources/working_dir_files/_ray_pkg_4a5ca631833e4fab/src/tde.py:132: RuntimeWarning: divide by zero encountered in divide\n",
      "\u001b[36m(train_convnet pid=76754)\u001b[0m   a.append(np.divide(np.linalg.norm(tsrecon[ind_m, :]-tsrecon[ind, :], ord=np.inf, axis=1),\n",
      "\u001b[36m(train_convnet pid=76754)\u001b[0m /tmp/ray/session_2024-04-01_02-53-14_060472_46839/runtime_resources/working_dir_files/_ray_pkg_4a5ca631833e4fab/src/tde.py:132: RuntimeWarning: invalid value encountered in divide\n",
      "\u001b[36m(train_convnet pid=76754)\u001b[0m   a.append(np.divide(np.linalg.norm(tsrecon[ind_m, :]-tsrecon[ind, :], ord=np.inf, axis=1),\n",
      "\u001b[36m(train_convnet pid=128823)\u001b[0m Checkpoint successfully created at: Checkpoint(filesystem=local, path=/home/michael/Synology/Desktop/Data/Python/Gait-Signatures/ray_results/pb2/train_convnet_6f9de_00024_24_alpha=0.0000,batch_size=32,dec_dropout=0.0301,latent_dim=8,lr=0.0022,rnn_hidden=256,timesteps_per_tri_2024-04-01_03-03-38/checkpoint_000002)\n"
     ]
    },
    {
     "name": "stdout",
     "output_type": "stream",
     "text": [
      "\u001b[36m(train_convnet pid=76754)\u001b[0m Data has been embedded using a delay of 19 timesteps and an embedding dimension of 5\n"
     ]
    },
    {
     "name": "stderr",
     "output_type": "stream",
     "text": [
      "\u001b[36m(train_convnet pid=77268)\u001b[0m Restored on 170.140.242.239 from checkpoint: Checkpoint(filesystem=local, path=/home/michael/Synology/Desktop/Data/Python/Gait-Signatures/ray_results/pb2/train_convnet_6f9de_00009_9_alpha=0.0001,batch_size=32,dec_dropout=0.2133,latent_dim=8,lr=0.0044,rnn_hidden=32,timesteps_per_trial_2024-04-01_03-03-38/checkpoint_000003)\n",
      "\u001b[36m(train_convnet pid=48867)\u001b[0m Checkpoint successfully created at: Checkpoint(filesystem=local, path=/home/michael/Synology/Desktop/Data/Python/Gait-Signatures/ray_results/pb2/train_convnet_6f9de_00029_29_alpha=0.0000,batch_size=32,dec_dropout=0.2387,latent_dim=8,lr=0.0022,rnn_hidden=128,timesteps_per_tri_2024-04-01_03-03-38/checkpoint_000004)\n",
      "\u001b[36m(train_convnet pid=77482)\u001b[0m Restored on 170.140.242.239 from checkpoint: Checkpoint(filesystem=local, path=/home/michael/Synology/Desktop/Data/Python/Gait-Signatures/ray_results/pb2/train_convnet_6f9de_00024_24_alpha=0.0000,batch_size=32,dec_dropout=0.0301,latent_dim=8,lr=0.0022,rnn_hidden=256,timesteps_per_tri_2024-04-01_03-03-38/checkpoint_000002)\n",
      "\u001b[36m(train_convnet pid=77268)\u001b[0m /tmp/ray/session_2024-04-01_02-53-14_060472_46839/runtime_resources/working_dir_files/_ray_pkg_4a5ca631833e4fab/src/tde.py:132: RuntimeWarning: divide by zero encountered in divide\n",
      "\u001b[36m(train_convnet pid=77268)\u001b[0m   a.append(np.divide(np.linalg.norm(tsrecon[ind_m, :]-tsrecon[ind, :], ord=np.inf, axis=1),\n",
      "\u001b[36m(train_convnet pid=77268)\u001b[0m /tmp/ray/session_2024-04-01_02-53-14_060472_46839/runtime_resources/working_dir_files/_ray_pkg_4a5ca631833e4fab/src/tde.py:132: RuntimeWarning: invalid value encountered in divide\n",
      "\u001b[36m(train_convnet pid=77268)\u001b[0m   a.append(np.divide(np.linalg.norm(tsrecon[ind_m, :]-tsrecon[ind, :], ord=np.inf, axis=1),\n"
     ]
    },
    {
     "name": "stdout",
     "output_type": "stream",
     "text": [
      "\u001b[36m(train_convnet pid=77268)\u001b[0m Data has been embedded using a delay of 19 timesteps and an embedding dimension of 5\n"
     ]
    },
    {
     "name": "stderr",
     "output_type": "stream",
     "text": [
      "\u001b[36m(train_convnet pid=77482)\u001b[0m /tmp/ray/session_2024-04-01_02-53-14_060472_46839/runtime_resources/working_dir_files/_ray_pkg_4a5ca631833e4fab/src/tde.py:132: RuntimeWarning: divide by zero encountered in divide\n",
      "\u001b[36m(train_convnet pid=77482)\u001b[0m   a.append(np.divide(np.linalg.norm(tsrecon[ind_m, :]-tsrecon[ind, :], ord=np.inf, axis=1),\u001b[32m [repeated 2x across cluster]\u001b[0m\n",
      "\u001b[36m(train_convnet pid=77482)\u001b[0m /tmp/ray/session_2024-04-01_02-53-14_060472_46839/runtime_resources/working_dir_files/_ray_pkg_4a5ca631833e4fab/src/tde.py:132: RuntimeWarning: invalid value encountered in divide\n"
     ]
    },
    {
     "name": "stdout",
     "output_type": "stream",
     "text": [
      "\u001b[36m(train_convnet pid=77482)\u001b[0m Data has been embedded using a delay of 19 timesteps and an embedding dimension of 5\n"
     ]
    },
    {
     "name": "stderr",
     "output_type": "stream",
     "text": [
      "\u001b[36m(train_convnet pid=46042)\u001b[0m Checkpoint successfully created at: Checkpoint(filesystem=local, path=/home/michael/Synology/Desktop/Data/Python/Gait-Signatures/ray_results/pb2/train_convnet_6f9de_00025_25_alpha=0.0000,batch_size=32,dec_dropout=0.0776,latent_dim=8,lr=0.0022,rnn_hidden=64,timesteps_per_tria_2024-04-01_03-03-38/checkpoint_000003)\n",
      "\u001b[36m(train_convnet pid=78709)\u001b[0m Restored on 170.140.242.239 from checkpoint: Checkpoint(filesystem=local, path=/home/michael/Synology/Desktop/Data/Python/Gait-Signatures/ray_results/pb2/train_convnet_6f9de_00011_11_alpha=0.0000,batch_size=32,dec_dropout=0.1529,latent_dim=32,lr=0.0061,rnn_hidden=64,timesteps_per_tri_2024-04-01_03-03-38/checkpoint_000004)\n",
      "\u001b[36m(train_convnet pid=78709)\u001b[0m /tmp/ray/session_2024-04-01_02-53-14_060472_46839/runtime_resources/working_dir_files/_ray_pkg_4a5ca631833e4fab/src/tde.py:132: RuntimeWarning: divide by zero encountered in divide\n",
      "\u001b[36m(train_convnet pid=78709)\u001b[0m   a.append(np.divide(np.linalg.norm(tsrecon[ind_m, :]-tsrecon[ind, :], ord=np.inf, axis=1),\n",
      "\u001b[36m(train_convnet pid=78709)\u001b[0m /tmp/ray/session_2024-04-01_02-53-14_060472_46839/runtime_resources/working_dir_files/_ray_pkg_4a5ca631833e4fab/src/tde.py:132: RuntimeWarning: invalid value encountered in divide\n",
      "\u001b[36m(train_convnet pid=78709)\u001b[0m   a.append(np.divide(np.linalg.norm(tsrecon[ind_m, :]-tsrecon[ind, :], ord=np.inf, axis=1),\n"
     ]
    },
    {
     "name": "stdout",
     "output_type": "stream",
     "text": [
      "\u001b[36m(train_convnet pid=78709)\u001b[0m Data has been embedded using a delay of 19 timesteps and an embedding dimension of 5\n"
     ]
    },
    {
     "name": "stderr",
     "output_type": "stream",
     "text": [
      "\u001b[36m(train_convnet pid=55438)\u001b[0m Checkpoint successfully created at: Checkpoint(filesystem=local, path=/home/michael/Synology/Desktop/Data/Python/Gait-Signatures/ray_results/pb2/train_convnet_6f9de_00001_1_alpha=0.0000,batch_size=32,dec_dropout=0.2072,latent_dim=8,lr=0.0031,rnn_hidden=256,timesteps_per_tria_2024-04-01_03-03-38/checkpoint_000005)\n",
      "\u001b[36m(train_convnet pid=82453)\u001b[0m Restored on 170.140.242.239 from checkpoint: Checkpoint(filesystem=local, path=/home/michael/Synology/Desktop/Data/Python/Gait-Signatures/ray_results/pb2/train_convnet_6f9de_00013_13_alpha=0.0000,batch_size=32,dec_dropout=0.0850,latent_dim=32,lr=0.0046,rnn_hidden=64,timesteps_per_tri_2024-04-01_03-03-38/checkpoint_000002)\n",
      "\u001b[36m(train_convnet pid=54161)\u001b[0m Checkpoint successfully created at: Checkpoint(filesystem=local, path=/home/michael/Synology/Desktop/Data/Python/Gait-Signatures/ray_results/pb2/train_convnet_6f9de_00022_22_alpha=0.0001,batch_size=32,dec_dropout=0.0276,latent_dim=32,lr=0.0072,rnn_hidden=64,timesteps_per_tri_2024-04-01_03-03-38/checkpoint_000001)\n",
      "\u001b[36m(train_convnet pid=82453)\u001b[0m /tmp/ray/session_2024-04-01_02-53-14_060472_46839/runtime_resources/working_dir_files/_ray_pkg_4a5ca631833e4fab/src/tde.py:132: RuntimeWarning: divide by zero encountered in divide\n",
      "\u001b[36m(train_convnet pid=82453)\u001b[0m   a.append(np.divide(np.linalg.norm(tsrecon[ind_m, :]-tsrecon[ind, :], ord=np.inf, axis=1),\n",
      "\u001b[36m(train_convnet pid=82453)\u001b[0m /tmp/ray/session_2024-04-01_02-53-14_060472_46839/runtime_resources/working_dir_files/_ray_pkg_4a5ca631833e4fab/src/tde.py:132: RuntimeWarning: invalid value encountered in divide\n",
      "\u001b[36m(train_convnet pid=82453)\u001b[0m   a.append(np.divide(np.linalg.norm(tsrecon[ind_m, :]-tsrecon[ind, :], ord=np.inf, axis=1),\n",
      "\u001b[36m(train_convnet pid=56441)\u001b[0m Checkpoint successfully created at: Checkpoint(filesystem=local, path=/home/michael/Synology/Desktop/Data/Python/Gait-Signatures/ray_results/pb2/train_convnet_6f9de_00004_4_alpha=0.0001,batch_size=32,dec_dropout=0.1387,latent_dim=8,lr=0.0057,rnn_hidden=32,timesteps_per_trial_2024-04-01_03-03-38/checkpoint_000004)\n",
      "\u001b[36m(train_convnet pid=82917)\u001b[0m Restored on 170.140.242.239 from checkpoint: Checkpoint(filesystem=local, path=/home/michael/Synology/Desktop/Data/Python/Gait-Signatures/ray_results/pb2/train_convnet_6f9de_00014_14_alpha=0.0001,batch_size=32,dec_dropout=0.1006,latent_dim=8,lr=0.0001,rnn_hidden=64,timesteps_per_tria_2024-04-01_03-03-38/checkpoint_000003)\n"
     ]
    },
    {
     "name": "stdout",
     "output_type": "stream",
     "text": [
      "\u001b[36m(train_convnet pid=82453)\u001b[0m Data has been embedded using a delay of 19 timesteps and an embedding dimension of 5\n"
     ]
    },
    {
     "name": "stderr",
     "output_type": "stream",
     "text": [
      "\u001b[36m(train_convnet pid=82917)\u001b[0m /tmp/ray/session_2024-04-01_02-53-14_060472_46839/runtime_resources/working_dir_files/_ray_pkg_4a5ca631833e4fab/src/tde.py:132: RuntimeWarning: divide by zero encountered in divide\n",
      "\u001b[36m(train_convnet pid=82917)\u001b[0m   a.append(np.divide(np.linalg.norm(tsrecon[ind_m, :]-tsrecon[ind, :], ord=np.inf, axis=1),\n",
      "\u001b[36m(train_convnet pid=82917)\u001b[0m /tmp/ray/session_2024-04-01_02-53-14_060472_46839/runtime_resources/working_dir_files/_ray_pkg_4a5ca631833e4fab/src/tde.py:132: RuntimeWarning: invalid value encountered in divide\n",
      "\u001b[36m(train_convnet pid=82917)\u001b[0m   a.append(np.divide(np.linalg.norm(tsrecon[ind_m, :]-tsrecon[ind, :], ord=np.inf, axis=1),\n",
      "\u001b[36m(train_convnet pid=83077)\u001b[0m Restored on 170.140.242.239 from checkpoint: Checkpoint(filesystem=local, path=/home/michael/Synology/Desktop/Data/Python/Gait-Signatures/ray_results/pb2/train_convnet_6f9de_00016_16_alpha=0.0000,batch_size=32,dec_dropout=0.1390,latent_dim=32,lr=0.0011,rnn_hidden=128,timesteps_per_tr_2024-04-01_03-03-38/checkpoint_000004)\n",
      "\u001b[36m(train_convnet pid=83077)\u001b[0m /tmp/ray/session_2024-04-01_02-53-14_060472_46839/runtime_resources/working_dir_files/_ray_pkg_4a5ca631833e4fab/src/tde.py:132: RuntimeWarning: divide by zero encountered in divide\n",
      "\u001b[36m(train_convnet pid=83077)\u001b[0m   a.append(np.divide(np.linalg.norm(tsrecon[ind_m, :]-tsrecon[ind, :], ord=np.inf, axis=1),\u001b[32m [repeated 2x across cluster]\u001b[0m\n",
      "\u001b[36m(train_convnet pid=83077)\u001b[0m /tmp/ray/session_2024-04-01_02-53-14_060472_46839/runtime_resources/working_dir_files/_ray_pkg_4a5ca631833e4fab/src/tde.py:132: RuntimeWarning: invalid value encountered in divide\n"
     ]
    },
    {
     "name": "stdout",
     "output_type": "stream",
     "text": [
      "\u001b[36m(train_convnet pid=82917)\u001b[0m Data has been embedded using a delay of 19 timesteps and an embedding dimension of 5\n"
     ]
    },
    {
     "name": "stderr",
     "output_type": "stream",
     "text": [
      "\u001b[36m(train_convnet pid=56155)\u001b[0m Checkpoint successfully created at: Checkpoint(filesystem=local, path=/home/michael/Synology/Desktop/Data/Python/Gait-Signatures/ray_results/pb2/train_convnet_6f9de_00003_3_alpha=0.0001,batch_size=32,dec_dropout=0.2684,latent_dim=32,lr=0.0026,rnn_hidden=256,timesteps_per_tri_2024-04-01_03-03-38/checkpoint_000004)\n",
      "\u001b[36m(train_convnet pid=85657)\u001b[0m Restored on 170.140.242.239 from checkpoint: Checkpoint(filesystem=local, path=/home/michael/Synology/Desktop/Data/Python/Gait-Signatures/ray_results/pb2/train_convnet_6f9de_00017_17_alpha=0.0001,batch_size=32,dec_dropout=0.0791,latent_dim=16,lr=0.0068,rnn_hidden=256,timesteps_per_tr_2024-04-01_03-03-38/checkpoint_000003)\n",
      "\u001b[36m(train_convnet pid=85657)\u001b[0m /tmp/ray/session_2024-04-01_02-53-14_060472_46839/runtime_resources/working_dir_files/_ray_pkg_4a5ca631833e4fab/src/tde.py:132: RuntimeWarning: divide by zero encountered in divide\n",
      "\u001b[36m(train_convnet pid=85657)\u001b[0m   a.append(np.divide(np.linalg.norm(tsrecon[ind_m, :]-tsrecon[ind, :], ord=np.inf, axis=1),\n",
      "\u001b[36m(train_convnet pid=85657)\u001b[0m /tmp/ray/session_2024-04-01_02-53-14_060472_46839/runtime_resources/working_dir_files/_ray_pkg_4a5ca631833e4fab/src/tde.py:132: RuntimeWarning: invalid value encountered in divide\n",
      "\u001b[36m(train_convnet pid=85657)\u001b[0m   a.append(np.divide(np.linalg.norm(tsrecon[ind_m, :]-tsrecon[ind, :], ord=np.inf, axis=1),\n"
     ]
    },
    {
     "name": "stdout",
     "output_type": "stream",
     "text": [
      "\u001b[36m(train_convnet pid=85657)\u001b[0m Data has been embedded using a delay of 19 timesteps and an embedding dimension of 5\u001b[32m [repeated 2x across cluster]\u001b[0m\n"
     ]
    },
    {
     "name": "stderr",
     "output_type": "stream",
     "text": [
      "\u001b[36m(train_convnet pid=60588)\u001b[0m Checkpoint successfully created at: Checkpoint(filesystem=local, path=/home/michael/Synology/Desktop/Data/Python/Gait-Signatures/ray_results/pb2/train_convnet_6f9de_00005_5_alpha=0.0000,batch_size=32,dec_dropout=0.1197,latent_dim=16,lr=0.0083,rnn_hidden=256,timesteps_per_tri_2024-04-01_03-03-38/checkpoint_000005)\n",
      "\u001b[36m(train_convnet pid=88895)\u001b[0m Restored on 170.140.242.239 from checkpoint: Checkpoint(filesystem=local, path=/home/michael/Synology/Desktop/Data/Python/Gait-Signatures/ray_results/pb2/train_convnet_6f9de_00024_24_alpha=0.0000,batch_size=32,dec_dropout=0.0301,latent_dim=8,lr=0.0022,rnn_hidden=256,timesteps_per_tri_2024-04-01_03-03-38/checkpoint_000002)\n",
      "\u001b[36m(train_convnet pid=88895)\u001b[0m /tmp/ray/session_2024-04-01_02-53-14_060472_46839/runtime_resources/working_dir_files/_ray_pkg_4a5ca631833e4fab/src/tde.py:132: RuntimeWarning: divide by zero encountered in divide\n",
      "\u001b[36m(train_convnet pid=88895)\u001b[0m   a.append(np.divide(np.linalg.norm(tsrecon[ind_m, :]-tsrecon[ind, :], ord=np.inf, axis=1),\n",
      "\u001b[36m(train_convnet pid=88895)\u001b[0m /tmp/ray/session_2024-04-01_02-53-14_060472_46839/runtime_resources/working_dir_files/_ray_pkg_4a5ca631833e4fab/src/tde.py:132: RuntimeWarning: invalid value encountered in divide\n",
      "\u001b[36m(train_convnet pid=88895)\u001b[0m   a.append(np.divide(np.linalg.norm(tsrecon[ind_m, :]-tsrecon[ind, :], ord=np.inf, axis=1),\n"
     ]
    },
    {
     "name": "stdout",
     "output_type": "stream",
     "text": [
      "\u001b[36m(train_convnet pid=88895)\u001b[0m Data has been embedded using a delay of 19 timesteps and an embedding dimension of 5\n"
     ]
    },
    {
     "name": "stderr",
     "output_type": "stream",
     "text": [
      "\u001b[36m(train_convnet pid=67407)\u001b[0m Checkpoint successfully created at: Checkpoint(filesystem=local, path=/home/michael/Synology/Desktop/Data/Python/Gait-Signatures/ray_results/pb2/train_convnet_6f9de_00006_6_alpha=0.0000,batch_size=32,dec_dropout=0.1047,latent_dim=8,lr=0.0058,rnn_hidden=256,timesteps_per_tria_2024-04-01_03-03-38/checkpoint_000005)\n",
      "\u001b[36m(train_convnet pid=94113)\u001b[0m Restored on 170.140.242.239 from checkpoint: Checkpoint(filesystem=local, path=/home/michael/Synology/Desktop/Data/Python/Gait-Signatures/ray_results/pb2/train_convnet_6f9de_00027_27_alpha=0.0000,batch_size=32,dec_dropout=0.2811,latent_dim=8,lr=0.0003,rnn_hidden=64,timesteps_per_tria_2024-04-01_03-03-38/checkpoint_000002)\n",
      "\u001b[36m(train_convnet pid=94113)\u001b[0m /tmp/ray/session_2024-04-01_02-53-14_060472_46839/runtime_resources/working_dir_files/_ray_pkg_4a5ca631833e4fab/src/tde.py:132: RuntimeWarning: divide by zero encountered in divide\n",
      "\u001b[36m(train_convnet pid=94113)\u001b[0m   a.append(np.divide(np.linalg.norm(tsrecon[ind_m, :]-tsrecon[ind, :], ord=np.inf, axis=1),\n",
      "\u001b[36m(train_convnet pid=94113)\u001b[0m /tmp/ray/session_2024-04-01_02-53-14_060472_46839/runtime_resources/working_dir_files/_ray_pkg_4a5ca631833e4fab/src/tde.py:132: RuntimeWarning: invalid value encountered in divide\n",
      "\u001b[36m(train_convnet pid=94113)\u001b[0m   a.append(np.divide(np.linalg.norm(tsrecon[ind_m, :]-tsrecon[ind, :], ord=np.inf, axis=1),\n"
     ]
    },
    {
     "name": "stdout",
     "output_type": "stream",
     "text": [
      "\u001b[36m(train_convnet pid=94113)\u001b[0m Data has been embedded using a delay of 19 timesteps and an embedding dimension of 5\n"
     ]
    },
    {
     "name": "stderr",
     "output_type": "stream",
     "text": [
      "\u001b[36m(train_convnet pid=76754)\u001b[0m Checkpoint successfully created at: Checkpoint(filesystem=local, path=/home/michael/Synology/Desktop/Data/Python/Gait-Signatures/ray_results/pb2/train_convnet_6f9de_00008_8_alpha=0.0001,batch_size=32,dec_dropout=0.2858,latent_dim=16,lr=0.0042,rnn_hidden=64,timesteps_per_tria_2024-04-01_03-03-38/checkpoint_000005)\n",
      "\u001b[36m(train_convnet pid=102861)\u001b[0m Restored on 170.140.242.239 from checkpoint: Checkpoint(filesystem=local, path=/home/michael/Synology/Desktop/Data/Python/Gait-Signatures/ray_results/pb2/train_convnet_6f9de_00018_18_alpha=0.0000,batch_size=32,dec_dropout=0.0493,latent_dim=32,lr=0.0100,rnn_hidden=256,timesteps_per_tr_2024-04-01_03-03-38/checkpoint_000004)\n",
      "\u001b[36m(train_convnet pid=102861)\u001b[0m /tmp/ray/session_2024-04-01_02-53-14_060472_46839/runtime_resources/working_dir_files/_ray_pkg_4a5ca631833e4fab/src/tde.py:132: RuntimeWarning: divide by zero encountered in divide\n",
      "\u001b[36m(train_convnet pid=102861)\u001b[0m   a.append(np.divide(np.linalg.norm(tsrecon[ind_m, :]-tsrecon[ind, :], ord=np.inf, axis=1),\n",
      "\u001b[36m(train_convnet pid=102861)\u001b[0m /tmp/ray/session_2024-04-01_02-53-14_060472_46839/runtime_resources/working_dir_files/_ray_pkg_4a5ca631833e4fab/src/tde.py:132: RuntimeWarning: invalid value encountered in divide\n",
      "\u001b[36m(train_convnet pid=102861)\u001b[0m   a.append(np.divide(np.linalg.norm(tsrecon[ind_m, :]-tsrecon[ind, :], ord=np.inf, axis=1),\n"
     ]
    },
    {
     "name": "stdout",
     "output_type": "stream",
     "text": [
      "\u001b[36m(train_convnet pid=102861)\u001b[0m Data has been embedded using a delay of 19 timesteps and an embedding dimension of 5\n"
     ]
    },
    {
     "name": "stderr",
     "output_type": "stream",
     "text": [
      "\u001b[36m(train_convnet pid=77268)\u001b[0m Checkpoint successfully created at: Checkpoint(filesystem=local, path=/home/michael/Synology/Desktop/Data/Python/Gait-Signatures/ray_results/pb2/train_convnet_6f9de_00009_9_alpha=0.0001,batch_size=32,dec_dropout=0.2133,latent_dim=8,lr=0.0044,rnn_hidden=32,timesteps_per_trial_2024-04-01_03-03-38/checkpoint_000004)\n",
      "\u001b[36m(train_convnet pid=104424)\u001b[0m Restored on 170.140.242.239 from checkpoint: Checkpoint(filesystem=local, path=/home/michael/Synology/Desktop/Data/Python/Gait-Signatures/ray_results/pb2/train_convnet_6f9de_00022_22_alpha=0.0001,batch_size=32,dec_dropout=0.0276,latent_dim=32,lr=0.0072,rnn_hidden=64,timesteps_per_tri_2024-04-01_03-03-38/checkpoint_000001)\n",
      "\u001b[36m(train_convnet pid=104424)\u001b[0m /tmp/ray/session_2024-04-01_02-53-14_060472_46839/runtime_resources/working_dir_files/_ray_pkg_4a5ca631833e4fab/src/tde.py:132: RuntimeWarning: divide by zero encountered in divide\n",
      "\u001b[36m(train_convnet pid=104424)\u001b[0m   a.append(np.divide(np.linalg.norm(tsrecon[ind_m, :]-tsrecon[ind, :], ord=np.inf, axis=1),\n",
      "\u001b[36m(train_convnet pid=104424)\u001b[0m /tmp/ray/session_2024-04-01_02-53-14_060472_46839/runtime_resources/working_dir_files/_ray_pkg_4a5ca631833e4fab/src/tde.py:132: RuntimeWarning: invalid value encountered in divide\n",
      "\u001b[36m(train_convnet pid=104424)\u001b[0m   a.append(np.divide(np.linalg.norm(tsrecon[ind_m, :]-tsrecon[ind, :], ord=np.inf, axis=1),\n"
     ]
    },
    {
     "name": "stdout",
     "output_type": "stream",
     "text": [
      "\u001b[36m(train_convnet pid=104424)\u001b[0m Data has been embedded using a delay of 19 timesteps and an embedding dimension of 5\n"
     ]
    },
    {
     "name": "stderr",
     "output_type": "stream",
     "text": [
      "\u001b[36m(train_convnet pid=78709)\u001b[0m Checkpoint successfully created at: Checkpoint(filesystem=local, path=/home/michael/Synology/Desktop/Data/Python/Gait-Signatures/ray_results/pb2/train_convnet_6f9de_00011_11_alpha=0.0000,batch_size=32,dec_dropout=0.1529,latent_dim=32,lr=0.0061,rnn_hidden=64,timesteps_per_tri_2024-04-01_03-03-38/checkpoint_000005)\n",
      "\u001b[36m(train_convnet pid=105619)\u001b[0m Restored on 170.140.242.239 from checkpoint: Checkpoint(filesystem=local, path=/home/michael/Synology/Desktop/Data/Python/Gait-Signatures/ray_results/pb2/train_convnet_6f9de_00023_23_alpha=0.0001,batch_size=32,dec_dropout=0.1309,latent_dim=32,lr=0.0073,rnn_hidden=256,timesteps_per_tr_2024-04-01_03-03-38/checkpoint_000003)\n",
      "\u001b[36m(train_convnet pid=105619)\u001b[0m /tmp/ray/session_2024-04-01_02-53-14_060472_46839/runtime_resources/working_dir_files/_ray_pkg_4a5ca631833e4fab/src/tde.py:132: RuntimeWarning: divide by zero encountered in divide\n",
      "\u001b[36m(train_convnet pid=105619)\u001b[0m   a.append(np.divide(np.linalg.norm(tsrecon[ind_m, :]-tsrecon[ind, :], ord=np.inf, axis=1),\n",
      "\u001b[36m(train_convnet pid=105619)\u001b[0m /tmp/ray/session_2024-04-01_02-53-14_060472_46839/runtime_resources/working_dir_files/_ray_pkg_4a5ca631833e4fab/src/tde.py:132: RuntimeWarning: invalid value encountered in divide\n",
      "\u001b[36m(train_convnet pid=105619)\u001b[0m   a.append(np.divide(np.linalg.norm(tsrecon[ind_m, :]-tsrecon[ind, :], ord=np.inf, axis=1),\n"
     ]
    },
    {
     "name": "stdout",
     "output_type": "stream",
     "text": [
      "\u001b[36m(train_convnet pid=105619)\u001b[0m Data has been embedded using a delay of 19 timesteps and an embedding dimension of 5\n"
     ]
    },
    {
     "name": "stderr",
     "output_type": "stream",
     "text": [
      "\u001b[36m(train_convnet pid=83077)\u001b[0m Checkpoint successfully created at: Checkpoint(filesystem=local, path=/home/michael/Synology/Desktop/Data/Python/Gait-Signatures/ray_results/pb2/train_convnet_6f9de_00016_16_alpha=0.0000,batch_size=32,dec_dropout=0.1390,latent_dim=32,lr=0.0011,rnn_hidden=128,timesteps_per_tr_2024-04-01_03-03-38/checkpoint_000005)\n",
      "\u001b[36m(train_convnet pid=110395)\u001b[0m Restored on 170.140.242.239 from checkpoint: Checkpoint(filesystem=local, path=/home/michael/Synology/Desktop/Data/Python/Gait-Signatures/ray_results/pb2/train_convnet_6f9de_00025_25_alpha=0.0000,batch_size=32,dec_dropout=0.0776,latent_dim=8,lr=0.0022,rnn_hidden=64,timesteps_per_tria_2024-04-01_03-03-38/checkpoint_000003)\n",
      "\u001b[36m(train_convnet pid=110395)\u001b[0m /tmp/ray/session_2024-04-01_02-53-14_060472_46839/runtime_resources/working_dir_files/_ray_pkg_4a5ca631833e4fab/src/tde.py:132: RuntimeWarning: divide by zero encountered in divide\n",
      "\u001b[36m(train_convnet pid=110395)\u001b[0m   a.append(np.divide(np.linalg.norm(tsrecon[ind_m, :]-tsrecon[ind, :], ord=np.inf, axis=1),\n",
      "\u001b[36m(train_convnet pid=110395)\u001b[0m /tmp/ray/session_2024-04-01_02-53-14_060472_46839/runtime_resources/working_dir_files/_ray_pkg_4a5ca631833e4fab/src/tde.py:132: RuntimeWarning: invalid value encountered in divide\n",
      "\u001b[36m(train_convnet pid=110395)\u001b[0m   a.append(np.divide(np.linalg.norm(tsrecon[ind_m, :]-tsrecon[ind, :], ord=np.inf, axis=1),\n"
     ]
    },
    {
     "name": "stdout",
     "output_type": "stream",
     "text": [
      "\u001b[36m(train_convnet pid=110395)\u001b[0m Data has been embedded using a delay of 19 timesteps and an embedding dimension of 5\n"
     ]
    },
    {
     "name": "stderr",
     "output_type": "stream",
     "text": [
      "\u001b[36m(train_convnet pid=82917)\u001b[0m Checkpoint successfully created at: Checkpoint(filesystem=local, path=/home/michael/Synology/Desktop/Data/Python/Gait-Signatures/ray_results/pb2/train_convnet_6f9de_00014_14_alpha=0.0001,batch_size=32,dec_dropout=0.1006,latent_dim=8,lr=0.0001,rnn_hidden=64,timesteps_per_tria_2024-04-01_03-03-38/checkpoint_000004)\n",
      "\u001b[36m(train_convnet pid=111313)\u001b[0m Restored on 170.140.242.239 from checkpoint: Checkpoint(filesystem=local, path=/home/michael/Synology/Desktop/Data/Python/Gait-Signatures/ray_results/pb2/train_convnet_6f9de_00028_28_alpha=0.0000,batch_size=32,dec_dropout=0.2394,latent_dim=8,lr=0.0005,rnn_hidden=128,timesteps_per_tri_2024-04-01_03-03-38/checkpoint_000004)\n",
      "\u001b[36m(train_convnet pid=111313)\u001b[0m /tmp/ray/session_2024-04-01_02-53-14_060472_46839/runtime_resources/working_dir_files/_ray_pkg_4a5ca631833e4fab/src/tde.py:132: RuntimeWarning: divide by zero encountered in divide\n",
      "\u001b[36m(train_convnet pid=111313)\u001b[0m   a.append(np.divide(np.linalg.norm(tsrecon[ind_m, :]-tsrecon[ind, :], ord=np.inf, axis=1),\n",
      "\u001b[36m(train_convnet pid=111313)\u001b[0m /tmp/ray/session_2024-04-01_02-53-14_060472_46839/runtime_resources/working_dir_files/_ray_pkg_4a5ca631833e4fab/src/tde.py:132: RuntimeWarning: invalid value encountered in divide\n",
      "\u001b[36m(train_convnet pid=111313)\u001b[0m   a.append(np.divide(np.linalg.norm(tsrecon[ind_m, :]-tsrecon[ind, :], ord=np.inf, axis=1),\n"
     ]
    },
    {
     "name": "stdout",
     "output_type": "stream",
     "text": [
      "\u001b[36m(train_convnet pid=111313)\u001b[0m Data has been embedded using a delay of 19 timesteps and an embedding dimension of 5\n"
     ]
    },
    {
     "name": "stderr",
     "output_type": "stream",
     "text": [
      "\u001b[36m(train_convnet pid=85657)\u001b[0m Checkpoint successfully created at: Checkpoint(filesystem=local, path=/home/michael/Synology/Desktop/Data/Python/Gait-Signatures/ray_results/pb2/train_convnet_6f9de_00017_17_alpha=0.0001,batch_size=32,dec_dropout=0.0791,latent_dim=16,lr=0.0068,rnn_hidden=256,timesteps_per_tr_2024-04-01_03-03-38/checkpoint_000004)\n",
      "\u001b[36m(train_convnet pid=114773)\u001b[0m Restored on 170.140.242.239 from checkpoint: Checkpoint(filesystem=local, path=/home/michael/Synology/Desktop/Data/Python/Gait-Signatures/ray_results/pb2/train_convnet_6f9de_00029_29_alpha=0.0000,batch_size=32,dec_dropout=0.2387,latent_dim=8,lr=0.0022,rnn_hidden=128,timesteps_per_tri_2024-04-01_03-03-38/checkpoint_000004)\n",
      "\u001b[36m(train_convnet pid=114773)\u001b[0m /tmp/ray/session_2024-04-01_02-53-14_060472_46839/runtime_resources/working_dir_files/_ray_pkg_4a5ca631833e4fab/src/tde.py:132: RuntimeWarning: divide by zero encountered in divide\n",
      "\u001b[36m(train_convnet pid=114773)\u001b[0m   a.append(np.divide(np.linalg.norm(tsrecon[ind_m, :]-tsrecon[ind, :], ord=np.inf, axis=1),\n",
      "\u001b[36m(train_convnet pid=114773)\u001b[0m /tmp/ray/session_2024-04-01_02-53-14_060472_46839/runtime_resources/working_dir_files/_ray_pkg_4a5ca631833e4fab/src/tde.py:132: RuntimeWarning: invalid value encountered in divide\n",
      "\u001b[36m(train_convnet pid=114773)\u001b[0m   a.append(np.divide(np.linalg.norm(tsrecon[ind_m, :]-tsrecon[ind, :], ord=np.inf, axis=1),\n"
     ]
    },
    {
     "name": "stdout",
     "output_type": "stream",
     "text": [
      "\u001b[36m(train_convnet pid=114773)\u001b[0m Data has been embedded using a delay of 19 timesteps and an embedding dimension of 5\n"
     ]
    },
    {
     "name": "stderr",
     "output_type": "stream",
     "text": [
      "\u001b[36m(train_convnet pid=82453)\u001b[0m Checkpoint successfully created at: Checkpoint(filesystem=local, path=/home/michael/Synology/Desktop/Data/Python/Gait-Signatures/ray_results/pb2/train_convnet_6f9de_00013_13_alpha=0.0000,batch_size=32,dec_dropout=0.0850,latent_dim=32,lr=0.0046,rnn_hidden=64,timesteps_per_tri_2024-04-01_03-03-38/checkpoint_000003)\n",
      "\u001b[36m(train_convnet pid=117946)\u001b[0m Restored on 170.140.242.239 from checkpoint: Checkpoint(filesystem=local, path=/home/michael/Synology/Desktop/Data/Python/Gait-Signatures/ray_results/pb2/train_convnet_6f9de_00015_15_alpha=0.0000,batch_size=32,dec_dropout=0.1839,latent_dim=8,lr=0.0059,rnn_hidden=128,timesteps_per_tri_2024-04-01_03-03-38/checkpoint_000002)\n",
      "\u001b[36m(train_convnet pid=117946)\u001b[0m /tmp/ray/session_2024-04-01_02-53-14_060472_46839/runtime_resources/working_dir_files/_ray_pkg_4a5ca631833e4fab/src/tde.py:132: RuntimeWarning: divide by zero encountered in divide\n",
      "\u001b[36m(train_convnet pid=117946)\u001b[0m   a.append(np.divide(np.linalg.norm(tsrecon[ind_m, :]-tsrecon[ind, :], ord=np.inf, axis=1),\n",
      "\u001b[36m(train_convnet pid=117946)\u001b[0m /tmp/ray/session_2024-04-01_02-53-14_060472_46839/runtime_resources/working_dir_files/_ray_pkg_4a5ca631833e4fab/src/tde.py:132: RuntimeWarning: invalid value encountered in divide\n",
      "\u001b[36m(train_convnet pid=117946)\u001b[0m   a.append(np.divide(np.linalg.norm(tsrecon[ind_m, :]-tsrecon[ind, :], ord=np.inf, axis=1),\n"
     ]
    },
    {
     "name": "stdout",
     "output_type": "stream",
     "text": [
      "\u001b[36m(train_convnet pid=117946)\u001b[0m Data has been embedded using a delay of 19 timesteps and an embedding dimension of 5\n"
     ]
    },
    {
     "name": "stderr",
     "output_type": "stream",
     "text": [
      "\u001b[36m(train_convnet pid=122983)\u001b[0m Checkpoint successfully created at: Checkpoint(filesystem=local, path=/home/michael/Synology/Desktop/Data/Python/Gait-Signatures/ray_results/pb2/train_convnet_6f9de_00026_26_alpha=0.0000,batch_size=32,dec_dropout=0.1056,latent_dim=32,lr=0.0065,rnn_hidden=128,timesteps_per_tr_2024-04-01_03-03-38/checkpoint_000002)\n",
      "\u001b[36m(train_convnet pid=119139)\u001b[0m Restored on 170.140.242.239 from checkpoint: Checkpoint(filesystem=local, path=/home/michael/Synology/Desktop/Data/Python/Gait-Signatures/ray_results/pb2/train_convnet_6f9de_00001_1_alpha=0.0000,batch_size=32,dec_dropout=0.2072,latent_dim=8,lr=0.0031,rnn_hidden=256,timesteps_per_tria_2024-04-01_03-03-38/checkpoint_000005)\n",
      "\u001b[36m(train_convnet pid=119139)\u001b[0m /tmp/ray/session_2024-04-01_02-53-14_060472_46839/runtime_resources/working_dir_files/_ray_pkg_4a5ca631833e4fab/src/tde.py:132: RuntimeWarning: divide by zero encountered in divide\n",
      "\u001b[36m(train_convnet pid=119139)\u001b[0m   a.append(np.divide(np.linalg.norm(tsrecon[ind_m, :]-tsrecon[ind, :], ord=np.inf, axis=1),\n",
      "\u001b[36m(train_convnet pid=119139)\u001b[0m /tmp/ray/session_2024-04-01_02-53-14_060472_46839/runtime_resources/working_dir_files/_ray_pkg_4a5ca631833e4fab/src/tde.py:132: RuntimeWarning: invalid value encountered in divide\n",
      "\u001b[36m(train_convnet pid=119139)\u001b[0m   a.append(np.divide(np.linalg.norm(tsrecon[ind_m, :]-tsrecon[ind, :], ord=np.inf, axis=1),\n"
     ]
    },
    {
     "name": "stdout",
     "output_type": "stream",
     "text": [
      "\u001b[36m(train_convnet pid=119139)\u001b[0m Data has been embedded using a delay of 19 timesteps and an embedding dimension of 5\n"
     ]
    },
    {
     "name": "stderr",
     "output_type": "stream",
     "text": [
      "\u001b[36m(train_convnet pid=46154)\u001b[0m Checkpoint successfully created at: Checkpoint(filesystem=local, path=/home/michael/Synology/Desktop/Data/Python/Gait-Signatures/ray_results/pb2/train_convnet_6f9de_00027_27_alpha=0.0000,batch_size=32,dec_dropout=0.2811,latent_dim=8,lr=0.0003,rnn_hidden=64,timesteps_per_tria_2024-04-01_03-03-38/checkpoint_000003)\n",
      "\u001b[36m(train_convnet pid=122347)\u001b[0m Restored on 170.140.242.239 from checkpoint: Checkpoint(filesystem=local, path=/home/michael/Synology/Desktop/Data/Python/Gait-Signatures/ray_results/pb2/train_convnet_6f9de_00027_27_alpha=0.0000,batch_size=32,dec_dropout=0.2811,latent_dim=8,lr=0.0003,rnn_hidden=64,timesteps_per_tria_2024-04-01_03-03-38/checkpoint_000002)\n",
      "\u001b[36m(train_convnet pid=122347)\u001b[0m /tmp/ray/session_2024-04-01_02-53-14_060472_46839/runtime_resources/working_dir_files/_ray_pkg_4a5ca631833e4fab/src/tde.py:132: RuntimeWarning: divide by zero encountered in divide\n",
      "\u001b[36m(train_convnet pid=122347)\u001b[0m   a.append(np.divide(np.linalg.norm(tsrecon[ind_m, :]-tsrecon[ind, :], ord=np.inf, axis=1),\n",
      "\u001b[36m(train_convnet pid=122347)\u001b[0m /tmp/ray/session_2024-04-01_02-53-14_060472_46839/runtime_resources/working_dir_files/_ray_pkg_4a5ca631833e4fab/src/tde.py:132: RuntimeWarning: invalid value encountered in divide\n",
      "\u001b[36m(train_convnet pid=122347)\u001b[0m   a.append(np.divide(np.linalg.norm(tsrecon[ind_m, :]-tsrecon[ind, :], ord=np.inf, axis=1),\n"
     ]
    },
    {
     "name": "stdout",
     "output_type": "stream",
     "text": [
      "\u001b[36m(train_convnet pid=122347)\u001b[0m Data has been embedded using a delay of 19 timesteps and an embedding dimension of 5\n"
     ]
    },
    {
     "name": "stderr",
     "output_type": "stream",
     "text": [
      "\u001b[36m(train_convnet pid=102861)\u001b[0m Checkpoint successfully created at: Checkpoint(filesystem=local, path=/home/michael/Synology/Desktop/Data/Python/Gait-Signatures/ray_results/pb2/train_convnet_6f9de_00018_18_alpha=0.0000,batch_size=32,dec_dropout=0.0493,latent_dim=32,lr=0.0100,rnn_hidden=256,timesteps_per_tr_2024-04-01_03-03-38/checkpoint_000005)\n",
      "\u001b[36m(train_convnet pid=127812)\u001b[0m Restored on 170.140.242.239 from checkpoint: Checkpoint(filesystem=local, path=/home/michael/Synology/Desktop/Data/Python/Gait-Signatures/ray_results/pb2/train_convnet_6f9de_00027_27_alpha=0.0000,batch_size=32,dec_dropout=0.2811,latent_dim=8,lr=0.0003,rnn_hidden=64,timesteps_per_tria_2024-04-01_03-03-38/checkpoint_000003)\n",
      "\u001b[36m(train_convnet pid=127812)\u001b[0m /tmp/ray/session_2024-04-01_02-53-14_060472_46839/runtime_resources/working_dir_files/_ray_pkg_4a5ca631833e4fab/src/tde.py:132: RuntimeWarning: divide by zero encountered in divide\n",
      "\u001b[36m(train_convnet pid=127812)\u001b[0m   a.append(np.divide(np.linalg.norm(tsrecon[ind_m, :]-tsrecon[ind, :], ord=np.inf, axis=1),\n",
      "\u001b[36m(train_convnet pid=127812)\u001b[0m /tmp/ray/session_2024-04-01_02-53-14_060472_46839/runtime_resources/working_dir_files/_ray_pkg_4a5ca631833e4fab/src/tde.py:132: RuntimeWarning: invalid value encountered in divide\n",
      "\u001b[36m(train_convnet pid=127812)\u001b[0m   a.append(np.divide(np.linalg.norm(tsrecon[ind_m, :]-tsrecon[ind, :], ord=np.inf, axis=1),\n"
     ]
    },
    {
     "name": "stdout",
     "output_type": "stream",
     "text": [
      "\u001b[36m(train_convnet pid=127812)\u001b[0m Data has been embedded using a delay of 19 timesteps and an embedding dimension of 5\n"
     ]
    },
    {
     "name": "stderr",
     "output_type": "stream",
     "text": [
      "\u001b[36m(train_convnet pid=104424)\u001b[0m Checkpoint successfully created at: Checkpoint(filesystem=local, path=/home/michael/Synology/Desktop/Data/Python/Gait-Signatures/ray_results/pb2/train_convnet_6f9de_00022_22_alpha=0.0001,batch_size=32,dec_dropout=0.0276,latent_dim=32,lr=0.0072,rnn_hidden=64,timesteps_per_tri_2024-04-01_03-03-38/checkpoint_000002)\n",
      "\u001b[36m(train_convnet pid=2169)\u001b[0m Restored on 170.140.242.239 from checkpoint: Checkpoint(filesystem=local, path=/home/michael/Synology/Desktop/Data/Python/Gait-Signatures/ray_results/pb2/train_convnet_6f9de_00004_4_alpha=0.0001,batch_size=32,dec_dropout=0.1387,latent_dim=8,lr=0.0057,rnn_hidden=32,timesteps_per_trial_2024-04-01_03-03-38/checkpoint_000004)\n",
      "\u001b[36m(train_convnet pid=105619)\u001b[0m Checkpoint successfully created at: Checkpoint(filesystem=local, path=/home/michael/Synology/Desktop/Data/Python/Gait-Signatures/ray_results/pb2/train_convnet_6f9de_00023_23_alpha=0.0001,batch_size=32,dec_dropout=0.1309,latent_dim=32,lr=0.0073,rnn_hidden=256,timesteps_per_tr_2024-04-01_03-03-38/checkpoint_000004)\n",
      "\u001b[36m(train_convnet pid=2169)\u001b[0m /tmp/ray/session_2024-04-01_02-53-14_060472_46839/runtime_resources/working_dir_files/_ray_pkg_4a5ca631833e4fab/src/tde.py:132: RuntimeWarning: divide by zero encountered in divide\n",
      "\u001b[36m(train_convnet pid=2169)\u001b[0m   a.append(np.divide(np.linalg.norm(tsrecon[ind_m, :]-tsrecon[ind, :], ord=np.inf, axis=1),\n",
      "\u001b[36m(train_convnet pid=2169)\u001b[0m /tmp/ray/session_2024-04-01_02-53-14_060472_46839/runtime_resources/working_dir_files/_ray_pkg_4a5ca631833e4fab/src/tde.py:132: RuntimeWarning: invalid value encountered in divide\n",
      "\u001b[36m(train_convnet pid=2169)\u001b[0m   a.append(np.divide(np.linalg.norm(tsrecon[ind_m, :]-tsrecon[ind, :], ord=np.inf, axis=1),\n"
     ]
    },
    {
     "name": "stdout",
     "output_type": "stream",
     "text": [
      "\u001b[36m(train_convnet pid=2169)\u001b[0m Data has been embedded using a delay of 19 timesteps and an embedding dimension of 5\n"
     ]
    },
    {
     "name": "stderr",
     "output_type": "stream",
     "text": [
      "\u001b[36m(train_convnet pid=2667)\u001b[0m Restored on 170.140.242.239 from checkpoint: Checkpoint(filesystem=local, path=/home/michael/Synology/Desktop/Data/Python/Gait-Signatures/ray_results/pb2/train_convnet_6f9de_00006_6_alpha=0.0000,batch_size=32,dec_dropout=0.1047,latent_dim=8,lr=0.0058,rnn_hidden=256,timesteps_per_tria_2024-04-01_03-03-38/checkpoint_000005)\n",
      "\u001b[36m(train_convnet pid=2667)\u001b[0m /tmp/ray/session_2024-04-01_02-53-14_060472_46839/runtime_resources/working_dir_files/_ray_pkg_4a5ca631833e4fab/src/tde.py:132: RuntimeWarning: divide by zero encountered in divide\n",
      "\u001b[36m(train_convnet pid=2667)\u001b[0m   a.append(np.divide(np.linalg.norm(tsrecon[ind_m, :]-tsrecon[ind, :], ord=np.inf, axis=1),\u001b[32m [repeated 2x across cluster]\u001b[0m\n",
      "\u001b[36m(train_convnet pid=2667)\u001b[0m /tmp/ray/session_2024-04-01_02-53-14_060472_46839/runtime_resources/working_dir_files/_ray_pkg_4a5ca631833e4fab/src/tde.py:132: RuntimeWarning: invalid value encountered in divide\n"
     ]
    },
    {
     "name": "stdout",
     "output_type": "stream",
     "text": [
      "\u001b[36m(train_convnet pid=2667)\u001b[0m Data has been embedded using a delay of 19 timesteps and an embedding dimension of 5\n"
     ]
    },
    {
     "name": "stderr",
     "output_type": "stream",
     "text": [
      "\u001b[36m(train_convnet pid=57216)\u001b[0m Checkpoint successfully created at: Checkpoint(filesystem=local, path=/home/michael/Synology/Desktop/Data/Python/Gait-Signatures/ray_results/pb2/train_convnet_6f9de_00019_19_alpha=0.0001,batch_size=32,dec_dropout=0.2964,latent_dim=8,lr=0.0076,rnn_hidden=64,timesteps_per_tria_2024-04-01_03-03-38/checkpoint_000003)\n",
      "\u001b[36m(train_convnet pid=5841)\u001b[0m Restored on 170.140.242.239 from checkpoint: Checkpoint(filesystem=local, path=/home/michael/Synology/Desktop/Data/Python/Gait-Signatures/ray_results/pb2/train_convnet_6f9de_00008_8_alpha=0.0001,batch_size=32,dec_dropout=0.2858,latent_dim=16,lr=0.0042,rnn_hidden=64,timesteps_per_tria_2024-04-01_03-03-38/checkpoint_000005)\n",
      "\u001b[36m(train_convnet pid=5841)\u001b[0m /tmp/ray/session_2024-04-01_02-53-14_060472_46839/runtime_resources/working_dir_files/_ray_pkg_4a5ca631833e4fab/src/tde.py:132: RuntimeWarning: divide by zero encountered in divide\n",
      "\u001b[36m(train_convnet pid=5841)\u001b[0m   a.append(np.divide(np.linalg.norm(tsrecon[ind_m, :]-tsrecon[ind, :], ord=np.inf, axis=1),\n",
      "\u001b[36m(train_convnet pid=5841)\u001b[0m /tmp/ray/session_2024-04-01_02-53-14_060472_46839/runtime_resources/working_dir_files/_ray_pkg_4a5ca631833e4fab/src/tde.py:132: RuntimeWarning: invalid value encountered in divide\n",
      "\u001b[36m(train_convnet pid=5841)\u001b[0m   a.append(np.divide(np.linalg.norm(tsrecon[ind_m, :]-tsrecon[ind, :], ord=np.inf, axis=1),\n"
     ]
    },
    {
     "name": "stdout",
     "output_type": "stream",
     "text": [
      "\u001b[36m(train_convnet pid=5841)\u001b[0m Data has been embedded using a delay of 19 timesteps and an embedding dimension of 5\n"
     ]
    },
    {
     "name": "stderr",
     "output_type": "stream",
     "text": [
      "\u001b[36m(train_convnet pid=24979)\u001b[0m Checkpoint successfully created at: Checkpoint(filesystem=local, path=/home/michael/Synology/Desktop/Data/Python/Gait-Signatures/ray_results/pb2/train_convnet_6f9de_00000_0_alpha=0.0000,batch_size=32,dec_dropout=0.2151,latent_dim=32,lr=0.0020,rnn_hidden=64,timesteps_per_tria_2024-04-01_03-03-38/checkpoint_000004)\n",
      "\u001b[36m(train_convnet pid=7445)\u001b[0m Restored on 170.140.242.239 from checkpoint: Checkpoint(filesystem=local, path=/home/michael/Synology/Desktop/Data/Python/Gait-Signatures/ray_results/pb2/train_convnet_6f9de_00019_19_alpha=0.0001,batch_size=32,dec_dropout=0.2964,latent_dim=8,lr=0.0076,rnn_hidden=64,timesteps_per_tria_2024-04-01_03-03-38/checkpoint_000003)\n",
      "\u001b[36m(train_convnet pid=7445)\u001b[0m /tmp/ray/session_2024-04-01_02-53-14_060472_46839/runtime_resources/working_dir_files/_ray_pkg_4a5ca631833e4fab/src/tde.py:132: RuntimeWarning: divide by zero encountered in divide\n",
      "\u001b[36m(train_convnet pid=7445)\u001b[0m   a.append(np.divide(np.linalg.norm(tsrecon[ind_m, :]-tsrecon[ind, :], ord=np.inf, axis=1),\n",
      "\u001b[36m(train_convnet pid=7445)\u001b[0m /tmp/ray/session_2024-04-01_02-53-14_060472_46839/runtime_resources/working_dir_files/_ray_pkg_4a5ca631833e4fab/src/tde.py:132: RuntimeWarning: invalid value encountered in divide\n",
      "\u001b[36m(train_convnet pid=7445)\u001b[0m   a.append(np.divide(np.linalg.norm(tsrecon[ind_m, :]-tsrecon[ind, :], ord=np.inf, axis=1),\n"
     ]
    },
    {
     "name": "stdout",
     "output_type": "stream",
     "text": [
      "\u001b[36m(train_convnet pid=7445)\u001b[0m Data has been embedded using a delay of 19 timesteps and an embedding dimension of 5\n"
     ]
    },
    {
     "name": "stderr",
     "output_type": "stream",
     "text": [
      "\u001b[36m(train_convnet pid=110395)\u001b[0m Checkpoint successfully created at: Checkpoint(filesystem=local, path=/home/michael/Synology/Desktop/Data/Python/Gait-Signatures/ray_results/pb2/train_convnet_6f9de_00025_25_alpha=0.0000,batch_size=32,dec_dropout=0.0776,latent_dim=8,lr=0.0022,rnn_hidden=64,timesteps_per_tria_2024-04-01_03-03-38/checkpoint_000004)\n",
      "\u001b[36m(train_convnet pid=8874)\u001b[0m Restored on 170.140.242.239 from checkpoint: Checkpoint(filesystem=local, path=/home/michael/Synology/Desktop/Data/Python/Gait-Signatures/ray_results/pb2/train_convnet_6f9de_00013_13_alpha=0.0000,batch_size=32,dec_dropout=0.0850,latent_dim=32,lr=0.0046,rnn_hidden=64,timesteps_per_tri_2024-04-01_03-03-38/checkpoint_000003)\n",
      "\u001b[36m(train_convnet pid=8874)\u001b[0m /tmp/ray/session_2024-04-01_02-53-14_060472_46839/runtime_resources/working_dir_files/_ray_pkg_4a5ca631833e4fab/src/tde.py:132: RuntimeWarning: divide by zero encountered in divide\n",
      "\u001b[36m(train_convnet pid=8874)\u001b[0m   a.append(np.divide(np.linalg.norm(tsrecon[ind_m, :]-tsrecon[ind, :], ord=np.inf, axis=1),\n",
      "\u001b[36m(train_convnet pid=8874)\u001b[0m /tmp/ray/session_2024-04-01_02-53-14_060472_46839/runtime_resources/working_dir_files/_ray_pkg_4a5ca631833e4fab/src/tde.py:132: RuntimeWarning: invalid value encountered in divide\n",
      "\u001b[36m(train_convnet pid=8874)\u001b[0m   a.append(np.divide(np.linalg.norm(tsrecon[ind_m, :]-tsrecon[ind, :], ord=np.inf, axis=1),\n"
     ]
    },
    {
     "name": "stdout",
     "output_type": "stream",
     "text": [
      "\u001b[36m(train_convnet pid=8874)\u001b[0m Data has been embedded using a delay of 19 timesteps and an embedding dimension of 5\n"
     ]
    },
    {
     "name": "stderr",
     "output_type": "stream",
     "text": [
      "\u001b[36m(train_convnet pid=111313)\u001b[0m Checkpoint successfully created at: Checkpoint(filesystem=local, path=/home/michael/Synology/Desktop/Data/Python/Gait-Signatures/ray_results/pb2/train_convnet_6f9de_00028_28_alpha=0.0000,batch_size=32,dec_dropout=0.2394,latent_dim=8,lr=0.0005,rnn_hidden=128,timesteps_per_tri_2024-04-01_03-03-38/checkpoint_000005)\n",
      "\u001b[36m(train_convnet pid=9883)\u001b[0m Restored on 170.140.242.239 from checkpoint: Checkpoint(filesystem=local, path=/home/michael/Synology/Desktop/Data/Python/Gait-Signatures/ray_results/pb2/train_convnet_6f9de_00009_9_alpha=0.0001,batch_size=32,dec_dropout=0.2133,latent_dim=8,lr=0.0044,rnn_hidden=32,timesteps_per_trial_2024-04-01_03-03-38/checkpoint_000004)\n",
      "\u001b[36m(train_convnet pid=9883)\u001b[0m /tmp/ray/session_2024-04-01_02-53-14_060472_46839/runtime_resources/working_dir_files/_ray_pkg_4a5ca631833e4fab/src/tde.py:132: RuntimeWarning: divide by zero encountered in divide\n",
      "\u001b[36m(train_convnet pid=9883)\u001b[0m   a.append(np.divide(np.linalg.norm(tsrecon[ind_m, :]-tsrecon[ind, :], ord=np.inf, axis=1),\n",
      "\u001b[36m(train_convnet pid=9883)\u001b[0m /tmp/ray/session_2024-04-01_02-53-14_060472_46839/runtime_resources/working_dir_files/_ray_pkg_4a5ca631833e4fab/src/tde.py:132: RuntimeWarning: invalid value encountered in divide\n",
      "\u001b[36m(train_convnet pid=9883)\u001b[0m   a.append(np.divide(np.linalg.norm(tsrecon[ind_m, :]-tsrecon[ind, :], ord=np.inf, axis=1),\n"
     ]
    },
    {
     "name": "stdout",
     "output_type": "stream",
     "text": [
      "\u001b[36m(train_convnet pid=9883)\u001b[0m Data has been embedded using a delay of 19 timesteps and an embedding dimension of 5\n"
     ]
    },
    {
     "name": "stderr",
     "output_type": "stream",
     "text": [
      "\u001b[36m(train_convnet pid=114773)\u001b[0m Checkpoint successfully created at: Checkpoint(filesystem=local, path=/home/michael/Synology/Desktop/Data/Python/Gait-Signatures/ray_results/pb2/train_convnet_6f9de_00029_29_alpha=0.0000,batch_size=32,dec_dropout=0.2387,latent_dim=8,lr=0.0022,rnn_hidden=128,timesteps_per_tri_2024-04-01_03-03-38/checkpoint_000005)\n",
      "\u001b[36m(train_convnet pid=11497)\u001b[0m Restored on 170.140.242.239 from checkpoint: Checkpoint(filesystem=local, path=/home/michael/Synology/Desktop/Data/Python/Gait-Signatures/ray_results/pb2/train_convnet_6f9de_00011_11_alpha=0.0000,batch_size=32,dec_dropout=0.1529,latent_dim=32,lr=0.0061,rnn_hidden=64,timesteps_per_tri_2024-04-01_03-03-38/checkpoint_000005)\n",
      "\u001b[36m(train_convnet pid=11497)\u001b[0m /tmp/ray/session_2024-04-01_02-53-14_060472_46839/runtime_resources/working_dir_files/_ray_pkg_4a5ca631833e4fab/src/tde.py:132: RuntimeWarning: divide by zero encountered in divide\n",
      "\u001b[36m(train_convnet pid=11497)\u001b[0m   a.append(np.divide(np.linalg.norm(tsrecon[ind_m, :]-tsrecon[ind, :], ord=np.inf, axis=1),\n",
      "\u001b[36m(train_convnet pid=11497)\u001b[0m /tmp/ray/session_2024-04-01_02-53-14_060472_46839/runtime_resources/working_dir_files/_ray_pkg_4a5ca631833e4fab/src/tde.py:132: RuntimeWarning: invalid value encountered in divide\n",
      "\u001b[36m(train_convnet pid=11497)\u001b[0m   a.append(np.divide(np.linalg.norm(tsrecon[ind_m, :]-tsrecon[ind, :], ord=np.inf, axis=1),\n",
      "\u001b[36m(train_convnet pid=66107)\u001b[0m Checkpoint successfully created at: Checkpoint(filesystem=local, path=/home/michael/Synology/Desktop/Data/Python/Gait-Signatures/ray_results/pb2/train_convnet_6f9de_00020_20_alpha=0.0001,batch_size=32,dec_dropout=0.0150,latent_dim=8,lr=0.0038,rnn_hidden=32,timesteps_per_tria_2024-04-01_03-03-38/checkpoint_000003)\n"
     ]
    },
    {
     "name": "stdout",
     "output_type": "stream",
     "text": [
      "\u001b[36m(train_convnet pid=11497)\u001b[0m Data has been embedded using a delay of 19 timesteps and an embedding dimension of 5\n"
     ]
    },
    {
     "name": "stderr",
     "output_type": "stream",
     "text": [
      "\u001b[36m(train_convnet pid=12191)\u001b[0m Restored on 170.140.242.239 from checkpoint: Checkpoint(filesystem=local, path=/home/michael/Synology/Desktop/Data/Python/Gait-Signatures/ray_results/pb2/train_convnet_6f9de_00013_13_alpha=0.0000,batch_size=32,dec_dropout=0.0850,latent_dim=32,lr=0.0046,rnn_hidden=64,timesteps_per_tri_2024-04-01_03-03-38/checkpoint_000003)\n",
      "\u001b[36m(train_convnet pid=12191)\u001b[0m /tmp/ray/session_2024-04-01_02-53-14_060472_46839/runtime_resources/working_dir_files/_ray_pkg_4a5ca631833e4fab/src/tde.py:132: RuntimeWarning: divide by zero encountered in divide\n",
      "\u001b[36m(train_convnet pid=12191)\u001b[0m   a.append(np.divide(np.linalg.norm(tsrecon[ind_m, :]-tsrecon[ind, :], ord=np.inf, axis=1),\n",
      "\u001b[36m(train_convnet pid=12191)\u001b[0m /tmp/ray/session_2024-04-01_02-53-14_060472_46839/runtime_resources/working_dir_files/_ray_pkg_4a5ca631833e4fab/src/tde.py:132: RuntimeWarning: invalid value encountered in divide\n",
      "\u001b[36m(train_convnet pid=12191)\u001b[0m   a.append(np.divide(np.linalg.norm(tsrecon[ind_m, :]-tsrecon[ind, :], ord=np.inf, axis=1),\n"
     ]
    },
    {
     "name": "stdout",
     "output_type": "stream",
     "text": [
      "\u001b[36m(train_convnet pid=12191)\u001b[0m Data has been embedded using a delay of 19 timesteps and an embedding dimension of 5\n"
     ]
    },
    {
     "name": "stderr",
     "output_type": "stream",
     "text": [
      "\u001b[36m(train_convnet pid=119139)\u001b[0m Checkpoint successfully created at: Checkpoint(filesystem=local, path=/home/michael/Synology/Desktop/Data/Python/Gait-Signatures/ray_results/pb2/train_convnet_6f9de_00001_1_alpha=0.0000,batch_size=32,dec_dropout=0.2072,latent_dim=8,lr=0.0031,rnn_hidden=256,timesteps_per_tria_2024-04-01_03-03-38/checkpoint_000006)\n",
      "\u001b[36m(train_convnet pid=14150)\u001b[0m Restored on 170.140.242.239 from checkpoint: Checkpoint(filesystem=local, path=/home/michael/Synology/Desktop/Data/Python/Gait-Signatures/ray_results/pb2/train_convnet_6f9de_00020_20_alpha=0.0001,batch_size=32,dec_dropout=0.0150,latent_dim=8,lr=0.0038,rnn_hidden=32,timesteps_per_tria_2024-04-01_03-03-38/checkpoint_000003)\n",
      "\u001b[36m(train_convnet pid=14150)\u001b[0m /tmp/ray/session_2024-04-01_02-53-14_060472_46839/runtime_resources/working_dir_files/_ray_pkg_4a5ca631833e4fab/src/tde.py:132: RuntimeWarning: divide by zero encountered in divide\n",
      "\u001b[36m(train_convnet pid=14150)\u001b[0m   a.append(np.divide(np.linalg.norm(tsrecon[ind_m, :]-tsrecon[ind, :], ord=np.inf, axis=1),\n",
      "\u001b[36m(train_convnet pid=14150)\u001b[0m /tmp/ray/session_2024-04-01_02-53-14_060472_46839/runtime_resources/working_dir_files/_ray_pkg_4a5ca631833e4fab/src/tde.py:132: RuntimeWarning: invalid value encountered in divide\n",
      "\u001b[36m(train_convnet pid=14150)\u001b[0m   a.append(np.divide(np.linalg.norm(tsrecon[ind_m, :]-tsrecon[ind, :], ord=np.inf, axis=1),\n"
     ]
    },
    {
     "name": "stdout",
     "output_type": "stream",
     "text": [
      "\u001b[36m(train_convnet pid=14150)\u001b[0m Data has been embedded using a delay of 19 timesteps and an embedding dimension of 5\n"
     ]
    },
    {
     "name": "stderr",
     "output_type": "stream",
     "text": [
      "\u001b[36m(train_convnet pid=64508)\u001b[0m Checkpoint successfully created at: Checkpoint(filesystem=local, path=/home/michael/Synology/Desktop/Data/Python/Gait-Signatures/ray_results/pb2/train_convnet_6f9de_00002_2_alpha=0.0001,batch_size=32,dec_dropout=0.1597,latent_dim=8,lr=0.0039,rnn_hidden=32,timesteps_per_trial_2024-04-01_03-03-38/checkpoint_000003)\n",
      "\u001b[36m(train_convnet pid=15101)\u001b[0m Restored on 170.140.242.239 from checkpoint: Checkpoint(filesystem=local, path=/home/michael/Synology/Desktop/Data/Python/Gait-Signatures/ray_results/pb2/train_convnet_6f9de_00014_14_alpha=0.0001,batch_size=32,dec_dropout=0.1006,latent_dim=8,lr=0.0001,rnn_hidden=64,timesteps_per_tria_2024-04-01_03-03-38/checkpoint_000004)\n",
      "\u001b[36m(train_convnet pid=15101)\u001b[0m /tmp/ray/session_2024-04-01_02-53-14_060472_46839/runtime_resources/working_dir_files/_ray_pkg_4a5ca631833e4fab/src/tde.py:132: RuntimeWarning: divide by zero encountered in divide\n",
      "\u001b[36m(train_convnet pid=15101)\u001b[0m   a.append(np.divide(np.linalg.norm(tsrecon[ind_m, :]-tsrecon[ind, :], ord=np.inf, axis=1),\n",
      "\u001b[36m(train_convnet pid=15101)\u001b[0m /tmp/ray/session_2024-04-01_02-53-14_060472_46839/runtime_resources/working_dir_files/_ray_pkg_4a5ca631833e4fab/src/tde.py:132: RuntimeWarning: invalid value encountered in divide\n",
      "\u001b[36m(train_convnet pid=15101)\u001b[0m   a.append(np.divide(np.linalg.norm(tsrecon[ind_m, :]-tsrecon[ind, :], ord=np.inf, axis=1),\n"
     ]
    },
    {
     "name": "stdout",
     "output_type": "stream",
     "text": [
      "\u001b[36m(train_convnet pid=15101)\u001b[0m Data has been embedded using a delay of 19 timesteps and an embedding dimension of 5\n"
     ]
    },
    {
     "name": "stderr",
     "output_type": "stream",
     "text": [
      "\u001b[36m(train_convnet pid=77482)\u001b[0m Checkpoint successfully created at: Checkpoint(filesystem=local, path=/home/michael/Synology/Desktop/Data/Python/Gait-Signatures/ray_results/pb2/train_convnet_6f9de_00024_24_alpha=0.0000,batch_size=32,dec_dropout=0.0301,latent_dim=8,lr=0.0022,rnn_hidden=256,timesteps_per_tri_2024-04-01_03-03-38/checkpoint_000003)\n",
      "\u001b[36m(train_convnet pid=16260)\u001b[0m Restored on 170.140.242.239 from checkpoint: Checkpoint(filesystem=local, path=/home/michael/Synology/Desktop/Data/Python/Gait-Signatures/ray_results/pb2/train_convnet_6f9de_00002_2_alpha=0.0001,batch_size=32,dec_dropout=0.1597,latent_dim=8,lr=0.0039,rnn_hidden=32,timesteps_per_trial_2024-04-01_03-03-38/checkpoint_000003)\n",
      "\u001b[36m(train_convnet pid=16260)\u001b[0m /tmp/ray/session_2024-04-01_02-53-14_060472_46839/runtime_resources/working_dir_files/_ray_pkg_4a5ca631833e4fab/src/tde.py:132: RuntimeWarning: divide by zero encountered in divide\n",
      "\u001b[36m(train_convnet pid=16260)\u001b[0m   a.append(np.divide(np.linalg.norm(tsrecon[ind_m, :]-tsrecon[ind, :], ord=np.inf, axis=1),\n",
      "\u001b[36m(train_convnet pid=16260)\u001b[0m /tmp/ray/session_2024-04-01_02-53-14_060472_46839/runtime_resources/working_dir_files/_ray_pkg_4a5ca631833e4fab/src/tde.py:132: RuntimeWarning: invalid value encountered in divide\n",
      "\u001b[36m(train_convnet pid=16260)\u001b[0m   a.append(np.divide(np.linalg.norm(tsrecon[ind_m, :]-tsrecon[ind, :], ord=np.inf, axis=1),\n"
     ]
    },
    {
     "name": "stdout",
     "output_type": "stream",
     "text": [
      "\u001b[36m(train_convnet pid=16260)\u001b[0m Data has been embedded using a delay of 19 timesteps and an embedding dimension of 5\n"
     ]
    },
    {
     "name": "stderr",
     "output_type": "stream",
     "text": [
      "\u001b[36m(train_convnet pid=72074)\u001b[0m Checkpoint successfully created at: Checkpoint(filesystem=local, path=/home/michael/Synology/Desktop/Data/Python/Gait-Signatures/ray_results/pb2/train_convnet_6f9de_00021_21_alpha=0.0001,batch_size=32,dec_dropout=0.2106,latent_dim=16,lr=0.0042,rnn_hidden=128,timesteps_per_tr_2024-04-01_03-03-38/checkpoint_000003)\n",
      "\u001b[36m(train_convnet pid=17892)\u001b[0m Restored on 170.140.242.239 from checkpoint: Checkpoint(filesystem=local, path=/home/michael/Synology/Desktop/Data/Python/Gait-Signatures/ray_results/pb2/train_convnet_6f9de_00024_24_alpha=0.0000,batch_size=32,dec_dropout=0.0301,latent_dim=8,lr=0.0022,rnn_hidden=256,timesteps_per_tri_2024-04-01_03-03-38/checkpoint_000003)\n",
      "\u001b[36m(train_convnet pid=17892)\u001b[0m /tmp/ray/session_2024-04-01_02-53-14_060472_46839/runtime_resources/working_dir_files/_ray_pkg_4a5ca631833e4fab/src/tde.py:132: RuntimeWarning: divide by zero encountered in divide\n",
      "\u001b[36m(train_convnet pid=17892)\u001b[0m   a.append(np.divide(np.linalg.norm(tsrecon[ind_m, :]-tsrecon[ind, :], ord=np.inf, axis=1),\n",
      "\u001b[36m(train_convnet pid=17892)\u001b[0m /tmp/ray/session_2024-04-01_02-53-14_060472_46839/runtime_resources/working_dir_files/_ray_pkg_4a5ca631833e4fab/src/tde.py:132: RuntimeWarning: invalid value encountered in divide\n",
      "\u001b[36m(train_convnet pid=17892)\u001b[0m   a.append(np.divide(np.linalg.norm(tsrecon[ind_m, :]-tsrecon[ind, :], ord=np.inf, axis=1),\n"
     ]
    },
    {
     "name": "stdout",
     "output_type": "stream",
     "text": [
      "\u001b[36m(train_convnet pid=17892)\u001b[0m Data has been embedded using a delay of 19 timesteps and an embedding dimension of 5\n"
     ]
    },
    {
     "name": "stderr",
     "output_type": "stream",
     "text": [
      "\u001b[36m(train_convnet pid=75177)\u001b[0m Checkpoint successfully created at: Checkpoint(filesystem=local, path=/home/michael/Synology/Desktop/Data/Python/Gait-Signatures/ray_results/pb2/train_convnet_6f9de_00010_10_alpha=0.0000,batch_size=32,dec_dropout=0.2241,latent_dim=8,lr=0.0015,rnn_hidden=128,timesteps_per_tri_2024-04-01_03-03-38/checkpoint_000003)\n",
      "\u001b[36m(train_convnet pid=21335)\u001b[0m Restored on 170.140.242.239 from checkpoint: Checkpoint(filesystem=local, path=/home/michael/Synology/Desktop/Data/Python/Gait-Signatures/ray_results/pb2/train_convnet_6f9de_00021_21_alpha=0.0001,batch_size=32,dec_dropout=0.2106,latent_dim=16,lr=0.0042,rnn_hidden=128,timesteps_per_tr_2024-04-01_03-03-38/checkpoint_000003)\n",
      "\u001b[36m(train_convnet pid=21335)\u001b[0m /tmp/ray/session_2024-04-01_02-53-14_060472_46839/runtime_resources/working_dir_files/_ray_pkg_4a5ca631833e4fab/src/tde.py:132: RuntimeWarning: divide by zero encountered in divide\n",
      "\u001b[36m(train_convnet pid=21335)\u001b[0m   a.append(np.divide(np.linalg.norm(tsrecon[ind_m, :]-tsrecon[ind, :], ord=np.inf, axis=1),\n",
      "\u001b[36m(train_convnet pid=21335)\u001b[0m /tmp/ray/session_2024-04-01_02-53-14_060472_46839/runtime_resources/working_dir_files/_ray_pkg_4a5ca631833e4fab/src/tde.py:132: RuntimeWarning: invalid value encountered in divide\n",
      "\u001b[36m(train_convnet pid=21335)\u001b[0m   a.append(np.divide(np.linalg.norm(tsrecon[ind_m, :]-tsrecon[ind, :], ord=np.inf, axis=1),\n"
     ]
    },
    {
     "name": "stdout",
     "output_type": "stream",
     "text": [
      "\u001b[36m(train_convnet pid=21335)\u001b[0m Data has been embedded using a delay of 19 timesteps and an embedding dimension of 5\n"
     ]
    },
    {
     "name": "stderr",
     "output_type": "stream",
     "text": [
      "\u001b[36m(train_convnet pid=88895)\u001b[0m Checkpoint successfully created at: Checkpoint(filesystem=local, path=/home/michael/Synology/Desktop/Data/Python/Gait-Signatures/ray_results/pb2/train_convnet_6f9de_00003_3_alpha=0.0001,batch_size=32,dec_dropout=0.2684,latent_dim=32,lr=0.0026,rnn_hidden=256,timesteps_per_tri_2024-04-01_03-03-38/checkpoint_000004)\n",
      "\u001b[36m(train_convnet pid=24349)\u001b[0m Restored on 170.140.242.239 from checkpoint: Checkpoint(filesystem=local, path=/home/michael/Synology/Desktop/Data/Python/Gait-Signatures/ray_results/pb2/train_convnet_6f9de_00010_10_alpha=0.0000,batch_size=32,dec_dropout=0.2241,latent_dim=8,lr=0.0015,rnn_hidden=128,timesteps_per_tri_2024-04-01_03-03-38/checkpoint_000003)\n",
      "\u001b[36m(train_convnet pid=24349)\u001b[0m /tmp/ray/session_2024-04-01_02-53-14_060472_46839/runtime_resources/working_dir_files/_ray_pkg_4a5ca631833e4fab/src/tde.py:132: RuntimeWarning: divide by zero encountered in divide\n",
      "\u001b[36m(train_convnet pid=24349)\u001b[0m   a.append(np.divide(np.linalg.norm(tsrecon[ind_m, :]-tsrecon[ind, :], ord=np.inf, axis=1),\n",
      "\u001b[36m(train_convnet pid=24349)\u001b[0m /tmp/ray/session_2024-04-01_02-53-14_060472_46839/runtime_resources/working_dir_files/_ray_pkg_4a5ca631833e4fab/src/tde.py:132: RuntimeWarning: invalid value encountered in divide\n",
      "\u001b[36m(train_convnet pid=24349)\u001b[0m   a.append(np.divide(np.linalg.norm(tsrecon[ind_m, :]-tsrecon[ind, :], ord=np.inf, axis=1),\n"
     ]
    },
    {
     "name": "stdout",
     "output_type": "stream",
     "text": [
      "\u001b[36m(train_convnet pid=24349)\u001b[0m Data has been embedded using a delay of 19 timesteps and an embedding dimension of 5\n"
     ]
    },
    {
     "name": "stderr",
     "output_type": "stream",
     "text": [
      "\u001b[36m(train_convnet pid=2169)\u001b[0m Checkpoint successfully created at: Checkpoint(filesystem=local, path=/home/michael/Synology/Desktop/Data/Python/Gait-Signatures/ray_results/pb2/train_convnet_6f9de_00004_4_alpha=0.0001,batch_size=32,dec_dropout=0.1387,latent_dim=8,lr=0.0057,rnn_hidden=32,timesteps_per_trial_2024-04-01_03-03-38/checkpoint_000005)\n",
      "\u001b[36m(train_convnet pid=27508)\u001b[0m Restored on 170.140.242.239 from checkpoint: Checkpoint(filesystem=local, path=/home/michael/Synology/Desktop/Data/Python/Gait-Signatures/ray_results/pb2/train_convnet_6f9de_00003_3_alpha=0.0001,batch_size=32,dec_dropout=0.2684,latent_dim=32,lr=0.0026,rnn_hidden=256,timesteps_per_tri_2024-04-01_03-03-38/checkpoint_000004)\n",
      "\u001b[36m(train_convnet pid=27508)\u001b[0m /tmp/ray/session_2024-04-01_02-53-14_060472_46839/runtime_resources/working_dir_files/_ray_pkg_4a5ca631833e4fab/src/tde.py:132: RuntimeWarning: divide by zero encountered in divide\n",
      "\u001b[36m(train_convnet pid=27508)\u001b[0m   a.append(np.divide(np.linalg.norm(tsrecon[ind_m, :]-tsrecon[ind, :], ord=np.inf, axis=1),\n",
      "\u001b[36m(train_convnet pid=27508)\u001b[0m /tmp/ray/session_2024-04-01_02-53-14_060472_46839/runtime_resources/working_dir_files/_ray_pkg_4a5ca631833e4fab/src/tde.py:132: RuntimeWarning: invalid value encountered in divide\n",
      "\u001b[36m(train_convnet pid=27508)\u001b[0m   a.append(np.divide(np.linalg.norm(tsrecon[ind_m, :]-tsrecon[ind, :], ord=np.inf, axis=1),\n"
     ]
    },
    {
     "name": "stdout",
     "output_type": "stream",
     "text": [
      "\u001b[36m(train_convnet pid=27508)\u001b[0m Data has been embedded using a delay of 19 timesteps and an embedding dimension of 5\n"
     ]
    },
    {
     "name": "stderr",
     "output_type": "stream",
     "text": [
      "\u001b[36m(train_convnet pid=94113)\u001b[0m Checkpoint successfully created at: Checkpoint(filesystem=local, path=/home/michael/Synology/Desktop/Data/Python/Gait-Signatures/ray_results/pb2/train_convnet_6f9de_00005_5_alpha=0.0000,batch_size=32,dec_dropout=0.1197,latent_dim=16,lr=0.0083,rnn_hidden=256,timesteps_per_tri_2024-04-01_03-03-38/checkpoint_000005)\n",
      "\u001b[36m(train_convnet pid=30703)\u001b[0m Restored on 170.140.242.239 from checkpoint: Checkpoint(filesystem=local, path=/home/michael/Synology/Desktop/Data/Python/Gait-Signatures/ray_results/pb2/train_convnet_6f9de_00016_16_alpha=0.0000,batch_size=32,dec_dropout=0.1390,latent_dim=32,lr=0.0011,rnn_hidden=128,timesteps_per_tr_2024-04-01_03-03-38/checkpoint_000005)\n",
      "\u001b[36m(train_convnet pid=30703)\u001b[0m /tmp/ray/session_2024-04-01_02-53-14_060472_46839/runtime_resources/working_dir_files/_ray_pkg_4a5ca631833e4fab/src/tde.py:132: RuntimeWarning: divide by zero encountered in divide\n",
      "\u001b[36m(train_convnet pid=30703)\u001b[0m   a.append(np.divide(np.linalg.norm(tsrecon[ind_m, :]-tsrecon[ind, :], ord=np.inf, axis=1),\n",
      "\u001b[36m(train_convnet pid=30703)\u001b[0m /tmp/ray/session_2024-04-01_02-53-14_060472_46839/runtime_resources/working_dir_files/_ray_pkg_4a5ca631833e4fab/src/tde.py:132: RuntimeWarning: invalid value encountered in divide\n",
      "\u001b[36m(train_convnet pid=30703)\u001b[0m   a.append(np.divide(np.linalg.norm(tsrecon[ind_m, :]-tsrecon[ind, :], ord=np.inf, axis=1),\n"
     ]
    },
    {
     "name": "stdout",
     "output_type": "stream",
     "text": [
      "\u001b[36m(train_convnet pid=30703)\u001b[0m Data has been embedded using a delay of 19 timesteps and an embedding dimension of 5\n"
     ]
    },
    {
     "name": "stderr",
     "output_type": "stream",
     "text": [
      "\u001b[36m(train_convnet pid=2667)\u001b[0m Checkpoint successfully created at: Checkpoint(filesystem=local, path=/home/michael/Synology/Desktop/Data/Python/Gait-Signatures/ray_results/pb2/train_convnet_6f9de_00006_6_alpha=0.0000,batch_size=32,dec_dropout=0.1047,latent_dim=8,lr=0.0058,rnn_hidden=256,timesteps_per_tria_2024-04-01_03-03-38/checkpoint_000006)\n",
      "\u001b[36m(train_convnet pid=31556)\u001b[0m Restored on 170.140.242.239 from checkpoint: Checkpoint(filesystem=local, path=/home/michael/Synology/Desktop/Data/Python/Gait-Signatures/ray_results/pb2/train_convnet_6f9de_00005_5_alpha=0.0000,batch_size=32,dec_dropout=0.1197,latent_dim=16,lr=0.0083,rnn_hidden=256,timesteps_per_tri_2024-04-01_03-03-38/checkpoint_000005)\n",
      "\u001b[36m(train_convnet pid=31556)\u001b[0m /tmp/ray/session_2024-04-01_02-53-14_060472_46839/runtime_resources/working_dir_files/_ray_pkg_4a5ca631833e4fab/src/tde.py:132: RuntimeWarning: divide by zero encountered in divide\n",
      "\u001b[36m(train_convnet pid=31556)\u001b[0m   a.append(np.divide(np.linalg.norm(tsrecon[ind_m, :]-tsrecon[ind, :], ord=np.inf, axis=1),\n",
      "\u001b[36m(train_convnet pid=31556)\u001b[0m /tmp/ray/session_2024-04-01_02-53-14_060472_46839/runtime_resources/working_dir_files/_ray_pkg_4a5ca631833e4fab/src/tde.py:132: RuntimeWarning: invalid value encountered in divide\n",
      "\u001b[36m(train_convnet pid=31556)\u001b[0m   a.append(np.divide(np.linalg.norm(tsrecon[ind_m, :]-tsrecon[ind, :], ord=np.inf, axis=1),\n"
     ]
    },
    {
     "name": "stdout",
     "output_type": "stream",
     "text": [
      "\u001b[36m(train_convnet pid=31556)\u001b[0m Data has been embedded using a delay of 19 timesteps and an embedding dimension of 5\n"
     ]
    },
    {
     "name": "stderr",
     "output_type": "stream",
     "text": [
      "\u001b[36m(train_convnet pid=74328)\u001b[0m Checkpoint successfully created at: Checkpoint(filesystem=local, path=/home/michael/Synology/Desktop/Data/Python/Gait-Signatures/ray_results/pb2/train_convnet_6f9de_00015_15_alpha=0.0000,batch_size=32,dec_dropout=0.1839,latent_dim=8,lr=0.0059,rnn_hidden=128,timesteps_per_tri_2024-04-01_03-03-38/checkpoint_000003)\n",
      "\u001b[36m(train_convnet pid=33560)\u001b[0m Restored on 170.140.242.239 from checkpoint: Checkpoint(filesystem=local, path=/home/michael/Synology/Desktop/Data/Python/Gait-Signatures/ray_results/pb2/train_convnet_6f9de_00018_18_alpha=0.0000,batch_size=32,dec_dropout=0.0493,latent_dim=32,lr=0.0100,rnn_hidden=256,timesteps_per_tr_2024-04-01_03-03-38/checkpoint_000005)\n",
      "\u001b[36m(train_convnet pid=33560)\u001b[0m /tmp/ray/session_2024-04-01_02-53-14_060472_46839/runtime_resources/working_dir_files/_ray_pkg_4a5ca631833e4fab/src/tde.py:132: RuntimeWarning: divide by zero encountered in divide\n",
      "\u001b[36m(train_convnet pid=33560)\u001b[0m   a.append(np.divide(np.linalg.norm(tsrecon[ind_m, :]-tsrecon[ind, :], ord=np.inf, axis=1),\n",
      "\u001b[36m(train_convnet pid=33560)\u001b[0m /tmp/ray/session_2024-04-01_02-53-14_060472_46839/runtime_resources/working_dir_files/_ray_pkg_4a5ca631833e4fab/src/tde.py:132: RuntimeWarning: invalid value encountered in divide\n",
      "\u001b[36m(train_convnet pid=33560)\u001b[0m   a.append(np.divide(np.linalg.norm(tsrecon[ind_m, :]-tsrecon[ind, :], ord=np.inf, axis=1),\n",
      "\u001b[36m(train_convnet pid=5841)\u001b[0m Checkpoint successfully created at: Checkpoint(filesystem=local, path=/home/michael/Synology/Desktop/Data/Python/Gait-Signatures/ray_results/pb2/train_convnet_6f9de_00008_8_alpha=0.0001,batch_size=32,dec_dropout=0.2858,latent_dim=16,lr=0.0042,rnn_hidden=64,timesteps_per_tria_2024-04-01_03-03-38/checkpoint_000006)\n"
     ]
    },
    {
     "name": "stdout",
     "output_type": "stream",
     "text": [
      "\u001b[36m(train_convnet pid=33560)\u001b[0m Data has been embedded using a delay of 19 timesteps and an embedding dimension of 5\n"
     ]
    },
    {
     "name": "stderr",
     "output_type": "stream",
     "text": [
      "\u001b[36m(train_convnet pid=34284)\u001b[0m Restored on 170.140.242.239 from checkpoint: Checkpoint(filesystem=local, path=/home/michael/Synology/Desktop/Data/Python/Gait-Signatures/ray_results/pb2/train_convnet_6f9de_00015_15_alpha=0.0000,batch_size=32,dec_dropout=0.1839,latent_dim=8,lr=0.0059,rnn_hidden=128,timesteps_per_tri_2024-04-01_03-03-38/checkpoint_000003)\n",
      "\u001b[36m(train_convnet pid=34284)\u001b[0m /tmp/ray/session_2024-04-01_02-53-14_060472_46839/runtime_resources/working_dir_files/_ray_pkg_4a5ca631833e4fab/src/tde.py:132: RuntimeWarning: divide by zero encountered in divide\n",
      "\u001b[36m(train_convnet pid=34284)\u001b[0m   a.append(np.divide(np.linalg.norm(tsrecon[ind_m, :]-tsrecon[ind, :], ord=np.inf, axis=1),\n",
      "\u001b[36m(train_convnet pid=34284)\u001b[0m /tmp/ray/session_2024-04-01_02-53-14_060472_46839/runtime_resources/working_dir_files/_ray_pkg_4a5ca631833e4fab/src/tde.py:132: RuntimeWarning: invalid value encountered in divide\n",
      "\u001b[36m(train_convnet pid=34284)\u001b[0m   a.append(np.divide(np.linalg.norm(tsrecon[ind_m, :]-tsrecon[ind, :], ord=np.inf, axis=1),\n"
     ]
    },
    {
     "name": "stdout",
     "output_type": "stream",
     "text": [
      "\u001b[36m(train_convnet pid=34284)\u001b[0m Data has been embedded using a delay of 19 timesteps and an embedding dimension of 5\n"
     ]
    }
   ],
   "source": [
    "if ray.is_initialized():\n",
    "    ray.shutdown()\n",
    "ray.init(runtime_env={\"working_dir\": \"/home/michael/Synology/Desktop/Data/Python/Gait-Signatures/NeuralODE/DDFA_NODE/\"})"
   ]
  },
  {
   "cell_type": "code",
   "execution_count": null,
   "id": "ff0c18ca-a5e9-4340-9187-64c85d84cfb2",
   "metadata": {},
   "outputs": [
    {
     "data": {
      "text/html": [
       "<div class=\"tuneStatus\">\n",
       "  <div style=\"display: flex;flex-direction: row\">\n",
       "    <div style=\"display: flex;flex-direction: column;\">\n",
       "      <h3>Tune Status</h3>\n",
       "      <table>\n",
       "<tbody>\n",
       "<tr><td>Current time:</td><td>2024-04-01 06:13:45</td></tr>\n",
       "<tr><td>Running for: </td><td>03:10:07.72        </td></tr>\n",
       "<tr><td>Memory:      </td><td>68.4/94.3 GiB      </td></tr>\n",
       "</tbody>\n",
       "</table>\n",
       "    </div>\n",
       "    <div class=\"vDivider\"></div>\n",
       "    <div class=\"systemInfo\">\n",
       "      <h3>System Info</h3>\n",
       "      PopulationBasedTraining: 55 checkpoints, 32 perturbs<br>Logical resource usage: 21.0/64 CPUs, 2.7299999999999986/3 GPUs (0.0/1.0 accelerator_type:G)\n",
       "    </div>\n",
       "    <div class=\"vDivider\"></div>\n",
       "<div class=\"messages\">\n",
       "  <h3>Messages</h3>\n",
       "  \n",
       "  ... 10 more trials not shown (10 RUNNING)\n",
       "  \n",
       "</div>\n",
       "<style>\n",
       ".messages {\n",
       "  color: var(--jp-ui-font-color1);\n",
       "  display: flex;\n",
       "  flex-direction: column;\n",
       "  padding-left: 1em;\n",
       "  overflow-y: auto;\n",
       "}\n",
       ".messages h3 {\n",
       "  font-weight: bold;\n",
       "}\n",
       ".vDivider {\n",
       "  border-left-width: var(--jp-border-width);\n",
       "  border-left-color: var(--jp-border-color0);\n",
       "  border-left-style: solid;\n",
       "  margin: 0.5em 1em 0.5em 1em;\n",
       "}\n",
       "</style>\n",
       "\n",
       "  </div>\n",
       "  <div class=\"hDivider\"></div>\n",
       "  <div class=\"trialStatus\">\n",
       "    <h3>Trial Status</h3>\n",
       "    <table>\n",
       "<thead>\n",
       "<tr><th>Trial name               </th><th>status  </th><th>loc                   </th><th style=\"text-align: right;\">      alpha</th><th style=\"text-align: right;\">  batch_size</th><th style=\"text-align: right;\">  dec_dropout</th><th style=\"text-align: right;\">  latent_dim</th><th style=\"text-align: right;\">         lr</th><th style=\"text-align: right;\">  rnn_hidden</th><th style=\"text-align: right;\">  timesteps_per_trial</th><th style=\"text-align: right;\">  weight_decay</th><th style=\"text-align: right;\">  iter</th><th style=\"text-align: right;\">  total time (s)</th><th style=\"text-align: right;\">  total_loss</th><th style=\"text-align: right;\">  kl_loss</th><th style=\"text-align: right;\">  mse_loss</th></tr>\n",
       "</thead>\n",
       "<tbody>\n",
       "<tr><td>train_convnet_6f9de_00000</td><td>RUNNING </td><td>170.140.242.239:8874  </td><td style=\"text-align: right;\">0          </td><td style=\"text-align: right;\">          32</td><td style=\"text-align: right;\">     0       </td><td style=\"text-align: right;\">          32</td><td style=\"text-align: right;\">0.01       </td><td style=\"text-align: right;\">         128</td><td style=\"text-align: right;\">                  500</td><td style=\"text-align: right;\">    0         </td><td style=\"text-align: right;\">    63</td><td style=\"text-align: right;\">         6813.99</td><td style=\"text-align: right;\">   -0.729248</td><td style=\"text-align: right;\"> -91222.5</td><td style=\"text-align: right;\"> -0.729248</td></tr>\n",
       "<tr><td>train_convnet_6f9de_00002</td><td>RUNNING </td><td>170.140.242.239:16260 </td><td style=\"text-align: right;\">8.27208e-05</td><td style=\"text-align: right;\">          32</td><td style=\"text-align: right;\">     0.159656</td><td style=\"text-align: right;\">           8</td><td style=\"text-align: right;\">0.00394016 </td><td style=\"text-align: right;\">          32</td><td style=\"text-align: right;\">                  500</td><td style=\"text-align: right;\">    0.00184234</td><td style=\"text-align: right;\">    42</td><td style=\"text-align: right;\">        10733.4 </td><td style=\"text-align: right;\">   -2.2749  </td><td style=\"text-align: right;\"> -24630.1</td><td style=\"text-align: right;\"> -0.237481</td></tr>\n",
       "<tr><td>train_convnet_6f9de_00003</td><td>RUNNING </td><td>170.140.242.239:27508 </td><td style=\"text-align: right;\">0          </td><td style=\"text-align: right;\">          32</td><td style=\"text-align: right;\">     0       </td><td style=\"text-align: right;\">           8</td><td style=\"text-align: right;\">0.01       </td><td style=\"text-align: right;\">         256</td><td style=\"text-align: right;\">                  500</td><td style=\"text-align: right;\">    0.01      </td><td style=\"text-align: right;\">    41</td><td style=\"text-align: right;\">         9731.02</td><td style=\"text-align: right;\">   -1.04195 </td><td style=\"text-align: right;\">-133206  </td><td style=\"text-align: right;\"> -1.04195 </td></tr>\n",
       "<tr><td>train_convnet_6f9de_00005</td><td>RUNNING </td><td>170.140.242.239:94113 </td><td style=\"text-align: right;\">0          </td><td style=\"text-align: right;\">          32</td><td style=\"text-align: right;\">     0.4     </td><td style=\"text-align: right;\">           8</td><td style=\"text-align: right;\">0.01       </td><td style=\"text-align: right;\">         256</td><td style=\"text-align: right;\">                  500</td><td style=\"text-align: right;\">    0.01      </td><td style=\"text-align: right;\">    30</td><td style=\"text-align: right;\">         7053.78</td><td style=\"text-align: right;\">   -0.687973</td><td style=\"text-align: right;\"> -85433.6</td><td style=\"text-align: right;\"> -0.687973</td></tr>\n",
       "<tr><td>train_convnet_6f9de_00007</td><td>RUNNING </td><td>170.140.242.239:70803 </td><td style=\"text-align: right;\">0.001      </td><td style=\"text-align: right;\">          32</td><td style=\"text-align: right;\">     0.4     </td><td style=\"text-align: right;\">          32</td><td style=\"text-align: right;\">0.01       </td><td style=\"text-align: right;\">         128</td><td style=\"text-align: right;\">                  500</td><td style=\"text-align: right;\">    0         </td><td style=\"text-align: right;\">    59</td><td style=\"text-align: right;\">         7675.24</td><td style=\"text-align: right;\"> -115.495   </td><td style=\"text-align: right;\">-114594  </td><td style=\"text-align: right;\"> -0.901544</td></tr>\n",
       "<tr><td>train_convnet_6f9de_00009</td><td>RUNNING </td><td>170.140.242.239:9883  </td><td style=\"text-align: right;\">1.26048e-05</td><td style=\"text-align: right;\">          32</td><td style=\"text-align: right;\">     0.286109</td><td style=\"text-align: right;\">           8</td><td style=\"text-align: right;\">1e-05      </td><td style=\"text-align: right;\">         256</td><td style=\"text-align: right;\">                  150</td><td style=\"text-align: right;\">    0.00945395</td><td style=\"text-align: right;\">    69</td><td style=\"text-align: right;\">         6234.27</td><td style=\"text-align: right;\">   -2.72555 </td><td style=\"text-align: right;\">-133434  </td><td style=\"text-align: right;\"> -1.04364 </td></tr>\n",
       "<tr><td>train_convnet_6f9de_00010</td><td>RUNNING </td><td>170.140.242.239:24349 </td><td style=\"text-align: right;\">0          </td><td style=\"text-align: right;\">          32</td><td style=\"text-align: right;\">     0       </td><td style=\"text-align: right;\">           8</td><td style=\"text-align: right;\">0.01       </td><td style=\"text-align: right;\">         128</td><td style=\"text-align: right;\">                  500</td><td style=\"text-align: right;\">    0.01      </td><td style=\"text-align: right;\">    41</td><td style=\"text-align: right;\">        10782.1 </td><td style=\"text-align: right;\">   -0.785978</td><td style=\"text-align: right;\"> -98659.3</td><td style=\"text-align: right;\"> -0.785978</td></tr>\n",
       "<tr><td>train_convnet_6f9de_00011</td><td>RUNNING </td><td>170.140.242.239:11497 </td><td style=\"text-align: right;\">5.62214e-07</td><td style=\"text-align: right;\">          32</td><td style=\"text-align: right;\">     0.152946</td><td style=\"text-align: right;\">          32</td><td style=\"text-align: right;\">0.00607993 </td><td style=\"text-align: right;\">          64</td><td style=\"text-align: right;\">                  500</td><td style=\"text-align: right;\">    0.0064938 </td><td style=\"text-align: right;\">    69</td><td style=\"text-align: right;\">         6445.98</td><td style=\"text-align: right;\">   -1.11598 </td><td style=\"text-align: right;\">-133098  </td><td style=\"text-align: right;\"> -1.04115 </td></tr>\n",
       "<tr><td>train_convnet_6f9de_00012</td><td>RUNNING </td><td>170.140.242.239:108348</td><td style=\"text-align: right;\">0.001      </td><td style=\"text-align: right;\">          32</td><td style=\"text-align: right;\">     0       </td><td style=\"text-align: right;\">          32</td><td style=\"text-align: right;\">0.01       </td><td style=\"text-align: right;\">          64</td><td style=\"text-align: right;\">                  500</td><td style=\"text-align: right;\">    0         </td><td style=\"text-align: right;\">    38</td><td style=\"text-align: right;\">         8108.2 </td><td style=\"text-align: right;\">  -81.8086  </td><td style=\"text-align: right;\"> -81153.9</td><td style=\"text-align: right;\"> -0.654705</td></tr>\n",
       "<tr><td>train_convnet_6f9de_00013</td><td>RUNNING </td><td>170.140.242.239:12191 </td><td style=\"text-align: right;\">0          </td><td style=\"text-align: right;\">          32</td><td style=\"text-align: right;\">     0.4     </td><td style=\"text-align: right;\">          32</td><td style=\"text-align: right;\">0.01       </td><td style=\"text-align: right;\">         128</td><td style=\"text-align: right;\">                  500</td><td style=\"text-align: right;\">    0         </td><td style=\"text-align: right;\">    62</td><td style=\"text-align: right;\">         6499.91</td><td style=\"text-align: right;\">   -0.847668</td><td style=\"text-align: right;\">-107210  </td><td style=\"text-align: right;\"> -0.847668</td></tr>\n",
       "<tr><td>train_convnet_6f9de_00014</td><td>RUNNING </td><td>170.140.242.239:15101 </td><td style=\"text-align: right;\">1.42971e-05</td><td style=\"text-align: right;\">          32</td><td style=\"text-align: right;\">     0.104716</td><td style=\"text-align: right;\">           8</td><td style=\"text-align: right;\">0.00579981 </td><td style=\"text-align: right;\">         256</td><td style=\"text-align: right;\">                  150</td><td style=\"text-align: right;\">    0.00793096</td><td style=\"text-align: right;\">    67</td><td style=\"text-align: right;\">         6332.79</td><td style=\"text-align: right;\">   -2.92842 </td><td style=\"text-align: right;\">-132377  </td><td style=\"text-align: right;\"> -1.03581 </td></tr>\n",
       "<tr><td>train_convnet_6f9de_00001</td><td>PAUSED  </td><td>170.140.242.239:119139</td><td style=\"text-align: right;\">3.12782e-06</td><td style=\"text-align: right;\">          32</td><td style=\"text-align: right;\">     0.207213</td><td style=\"text-align: right;\">           8</td><td style=\"text-align: right;\">0.00308186 </td><td style=\"text-align: right;\">         256</td><td style=\"text-align: right;\">                  150</td><td style=\"text-align: right;\">    0.00327608</td><td style=\"text-align: right;\">    70</td><td style=\"text-align: right;\">         6315.65</td><td style=\"text-align: right;\">   -1.45515 </td><td style=\"text-align: right;\">-132879  </td><td style=\"text-align: right;\"> -1.03953 </td></tr>\n",
       "<tr><td>train_convnet_6f9de_00004</td><td>PAUSED  </td><td>170.140.242.239:2169  </td><td style=\"text-align: right;\">2.05927e-06</td><td style=\"text-align: right;\">          32</td><td style=\"text-align: right;\">     0.139037</td><td style=\"text-align: right;\">          32</td><td style=\"text-align: right;\">0.00111789 </td><td style=\"text-align: right;\">         128</td><td style=\"text-align: right;\">                  500</td><td style=\"text-align: right;\">    0.00133912</td><td style=\"text-align: right;\">    70</td><td style=\"text-align: right;\">         6466.94</td><td style=\"text-align: right;\">   -1.31377 </td><td style=\"text-align: right;\">-132943  </td><td style=\"text-align: right;\"> -1.04    </td></tr>\n",
       "<tr><td>train_convnet_6f9de_00006</td><td>PAUSED  </td><td>170.140.242.239:2667  </td><td style=\"text-align: right;\">1.42971e-05</td><td style=\"text-align: right;\">          32</td><td style=\"text-align: right;\">     0.104716</td><td style=\"text-align: right;\">           8</td><td style=\"text-align: right;\">0.00579981 </td><td style=\"text-align: right;\">         256</td><td style=\"text-align: right;\">                  150</td><td style=\"text-align: right;\">    0.00793096</td><td style=\"text-align: right;\">    70</td><td style=\"text-align: right;\">         6511.41</td><td style=\"text-align: right;\">   -2.93695 </td><td style=\"text-align: right;\">-132770  </td><td style=\"text-align: right;\"> -1.03872 </td></tr>\n",
       "<tr><td>train_convnet_6f9de_00022</td><td>PAUSED  </td><td>170.140.242.239:104424</td><td style=\"text-align: right;\">0          </td><td style=\"text-align: right;\">          32</td><td style=\"text-align: right;\">     0.4     </td><td style=\"text-align: right;\">          32</td><td style=\"text-align: right;\">0.01       </td><td style=\"text-align: right;\">          64</td><td style=\"text-align: right;\">                  500</td><td style=\"text-align: right;\">    0.01      </td><td style=\"text-align: right;\">    60</td><td style=\"text-align: right;\">         5642.43</td><td style=\"text-align: right;\">   -1.04652 </td><td style=\"text-align: right;\">-133823  </td><td style=\"text-align: right;\"> -1.04652 </td></tr>\n",
       "<tr><td>train_convnet_6f9de_00023</td><td>PAUSED  </td><td>170.140.242.239:105619</td><td style=\"text-align: right;\">2.05927e-06</td><td style=\"text-align: right;\">          32</td><td style=\"text-align: right;\">     0.139037</td><td style=\"text-align: right;\">          32</td><td style=\"text-align: right;\">0.00111789 </td><td style=\"text-align: right;\">         128</td><td style=\"text-align: right;\">                  500</td><td style=\"text-align: right;\">    0.00133912</td><td style=\"text-align: right;\">    60</td><td style=\"text-align: right;\">         5502.04</td><td style=\"text-align: right;\">   -1.32219 </td><td style=\"text-align: right;\">-133833  </td><td style=\"text-align: right;\"> -1.04659 </td></tr>\n",
       "<tr><td>train_convnet_6f9de_00025</td><td>PAUSED  </td><td>170.140.242.239:110395</td><td style=\"text-align: right;\">0          </td><td style=\"text-align: right;\">          32</td><td style=\"text-align: right;\">     0.4     </td><td style=\"text-align: right;\">          32</td><td style=\"text-align: right;\">0.003672   </td><td style=\"text-align: right;\">          64</td><td style=\"text-align: right;\">                  500</td><td style=\"text-align: right;\">    0.01      </td><td style=\"text-align: right;\">    60</td><td style=\"text-align: right;\">         5603.73</td><td style=\"text-align: right;\">   -1.03369 </td><td style=\"text-align: right;\">-132090  </td><td style=\"text-align: right;\"> -1.03369 </td></tr>\n",
       "<tr><td>train_convnet_6f9de_00028</td><td>PAUSED  </td><td>170.140.242.239:111313</td><td style=\"text-align: right;\">1.54831e-05</td><td style=\"text-align: right;\">          32</td><td style=\"text-align: right;\">     0.239383</td><td style=\"text-align: right;\">           8</td><td style=\"text-align: right;\">0.000481261</td><td style=\"text-align: right;\">         128</td><td style=\"text-align: right;\">                  300</td><td style=\"text-align: right;\">    0.00157791</td><td style=\"text-align: right;\">    60</td><td style=\"text-align: right;\">         5719.09</td><td style=\"text-align: right;\">   -3.1134  </td><td style=\"text-align: right;\">-133600  </td><td style=\"text-align: right;\"> -1.04487 </td></tr>\n",
       "<tr><td>train_convnet_6f9de_00029</td><td>PAUSED  </td><td>170.140.242.239:114773</td><td style=\"text-align: right;\">6.79837e-06</td><td style=\"text-align: right;\">          32</td><td style=\"text-align: right;\">     0.238654</td><td style=\"text-align: right;\">           8</td><td style=\"text-align: right;\">0.00220324 </td><td style=\"text-align: right;\">         128</td><td style=\"text-align: right;\">                  300</td><td style=\"text-align: right;\">    0.00440956</td><td style=\"text-align: right;\">    60</td><td style=\"text-align: right;\">         5494.07</td><td style=\"text-align: right;\">   -1.95752 </td><td style=\"text-align: right;\">-133909  </td><td style=\"text-align: right;\"> -1.04716 </td></tr>\n",
       "<tr><td>train_convnet_6f9de_00008</td><td>PENDING </td><td>170.140.242.239:5841  </td><td style=\"text-align: right;\">0          </td><td style=\"text-align: right;\">          32</td><td style=\"text-align: right;\">     0.4     </td><td style=\"text-align: right;\">           8</td><td style=\"text-align: right;\">0.00280467 </td><td style=\"text-align: right;\">         256</td><td style=\"text-align: right;\">                  500</td><td style=\"text-align: right;\">    0         </td><td style=\"text-align: right;\">    70</td><td style=\"text-align: right;\">         6526.78</td><td style=\"text-align: right;\">   -3.09063 </td><td style=\"text-align: right;\">-132605  </td><td style=\"text-align: right;\"> -1.0375  </td></tr>\n",
       "</tbody>\n",
       "</table>\n",
       "  </div>\n",
       "</div>\n",
       "<style>\n",
       ".tuneStatus {\n",
       "  color: var(--jp-ui-font-color1);\n",
       "}\n",
       ".tuneStatus .systemInfo {\n",
       "  display: flex;\n",
       "  flex-direction: column;\n",
       "}\n",
       ".tuneStatus td {\n",
       "  white-space: nowrap;\n",
       "}\n",
       ".tuneStatus .trialStatus {\n",
       "  display: flex;\n",
       "  flex-direction: column;\n",
       "}\n",
       ".tuneStatus h3 {\n",
       "  font-weight: bold;\n",
       "}\n",
       ".tuneStatus .hDivider {\n",
       "  border-bottom-width: var(--jp-border-width);\n",
       "  border-bottom-color: var(--jp-border-color0);\n",
       "  border-bottom-style: solid;\n",
       "}\n",
       ".tuneStatus .vDivider {\n",
       "  border-left-width: var(--jp-border-width);\n",
       "  border-left-color: var(--jp-border-color0);\n",
       "  border-left-style: solid;\n",
       "  margin: 0.5em 1em 0.5em 1em;\n",
       "}\n",
       "</style>\n"
      ],
      "text/plain": [
       "<IPython.core.display.HTML object>"
      ]
     },
     "metadata": {},
     "output_type": "display_data"
    },
    {
     "name": "stderr",
     "output_type": "stream",
     "text": [
      "2024-04-01 03:18:54,591\tINFO pbt.py:716 -- [pbt]: no checkpoint for trial train_convnet_6f9de_00001. Skip exploit for Trial train_convnet_6f9de_00009\n",
      "2024-04-01 03:19:53,976\tINFO pbt.py:716 -- [pbt]: no checkpoint for trial train_convnet_6f9de_00001. Skip exploit for Trial train_convnet_6f9de_00008\n",
      "2024-04-01 03:20:01,775\tINFO pbt.py:878 -- \n",
      "\n",
      "[PB2] [Exploit] Cloning trial 6f9de_00005 (score = -3.867738) into trial 6f9de_00003 (score = -7.596334)\n",
      "\n",
      "2024-04-01 03:20:01,787\tINFO pbt.py:905 -- \n",
      "\n",
      "[PB2] [Explore] Perturbed the hyperparameter config of trial6f9de_00003:\n",
      "lr : 0.008268775796185445 -----> 0.008268775796185445\n",
      "dec_dropout : 0.11965011961349202 -----> 0.11965011961349202\n",
      "alpha : 2.2514530724846572e-05 -----> 2.2514530724846572e-05\n",
      "weight_decay : 0.0019674990871991938 -----> 0.0019674990871991938\n",
      "\n",
      "2024-04-01 03:20:01,833\tINFO pbt.py:878 -- \n",
      "\n",
      "[PB2] [Exploit] Cloning trial 6f9de_00005 (score = -3.867738) into trial 6f9de_00017 (score = -13.391767)\n",
      "\n",
      "2024-04-01 03:20:01,842\tINFO pbt.py:905 -- \n",
      "\n",
      "[PB2] [Explore] Perturbed the hyperparameter config of trial6f9de_00017:\n",
      "lr : 0.008268775796185445 -----> 0.008268775796185445\n",
      "dec_dropout : 0.11965011961349202 -----> 0.11965011961349202\n",
      "alpha : 2.2514530724846572e-05 -----> 2.2514530724846572e-05\n",
      "weight_decay : 0.0019674990871991938 -----> 0.0019674990871991938\n",
      "\n",
      "2024-04-01 03:20:21,086\tINFO pbt.py:878 -- \n",
      "\n",
      "[PB2] [Exploit] Cloning trial 6f9de_00016 (score = -1.257344) into trial 6f9de_00004 (score = -9.775941)\n",
      "\n",
      "2024-04-01 03:20:21,094\tINFO pbt.py:905 -- \n",
      "\n",
      "[PB2] [Explore] Perturbed the hyperparameter config of trial6f9de_00004:\n",
      "lr : 0.0011178901748653807 -----> 0.0011178901748653807\n",
      "dec_dropout : 0.13903736492075114 -----> 0.13903736492075114\n",
      "alpha : 2.0592688169362813e-06 -----> 2.0592688169362813e-06\n",
      "weight_decay : 0.0013391201075199455 -----> 0.0013391201075199455\n",
      "\n",
      "2024-04-01 03:21:11,876\tINFO pbt.py:878 -- \n",
      "\n",
      "[PB2] [Exploit] Cloning trial 6f9de_00006 (score = -2.815655) into trial 6f9de_00014 (score = -12.592930)\n",
      "\n",
      "2024-04-01 03:21:11,887\tINFO pbt.py:905 -- \n",
      "\n",
      "[PB2] [Explore] Perturbed the hyperparameter config of trial6f9de_00014:\n",
      "lr : 0.005799806732087366 -----> 0.005799806732087366\n",
      "dec_dropout : 0.10471623218500299 -----> 0.10471623218500299\n",
      "alpha : 1.4297086244102231e-05 -----> 1.4297086244102231e-05\n",
      "weight_decay : 0.007930964773158442 -----> 0.007930964773158442\n",
      "\n",
      "2024-04-01 03:34:24,654\tINFO pbt.py:716 -- [pbt]: no checkpoint for trial train_convnet_6f9de_00001. Skip exploit for Trial train_convnet_6f9de_00022\n",
      "2024-04-01 03:34:24,906\tINFO pbt.py:878 -- \n",
      "\n",
      "[PB2] [Exploit] Cloning trial 6f9de_00016 (score = -1.257344) into trial 6f9de_00023 (score = -12.930823)\n",
      "\n",
      "2024-04-01 03:34:24,915\tINFO pbt.py:905 -- \n",
      "\n",
      "[PB2] [Explore] Perturbed the hyperparameter config of trial6f9de_00023:\n",
      "lr : 0.0011178901748653807 -----> 0.0011178901748653807\n",
      "dec_dropout : 0.13903736492075114 -----> 0.13903736492075114\n",
      "alpha : 2.0592688169362813e-06 -----> 2.0592688169362813e-06\n",
      "weight_decay : 0.0013391201075199455 -----> 0.0013391201075199455\n",
      "\n",
      "2024-04-01 03:37:10,715\tINFO pbt.py:878 -- \n",
      "\n",
      "[PB2] [Exploit] Cloning trial 6f9de_00028 (score = -2.982659) into trial 6f9de_00008 (score = -10.214180)\n",
      "\n",
      "2024-04-01 03:37:10,726\tINFO pbt.py:905 -- \n",
      "\n",
      "[PB2] [Explore] Perturbed the hyperparameter config of trial6f9de_00008:\n",
      "lr : 0.0004812605519637497 -----> 0.0004812605519637497\n",
      "dec_dropout : 0.23938298442750558 -----> 0.23938298442750558\n",
      "alpha : 1.548305026704879e-05 -----> 1.548305026704879e-05\n",
      "weight_decay : 0.00157791481440278 -----> 0.00157791481440278\n",
      "\n",
      "2024-04-01 03:51:10,562\tINFO pbt.py:878 -- \n",
      "\n",
      "[PB2] [Exploit] Cloning trial 6f9de_00001 (score = -1.396931) into trial 6f9de_00009 (score = -7.389995)\n",
      "\n",
      "2024-04-01 03:51:12,238\tINFO pbt.py:905 -- \n",
      "\n",
      "[PB2] [Explore] Perturbed the hyperparameter config of trial6f9de_00009:\n",
      "lr : 0.003081861141651753 -----> 9.999999747378752e-06\n",
      "dec_dropout : 0.2072125188221385 -----> 0.28610914945602417\n",
      "alpha : 3.1278192362097815e-06 -----> 1.2604812582139857e-05\n",
      "weight_decay : 0.0032760792873793333 -----> 0.009453950449824333\n",
      "\n",
      "2024-04-01 03:51:12,241\tWARNING util.py:202 -- The `scheduler.on_trial_result` operation took 1.682 s, which may be a performance bottleneck.\n",
      "2024-04-01 03:51:12,244\tWARNING util.py:202 -- The `process_trial_result` operation took 1.685 s, which may be a performance bottleneck.\n",
      "2024-04-01 03:51:12,245\tWARNING util.py:202 -- Processing trial results took 1.687 s, which may be a performance bottleneck. Please consider reporting results less frequently to Ray Tune.\n",
      "2024-04-01 03:51:12,246\tWARNING util.py:202 -- The `process_trial_result` operation took 1.687 s, which may be a performance bottleneck.\n",
      "2024-04-01 03:51:28,873\tINFO pbt.py:878 -- \n",
      "\n",
      "[PB2] [Exploit] Cloning trial 6f9de_00001 (score = -1.396931) into trial 6f9de_00013 (score = -6.380838)\n",
      "\n",
      "2024-04-01 03:51:30,339\tINFO pbt.py:905 -- \n",
      "\n",
      "[PB2] [Explore] Perturbed the hyperparameter config of trial6f9de_00013:\n",
      "lr : 0.003081861141651753 -----> 9.999999747378752e-06\n",
      "dec_dropout : 0.2072125188221385 -----> 0.0\n",
      "alpha : 3.1278192362097815e-06 -----> 0.00013189697347115725\n",
      "weight_decay : 0.0032760792873793333 -----> 0.009999999776482582\n",
      "\n",
      "2024-04-01 03:51:30,342\tWARNING util.py:202 -- The `scheduler.on_trial_result` operation took 1.471 s, which may be a performance bottleneck.\n",
      "2024-04-01 03:51:30,345\tWARNING util.py:202 -- The `process_trial_result` operation took 1.475 s, which may be a performance bottleneck.\n",
      "2024-04-01 03:51:30,346\tWARNING util.py:202 -- Processing trial results took 1.476 s, which may be a performance bottleneck. Please consider reporting results less frequently to Ray Tune.\n",
      "2024-04-01 03:51:30,347\tWARNING util.py:202 -- The `process_trial_result` operation took 1.477 s, which may be a performance bottleneck.\n",
      "2024-04-01 03:51:52,322\tINFO pbt.py:878 -- \n",
      "\n",
      "[PB2] [Exploit] Cloning trial 6f9de_00020 (score = -2.302022) into trial 6f9de_00021 (score = -7.829512)\n",
      "\n",
      "2024-04-01 03:51:52,332\tINFO pbt.py:905 -- \n",
      "\n",
      "[PB2] [Explore] Perturbed the hyperparameter config of trial6f9de_00021:\n",
      "lr : 0.0038138868812199215 -----> 0.0038138868812199215\n",
      "dec_dropout : 0.0149886660106832 -----> 0.0149886660106832\n",
      "alpha : 6.450075133769339e-05 -----> 6.450075133769339e-05\n",
      "weight_decay : 0.0010283029220535423 -----> 0.0010283029220535423\n",
      "\n",
      "2024-04-01 03:53:00,490\tINFO pbt.py:878 -- \n",
      "\n",
      "[PB2] [Exploit] Cloning trial 6f9de_00011 (score = -1.075524) into trial 6f9de_00022 (score = -11.008434)\n",
      "\n",
      "2024-04-01 03:53:02,451\tINFO pbt.py:905 -- \n",
      "\n",
      "[PB2] [Explore] Perturbed the hyperparameter config of trial6f9de_00022:\n",
      "lr : 0.006079926021359458 -----> 0.00012893363600596786\n",
      "dec_dropout : 0.1529456417792799 -----> 0.23695148527622223\n",
      "alpha : 5.622141436398235e-07 -----> 0.0009112986153922975\n",
      "weight_decay : 0.0064937999073931465 -----> 0.009999999776482582\n",
      "\n",
      "2024-04-01 03:53:02,454\tWARNING util.py:202 -- The `scheduler.on_trial_result` operation took 1.966 s, which may be a performance bottleneck.\n",
      "2024-04-01 03:53:02,458\tWARNING util.py:202 -- The `process_trial_result` operation took 1.970 s, which may be a performance bottleneck.\n",
      "2024-04-01 03:53:02,459\tWARNING util.py:202 -- Processing trial results took 1.971 s, which may be a performance bottleneck. Please consider reporting results less frequently to Ray Tune.\n",
      "2024-04-01 03:53:02,459\tWARNING util.py:202 -- The `process_trial_result` operation took 1.972 s, which may be a performance bottleneck.\n",
      "2024-04-01 03:53:25,291\tINFO pbt.py:878 -- \n",
      "\n",
      "[PB2] [Exploit] Cloning trial 6f9de_00011 (score = -1.075524) into trial 6f9de_00025 (score = -6.112928)\n",
      "\n",
      "2024-04-01 03:53:27,216\tINFO pbt.py:905 -- \n",
      "\n",
      "[PB2] [Explore] Perturbed the hyperparameter config of trial6f9de_00025:\n",
      "lr : 0.006079926021359458 -----> 0.0036720039788633585\n",
      "dec_dropout : 0.1529456417792799 -----> 0.4000000059604645\n",
      "alpha : 5.622141436398235e-07 -----> 0.0\n",
      "weight_decay : 0.0064937999073931465 -----> 0.009999999776482582\n",
      "\n",
      "2024-04-01 03:53:27,219\tWARNING util.py:202 -- The `scheduler.on_trial_result` operation took 1.930 s, which may be a performance bottleneck.\n",
      "2024-04-01 03:53:27,223\tWARNING util.py:202 -- The `process_trial_result` operation took 1.934 s, which may be a performance bottleneck.\n",
      "2024-04-01 03:53:27,224\tWARNING util.py:202 -- Processing trial results took 1.936 s, which may be a performance bottleneck. Please consider reporting results less frequently to Ray Tune.\n",
      "2024-04-01 03:53:27,225\tWARNING util.py:202 -- The `process_trial_result` operation took 1.936 s, which may be a performance bottleneck.\n",
      "2024-04-01 04:09:11,329\tINFO pbt.py:878 -- \n",
      "\n",
      "[PB2] [Exploit] Cloning trial 6f9de_00016 (score = -1.265355) into trial 6f9de_00013 (score = -17.904007)\n",
      "\n",
      "2024-04-01 04:09:13,576\tINFO pbt.py:905 -- \n",
      "\n",
      "[PB2] [Explore] Perturbed the hyperparameter config of trial6f9de_00013:\n",
      "lr : 0.0011178901748653807 -----> 0.009999999776482582\n",
      "dec_dropout : 0.13903736492075114 -----> 0.4000000059604645\n",
      "alpha : 2.0592688169362813e-06 -----> 0.0008616640698164701\n",
      "weight_decay : 0.0013391201075199455 -----> 0.009335758164525032\n",
      "\n",
      "2024-04-01 04:09:13,579\tWARNING util.py:202 -- The `scheduler.on_trial_result` operation took 2.253 s, which may be a performance bottleneck.\n",
      "2024-04-01 04:09:13,583\tWARNING util.py:202 -- The `process_trial_result` operation took 2.258 s, which may be a performance bottleneck.\n",
      "2024-04-01 04:09:13,584\tWARNING util.py:202 -- Processing trial results took 2.259 s, which may be a performance bottleneck. Please consider reporting results less frequently to Ray Tune.\n",
      "2024-04-01 04:09:13,585\tWARNING util.py:202 -- The `process_trial_result` operation took 2.259 s, which may be a performance bottleneck.\n",
      "2024-04-01 04:09:58,202\tINFO pbt.py:878 -- \n",
      "\n",
      "[PB2] [Exploit] Cloning trial 6f9de_00016 (score = -1.265355) into trial 6f9de_00012 (score = -5.722446)\n",
      "\n",
      "2024-04-01 04:09:59,495\tINFO pbt.py:905 -- \n",
      "\n",
      "[PB2] [Explore] Perturbed the hyperparameter config of trial6f9de_00012:\n",
      "lr : 0.0011178901748653807 -----> 9.999999747378752e-06\n",
      "dec_dropout : 0.13903736492075114 -----> 0.4000000059604645\n",
      "alpha : 2.0592688169362813e-06 -----> 0.0010000000474974513\n",
      "weight_decay : 0.0013391201075199455 -----> 0.0\n",
      "\n",
      "2024-04-01 04:09:59,497\tWARNING util.py:202 -- The `scheduler.on_trial_result` operation took 1.297 s, which may be a performance bottleneck.\n",
      "2024-04-01 04:09:59,501\tWARNING util.py:202 -- The `process_trial_result` operation took 1.301 s, which may be a performance bottleneck.\n",
      "2024-04-01 04:09:59,503\tWARNING util.py:202 -- Processing trial results took 1.303 s, which may be a performance bottleneck. Please consider reporting results less frequently to Ray Tune.\n",
      "2024-04-01 04:09:59,503\tWARNING util.py:202 -- The `process_trial_result` operation took 1.304 s, which may be a performance bottleneck.\n",
      "2024-04-01 04:21:17,992\tINFO pbt.py:878 -- \n",
      "\n",
      "[PB2] [Exploit] Cloning trial 6f9de_00023 (score = -1.269662) into trial 6f9de_00018 (score = -5.416972)\n",
      "\n",
      "2024-04-01 04:21:18,000\tINFO pbt.py:905 -- \n",
      "\n",
      "[PB2] [Explore] Perturbed the hyperparameter config of trial6f9de_00018:\n",
      "lr : 0.0011178901748653807 -----> 0.0011178901748653807\n",
      "dec_dropout : 0.13903736492075114 -----> 0.13903736492075114\n",
      "alpha : 2.0592688169362813e-06 -----> 2.0592688169362813e-06\n",
      "weight_decay : 0.0013391201075199455 -----> 0.0013391201075199455\n",
      "\n",
      "2024-04-01 04:22:06,798\tINFO pbt.py:878 -- \n",
      "\n",
      "[PB2] [Exploit] Cloning trial 6f9de_00016 (score = -1.262391) into trial 6f9de_00022 (score = -117.247925)\n",
      "\n",
      "2024-04-01 04:22:07,406\tINFO pbt.py:905 -- \n",
      "\n",
      "[PB2] [Explore] Perturbed the hyperparameter config of trial6f9de_00022:\n",
      "lr : 0.0011178901748653807 -----> 0.009999999776482582\n",
      "dec_dropout : 0.13903736492075114 -----> 0.0\n",
      "alpha : 2.0592688169362813e-06 -----> 0.0010000000474974513\n",
      "weight_decay : 0.0013391201075199455 -----> 0.0\n",
      "\n",
      "2024-04-01 04:22:07,408\tWARNING util.py:202 -- The `scheduler.on_trial_result` operation took 0.613 s, which may be a performance bottleneck.\n",
      "2024-04-01 04:22:07,413\tWARNING util.py:202 -- The `process_trial_result` operation took 0.618 s, which may be a performance bottleneck.\n",
      "2024-04-01 04:22:07,415\tWARNING util.py:202 -- Processing trial results took 0.619 s, which may be a performance bottleneck. Please consider reporting results less frequently to Ray Tune.\n",
      "2024-04-01 04:22:07,415\tWARNING util.py:202 -- The `process_trial_result` operation took 0.620 s, which may be a performance bottleneck.\n",
      "2024-04-01 04:24:02,379\tINFO pbt.py:878 -- \n",
      "\n",
      "[PB2] [Exploit] Cloning trial 6f9de_00001 (score = -1.398518) into trial 6f9de_00026 (score = -5.360603)\n",
      "\n",
      "2024-04-01 04:24:03,113\tINFO pbt.py:905 -- \n",
      "\n",
      "[PB2] [Explore] Perturbed the hyperparameter config of trial6f9de_00026:\n",
      "lr : 0.003081861141651753 -----> 0.009999999776482582\n",
      "dec_dropout : 0.2072125188221385 -----> 0.4000000059604645\n",
      "alpha : 3.1278192362097815e-06 -----> 0.0010000000474974513\n",
      "weight_decay : 0.0032760792873793333 -----> 0.0\n",
      "\n",
      "2024-04-01 04:24:03,115\tWARNING util.py:202 -- The `scheduler.on_trial_result` operation took 0.740 s, which may be a performance bottleneck.\n",
      "2024-04-01 04:24:03,120\tWARNING util.py:202 -- The `process_trial_result` operation took 0.744 s, which may be a performance bottleneck.\n",
      "2024-04-01 04:24:03,121\tWARNING util.py:202 -- Processing trial results took 0.746 s, which may be a performance bottleneck. Please consider reporting results less frequently to Ray Tune.\n",
      "2024-04-01 04:24:03,122\tWARNING util.py:202 -- The `process_trial_result` operation took 0.747 s, which may be a performance bottleneck.\n",
      "2024-04-01 04:24:03,346\tINFO pbt.py:878 -- \n",
      "\n",
      "[PB2] [Exploit] Cloning trial 6f9de_00024 (score = -1.966045) into trial 6f9de_00027 (score = -5.373696)\n",
      "\n",
      "2024-04-01 04:24:03,354\tINFO pbt.py:905 -- \n",
      "\n",
      "[PB2] [Explore] Perturbed the hyperparameter config of trial6f9de_00027:\n",
      "lr : 0.0022304716288144544 -----> 0.0022304716288144544\n",
      "dec_dropout : 0.03005691738199471 -----> 0.03005691738199471\n",
      "alpha : 3.181870212143622e-05 -----> 3.181870212143622e-05\n",
      "weight_decay : 0.0011126917221564458 -----> 0.0011126917221564458\n",
      "\n",
      "2024-04-01 04:27:54,464\tINFO pbt.py:878 -- \n",
      "\n",
      "[PB2] [Exploit] Cloning trial 6f9de_00011 (score = -1.073910) into trial 6f9de_00012 (score = -127.251068)\n",
      "\n",
      "2024-04-01 04:27:55,234\tINFO pbt.py:905 -- \n",
      "\n",
      "[PB2] [Explore] Perturbed the hyperparameter config of trial6f9de_00012:\n",
      "lr : 0.006079926021359458 -----> 0.009999999776482582\n",
      "dec_dropout : 0.1529456417792799 -----> 0.0\n",
      "alpha : 5.622141436398235e-07 -----> 0.0010000000474974513\n",
      "weight_decay : 0.0064937999073931465 -----> 0.0\n",
      "\n",
      "2024-04-01 04:27:55,236\tWARNING util.py:202 -- The `scheduler.on_trial_result` operation took 0.775 s, which may be a performance bottleneck.\n",
      "2024-04-01 04:27:55,239\tWARNING util.py:202 -- The `process_trial_result` operation took 0.778 s, which may be a performance bottleneck.\n",
      "2024-04-01 04:27:55,240\tWARNING util.py:202 -- Processing trial results took 0.779 s, which may be a performance bottleneck. Please consider reporting results less frequently to Ray Tune.\n",
      "2024-04-01 04:27:55,240\tWARNING util.py:202 -- The `process_trial_result` operation took 0.779 s, which may be a performance bottleneck.\n",
      "2024-04-01 04:29:30,506\tINFO pbt.py:878 -- \n",
      "\n",
      "[PB2] [Exploit] Cloning trial 6f9de_00023 (score = -1.271914) into trial 6f9de_00013 (score = -83.065430)\n",
      "\n",
      "2024-04-01 04:29:31,472\tINFO pbt.py:905 -- \n",
      "\n",
      "[PB2] [Explore] Perturbed the hyperparameter config of trial6f9de_00013:\n",
      "lr : 0.0011178901748653807 -----> 0.009999999776482582\n",
      "dec_dropout : 0.13903736492075114 -----> 0.4000000059604645\n",
      "alpha : 2.0592688169362813e-06 -----> 0.0\n",
      "weight_decay : 0.0013391201075199455 -----> 0.0\n",
      "\n",
      "2024-04-01 04:29:31,475\tWARNING util.py:202 -- The `scheduler.on_trial_result` operation took 0.972 s, which may be a performance bottleneck.\n",
      "2024-04-01 04:29:31,479\tWARNING util.py:202 -- The `process_trial_result` operation took 0.976 s, which may be a performance bottleneck.\n",
      "2024-04-01 04:29:31,480\tWARNING util.py:202 -- Processing trial results took 0.978 s, which may be a performance bottleneck. Please consider reporting results less frequently to Ray Tune.\n",
      "2024-04-01 04:29:31,481\tWARNING util.py:202 -- The `process_trial_result` operation took 0.978 s, which may be a performance bottleneck.\n",
      "2024-04-01 04:37:45,056\tINFO pbt.py:878 -- \n",
      "\n",
      "[PB2] [Exploit] Cloning trial 6f9de_00001 (score = -1.389211) into trial 6f9de_00007 (score = -5.356919)\n",
      "\n",
      "2024-04-01 04:37:46,009\tINFO pbt.py:905 -- \n",
      "\n",
      "[PB2] [Explore] Perturbed the hyperparameter config of trial6f9de_00007:\n",
      "lr : 0.003081861141651753 -----> 9.999999747378752e-06\n",
      "dec_dropout : 0.2072125188221385 -----> 0.0\n",
      "alpha : 3.1278192362097815e-06 -----> 0.0010000000474974513\n",
      "weight_decay : 0.0032760792873793333 -----> 0.0\n",
      "\n",
      "2024-04-01 04:37:46,011\tWARNING util.py:202 -- The `scheduler.on_trial_result` operation took 0.957 s, which may be a performance bottleneck.\n",
      "2024-04-01 04:37:46,014\tWARNING util.py:202 -- The `process_trial_result` operation took 0.960 s, which may be a performance bottleneck.\n",
      "2024-04-01 04:37:46,015\tWARNING util.py:202 -- Processing trial results took 0.961 s, which may be a performance bottleneck. Please consider reporting results less frequently to Ray Tune.\n",
      "2024-04-01 04:37:46,016\tWARNING util.py:202 -- The `process_trial_result` operation took 0.962 s, which may be a performance bottleneck.\n",
      "2024-04-01 04:38:38,478\tINFO pbt.py:878 -- \n",
      "\n",
      "[PB2] [Exploit] Cloning trial 6f9de_00015 (score = -1.028258) into trial 6f9de_00010 (score = -4.921059)\n",
      "\n",
      "2024-04-01 04:38:39,685\tINFO pbt.py:905 -- \n",
      "\n",
      "[PB2] [Explore] Perturbed the hyperparameter config of trial6f9de_00010:\n",
      "lr : 0.005856906905086257 -----> 0.009999999776482582\n",
      "dec_dropout : 0.18391570317831532 -----> 0.0\n",
      "alpha : 3.1559472633259516e-05 -----> 0.0010000000474974513\n",
      "weight_decay : 4.383009247132641e-05 -----> 0.009999999776482582\n",
      "\n",
      "2024-04-01 04:38:39,687\tWARNING util.py:202 -- The `scheduler.on_trial_result` operation took 1.213 s, which may be a performance bottleneck.\n",
      "2024-04-01 04:38:39,690\tWARNING util.py:202 -- The `process_trial_result` operation took 1.216 s, which may be a performance bottleneck.\n",
      "2024-04-01 04:38:39,692\tWARNING util.py:202 -- Processing trial results took 1.218 s, which may be a performance bottleneck. Please consider reporting results less frequently to Ray Tune.\n",
      "2024-04-01 04:38:39,693\tWARNING util.py:202 -- The `process_trial_result` operation took 1.219 s, which may be a performance bottleneck.\n",
      "2024-04-01 04:54:10,742\tINFO pbt.py:878 -- \n",
      "\n",
      "[PB2] [Exploit] Cloning trial 6f9de_00018 (score = -1.263273) into trial 6f9de_00000 (score = -4.126799)\n",
      "\n",
      "2024-04-01 04:54:11,668\tINFO pbt.py:905 -- \n",
      "\n",
      "[PB2] [Explore] Perturbed the hyperparameter config of trial6f9de_00000:\n",
      "lr : 0.0011178901748653807 -----> 0.009999999776482582\n",
      "dec_dropout : 0.13903736492075114 -----> 0.0\n",
      "alpha : 2.0592688169362813e-06 -----> 0.0010000000474974513\n",
      "weight_decay : 0.0013391201075199455 -----> 0.0\n",
      "\n",
      "2024-04-01 04:54:11,670\tWARNING util.py:202 -- The `scheduler.on_trial_result` operation took 0.931 s, which may be a performance bottleneck.\n",
      "2024-04-01 04:54:11,674\tWARNING util.py:202 -- The `process_trial_result` operation took 0.935 s, which may be a performance bottleneck.\n",
      "2024-04-01 04:54:11,676\tWARNING util.py:202 -- Processing trial results took 0.937 s, which may be a performance bottleneck. Please consider reporting results less frequently to Ray Tune.\n",
      "2024-04-01 04:54:11,677\tWARNING util.py:202 -- The `process_trial_result` operation took 0.938 s, which may be a performance bottleneck.\n",
      "2024-04-01 05:02:05,707\tINFO pbt.py:878 -- \n",
      "\n",
      "[PB2] [Exploit] Cloning trial 6f9de_00016 (score = -1.259975) into trial 6f9de_00010 (score = -55.556427)\n",
      "\n",
      "2024-04-01 05:02:06,633\tINFO pbt.py:905 -- \n",
      "\n",
      "[PB2] [Explore] Perturbed the hyperparameter config of trial6f9de_00010:\n",
      "lr : 0.0011178901748653807 -----> 9.999999747378752e-06\n",
      "dec_dropout : 0.13903736492075114 -----> 0.0\n",
      "alpha : 2.0592688169362813e-06 -----> 0.0010000000474974513\n",
      "weight_decay : 0.0013391201075199455 -----> 0.0\n",
      "\n",
      "2024-04-01 05:02:06,635\tWARNING util.py:202 -- The `scheduler.on_trial_result` operation took 0.931 s, which may be a performance bottleneck.\n",
      "2024-04-01 05:02:06,639\tWARNING util.py:202 -- The `process_trial_result` operation took 0.934 s, which may be a performance bottleneck.\n",
      "2024-04-01 05:02:06,640\tWARNING util.py:202 -- Processing trial results took 0.935 s, which may be a performance bottleneck. Please consider reporting results less frequently to Ray Tune.\n",
      "2024-04-01 05:02:06,641\tWARNING util.py:202 -- The `process_trial_result` operation took 0.936 s, which may be a performance bottleneck.\n",
      "2024-04-01 05:07:27,135\tINFO pbt.py:878 -- \n",
      "\n",
      "[PB2] [Exploit] Cloning trial 6f9de_00004 (score = -1.263072) into trial 6f9de_00007 (score = -129.055969)\n",
      "\n",
      "2024-04-01 05:07:28,038\tINFO pbt.py:905 -- \n",
      "\n",
      "[PB2] [Explore] Perturbed the hyperparameter config of trial6f9de_00007:\n",
      "lr : 0.0011178901748653807 -----> 0.009999999776482582\n",
      "dec_dropout : 0.13903736492075114 -----> 0.4000000059604645\n",
      "alpha : 2.0592688169362813e-06 -----> 0.0010000000474974513\n",
      "weight_decay : 0.0013391201075199455 -----> 0.0\n",
      "\n",
      "2024-04-01 05:07:28,041\tWARNING util.py:202 -- The `scheduler.on_trial_result` operation took 0.909 s, which may be a performance bottleneck.\n",
      "2024-04-01 05:07:28,044\tWARNING util.py:202 -- The `process_trial_result` operation took 0.913 s, which may be a performance bottleneck.\n",
      "2024-04-01 05:07:28,045\tWARNING util.py:202 -- Processing trial results took 0.914 s, which may be a performance bottleneck. Please consider reporting results less frequently to Ray Tune.\n",
      "2024-04-01 05:07:28,046\tWARNING util.py:202 -- The `process_trial_result` operation took 0.915 s, which may be a performance bottleneck.\n",
      "2024-04-01 05:08:44,743\tINFO pbt.py:878 -- \n",
      "\n",
      "[PB2] [Exploit] Cloning trial 6f9de_00011 (score = -1.062303) into trial 6f9de_00022 (score = -129.239410)\n",
      "\n",
      "2024-04-01 05:08:46,144\tINFO pbt.py:905 -- \n",
      "\n",
      "[PB2] [Explore] Perturbed the hyperparameter config of trial6f9de_00022:\n",
      "lr : 0.006079926021359458 -----> 0.009999999776482582\n",
      "dec_dropout : 0.1529456417792799 -----> 0.4000000059604645\n",
      "alpha : 5.622141436398235e-07 -----> 0.0\n",
      "weight_decay : 0.0064937999073931465 -----> 0.009999999776482582\n",
      "\n",
      "2024-04-01 05:08:46,147\tWARNING util.py:202 -- The `scheduler.on_trial_result` operation took 1.407 s, which may be a performance bottleneck.\n",
      "2024-04-01 05:08:46,150\tWARNING util.py:202 -- The `process_trial_result` operation took 1.410 s, which may be a performance bottleneck.\n",
      "2024-04-01 05:08:46,151\tWARNING util.py:202 -- Processing trial results took 1.411 s, which may be a performance bottleneck. Please consider reporting results less frequently to Ray Tune.\n",
      "2024-04-01 05:08:46,152\tWARNING util.py:202 -- The `process_trial_result` operation took 1.412 s, which may be a performance bottleneck.\n",
      "2024-04-01 05:21:39,585\tINFO pbt.py:878 -- \n",
      "\n",
      "[PB2] [Exploit] Cloning trial 6f9de_00015 (score = -0.794723) into trial 6f9de_00010 (score = -128.918076)\n",
      "\n",
      "2024-04-01 05:21:40,966\tINFO pbt.py:905 -- \n",
      "\n",
      "[PB2] [Explore] Perturbed the hyperparameter config of trial6f9de_00010:\n",
      "lr : 0.005856906905086257 -----> 0.009999999776482582\n",
      "dec_dropout : 0.18391570317831532 -----> 0.0\n",
      "alpha : 3.1559472633259516e-05 -----> 0.0\n",
      "weight_decay : 4.383009247132641e-05 -----> 0.009999999776482582\n",
      "\n",
      "2024-04-01 05:21:40,969\tWARNING util.py:202 -- The `scheduler.on_trial_result` operation took 1.386 s, which may be a performance bottleneck.\n",
      "2024-04-01 05:21:40,973\tWARNING util.py:202 -- The `process_trial_result` operation took 1.391 s, which may be a performance bottleneck.\n",
      "2024-04-01 05:21:40,974\tWARNING util.py:202 -- Processing trial results took 1.392 s, which may be a performance bottleneck. Please consider reporting results less frequently to Ray Tune.\n",
      "2024-04-01 05:21:40,974\tWARNING util.py:202 -- The `process_trial_result` operation took 1.392 s, which may be a performance bottleneck.\n",
      "2024-04-01 05:27:54,753\tINFO pbt.py:878 -- \n",
      "\n",
      "[PB2] [Exploit] Cloning trial 6f9de_00024 (score = -0.958047) into trial 6f9de_00003 (score = -3.865874)\n",
      "\n",
      "2024-04-01 05:27:55,896\tINFO pbt.py:905 -- \n",
      "\n",
      "[PB2] [Explore] Perturbed the hyperparameter config of trial6f9de_00003:\n",
      "lr : 0.0022304716288144544 -----> 0.009999999776482582\n",
      "dec_dropout : 0.03005691738199471 -----> 0.0\n",
      "alpha : 3.181870212143622e-05 -----> 0.0\n",
      "weight_decay : 0.0011126917221564458 -----> 0.009999999776482582\n",
      "\n",
      "2024-04-01 05:27:55,898\tWARNING util.py:202 -- The `scheduler.on_trial_result` operation took 1.148 s, which may be a performance bottleneck.\n",
      "2024-04-01 05:27:55,902\tWARNING util.py:202 -- The `process_trial_result` operation took 1.152 s, which may be a performance bottleneck.\n",
      "2024-04-01 05:27:55,904\tWARNING util.py:202 -- Processing trial results took 1.153 s, which may be a performance bottleneck. Please consider reporting results less frequently to Ray Tune.\n",
      "2024-04-01 05:27:55,905\tWARNING util.py:202 -- The `process_trial_result` operation took 1.154 s, which may be a performance bottleneck.\n",
      "2024-04-01 05:29:43,154\tINFO pbt.py:878 -- \n",
      "\n",
      "[PB2] [Exploit] Cloning trial 6f9de_00027 (score = -0.922456) into trial 6f9de_00005 (score = -3.871486)\n",
      "\n",
      "2024-04-01 05:29:44,305\tINFO pbt.py:905 -- \n",
      "\n",
      "[PB2] [Explore] Perturbed the hyperparameter config of trial6f9de_00005:\n",
      "lr : 0.0022304716288144544 -----> 0.009999999776482582\n",
      "dec_dropout : 0.03005691738199471 -----> 0.4000000059604645\n",
      "alpha : 3.181870212143622e-05 -----> 0.0\n",
      "weight_decay : 0.0011126917221564458 -----> 0.009999999776482582\n",
      "\n",
      "2024-04-01 05:29:44,307\tWARNING util.py:202 -- The `scheduler.on_trial_result` operation took 1.157 s, which may be a performance bottleneck.\n",
      "2024-04-01 05:29:44,310\tWARNING util.py:202 -- The `process_trial_result` operation took 1.160 s, which may be a performance bottleneck.\n",
      "2024-04-01 05:29:44,311\tWARNING util.py:202 -- Processing trial results took 1.161 s, which may be a performance bottleneck. Please consider reporting results less frequently to Ray Tune.\n",
      "2024-04-01 05:29:44,312\tWARNING util.py:202 -- The `process_trial_result` operation took 1.162 s, which may be a performance bottleneck.\n",
      "2024-04-01 05:44:18,970\tINFO pbt.py:878 -- \n",
      "\n",
      "[PB2] [Exploit] Cloning trial 6f9de_00015 (score = -0.794723) into trial 6f9de_00017 (score = -3.865967)\n",
      "\n",
      "2024-04-01 05:44:20,674\tINFO pbt.py:905 -- \n",
      "\n",
      "[PB2] [Explore] Perturbed the hyperparameter config of trial6f9de_00017:\n",
      "lr : 0.005856906905086257 -----> 0.0034330582711845636\n",
      "dec_dropout : 0.18391570317831532 -----> 0.4000000059604645\n",
      "alpha : 3.1559472633259516e-05 -----> 0.0\n",
      "weight_decay : 4.383009247132641e-05 -----> 0.0\n",
      "\n",
      "2024-04-01 05:44:20,677\tWARNING util.py:202 -- The `scheduler.on_trial_result` operation took 1.710 s, which may be a performance bottleneck.\n",
      "2024-04-01 05:44:20,681\tWARNING util.py:202 -- The `process_trial_result` operation took 1.714 s, which may be a performance bottleneck.\n",
      "2024-04-01 05:44:20,682\tWARNING util.py:202 -- Processing trial results took 1.715 s, which may be a performance bottleneck. Please consider reporting results less frequently to Ray Tune.\n",
      "2024-04-01 05:44:20,683\tWARNING util.py:202 -- The `process_trial_result` operation took 1.716 s, which may be a performance bottleneck.\n",
      "2024-04-01 05:46:47,373\tINFO pbt.py:878 -- \n",
      "\n",
      "[PB2] [Exploit] Cloning trial 6f9de_00027 (score = -0.922456) into trial 6f9de_00026 (score = -118.061462)\n",
      "\n",
      "2024-04-01 05:46:48,683\tINFO pbt.py:905 -- \n",
      "\n",
      "[PB2] [Explore] Perturbed the hyperparameter config of trial6f9de_00026:\n",
      "lr : 0.0022304716288144544 -----> 0.009999999776482582\n",
      "dec_dropout : 0.03005691738199471 -----> 0.4000000059604645\n",
      "alpha : 3.181870212143622e-05 -----> 0.0\n",
      "weight_decay : 0.0011126917221564458 -----> 0.004608920309692621\n",
      "\n",
      "2024-04-01 05:46:48,685\tWARNING util.py:202 -- The `scheduler.on_trial_result` operation took 1.315 s, which may be a performance bottleneck.\n",
      "2024-04-01 05:46:48,689\tWARNING util.py:202 -- The `process_trial_result` operation took 1.319 s, which may be a performance bottleneck.\n",
      "2024-04-01 05:46:48,691\tWARNING util.py:202 -- Processing trial results took 1.321 s, which may be a performance bottleneck. Please consider reporting results less frequently to Ray Tune.\n",
      "2024-04-01 05:46:48,692\tWARNING util.py:202 -- The `process_trial_result` operation took 1.321 s, which may be a performance bottleneck.\n",
      "2024-04-01 05:57:21,025\tINFO pbt.py:878 -- \n",
      "\n",
      "[PB2] [Exploit] Cloning trial 6f9de_00013 (score = -0.937901) into trial 6f9de_00000 (score = -120.779099)\n",
      "\n",
      "2024-04-01 05:57:22,209\tINFO pbt.py:905 -- \n",
      "\n",
      "[PB2] [Explore] Perturbed the hyperparameter config of trial6f9de_00000:\n",
      "lr : 0.009999999776482582 -----> 0.009999999776482582\n",
      "dec_dropout : 0.4000000059604645 -----> 0.0\n",
      "alpha : 0.0 -----> 0.0\n",
      "weight_decay : 0.0 -----> 0.0\n",
      "\n",
      "2024-04-01 05:57:22,212\tWARNING util.py:202 -- The `scheduler.on_trial_result` operation took 1.191 s, which may be a performance bottleneck.\n",
      "2024-04-01 05:57:22,215\tWARNING util.py:202 -- The `process_trial_result` operation took 1.195 s, which may be a performance bottleneck.\n",
      "2024-04-01 05:57:22,218\tWARNING util.py:202 -- Processing trial results took 1.197 s, which may be a performance bottleneck. Please consider reporting results less frequently to Ray Tune.\n",
      "2024-04-01 05:57:22,218\tWARNING util.py:202 -- The `process_trial_result` operation took 1.198 s, which may be a performance bottleneck.\n",
      "2024-04-01 06:12:25,719\tINFO pbt.py:878 -- \n",
      "\n",
      "[PB2] [Exploit] Cloning trial 6f9de_00024 (score = -0.906055) into trial 6f9de_00008 (score = -2.992743)\n",
      "\n",
      "2024-04-01 06:12:26,778\tINFO pbt.py:905 -- \n",
      "\n",
      "[PB2] [Explore] Perturbed the hyperparameter config of trial6f9de_00008:\n",
      "lr : 0.0022304716288144544 -----> 0.002804673509672284\n",
      "dec_dropout : 0.03005691738199471 -----> 0.4000000059604645\n",
      "alpha : 3.181870212143622e-05 -----> 0.0\n",
      "weight_decay : 0.0011126917221564458 -----> 0.0\n",
      "\n",
      "2024-04-01 06:12:26,781\tWARNING util.py:202 -- The `scheduler.on_trial_result` operation took 1.064 s, which may be a performance bottleneck.\n",
      "2024-04-01 06:12:26,784\tWARNING util.py:202 -- The `process_trial_result` operation took 1.067 s, which may be a performance bottleneck.\n",
      "2024-04-01 06:12:26,785\tWARNING util.py:202 -- Processing trial results took 1.068 s, which may be a performance bottleneck. Please consider reporting results less frequently to Ray Tune.\n",
      "2024-04-01 06:12:26,786\tWARNING util.py:202 -- The `process_trial_result` operation took 1.069 s, which may be a performance bottleneck.\n"
     ]
    }
   ],
   "source": [
    "trainable_with_gpu = tune.with_resources(train_convnet, {\"cpu\":1, \"gpu\": 0.13})\n",
    "# trainable_with_gpu = tune.with_resources(train_convnet, {\"cpu\": 1})\n",
    "\n",
    "\n",
    "tuner = tune.Tuner(\n",
    "    trainable_with_gpu,\n",
    "    run_config=train.RunConfig(\n",
    "        name=\"pb2\",\n",
    "        # Stop when we've reached a threshold accuracy, or a maximum\n",
    "        # training_iteration, whichever comes first\n",
    "        # stop={\"test_loss\": 0.05, \"training_iteration\": 2500},\n",
    "        stop={\"total_val_loss\": -0.20, \"training_iteration\": 500},\n",
    "        checkpoint_config=train.CheckpointConfig(\n",
    "            checkpoint_score_attribute=\"total_val_loss\",\n",
    "            num_to_keep=100,\n",
    "        ),\n",
    "        storage_path=\"/home/michael/Synology/Desktop/Data/Python/Gait-Signatures/ray_results\",\n",
    "    ),\n",
    "    tune_config=tune.TuneConfig(\n",
    "        scheduler=pb2_scheduler,\n",
    "        num_samples=60,\n",
    "        max_concurrent_trials=30\n",
    "    ),\n",
    "    param_space={\n",
    "        \"lr\": tune.uniform(1e-5, 1e-2),\n",
    "        \"latent_dim\": tune.choice([2**x for x in range(3, 6)]),\n",
    "        \"rnn_hidden\": tune.choice([2**x for x in range(5, 9)]),\n",
    "        \"batch_size\": tune.choice([32]),\n",
    "        \"timesteps_per_trial\": tune.choice([150, 300, 500]),\n",
    "        \"checkpoint_interval\": perturbation_interval,\n",
    "        \"dec_dropout\": tune.uniform(0.01, 0.3),\n",
    "        \"alpha\": tune.uniform(1e-7, 1e-4),\n",
    "        \"weight_decay\": tune.uniform(0, 1e-2)\n",
    "    },\n",
    ")\n",
    "\n",
    "results_grid = tuner.fit()"
   ]
  },
  {
   "cell_type": "code",
   "execution_count": null,
   "id": "d9b965c7-9993-43fd-8ed1-e8d4ece7c4bf",
   "metadata": {},
   "outputs": [],
   "source": [
    "results_grid"
   ]
  },
  {
   "cell_type": "code",
   "execution_count": 66,
   "id": "2f9267a0-c960-404d-ab27-36fe7304b789",
   "metadata": {},
   "outputs": [],
   "source": [
    "import seaborn as sns"
   ]
  },
  {
   "cell_type": "code",
   "execution_count": null,
   "id": "c3a3e39b-def2-496e-b447-978d30895a7a",
   "metadata": {},
   "outputs": [],
   "source": [
    "import pandas as pd\n",
    "max_iterations = df.groupby(\"trial_id\")[\"training_iteration\"].max()\n",
    "\n",
    "# Select the rows corresponding to the maximum iteration number for each trial\n",
    "selected_rows = df[df.apply(lambda row: row[\"training_iteration\"] == max_iterations[row[\"trial_id\"]], axis=1)]\n",
    "\n",
    "# Create a new dataframe with the selected rows\n",
    "new_df = pd.DataFrame(selected_rows)\n",
    "\n",
    "# Optionally, reset the index of the new dataframe\n",
    "new_df.reset_index(drop=True, inplace=True)\n",
    "new_df"
   ]
  },
  {
   "cell_type": "code",
   "execution_count": null,
   "id": "0f8c4b2a-ccf7-4793-adc0-a4588d0763af",
   "metadata": {},
   "outputs": [],
   "source": [
    "import seaborn as sns\n",
    "import matplotlib.pyplot as plt\n",
    "%matplotlib inline\n",
    "df = results_grid.get_dataframe()\n",
    "df.groupby(by=\"config/latent_dim\")\n",
    "# df.head()\n",
    "sns.boxplot(x=\"config/latent_dim\", y=\"test_loss\", hue=\"config/rnn_hidden\", data=new_df, legend=False)\n",
    "plt.show()"
   ]
  },
  {
   "cell_type": "code",
   "execution_count": 56,
   "id": "7bf5f0e7-fbaf-48d3-8173-bdb0f5fa346f",
   "metadata": {},
   "outputs": [
    {
     "ename": "AttributeError",
     "evalue": "'ResultGrid' object has no attribute 'checkpoint'",
     "output_type": "error",
     "traceback": [
      "\u001b[0;31m---------------------------------------------------------------------------\u001b[0m",
      "\u001b[0;31mAttributeError\u001b[0m                            Traceback (most recent call last)",
      "Cell \u001b[0;32mIn[56], line 1\u001b[0m\n\u001b[0;32m----> 1\u001b[0m \u001b[38;5;28mprint\u001b[39m(\u001b[38;5;124m\"\u001b[39m\u001b[38;5;124mLast checkpoint:\u001b[39m\u001b[38;5;124m\"\u001b[39m, \u001b[43mresults_grid\u001b[49m\u001b[38;5;241;43m.\u001b[39;49m\u001b[43mcheckpoint\u001b[49m)\n\u001b[1;32m      3\u001b[0m \u001b[38;5;28;01mwith\u001b[39;00m results_grid\u001b[38;5;241m.\u001b[39mcheckpoint\u001b[38;5;241m.\u001b[39mas_directory() \u001b[38;5;28;01mas\u001b[39;00m tmpdir:\n\u001b[1;32m      4\u001b[0m     \u001b[38;5;66;03m# Load model from directory\u001b[39;00m\n\u001b[1;32m      5\u001b[0m     \u001b[38;5;28mprint\u001b[39m(tmpdir)\n",
      "\u001b[0;31mAttributeError\u001b[0m: 'ResultGrid' object has no attribute 'checkpoint'"
     ]
    }
   ],
   "source": [
    "print(\"Last checkpoint:\", results_grid.checkpoint)\n",
    "\n",
    "with results_grid.checkpoint.as_directory() as tmpdir:\n",
    "    # Load model from directory\n",
    "    print(tmpdir)"
   ]
  },
  {
   "cell_type": "code",
   "execution_count": 43,
   "id": "57096af5-f87c-4265-aab6-0986a05562e7",
   "metadata": {},
   "outputs": [
    {
     "name": "stdout",
     "output_type": "stream",
     "text": [
      "Best result path: /tmp/ray_results_pb2/pb2/train_convnet_35d73_00021_21_batch_size=32,dec_dropout=0.0130,latent_dim=8,lr=0.0053,rnn_hidden=32,timesteps_per_trial=50_2024-03-31_03-24-40\n",
      "Best final iteration hyperparameter config:\n",
      " {'lr': 0.005333427603213059, 'latent_dim': 8, 'rnn_hidden': 32, 'batch_size': 32, 'timesteps_per_trial': 50, 'checkpoint_interval': 50, 'dec_dropout': 0.013039077428596826}\n"
     ]
    },
    {
     "data": {
      "image/png": "[encoded data removed]",
      "text/plain": [
       "<Figure size 640x480 with 1 Axes>"
      ]
     },
     "metadata": {},
     "output_type": "display_data"
    }
   ],
   "source": [
    "%matplotlib inline\n",
    "import matplotlib.pyplot as plt\n",
    "import os\n",
    "\n",
    "# Get the best trial result\n",
    "best_result = results_grid.get_best_result(metric=\"test_loss\", mode=\"max\")\n",
    "\n",
    "# Print `path` where checkpoints are stored\n",
    "print('Best result path:', best_result.path)\n",
    "\n",
    "# Print the best trial `config` reported at the last iteration\n",
    "# NOTE: This config is just what the trial ended up with at the last iteration.\n",
    "# See the next section for replaying the entire history of configs.\n",
    "print(\"Best final iteration hyperparameter config:\\n\", best_result.config)\n",
    "\n",
    "# Plot the learning curve for the best trial\n",
    "df = best_result.metrics_dataframe\n",
    "# Deduplicate, since PBT might introduce duplicate data\n",
    "df = df.drop_duplicates(subset=\"training_iteration\", keep=\"last\")\n",
    "df.plot(\"training_iteration\", \"test_loss\")\n",
    "plt.xlabel(\"Training Iterations\")\n",
    "plt.ylabel(\"Test Loss\")\n",
    "plt.show()"
   ]
  },
  {
   "cell_type": "code",
   "execution_count": 54,
   "id": "d2f757ca-4be3-47e8-bee8-44185e305911",
   "metadata": {},
   "outputs": [
    {
     "ename": "AttributeError",
     "evalue": "'NoneType' object has no attribute 'as_directory'",
     "output_type": "error",
     "traceback": [
      "\u001b[0;31m---------------------------------------------------------------------------\u001b[0m",
      "\u001b[0;31mAttributeError\u001b[0m                            Traceback (most recent call last)",
      "Cell \u001b[0;32mIn[54], line 2\u001b[0m\n\u001b[1;32m      1\u001b[0m best_result \u001b[38;5;241m=\u001b[39m results_grid\u001b[38;5;241m.\u001b[39mget_best_result(metric\u001b[38;5;241m=\u001b[39m\u001b[38;5;124m\"\u001b[39m\u001b[38;5;124mtest_loss\u001b[39m\u001b[38;5;124m\"\u001b[39m, mode\u001b[38;5;241m=\u001b[39m\u001b[38;5;124m\"\u001b[39m\u001b[38;5;124mmax\u001b[39m\u001b[38;5;124m\"\u001b[39m)\n\u001b[0;32m----> 2\u001b[0m \u001b[38;5;28;01mwith\u001b[39;00m \u001b[43mbest_result\u001b[49m\u001b[38;5;241;43m.\u001b[39;49m\u001b[43mcheckpoint\u001b[49m\u001b[38;5;241;43m.\u001b[39;49m\u001b[43mas_directory\u001b[49m() \u001b[38;5;28;01mas\u001b[39;00m checkpoint_dir:\n\u001b[1;32m      3\u001b[0m     state_dict \u001b[38;5;241m=\u001b[39m torch\u001b[38;5;241m.\u001b[39mload(os\u001b[38;5;241m.\u001b[39mpath\u001b[38;5;241m.\u001b[39mjoin(checkpoint_dir, \u001b[38;5;124m\"\u001b[39m\u001b[38;5;124mmodel.pth\u001b[39m\u001b[38;5;124m\"\u001b[39m))\n\u001b[1;32m      5\u001b[0m model \u001b[38;5;241m=\u001b[39m NODE(func, rec, dec)\n",
      "\u001b[0;31mAttributeError\u001b[0m: 'NoneType' object has no attribute 'as_directory'"
     ]
    }
   ],
   "source": [
    "best_result = results_grid.get_best_result(metric=\"test_loss\", mode=\"max\")\n",
    "with best_result.checkpoint.as_directory() as checkpoint_dir:\n",
    "    state_dict = torch.load(os.path.join(checkpoint_dir, \"model.pth\"))\n",
    "\n",
    "model = NODE(func, rec, dec)\n",
    "model.load_state_dict(state_dict)"
   ]
  },
  {
   "cell_type": "code",
   "execution_count": 53,
   "id": "2e12c005-1a07-400a-9cf1-47a1ce70334a",
   "metadata": {},
   "outputs": [
    {
     "data": {
      "text/plain": [
       "ResultGrid<[\n",
       "  Result(\n",
       "    error='RayTaskError(AttributeError)',\n",
       "    metrics={'loss': -0.22569969296455383, 'test_loss': -0.23670390248298645, 'lr': 0.00796036405130965},\n",
       "    path='/home/michael/ray_results/train_convnet_2024-03-31_15-28-17/train_convnet_4c5a3_00000_0_2024-03-31_15-28-17',\n",
       "    filesystem='local',\n",
       "    checkpoint=None\n",
       "  )\n",
       "]>"
      ]
     },
     "execution_count": 53,
     "metadata": {},
     "output_type": "execute_result"
    }
   ],
   "source": [
    "tuner.get_results()"
   ]
  },
  {
   "cell_type": "code",
   "execution_count": 47,
   "id": "f6c5dd42-7bcf-4cec-9bcc-8988a90627a3",
   "metadata": {},
   "outputs": [
    {
     "data": {
      "text/html": [
       "<div class=\"tuneStatus\">\n",
       "  <div style=\"display: flex;flex-direction: row\">\n",
       "    <div style=\"display: flex;flex-direction: column;\">\n",
       "      <h3>Tune Status</h3>\n",
       "      <table>\n",
       "<tbody>\n",
       "<tr><td>Current time:</td><td>2024-03-31 15:58:09</td></tr>\n",
       "<tr><td>Running for: </td><td>00:29:51.42        </td></tr>\n",
       "<tr><td>Memory:      </td><td>28.7/94.3 GiB      </td></tr>\n",
       "</tbody>\n",
       "</table>\n",
       "    </div>\n",
       "    <div class=\"vDivider\"></div>\n",
       "    <div class=\"systemInfo\">\n",
       "      <h3>System Info</h3>\n",
       "      PopulationBasedTraining replay: Step 401, perturb 1<br>Logical resource usage: 0/64 CPUs, 0.1/3 GPUs (0.0/1.0 accelerator_type:G)\n",
       "    </div>\n",
       "    <div class=\"vDivider\"></div>\n",
       "<div class=\"messages\">\n",
       "  <h3>Messages</h3>\n",
       "  \n",
       "  \n",
       "  Number of errored trials: 1<br><table>\n",
       "<thead>\n",
       "<tr><th>Trial name               </th><th style=\"text-align: right;\">  # failures</th><th>error file                                                                                                                                                                                  </th></tr>\n",
       "</thead>\n",
       "<tbody>\n",
       "<tr><td>train_convnet_4c5a3_00000</td><td style=\"text-align: right;\">           1</td><td>/tmp/ray/session_2024-03-30_23-59-02_533235_95444/artifacts/2024-03-31_15-28-17/train_convnet_2024-03-31_15-28-17/driver_artifacts/train_convnet_4c5a3_00000_0_2024-03-31_15-28-17/error.txt</td></tr>\n",
       "</tbody>\n",
       "</table>\n",
       "</div>\n",
       "<style>\n",
       ".messages {\n",
       "  color: var(--jp-ui-font-color1);\n",
       "  display: flex;\n",
       "  flex-direction: column;\n",
       "  padding-left: 1em;\n",
       "  overflow-y: auto;\n",
       "}\n",
       ".messages h3 {\n",
       "  font-weight: bold;\n",
       "}\n",
       ".vDivider {\n",
       "  border-left-width: var(--jp-border-width);\n",
       "  border-left-color: var(--jp-border-color0);\n",
       "  border-left-style: solid;\n",
       "  margin: 0.5em 1em 0.5em 1em;\n",
       "}\n",
       "</style>\n",
       "\n",
       "  </div>\n",
       "  <div class=\"hDivider\"></div>\n",
       "  <div class=\"trialStatus\">\n",
       "    <h3>Trial Status</h3>\n",
       "    <table>\n",
       "<thead>\n",
       "<tr><th>Trial name               </th><th>status  </th><th>loc                  </th><th style=\"text-align: right;\">  iter</th><th style=\"text-align: right;\">  total time (s)</th><th style=\"text-align: right;\">   loss</th><th style=\"text-align: right;\">  test_loss</th><th style=\"text-align: right;\">        lr</th></tr>\n",
       "</thead>\n",
       "<tbody>\n",
       "<tr><td>train_convnet_4c5a3_00000</td><td>ERROR   </td><td>170.140.242.239:17377</td><td style=\"text-align: right;\">   401</td><td style=\"text-align: right;\">         1782.96</td><td style=\"text-align: right;\">-0.2257</td><td style=\"text-align: right;\">  -0.236704</td><td style=\"text-align: right;\">0.00796036</td></tr>\n",
       "</tbody>\n",
       "</table>\n",
       "  </div>\n",
       "</div>\n",
       "<style>\n",
       ".tuneStatus {\n",
       "  color: var(--jp-ui-font-color1);\n",
       "}\n",
       ".tuneStatus .systemInfo {\n",
       "  display: flex;\n",
       "  flex-direction: column;\n",
       "}\n",
       ".tuneStatus td {\n",
       "  white-space: nowrap;\n",
       "}\n",
       ".tuneStatus .trialStatus {\n",
       "  display: flex;\n",
       "  flex-direction: column;\n",
       "}\n",
       ".tuneStatus h3 {\n",
       "  font-weight: bold;\n",
       "}\n",
       ".tuneStatus .hDivider {\n",
       "  border-bottom-width: var(--jp-border-width);\n",
       "  border-bottom-color: var(--jp-border-color0);\n",
       "  border-bottom-style: solid;\n",
       "}\n",
       ".tuneStatus .vDivider {\n",
       "  border-left-width: var(--jp-border-width);\n",
       "  border-left-color: var(--jp-border-color0);\n",
       "  border-left-style: solid;\n",
       "  margin: 0.5em 1em 0.5em 1em;\n",
       "}\n",
       "</style>\n"
      ],
      "text/plain": [
       "<IPython.core.display.HTML object>"
      ]
     },
     "metadata": {},
     "output_type": "display_data"
    },
    {
     "name": "stderr",
     "output_type": "stream",
     "text": [
      "2024-03-31 15:58:05,507\tINFO pbt.py:1156 -- Population Based Training replay is now at step 401. Configuration will be changed to {'lr': 0.009999999776482582, 'latent_dim': 32, 'rnn_hidden': 128, 'batch_size': 32, 'timesteps_per_trial': 150, 'checkpoint_interval': 50, 'dec_dropout': 0.4000000059604645}.\n",
      "2024-03-31 15:58:09,049\tERROR tune_controller.py:1332 -- Trial task failed for trial train_convnet_4c5a3_00000\n",
      "Traceback (most recent call last):\n",
      "  File \"/home/michael/.conda/envs/torch/lib/python3.11/site-packages/ray/air/execution/_internal/event_manager.py\", line 110, in resolve_future\n",
      "    result = ray.get(future)\n",
      "             ^^^^^^^^^^^^^^^\n",
      "  File \"/home/michael/.conda/envs/torch/lib/python3.11/site-packages/ray/_private/auto_init_hook.py\", line 21, in auto_init_wrapper\n",
      "    return fn(*args, **kwargs)\n",
      "           ^^^^^^^^^^^^^^^^^^^\n",
      "  File \"/home/michael/.conda/envs/torch/lib/python3.11/site-packages/ray/_private/client_mode_hook.py\", line 103, in wrapper\n",
      "    return func(*args, **kwargs)\n",
      "           ^^^^^^^^^^^^^^^^^^^^^\n",
      "  File \"/home/michael/.conda/envs/torch/lib/python3.11/site-packages/ray/_private/worker.py\", line 2667, in get\n",
      "    values, debugger_breakpoint = worker.get_objects(object_refs, timeout=timeout)\n",
      "                                  ^^^^^^^^^^^^^^^^^^^^^^^^^^^^^^^^^^^^^^^^^^^^^^^^\n",
      "  File \"/home/michael/.conda/envs/torch/lib/python3.11/site-packages/ray/_private/worker.py\", line 864, in get_objects\n",
      "    raise value.as_instanceof_cause()\n",
      "ray.exceptions.RayTaskError(AttributeError): \u001b[36mray::ImplicitFunc.restore()\u001b[39m (pid=53441, ip=170.140.242.239, actor_id=8530ed6571b69c55d238caa901000000, repr=train_convnet)\n",
      "           ^^^^^^^^^^^^^^^^^^^^^^^^^^^^^^^^^^^^\n",
      "           ^^^^^^^^^^^^^^^^^^^^^^^^^^^^^^^\n",
      "  File \"/home/michael/.conda/envs/torch/lib/python3.11/site-packages/ray/tune/trainable/trainable.py\", line 545, in restore\n",
      "    if not _exists_at_fs_path(checkpoint.filesystem, checkpoint.path):\n",
      "                              ^^^^^^^^^^^^^^^^^^^^^\n",
      "AttributeError: 'NoneType' object has no attribute 'filesystem'\n",
      "2024-03-31 15:58:09,058\tWARNING experiment_state.py:205 -- Experiment state snapshotting has been triggered multiple times in the last 5.0 seconds. A snapshot is forced if `CheckpointConfig(num_to_keep)` is set, and a trial has checkpointed >= `num_to_keep` times since the last snapshot.\n",
      "You may want to consider increasing the `CheckpointConfig(num_to_keep)` or decreasing the frequency of saving checkpoints.\n",
      "You can suppress this error by setting the environment variable TUNE_WARN_EXCESSIVE_EXPERIMENT_CHECKPOINT_SYNC_THRESHOLD_S to a smaller value than the current threshold (5.0).\n",
      "2024-03-31 15:58:09,059\tINFO tune.py:1016 -- Wrote the latest version of all result files and experiment state to '/home/michael/ray_results/train_convnet_2024-03-31_15-28-17' in 0.0065s.\n",
      "2024-03-31 15:58:09,064\tERROR tune.py:1044 -- Trials did not complete: [train_convnet_4c5a3_00000]\n",
      "2024-03-31 15:58:09,064\tINFO tune.py:1048 -- Total run time: 1791.44 seconds (1791.41 seconds for the tuning loop).\n"
     ]
    }
   ],
   "source": [
    "import glob\n",
    "\n",
    "from ray import tune\n",
    "from ray.tune.schedulers import PopulationBasedTrainingReplay\n",
    "\n",
    "# Get a random replay policy from the experiment we just ran\n",
    "sample_pbt_trial_log = glob.glob(\n",
    "    os.path.expanduser(\"/tmp/ray_results_pb2/pb2/pbt_policy*.txt\")\n",
    ")[0]\n",
    "replay = PopulationBasedTrainingReplay(sample_pbt_trial_log)\n",
    "\n",
    "tuner = tune.Tuner(\n",
    "    train_convnet,\n",
    "    tune_config=tune.TuneConfig(scheduler=replay),\n",
    "    run_config=train.RunConfig(stop={\"training_iteration\": 750}),\n",
    ")\n",
    "results_grid = tuner.fit()"
   ]
  },
  {
   "cell_type": "code",
   "execution_count": 50,
   "id": "565832c8-4366-44ea-95fc-3eef7dbb9aa6",
   "metadata": {},
   "outputs": [
    {
     "data": {
      "text/plain": [
       "Result(\n",
       "  metrics={'test_loss': -0.2119613140821457, 'lr': 0.002212818567771419},\n",
       "  path='/tmp/ray_results2/pbt_test2/train_convnet_94ef3_00125_125_batch_size=32,latent_dim=8,lr=0.0000,rnn_hidden=128,timesteps_per_trial=150_2024-03-29_19-10-49',\n",
       "  filesystem='local',\n",
       "  checkpoint=Checkpoint(filesystem=local, path=/tmp/ray_results2/pbt_test2/train_convnet_94ef3_00125_125_batch_size=32,latent_dim=8,lr=0.0000,rnn_hidden=128,timesteps_per_trial=150_2024-03-29_19-10-49/checkpoint_000380)\n",
       ")"
      ]
     },
     "execution_count": 50,
     "metadata": {},
     "output_type": "execute_result"
    }
   ],
   "source": [
    "best_result"
   ]
  },
  {
   "cell_type": "code",
   "execution_count": null,
   "id": "3768fcbc-3796-4c14-aab4-8ebe64e11047",
   "metadata": {},
   "outputs": [],
   "source": []
  },
  {
   "cell_type": "code",
   "execution_count": 141,
   "id": "6bd65ac7-2141-4a02-8a5c-f91ed7e5ab65",
   "metadata": {},
   "outputs": [],
   "source": []
  },
  {
   "cell_type": "code",
   "execution_count": 157,
   "id": "8fc41b79-18f7-4267-a65c-72735d87ba59",
   "metadata": {},
   "outputs": [],
   "source": []
  },
  {
   "cell_type": "code",
   "execution_count": null,
   "id": "b1ed051d-65ac-4416-b419-e4d26417cec0",
   "metadata": {},
   "outputs": [],
   "source": [
    "def train_network(data_train, data_val, device, samp_ts, val_ts, n_itrs, latent_dim, n_hidden, obs_dim, rnn_hidden, dec_hidden, batch_size, lr=0.008, func=None, rec=None, dec=None):\n",
    "    if func is None:\n",
    "        func = LatentODEfunc(latent_dim, n_hidden).to(device)\n",
    "    if rec is None:\n",
    "        rec = RecognitionRNN(latent_dim, obs_dim, rnn_hidden, batch_size).to(device)\n",
    "    if dec is None:\n",
    "        dec = Decoder(latent_dim, obs_dim, dec_hidden).to(device)\n",
    "    params = (list(func.parameters()) + list(dec.parameters()) + list(rec.parameters()))\n",
    "    optimizer = optim.Adam(params, lr=lr)\n",
    "    loss_meter = RunningAverageMeter()\n",
    "\n",
    "    train_losses = []\n",
    "    val_losses = []\n",
    "\n",
    "    torch.cuda.empty_cache()\n",
    "\n",
    "    train_loader = DataLoader(dataset = data_train, batch_size = batch_size, shuffle = True, drop_last = True)\n",
    "    val_loader = DataLoader(dataset = data_val, batch_size = batch_size, shuffle = True, drop_last = True)\n",
    "    try:\n",
    "        for itr in range(n_itrs):\n",
    "            for data in train_loader:\n",
    "                optimizer.zero_grad()\n",
    "                h = rec.initHidden().to(device)\n",
    "                c = rec.initHidden().to(device)\n",
    "                hn = h[0, :, :]\n",
    "                cn = c[0, :, :]\n",
    "                for t in reversed(range(data.size(1))):\n",
    "                    obs = data[:, t, :]\n",
    "                    out, hn, cn = rec.forward(obs, hn, cn)\n",
    "                qz0_mean, qz0_logvar = out[:, :latent_dim], out[:, latent_dim:]\n",
    "                epsilon = torch.randn(qz0_mean.size()).to(device)\n",
    "                z0 = epsilon * torch.exp(.5 * qz0_logvar) + qz0_mean   \n",
    "\n",
    "                # forward in time and solve ode for reconstructions\n",
    "                pred_z = odeint(func, z0, samp_ts).permute(1, 0, 2)\n",
    "                pred_x = dec(pred_z)\n",
    "\n",
    "                # compute loss\n",
    "                loss = MSELoss(pred_x, data)\n",
    "                loss.backward()\n",
    "                optimizer.step()\n",
    "                train_losses.append(loss.item())\n",
    "\n",
    "            with torch.no_grad():\n",
    "                for data_val in val_loader:\n",
    "                    h = torch.zeros(1, data_val.shape[0], rnn_hidden).to(device)\n",
    "                    c = torch.zeros(1, data_val.shape[0], rnn_hidden).to(device)\n",
    "                    hn = h[0, :, :]\n",
    "                    cn = c[0, :, :]\n",
    "\n",
    "                    for t in reversed(range(data_val.size(1))):\n",
    "                        obs = data_val[:, t, :]\n",
    "                        out, hn, cn = rec.forward(obs, hn, cn)\n",
    "                    qz0_mean, qz0_logvar = out[:, :latent_dim], out[:, latent_dim:]\n",
    "                    epsilon = torch.randn(qz0_mean.size()).to(device)\n",
    "                    z0 = epsilon * torch.exp(.5 * qz0_logvar) + qz0_mean\n",
    "\n",
    "                    #forward in time and solve ode for reconstructions\n",
    "                    pred_z = odeint(func, z0, val_ts).permute(1, 0, 2)\n",
    "                    pred_x = dec(pred_z)\n",
    "\n",
    "\n",
    "                    val_loss = MSELoss(pred_x, data_val)\n",
    "                    val_losses.append(val_loss.item())\n",
    "\n",
    "            # if ((itr > 1000) and (itr % 15 == 0)):\n",
    "            #     pass\n",
    "                # save_model(tau, k, latent_dim, itr)\n",
    "            if (itr % 50 == 0):\n",
    "                print(f'Iter: {itr}, running avg mse: {loss.item()}, val_loss: {val_loss.item()}')\n",
    "    except KeyboardInterrupt:\n",
    "        print(\"Training interrupted. Current model's loss:\")\n",
    "        print(f'Iter: {itr}, running avg mse: {loss.item()}, val_loss: {val_loss.item()}')\n",
    "        return func, rec, dec, train_losses, val_losses\n",
    "    return func, rec, dec, train_losses, val_losses"
   ]
  }
 ],
 "metadata": {
  "kernelspec": {
   "display_name": "Python 3.11 (torch)",
   "language": "python",
   "name": "torch"
  },
  "language_info": {
   "codemirror_mode": {
    "name": "ipython",
    "version": 3
   },
   "file_extension": ".py",
   "mimetype": "text/x-python",
   "name": "python",
   "nbconvert_exporter": "python",
   "pygments_lexer": "ipython3",
   "version": "3.11.8"
  }
 },
 "nbformat": 4,
 "nbformat_minor": 5
}
