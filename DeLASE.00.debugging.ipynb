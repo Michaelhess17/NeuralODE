{
 "cells": [
  {
   "cell_type": "markdown",
   "id": "718f3540-7013-4a9e-9c45-ce3488e20d37",
   "metadata": {},
   "source": [
    "### Import packages"
   ]
  },
  {
   "cell_type": "code",
   "execution_count": 141,
   "id": "b913f6af",
   "metadata": {
    "tags": []
   },
   "outputs": [
    {
     "name": "stdout",
     "output_type": "stream",
     "text": [
      "The autoreload extension is already loaded. To reload it, use:\n",
      "  %reload_ext autoreload\n"
     ]
    }
   ],
   "source": [
    "import os\n",
    "import sys\n",
    "os.environ[\"CUDA_VISIBLE_DEVICES\"] = \"0\"\n",
    "\n",
    "import matplotlib.pyplot as plt\n",
    "import seaborn as sns\n",
    "import numpy as np\n",
    "import pandas as pd\n",
    "\n",
    "from scipy import signal, interpolate, stats\n",
    "sys.path.append(\"/home/michael/Synology/Desktop/Data/Python/Gait-Signatures/NeuralODE/DDFA_NODE/\")\n",
    "from src.tde import embed_data, takens_embedding\n",
    "from src.utils_data_preparation import change_trial_length, split_data\n",
    "from src.delase import get_aics, get_λs\n",
    "from src import phaser\n",
    "from src import stats as statistics\n",
    "\n",
    "from tqdm.auto import tqdm\n",
    "import torch\n",
    "\n",
    "from sklearn.linear_model import LinearRegression\n",
    "from sklearn.preprocessing import PolynomialFeatures\n",
    "from sklearn.metrics import mean_squared_error\n",
    "import warnings\n",
    "%load_ext autoreload\n",
    "%autoreload 2"
   ]
  },
  {
   "cell_type": "markdown",
   "id": "a5f62942-24ca-4d22-80cb-c9f244d69199",
   "metadata": {},
   "source": [
    "### Load Data"
   ]
  },
  {
   "cell_type": "code",
   "execution_count": 2,
   "id": "ad55e0f9-5805-4c61-9638-c86797273f1c",
   "metadata": {
    "tags": []
   },
   "outputs": [],
   "source": [
    "# data = torch.from_numpy(np.load(\"/home/michael/Synology/Julia/data/human_data.npy\"))\n",
    "# data -= data.mean(axis=1)[:, np.newaxis, :]\n",
    "n_delays = 1\n",
    "matrix_size = 10\n",
    "delay_interval = 1\n",
    "rank = None\n",
    "rank_thresh = None\n",
    "rank_explained_variance = None\n",
    "lamb=0\n",
    "dt = 0.002\n",
    "N_time_bins = 50\n",
    "max_freq=(1/dt)//2\n",
    "max_unstable_freq=(1/dt)//2\n",
    "device = torch.device(\"cuda\")\n",
    "verbose = True\n",
    "# data = data.to(device)"
   ]
  },
  {
   "cell_type": "code",
   "execution_count": 4,
   "id": "e847ea8f-f9df-46b4-bf9f-7ee5bd62706a",
   "metadata": {
    "tags": []
   },
   "outputs": [],
   "source": [
    "all_data = torch.from_numpy(np.load(\"/home/michael/Synology/Desktop/Data/Julia/data/VDP_SDEs.npy\")[:, 5000:15000, :].astype(np.float32))\n",
    "# all_data = torch.from_numpy(np.load(\"../../Julia/data/human_data.npy\").astype(np.float32))\n",
    "dt = 1/100\n",
    "all_data -= all_data.mean(axis=1)[:, None, :]\n",
    "all_data = all_data.to(device)"
   ]
  },
  {
   "cell_type": "markdown",
   "id": "15b1737c-2aa2-47a0-8d91-b96c10bdb0dc",
   "metadata": {
    "jp-MarkdownHeadingCollapsed": true,
    "tags": []
   },
   "source": [
    "### Simulate Data"
   ]
  },
  {
   "cell_type": "code",
   "execution_count": 148,
   "id": "ebb59f1e-8fba-4fc3-b077-50ea3e71cc32",
   "metadata": {
    "tags": []
   },
   "outputs": [],
   "source": [
    "from scipy.integrate import odeint\n",
    "import sdeint\n",
    "def vec_field(y, t):\n",
    "    return A @ y\n",
    "def weiner(y, t):\n",
    "    return B"
   ]
  },
  {
   "cell_type": "code",
   "execution_count": null,
   "id": "0801e945-607e-45a4-82c4-bf2f288e80cf",
   "metadata": {
    "tags": []
   },
   "outputs": [],
   "source": [
    "from tqdm.notebook import tqdm\n",
    "max_λs = np.arange(-1.0, 0, 0.1)\n",
    "keep_dims = 10\n",
    "timesteps = 20000\n",
    "transient = 2000\n",
    "dt = 0.002\n",
    "n = 100\n",
    "μ = 0\n",
    "σ = 1/np.sqrt(n)\n",
    "B = np.diag(np.ones(n))/10\n",
    "reps = 20\n",
    "\n",
    "def update_matrix(A, λ_new):\n",
    "        n = A.shape[0]\n",
    "        λ_max = np.sort(np.linalg.eigvals(A).real)[-1]\n",
    "        A_new = A - λ_max*np.eye(n) + λ_new*np.eye(n)\n",
    "        return A_new\n",
    "\n",
    "data = np.zeros((len(max_λs), reps, timesteps - transient, keep_dims))\n",
    "for idx, max_λ in enumerate(max_λs):\n",
    "    for jdx in tqdm(range(reps)):\n",
    "        A = np.random.normal(μ, σ, size=(n, n))\n",
    "        A = update_matrix(A, max_λ)\n",
    "\n",
    "        ts = np.linspace(0, int(timesteps*dt), timesteps)\n",
    "        y0 = np.random.randn(n)\n",
    "\n",
    "\n",
    "        inds = np.random.permutation(n)[:keep_dims]            \n",
    "        sol = sdeint.itoint(vec_field, weiner, y0, ts)[transient:, inds]\n",
    "        data[idx, jdx, :, :] = sol"
   ]
  },
  {
   "cell_type": "code",
   "execution_count": null,
   "id": "608fb27d-8d45-4cd5-bf97-7393f95f0e96",
   "metadata": {
    "tags": []
   },
   "outputs": [],
   "source": [
    "import copy\n",
    "all_data = torch.from_numpy(copy.deepcopy(data)).float().to(device)\n",
    "all_data.shape"
   ]
  },
  {
   "cell_type": "markdown",
   "id": "65b3cac1-6f2c-467a-a3b9-695dbb10ba24",
   "metadata": {
    "tags": []
   },
   "source": [
    "### Helper functions"
   ]
  },
  {
   "cell_type": "code",
   "execution_count": 6,
   "id": "9f28d1c7-b201-4612-bf78-869d869fe904",
   "metadata": {
    "jupyter": {
     "source_hidden": true
    },
    "tags": []
   },
   "outputs": [],
   "source": [
    "def embed_signal_torch(data, n_delays, delay_interval=1):\n",
    "    \"\"\"\n",
    "    Create a delay embedding from the provided tensor data.\n",
    "    \"\"\"\n",
    "\n",
    "    with torch.no_grad():\n",
    "        if isinstance(data, np.ndarray):\n",
    "            data = torch.from_numpy(data)\n",
    "        device = data.device\n",
    "\n",
    "        # initialize the embedding\n",
    "        if data.ndim == 3:\n",
    "            embedding = torch.zeros((data.shape[0], data.shape[1] - (n_delays - 1)*delay_interval, data.shape[2]*n_delays)).to(device)\n",
    "        else:\n",
    "            embedding = torch.zeros((data.shape[0] - (n_delays - 1)*delay_interval, data.shape[1]*n_delays)).to(device)\n",
    "        \n",
    "        for d in range(n_delays):\n",
    "            index = (n_delays - 1 - d)*delay_interval\n",
    "            ddelay = d*delay_interval\n",
    "\n",
    "            if data.ndim == 3:\n",
    "                ddata = d*data.shape[2]\n",
    "                embedding[:,:, ddata: ddata + data.shape[2]] = data[:,index:data.shape[1] - ddelay]\n",
    "            else:\n",
    "                ddata = d*data.shape[1]\n",
    "                embedding[:, ddata:ddata + data.shape[1]] = data[index:data.shape[0] - ddelay]\n",
    "        \n",
    "        return embedding\n",
    "\n",
    "def product_safe(x):\n",
    "    x_abs_sort_inds = np.abs(x).argsort()\n",
    "    x = x[x_abs_sort_inds]\n",
    "    prod = 1\n",
    "    for i in range(int(len(x)/2)):\n",
    "        prod *= x[i]\n",
    "        prod *= x[x.shape[0] - i - 1]\n",
    "    if len(x) % 2 != 0:\n",
    "        prod *= x[int(len(x)/2)]\n",
    "    \n",
    "    # print(prod)\n",
    "\n",
    "    return prod\n",
    "\n",
    "def elle(i, yy, xx):\n",
    "    xx_trimmed = xx[np.where(xx != xx[i])[0]]\n",
    "\n",
    "    return product_safe(np.divide(yy - xx_trimmed, xx[i] - xx_trimmed))\n",
    "\n",
    "def cheb(N, T):    \n",
    "    if N == 0:\n",
    "        return 0, 1\n",
    "\n",
    "    xx = np.cos(np.pi*np.arange(N + 1)/N)\n",
    "    xx = T*(xx - 1)/2\n",
    "    c = np.multiply(np.hstack([2, np.ones(N - 1), 2]), np.power(-1, np.arange(N + 1)))\n",
    "    X = matlib.repmat(xx, N + 1, 1).T\n",
    "    dX = X - X.T\n",
    "    D = np.divide(np.outer(c, 1/c), dX + np.eye(N + 1))\n",
    "    D = D - np.diag(np.sum(D.T, axis=0))\n",
    "    \n",
    "    return D, xx"
   ]
  },
  {
   "cell_type": "markdown",
   "id": "bac03ff6-feb0-4188-8e19-d727f64f2b4c",
   "metadata": {
    "tags": []
   },
   "source": [
    "### Analysis"
   ]
  },
  {
   "cell_type": "code",
   "execution_count": 5,
   "id": "b3048625-9207-4588-96a4-5b92981321cd",
   "metadata": {
    "scrolled": true,
    "tags": []
   },
   "outputs": [
    {
     "data": {
      "application/vnd.jupyter.widget-view+json": {
       "model_id": "3bdc5303be80472099a585670771642a",
       "version_major": 2,
       "version_minor": 0
      },
      "text/plain": [
       "  0%|          | 0/2000 [00:00<?, ?it/s]"
      ]
     },
     "metadata": {},
     "output_type": "display_data"
    }
   ],
   "source": [
    "# matrix_sizes = np.array([10, 20, 50, 100, 200, 300, 500, 750, 1000])\n",
    "# ranks = np.array([3, 5, 10, 25, 50, 75, 100, 125, 150, 200, *range(250, 801, 50), 900, 1000])\n",
    "matrix_sizes = np.array([5, 10, 20])\n",
    "ranks = np.array([3, 5, 10, 20])\n",
    "\n",
    "aics = get_aics(all_data, matrix_sizes, ranks, dt=dt, max_freq=None,\n",
    "                max_unstable_freq=None, device=torch.device(\"cuda\"), delay_interval=1, N_time_bins=50)"
   ]
  },
  {
   "cell_type": "code",
   "execution_count": 195,
   "id": "5aab9350-b7e1-4fb0-91d9-ea1777b34420",
   "metadata": {
    "tags": []
   },
   "outputs": [
    {
     "name": "stdout",
     "output_type": "stream",
     "text": [
      "Trial Length: 256\n",
      "Trial Length: 512\n",
      "Trial Length: 1024\n",
      "Trial Length: 2048\n"
     ]
    }
   ],
   "source": [
    "dataset_size = all_data.shape[1]\n",
    "n_splits = 4\n",
    "\n",
    "full_output = True\n",
    "top_percent = 10\n",
    "if full_output:\n",
    "    top_percent = None\n",
    "\n",
    "trial_lens = np.logspace(8, 8+n_splits-1, n_splits, base=2).astype(int)\n",
    "skip = trial_lens // 2\n",
    "all_λs = np.empty((len(trial_lens), all_data.shape[0]), dtype=object)\n",
    "for idx, trial_len in enumerate(trial_lens):\n",
    "    print(f\"Trial Length: {trial_len}\")\n",
    "    λs = get_λs(all_data, aics, matrix_sizes, ranks, full_output=full_output,\n",
    "           top_percent=top_percent, dt=dt, max_freq=None, max_unstable_freq=None,\n",
    "           device=torch.device(\"cuda\"), trial_len=trial_len, skip=skip[idx],  n_delays=None,\n",
    "                                delay_interval=1, N_time_bins=50)\n",
    "    for jdx in range(all_data.shape[0]):\n",
    "        all_λs[idx, jdx] = λs[jdx]"
   ]
  },
  {
   "cell_type": "code",
   "execution_count": 124,
   "id": "c107c556",
   "metadata": {},
   "outputs": [],
   "source": [
    "def get_shape_mode(λs):\n",
    "    return stats.mode([λ.shape for λ in λs])\n",
    "\n",
    "def filter_λs(λs, shape):\n",
    "    return [λ for λ in λs if λ.shape == shape]"
   ]
  },
  {
   "cell_type": "code",
   "execution_count": 196,
   "id": "c1042926",
   "metadata": {},
   "outputs": [
    {
     "data": {
      "text/plain": [
       "(array([[ 0.,  0.,  0.,  0.,  0.,  0.,  0.,  0.,  0., 77.],\n",
       "        [ 0.,  0.,  0.,  0.,  0.,  0.,  0.,  0.,  0., 77.],\n",
       "        [ 0.,  0.,  0.,  0.,  0.,  0.,  0.,  0.,  0., 77.],\n",
       "        [ 0.,  0.,  0.,  0.,  0.,  0.,  0.,  0.,  0., 77.],\n",
       "        [ 0.,  0.,  0.,  0.,  0.,  0.,  0.,  0.,  5., 72.],\n",
       "        [ 0.,  0.,  0.,  0.,  0.,  0.,  0.,  0.,  6., 71.],\n",
       "        [ 0.,  0.,  0.,  0.,  0.,  0.,  0.,  0., 36., 41.],\n",
       "        [ 0.,  0.,  0.,  0.,  0.,  0.,  0.,  0., 40., 37.],\n",
       "        [ 0.,  0.,  0.,  0.,  0.,  0.,  0.,  0., 60., 17.],\n",
       "        [ 0.,  0.,  0.,  0.,  0.,  0.,  0.,  0., 61., 16.],\n",
       "        [ 0.,  0.,  0.,  0.,  0.,  0.,  0.,  0., 74.,  3.],\n",
       "        [ 0.,  0.,  0.,  0.,  0.,  0.,  0.,  0., 75.,  2.],\n",
       "        [ 0.,  0.,  0.,  0.,  0.,  0.,  0., 10., 67.,  0.],\n",
       "        [ 0.,  0.,  0.,  0.,  0.,  0.,  0., 21., 56.,  0.],\n",
       "        [ 0.,  0.,  0.,  0.,  0.,  0.,  0., 48., 29.,  0.],\n",
       "        [ 0.,  0.,  0.,  0.,  0.,  1.,  4., 63.,  9.,  0.],\n",
       "        [ 0.,  0.,  0.,  0.,  0.,  4., 18., 55.,  0.,  0.],\n",
       "        [ 0.,  0.,  0.,  0., 11., 28., 15., 23.,  0.,  0.],\n",
       "        [ 0.,  4., 12., 14., 16., 27.,  4.,  0.,  0.,  0.],\n",
       "        [ 1., 13., 34., 18., 11.,  0.,  0.,  0.,  0.,  0.],\n",
       "        [ 4., 48., 22.,  1.,  2.,  0.,  0.,  0.,  0.,  0.],\n",
       "        [12., 51., 14.,  0.,  0.,  0.,  0.,  0.,  0.,  0.]]),\n",
       " array([-2.50857330e+02, -2.25758133e+02, -2.00658936e+02, -1.75559738e+02,\n",
       "        -1.50460541e+02, -1.25361343e+02, -1.00262146e+02, -7.51629486e+01,\n",
       "        -5.00637550e+01, -2.49645576e+01,  1.34639531e-01]),\n",
       " <a list of 22 BarContainer objects>)"
      ]
     },
     "execution_count": 196,
     "metadata": {},
     "output_type": "execute_result"
    },
    {
     "data": {
      "image/png": "[encoded data removed]",
      "text/plain": [
       "<Figure size 640x480 with 1 Axes>"
      ]
     },
     "metadata": {},
     "output_type": "display_data"
    }
   ],
   "source": [
    "λs = np.zeros((all_λs.shape[0], all_λs.shape[1]), dtype=object)\n",
    "for idx in range(all_λs.shape[0]):\n",
    "    for jdx in range(all_λs.shape[1]):\n",
    "        λs[idx, jdx] = np.stack(filter_λs(all_λs[idx, jdx], get_shape_mode(all_λs[idx, jdx]).mode))\n",
    "plt.hist(λs[0, 0])"
   ]
  },
  {
   "cell_type": "code",
   "execution_count": 197,
   "id": "6f5c5690",
   "metadata": {},
   "outputs": [
    {
     "data": {
      "image/png": "[encoded data removed]",
      "text/plain": [
       "<Figure size 640x480 with 1 Axes>"
      ]
     },
     "metadata": {},
     "output_type": "display_data"
    }
   ],
   "source": [
    "subject = 10\n",
    "one_over_n_splits = (1 / np.arange(2, n_splits+2, 1)) / dataset_size\n",
    "\n",
    "for subject in range(all_λs.shape[1]):\n",
    "    dat = λs[:, subject]\n",
    "    dat_means = np.array([λ.mean(axis=0) for λ in dat])\n",
    "    dat_stds = np.array([λ.std(axis=0) for λ in dat])\n",
    "    plt.errorbar(one_over_n_splits, dat_means[:, 0], yerr=dat_stds[:, 0])\n",
    "    plt.xlabel(r\"$\\frac{1}{N}$\")\n",
    "    plt.ylabel(r\"$\\lambda (s^{-1})$\")\n",
    "plt.show()"
   ]
  },
  {
   "cell_type": "code",
   "execution_count": 215,
   "id": "12630a1b",
   "metadata": {},
   "outputs": [],
   "source": [
    "def analyze_lambda_convergence(λs, one_over_n_splits, eig=0, max_splits=None, max_poly_degree=3):\n",
    "    n_splits, n_subjects = λs.shape\n",
    "    \n",
    "    if max_splits is None:\n",
    "        max_splits = n_splits\n",
    "    \n",
    "    results = {}\n",
    "    \n",
    "    for subject in range(n_subjects):\n",
    "        subject_results = {}\n",
    "        \n",
    "        # Prepare data\n",
    "        X = one_over_n_splits[-max_splits:].reshape(-1, 1)  # Use the last max_splits points\n",
    "        y = np.array([λs[i, subject][:, eig].mean() for i in range(-max_splits, 0)])  # Use the last max_splits points\n",
    "        weights = 1/np.array([λs[i, subject][:, eig].std() for i in range(-max_splits, 0)])  # Use the last max_splits points\n",
    "        \n",
    "        # Perform weighted linear regression\n",
    "        with warnings.catch_warnings():\n",
    "            warnings.simplefilter(\"ignore\")\n",
    "            coeffs = np.polyfit(X.flatten(), y, 1, w=weights)\n",
    "            slope, intercept = coeffs\n",
    "        \n",
    "        # Calculate R-squared\n",
    "        y_pred = slope * X.flatten() + intercept\n",
    "        ss_tot = np.sum(weights * (y - np.mean(y))**2)\n",
    "        ss_res = np.sum(weights * (y - y_pred)**2)\n",
    "        r_squared = 1 - (ss_res / ss_tot)\n",
    "        \n",
    "        # Calculate standard error of intercept\n",
    "        n = len(X)\n",
    "        x_bar = np.mean(X)\n",
    "        s_xx = np.sum(weights * (X.flatten() - x_bar)**2)\n",
    "        s_e = np.sqrt(np.sum(weights * (y - y_pred)**2) / (n - 2))\n",
    "        intercept_std_err = s_e * np.sqrt(1/n + x_bar**2/s_xx)\n",
    "        \n",
    "        subject_results['linear'] = {\n",
    "            'intercept': intercept,\n",
    "            'intercept_std_err': intercept_std_err,\n",
    "            'slope': slope,\n",
    "            'r_squared': r_squared,\n",
    "        }\n",
    "        \n",
    "        poly_results = get_polynomial_regression(X, y, weights, max_poly_degree)\n",
    "        \n",
    "        # Find the best polynomial model based on BIC\n",
    "        best_poly = min(poly_results, key=lambda x: x['bic'])\n",
    "        subject_results['best_polynomial'] = best_poly\n",
    "        \n",
    "        results[f'subject_{subject}'] = subject_results\n",
    "    \n",
    "    return results\n",
    "\n",
    "def get_polynomial_regression(X, y, weights, max_poly_degree=3):\n",
    "    poly_results = []\n",
    "    for degree in range(1, max_poly_degree + 1):\n",
    "        poly_features = PolynomialFeatures(degree=degree)\n",
    "        X_poly = poly_features.fit_transform(X)\n",
    "        \n",
    "        model = LinearRegression()\n",
    "        model.fit(X_poly, y, sample_weight=weights)\n",
    "        \n",
    "        y_pred = model.predict(X_poly)\n",
    "        mse = mean_squared_error(y, y_pred, sample_weight=weights)\n",
    "        n_params = degree + 1\n",
    "        n_samples = len(y)\n",
    "        \n",
    "        # Handle zero MSE case\n",
    "        if mse == 0:\n",
    "            bic = np.inf\n",
    "        else:\n",
    "            bic = n_samples * np.log(mse) + n_params * np.log(n_samples)\n",
    "        \n",
    "        poly_results.append({\n",
    "            'degree': degree,\n",
    "            'coefficients': model.coef_,\n",
    "            'intercept': model.intercept_,\n",
    "            'bic': bic\n",
    "        })\n",
    "    return poly_results\n",
    "\n",
    "def plot_lambda_convergence(λs, one_over_n_splits, results, max_splits=None, eig=0, subject=0):\n",
    "    plt.figure(figsize=(12, 6))\n",
    "    sns.set_style(\"whitegrid\")\n",
    "    \n",
    "    if max_splits is None:\n",
    "        max_splits = λs.shape[0]\n",
    "    \n",
    "    # Plot data points with error bars\n",
    "    y = np.array([λs[i, subject][:, eig].mean() for i in range(-max_splits, 0)])\n",
    "    yerr = np.array([λs[i, subject][:, eig].std() for i in range(-max_splits, 0)])\n",
    "    plt.scatter(x=one_over_n_splits[-max_splits:], y=y, s=50, c=\"k\")\n",
    "    plt.errorbar(one_over_n_splits[-max_splits:], y, yerr=yerr, fmt='none', capsize=5, alpha=0.75, c=\"k\")\n",
    "    \n",
    "    # Plot linear regression\n",
    "    linear_result = results[f'subject_{subject}']['linear']\n",
    "    x_range = np.linspace(0, one_over_n_splits[-max_splits:].max(), 100)\n",
    "    y_pred = linear_result['slope'] * x_range + linear_result['intercept']\n",
    "    plt.plot(x_range, y_pred, color='r', label='Linear fit', lw=2)\n",
    "    plt.errorbar(x=0.0, y=linear_result['intercept'], yerr=linear_result['intercept_std_err'], color='r', label='Intercept', lw=2)\n",
    "    plt.scatter(x=0.0, y=linear_result['intercept'], c=\"r\", s=50)\n",
    "\n",
    "    plt.xlabel('1/N')\n",
    "    plt.ylabel('λ')\n",
    "    plt.title(f'Lambda Convergence for Subject {subject}')\n",
    "    \n",
    "    # Add text with regression results\n",
    "    text = f\"Linear fit:\\ny-intercept = {linear_result['intercept']:.4f} ± {linear_result['intercept_std_err']:.4f}\\n\"\n",
    "    text += f\"R² = {linear_result['r_squared']:.4f}\"\n",
    "    plt.text(0.05, 0.95, text, transform=plt.gca().transAxes, verticalalignment='top', bbox=dict(boxstyle='round', facecolor='white', alpha=0.8))\n",
    "    \n",
    "    plt.legend()\n",
    "    plt.show()"
   ]
  },
  {
   "cell_type": "code",
   "execution_count": 221,
   "id": "ef14ce7f",
   "metadata": {},
   "outputs": [
    {
     "data": {
      "image/png": "[encoded data removed]",
      "text/plain": [
       "<Figure size 1200x600 with 1 Axes>"
      ]
     },
     "metadata": {},
     "output_type": "display_data"
    }
   ],
   "source": [
    "results = analyze_lambda_convergence(λs, one_over_n_splits, eig=0, max_splits=4, max_poly_degree=3)\n",
    "\n",
    "# Plot for a specific subject (e.g., subject 0)\n",
    "plot_lambda_convergence(λs, one_over_n_splits, results, eig=0, max_splits=4, subject=10)"
   ]
  },
  {
   "cell_type": "code",
   "execution_count": 218,
   "id": "a6c6353a",
   "metadata": {},
   "outputs": [],
   "source": [
    "def results_to_dataframe(results):\n",
    "    data = []\n",
    "    for subject, result in results.items():\n",
    "        linear = result['linear']\n",
    "        poly = result['best_polynomial']\n",
    "        data.append({\n",
    "            'Subject': subject,\n",
    "            'Linear_Intercept': linear['intercept'],\n",
    "            'Linear_Intercept_StdErr': linear['intercept_std_err'],\n",
    "            'Linear_Slope': linear['slope'],\n",
    "            'Linear_R_Squared': linear['r_squared'],\n",
    "            'Best_Poly_Degree': poly['degree'],\n",
    "            'Best_Poly_Intercept': poly['intercept'],\n",
    "            'Best_Poly_BIC': poly['bic']\n",
    "        })\n",
    "    return pd.DataFrame(data)\n",
    "\n",
    "# Convert results to DataFrame\n",
    "results_df = results_to_dataframe(results)"
   ]
  },
  {
   "cell_type": "code",
   "execution_count": 241,
   "id": "1f80942d",
   "metadata": {},
   "outputs": [
    {
     "data": {
      "text/plain": [
       "[<matplotlib.lines.Line2D at 0x7f8367523810>]"
      ]
     },
     "execution_count": 241,
     "metadata": {},
     "output_type": "execute_result"
    },
    {
     "data": {
      "image/png": "[encoded data removed]",
      "text/plain": [
       "<Figure size 640x480 with 1 Axes>"
      ]
     },
     "metadata": {},
     "output_type": "display_data"
    }
   ],
   "source": [
    "real_eigs = np.repeat(np.load(\"/home/michael/Synology/Desktop/Data/Julia/data/VDP_eigenvalues_ground_truth.npy\"), 5, axis=0)\n",
    "intercepts = results_df['Linear_Intercept']\n",
    "std_errs = results_df['Linear_Intercept_StdErr']\n",
    "plt.scatter(range(len(intercepts)), np.power(100, intercepts), c=std_errs)\n",
    "plt.plot(range(len(real_eigs)), real_eigs[:, 0], c=\"r\")"
   ]
  },
  {
   "cell_type": "code",
   "execution_count": null,
   "id": "f8fc2822",
   "metadata": {},
   "outputs": [],
   "source": []
  },
  {
   "cell_type": "code",
   "execution_count": null,
   "id": "9232167d",
   "metadata": {},
   "outputs": [],
   "source": []
  },
  {
   "cell_type": "code",
   "execution_count": null,
   "id": "2d9eb0bf",
   "metadata": {},
   "outputs": [],
   "source": []
  },
  {
   "cell_type": "code",
   "execution_count": null,
   "id": "b3d33773-e36d-464d-9445-915bf3ae269b",
   "metadata": {},
   "outputs": [],
   "source": [
    "real_eigs = np.repeat(np.load(\"../../Julia/data/VDP_eigenvalues_ground_truth.npy\"), 5, axis=0)\n",
    "plt.plot(np.exp(λs[:]))\n",
    "plt.plot((real_eigs[:, 0]))"
   ]
  },
  {
   "cell_type": "code",
   "execution_count": null,
   "id": "c250fb8b-2a0a-4ede-88e4-241fbddeb7eb",
   "metadata": {
    "tags": []
   },
   "outputs": [],
   "source": [
    "plt.scatter(max_λs, λs[:, -1])\n",
    "# plt.errorbar(max_λs, λs[:, -1], np.sqrt(λs[:, :, -1].std(axis=1)/20))\n",
    "plt.plot(max_λs, max_λs, color=\"k\", linestyle=\"--\")"
   ]
  },
  {
   "cell_type": "code",
   "execution_count": null,
   "id": "f3afd525-f158-4c54-b88d-5c16d2858954",
   "metadata": {},
   "outputs": [],
   "source": []
  },
  {
   "cell_type": "code",
   "execution_count": null,
   "id": "ca920836-0a33-45b7-b57a-dce762e4cd99",
   "metadata": {},
   "outputs": [],
   "source": []
  },
  {
   "cell_type": "code",
   "execution_count": null,
   "id": "28435c24-2662-407e-965a-e059529e736f",
   "metadata": {},
   "outputs": [],
   "source": []
  },
  {
   "cell_type": "code",
   "execution_count": 290,
   "id": "490018ed-a80d-438c-8f7e-f23cb4023080",
   "metadata": {
    "tags": []
   },
   "outputs": [],
   "source": [
    "keep_eigs = 1\n",
    "# λs_filtered = np.array([np.sort(λ)[-keep_eigs:] for λ in λs])\n",
    "λs_filtered = np.stack([[np.sort(λ_i)[-keep_eigs:] for λ_i in λ] for λ in λs])"
   ]
  },
  {
   "cell_type": "code",
   "execution_count": null,
   "id": "bd71bba5-ab79-43a8-a6f8-f0cf893a2763",
   "metadata": {
    "tags": []
   },
   "outputs": [],
   "source": [
    "[plt.scatter(max_λs, λs_filtered[:, :, idx].mean(axis=1)) for idx in range(keep_eigs)]\n",
    "[plt.errorbar(max_λs, λs_filtered[:, :, idx].mean(axis=1), yerr=np.sqrt(λs_filtered[:, :, idx].var(axis=1)/reps)) for idx in range(keep_eigs)]\n",
    "plt.plot(max_λs, max_λs, lw=2, c='k', linestyle=\"dashed\")"
   ]
  },
  {
   "cell_type": "code",
   "execution_count": null,
   "id": "08b071de-eaf7-48aa-ba83-c42fd91a0af1",
   "metadata": {
    "tags": []
   },
   "outputs": [],
   "source": [
    "[plt.scatter(max_λs, λs_filtered[:, :, idx].mean(axis=1)) for idx in range(keep_eigs)]\n",
    "[plt.errorbar(max_λs, λs_filtered[:, :, idx].mean(axis=1), yerr=np.sqrt(λs_filtered[:, :, idx].var(axis=1)/reps)) for idx in range(keep_eigs)]\n",
    "plt.plot(max_λs, max_λs, lw=2, c='k', linestyle=\"dashed\")"
   ]
  },
  {
   "cell_type": "code",
   "execution_count": null,
   "id": "f946e6d6-af6b-4652-aba1-bd65509f72cd",
   "metadata": {
    "tags": []
   },
   "outputs": [],
   "source": [
    "stability_params.max()"
   ]
  },
  {
   "cell_type": "code",
   "execution_count": null,
   "id": "81638e39",
   "metadata": {},
   "outputs": [],
   "source": [
    "window_size = 1500\n",
    "n_delays = [1, 2, 4, 8, 16]\n",
    "delay_intervals = [1, 2, 4, 8, 16]\n",
    "n_itrs = data.shape[1] // window_size\n",
    "\n",
    "all_lambdas = []\n",
    "all_lambdas2 = []\n",
    "# for itr in range(n_itrs):\n",
    "for delay_interval in delay_intervals:\n",
    "    start = 0\n",
    "    lambdas = []\n",
    "    lambdas2 = []\n",
    "    for idx, n_delay in enumerate(n_delays):\n",
    "        delase = DeLASE(data[:30,start:start+window_size], \n",
    "                    n_delays=n_delay, \n",
    "                    matrix_size=matrix_size,\n",
    "                    delay_interval=delay_interval,\n",
    "                    rank=rank,\n",
    "                    rank_thresh=rank_thresh,\n",
    "                    rank_explained_variance=rank_explained_variance,\n",
    "                    lamb=lamb,\n",
    "                    dt=dt,\n",
    "                    N_time_bins=N_time_bins,\n",
    "                    max_freq=max_freq,\n",
    "                    max_unstable_freq=max_unstable_freq,\n",
    "                    device=device,\n",
    "                    verbose=verbose\n",
    "                   )\n",
    "        delase2 = DeLASE(data[30:,start:start+window_size], \n",
    "                    n_delays=n_delay, \n",
    "                    matrix_size=matrix_size,\n",
    "                    delay_interval=delay_interval,\n",
    "                    rank=rank,\n",
    "                    rank_thresh=rank_thresh,\n",
    "                    rank_explained_variance=rank_explained_variance,\n",
    "                    lamb=lamb,\n",
    "                    dt=dt,\n",
    "                    N_time_bins=N_time_bins,\n",
    "                    max_freq=max_freq,\n",
    "                    max_unstable_freq=max_unstable_freq,\n",
    "                    device=device,\n",
    "                    verbose=verbose\n",
    "                   )\n",
    "        delase.fit(max_freq=max_freq, max_unstable_freq=max_unstable_freq, verbose=False)\n",
    "        delase2.fit(max_freq=max_freq, max_unstable_freq=max_unstable_freq, verbose=False)\n",
    "        lambdas.append(delase.stability_params.cpu().numpy())\n",
    "        lambdas2.append(delase2.stability_params.cpu().numpy())\n",
    "    start += window_size\n",
    "    all_lambdas.append(np.array(lambdas, dtype=\"O\"))\n",
    "    all_lambdas2.append(np.array(lambdas2, dtype=\"O\"))\n",
    "all_lambdas = np.array(all_lambdas, dtype=\"O\").squeeze()\n",
    "all_lambdas2 = np.array(all_lambdas2, dtype=\"O\").squeeze()"
   ]
  },
  {
   "cell_type": "code",
   "execution_count": null,
   "id": "5a5c43d5",
   "metadata": {},
   "outputs": [],
   "source": [
    "all_lambdas.shape"
   ]
  },
  {
   "cell_type": "code",
   "execution_count": null,
   "id": "82604bf4",
   "metadata": {},
   "outputs": [],
   "source": [
    "thresh = 0.05\n",
    "for idx in range(all_lambdas.shape[0]):\n",
    "    plot_data = np.sort(np.exp(np.concatenate(all_lambdas[idx, 1:2])))\n",
    "    \n",
    "# plot_data2 = np.sort(np.exp(np.concatenate(all_lambdas2[:, 5])))\n",
    "    plt.hist(stats.get_bootstrapped_sample(plot_data[np.newaxis, plot_data > thresh]), alpha=0.7, label=f\"{idx}\", density=True, bins=50)\n",
    "# plt.hist(stats.get_bootstrapped_sample(plot_data2[np.newaxis, plot_data2 > thresh]), alpha=0.5)\n",
    "    plt.legend()\n",
    "    plt.show()"
   ]
  },
  {
   "cell_type": "code",
   "execution_count": null,
   "id": "e7a20c46",
   "metadata": {},
   "outputs": [],
   "source": [
    "1.1**50"
   ]
  },
  {
   "cell_type": "code",
   "execution_count": null,
   "id": "dca7967e",
   "metadata": {
    "tags": []
   },
   "outputs": [],
   "source": [
    "delase.stability_params.cpu().numpy().shape"
   ]
  },
  {
   "cell_type": "code",
   "execution_count": 21,
   "id": "3cd71937",
   "metadata": {
    "tags": []
   },
   "outputs": [],
   "source": [
    "delase = DeLASE(data[:6,:1000], \n",
    "                n_delays=n_delays, \n",
    "                matrix_size=matrix_size,\n",
    "                delay_interval=delay_interval,\n",
    "                rank=rank,\n",
    "                rank_thresh=rank_thresh,\n",
    "                rank_explained_variance=rank_explained_variance,\n",
    "                lamb=lamb,\n",
    "                dt=dt,\n",
    "                N_time_bins=N_time_bins,\n",
    "                max_freq=max_freq,\n",
    "                max_unstable_freq=max_unstable_freq,\n",
    "                device=device,\n",
    "                verbose=verbose\n",
    "               )"
   ]
  },
  {
   "cell_type": "code",
   "execution_count": null,
   "id": "5cbb8699",
   "metadata": {
    "tags": []
   },
   "outputs": [],
   "source": [
    "delase.fit(max_freq=max_freq, max_unstable_freq=max_unstable_freq, verbose=verbose)"
   ]
  },
  {
   "cell_type": "code",
   "execution_count": null,
   "id": "a4c7f4e7-fc0c-4e5b-92db-868d48a8d8ff",
   "metadata": {
    "tags": []
   },
   "outputs": [],
   "source": [
    "τ, k = 1, 10\n",
    "from utils.delase import takens_embedding\n",
    "delase.DMD.A_havok_dmd.shape, embed_signal_torch(data, k, τ).transpose(-2, -1).shape"
   ]
  },
  {
   "cell_type": "code",
   "execution_count": null,
   "id": "ec0f43f3-7f95-47aa-8d35-3d6e60a69cb3",
   "metadata": {
    "tags": []
   },
   "outputs": [],
   "source": [
    "delase.stability_params.cpu().numpy()"
   ]
  },
  {
   "cell_type": "code",
   "execution_count": 215,
   "id": "2e03054e-3693-438b-85fc-b31df90a87de",
   "metadata": {
    "tags": []
   },
   "outputs": [],
   "source": [
    "n_delays = 5\n",
    "delay_interval = 1\n",
    "rank=10"
   ]
  },
  {
   "cell_type": "code",
   "execution_count": 216,
   "id": "e9e71193",
   "metadata": {
    "tags": []
   },
   "outputs": [],
   "source": [
    "delase2 = DeLASE(data[0], \n",
    "                n_delays=n_delays,\n",
    "                matrix_size=matrix_size,\n",
    "                delay_interval=delay_interval,\n",
    "                rank=rank,\n",
    "                rank_thresh=rank_thresh,\n",
    "                rank_explained_variance=rank_explained_variance,\n",
    "                lamb=lamb,\n",
    "                dt=dt,\n",
    "                N_time_bins=N_time_bins,\n",
    "                max_freq=max_freq,\n",
    "                max_unstable_freq=max_unstable_freq,\n",
    "                device=device,\n",
    "                verbose=verbose\n",
    "               )"
   ]
  },
  {
   "cell_type": "code",
   "execution_count": null,
   "id": "891616c8",
   "metadata": {
    "tags": []
   },
   "outputs": [],
   "source": [
    "delase2.fit(max_freq=max_freq, max_unstable_freq=max_unstable_freq, verbose=verbose)"
   ]
  },
  {
   "cell_type": "code",
   "execution_count": null,
   "id": "eb36e8e5-c48e-444e-9ab5-6cc49f7421e8",
   "metadata": {
    "tags": []
   },
   "outputs": [],
   "source": [
    "plt.hist(np.exp(delase2.stability_params.cpu().numpy()))"
   ]
  },
  {
   "cell_type": "code",
   "execution_count": 92,
   "id": "faa1974b-65dd-4c18-9573-8216485098c9",
   "metadata": {
    "tags": []
   },
   "outputs": [],
   "source": [
    "Vt_minus = delase2.DMD.V[:-1]\n",
    "Vt_plus = delase2.DMD.V[1:]"
   ]
  },
  {
   "cell_type": "code",
   "execution_count": null,
   "id": "71f03c9f-9f27-400c-bc3a-8d82c031a993",
   "metadata": {
    "tags": []
   },
   "outputs": [],
   "source": [
    "delase2.DMD.A_v.T"
   ]
  },
  {
   "cell_type": "code",
   "execution_count": 183,
   "id": "5b3f305b",
   "metadata": {},
   "outputs": [],
   "source": [
    "from utils.stats import get_bootstrapped_sample"
   ]
  },
  {
   "cell_type": "code",
   "execution_count": 194,
   "id": "78d41bbc",
   "metadata": {},
   "outputs": [],
   "source": [
    "λs_AB = np.exp(delase.stability_params.cpu().numpy())\n",
    "λs_ST = np.exp(delase2.stability_params.cpu().numpy())\n",
    "AB_thresh = np.percentile(λs_AB, 80)\n",
    "ST_thresh = np.percentile(λs_ST, 80)\n",
    "λs_AB = λs_AB[λs_AB > AB_thresh]\n",
    "λs_ST = λs_ST[λs_ST > ST_thresh]\n",
    "sample_AB = get_bootstrapped_sample(λs_AB[np.newaxis, :], nboot=100000)\n",
    "sample_ST = get_bootstrapped_sample(λs_ST[np.newaxis, :], nboot=100000)"
   ]
  },
  {
   "cell_type": "code",
   "execution_count": null,
   "id": "5d43cf28",
   "metadata": {},
   "outputs": [],
   "source": [
    "plt.hist(sample_AB, bins=50, alpha=0.8, label=\"AB\")\n",
    "plt.hist(sample_ST, bins=50, alpha=0.8, label=\"Stroke\")\n",
    "plt.legend()\n",
    "plt.xlabel(\"$\\lambda$\")\n",
    "plt.ylabel(\"Count\")"
   ]
  },
  {
   "cell_type": "code",
   "execution_count": null,
   "id": "816d7a3b",
   "metadata": {},
   "outputs": [],
   "source": [
    "y_pred = delase.DMD.predict(reseed=np.inf)\n",
    "fig, ax = plt.subplots(1, 2, figsize=(12, 4))\n",
    "ax[0].plot(data[0, :1000, 0], label=\"Real Signals\")\n",
    "ax[0].plot(y_pred[0, :1000, 0].cpu().numpy(), label=\"Predicted Signals\")\n",
    "ax[0].legend()\n",
    "ax[1].plot(np.abs(y_pred[0].cpu().numpy()[:1000, 0] - data[0, :1000, 0]))\n",
    "ax[1].set_title(\"|Real Signals - Predicted Signals|\")"
   ]
  },
  {
   "cell_type": "code",
   "execution_count": 123,
   "id": "1d501fad",
   "metadata": {},
   "outputs": [],
   "source": [
    "from delase import embed_signal_torch"
   ]
  },
  {
   "cell_type": "code",
   "execution_count": 126,
   "id": "4cf3d947",
   "metadata": {},
   "outputs": [],
   "source": [
    "def predict(\n",
    "        DMD,\n",
    "        test_data=None,\n",
    "        reseed=None,\n",
    "        full_return=False\n",
    "    ):\n",
    "        # initialize test_data\n",
    "        if test_data is None:\n",
    "            test_data = DMD.data\n",
    "        if isinstance(test_data, np.ndarray):\n",
    "            test_data = torch.from_numpy(test_data)\n",
    "        test_data = test_data.to(DMD.device)\n",
    "        ndim = test_data.ndim\n",
    "        if ndim == 2:\n",
    "            test_data = test_data.unsqueeze(0)\n",
    "        H_test = embed_signal_torch(test_data, DMD.n_delays, DMD.delay_interval)\n",
    "\n",
    "        if reseed is None:\n",
    "            reseed = 1\n",
    "\n",
    "        H_test_havok_dmd = torch.zeros(H_test.shape).to(DMD.device)\n",
    "        H_test_havok_dmd[:, 0] = H_test[:, 0]\n",
    "\n",
    "        A = DMD.A_havok_dmd.unsqueeze(0)\n",
    "        for t in range(1, H_test.shape[1]):\n",
    "            if t % reseed == 0:\n",
    "                H_test_havok_dmd[:, t] = (A @ H_test[:, t - 1].transpose(-2, -1)).transpose(-2, -1)\n",
    "            else:\n",
    "                H_test_havok_dmd[:, t] = (A @ H_test_havok_dmd[:, t - 1].transpose(-2, -1)).transpose(-2, -1)\n",
    "        pred_data = torch.hstack([test_data[:, :(DMD.n_delays - 1)*DMD.delay_interval + 1], H_test_havok_dmd[:, 1:, :DMD.n]])\n",
    "\n",
    "        if ndim == 2:\n",
    "            pred_data = pred_data[0]\n",
    "\n",
    "        if full_return:\n",
    "            return pred_data, H_test_havok_dmd, H_test\n",
    "        else:\n",
    "            return pred_data"
   ]
  },
  {
   "cell_type": "code",
   "execution_count": null,
   "id": "d10ad976",
   "metadata": {},
   "outputs": [],
   "source": [
    "y_pred.shape"
   ]
  },
  {
   "cell_type": "code",
   "execution_count": null,
   "id": "8b8be830",
   "metadata": {},
   "outputs": [],
   "source": [
    "y_pred = predict(delase.DMD, data[:, 500:, :]).cpu().numpy()\n",
    "\n",
    "fig, ax = plt.subplots(1, 3, figsize=(12, 4))\n",
    "ax[0].plot(data[-1, 500:1000])\n",
    "ax[0].set_title(\"Real Signals\")\n",
    "ax[1].plot(y_pred[-1][:500])\n",
    "ax[1].set_title(\"Predicted Signals\")\n",
    "ax[2].plot(np.abs(y_pred[-1][:500] - data[-1, 500:1000]))\n",
    "ax[2].set_title(\"|Real Signals - Predicted Signals|\")"
   ]
  },
  {
   "cell_type": "code",
   "execution_count": null,
   "id": "0d58e583",
   "metadata": {},
   "outputs": [],
   "source": [
    "np.mean(np.abs(y_pred[30:, :500] - data[30:, 500:1000]))"
   ]
  },
  {
   "cell_type": "code",
   "execution_count": null,
   "id": "83bdc4e6",
   "metadata": {},
   "outputs": [],
   "source": [
    "plt.plot(data[0, :, 2])\n",
    "plt.plot(data[0, :, 5])\n",
    "plt.show()\n",
    "plt.plot(data[0, :, 2] + data[0, :, 5])"
   ]
  },
  {
   "cell_type": "code",
   "execution_count": null,
   "id": "3c32dc69",
   "metadata": {},
   "outputs": [],
   "source": []
  },
  {
   "cell_type": "code",
   "execution_count": null,
   "id": "96247fa1",
   "metadata": {},
   "outputs": [],
   "source": []
  },
  {
   "cell_type": "code",
   "execution_count": null,
   "id": "dc4a170b",
   "metadata": {},
   "outputs": [],
   "source": []
  },
  {
   "cell_type": "code",
   "execution_count": 259,
   "id": "c0fd9fd8",
   "metadata": {},
   "outputs": [],
   "source": [
    "import numpy as np\n",
    "import pandas as pd\n",
    "from tqdm.auto import tqdm\n",
    "\n",
    "from delase import DeLASE\n",
    "from delase.metrics import compute_AIC\n",
    "# from utils import *\n",
    "\n",
    "class ParameterGrid:\n",
    "    def __init__(self, window_vals=np.array([1000]), n_delays_vals=None, matrix_size_vals=None, r_vals=np.array([10]), reseed=False, reseed_vals=np.array([1, 5, 10, 15, 20, 30, 40, 50, 100, 150, 200, 250, 300, 400, 500, 750, 1000])):\n",
    "        self.window_vals = window_vals\n",
    "        if n_delays_vals is not None and matrix_size_vals is not None:\n",
    "            raise ValueError(\"p_vals and matrix_size cannot be provided at the same time! Pick one please :)\")\n",
    "        if n_delays_vals is None and matrix_size_vals is None:\n",
    "            n_delays_vals=np.array([10])\n",
    "        self.n_delays_vals = n_delays_vals\n",
    "        self.matrix_size_vals = matrix_size_vals\n",
    "        self.r_vals = r_vals\n",
    "        self.reseed = reseed\n",
    "        self.reseed_vals = reseed_vals\n",
    "    \n",
    "        if self.n_delays_vals is not None:\n",
    "            num_expansions = len(n_delays_vals)\n",
    "            self.expansion_type = 'n_delays'\n",
    "            self.expansion_vals = n_delays_vals\n",
    "        else:\n",
    "            num_expansions = len(matrix_size_vals)\n",
    "            self.expansion_type = 'matrix_size'\n",
    "            self.expansion_vals = matrix_size_vals\n",
    "        \n",
    "        if reseed:\n",
    "            self.total_combinations = len(window_vals)*num_expansions*len(r_vals)*len(reseed_vals)\n",
    "        else:\n",
    "            self.total_combinations = len(window_vals)*num_expansions*len(r_vals)\n",
    "\n",
    "def compute_delase_chroots(delase, stability_max_freq=500, stability_max_unstable_freq=None, use_torch=True):\n",
    "    result = {}\n",
    "    delase.compute_jacobians()\n",
    "    delase.get_stability(max_freq=stability_max_freq, max_unstable_freq=stability_max_unstable_freq)\n",
    "    result['stability_params'] = delase.stability_params\n",
    "    result['stability_freqs'] = delase.stability_freqs\n",
    "    if use_torch:\n",
    "        result['stability_params'] = result['stability_params'].cpu().numpy()\n",
    "        result['stability_freqs'] = result['stability_freqs'].cpu().numpy()\n",
    "    \n",
    "    return result\n",
    "\n",
    "def fit_and_test_delase(signal, test_signal, window, expansion_val, parameter_grid, dt, norm_aic=True,\n",
    "                        compute_chroots=True, stability_max_freq=500, stability_max_unstable_freq=125, \n",
    "                        save_jacobians=False, use_torch=True, device='cpu', track_reseeds=False, iterator=None, message_queue=None, \n",
    "                        worker_num=None, verbose=False):\n",
    "    results = []\n",
    "\n",
    "    # -----------\n",
    "    # Compute hankel matrix and SVD\n",
    "    # -----------\n",
    "    delase_init_args = {\n",
    "        parameter_grid.expansion_type: expansion_val,\n",
    "        'dt': dt,\n",
    "        'device': device,\n",
    "    }\n",
    "    if verbose:\n",
    "        print(\"Computing SVD...\")\n",
    "    delase = DeLASE(signal, **delase_init_args)\n",
    "    delase.DMD.compute_hankel()\n",
    "    delase.DMD.compute_svd()\n",
    "    if verbose:\n",
    "        print(\"SVD computed!\")\n",
    "        print(\"Now running over ranks...\")\n",
    "    for r in parameter_grid.r_vals:\n",
    "        if r <= delase.n*delase.n_delays:\n",
    "            result = {\n",
    "                'window': window,\n",
    "                parameter_grid.expansion_type: expansion_val,\n",
    "                'rank': r,\n",
    "            }\n",
    "            if verbose:\n",
    "                print(f\"Now computing for rank {r}\")\n",
    "\n",
    "            # -----------\n",
    "            # Compute HAVOK DMD\n",
    "            # -----------\n",
    "            if verbose:\n",
    "                print(f\"Computing least squares fit to HAVOK DMD...\")\n",
    "            delase.DMD.compute_havok_dmd(r)\n",
    "            if verbose:\n",
    "                print(f\"HAVOK DMD complete!\")\n",
    "\n",
    "            # -----------\n",
    "            # Compute AIC\n",
    "            # -----------\n",
    "            result['AIC'] = compute_AIC(delase, test_signal, norm=norm_aic)\n",
    "            \n",
    "            # -----------\n",
    "            # Compute characteristic roots\n",
    "            # -----------\n",
    "            if compute_chroots:\n",
    "                if verbose:\n",
    "                    print(\"Computing characteristic roots...\")\n",
    "                ret_dict = compute_delase_chroots(delase, stability_max_freq, stability_max_unstable_freq, use_torch)\n",
    "                result = result | ret_dict\n",
    "                if verbose:\n",
    "                    print(\"Characteristic roots computed!\")\n",
    "            # -----------\n",
    "            # Save Jacobians\n",
    "            # -----------\n",
    "            if save_jacobians:\n",
    "                if not compute_chroots:\n",
    "                    delase.compute_jacobians()\n",
    "                result['Js'] = delase.Js\n",
    "\n",
    "            # -----------\n",
    "            # Append result\n",
    "            # -----------\n",
    "            results.append(result)\n",
    "\n",
    "            # -----------\n",
    "            # send a message that the task is complete\n",
    "            # -----------\n",
    "            if not track_reseeds:\n",
    "                if iterator is not None:\n",
    "                    iterator.update()\n",
    "        else:\n",
    "            if not track_reseeds:\n",
    "                if iterator is not None:\n",
    "                    iterator.update()\n",
    "            else:\n",
    "                if iterator is not None:\n",
    "                    iterator.update(len(parameter_grid.reseed_vals))\n",
    "        \n",
    "    return results\n",
    "\n",
    "def parameter_search(train_signal, test_signal, parameter_grid=None, dt=1,\n",
    "                        compute_chroots=True, stability_max_freq=500, stability_max_unstable_freq=125, use_torch=False, \n",
    "                        device='cpu', dtype='torch.DoubleTensor', verbose=False, track_reseeds=False,r_vals=None):\n",
    "    if parameter_grid is None:\n",
    "        parameter_grid = ParameterGrid()\n",
    "    \n",
    "    if use_torch:\n",
    "        device = train_signal.device\n",
    "\n",
    "    results = []\n",
    "\n",
    "    num_its = parameter_grid.total_combinations\n",
    "    if not track_reseeds:\n",
    "        if parameter_grid.reseed:   \n",
    "            num_its = int(num_its/len(parameter_grid.reseed_vals))\n",
    "    iterator = tqdm(total=num_its, disable=not verbose)\n",
    "\n",
    "\n",
    "    fit_and_test_args = dict(\n",
    "        parameter_grid=parameter_grid, \n",
    "        dt=dt, \n",
    "        compute_chroots=compute_chroots, \n",
    "        stability_max_freq=stability_max_freq, \n",
    "        stability_max_unstable_freq=stability_max_unstable_freq,\n",
    "        device=device, \n",
    "        iterator=iterator,\n",
    "        track_reseeds=track_reseeds\n",
    "    )\n",
    "\n",
    "    for window in parameter_grid.window_vals:\n",
    "        signal = train_signal[:window]\n",
    "        for expansion_val in parameter_grid.expansion_vals:\n",
    "            if parameter_grid.expansion_type == 'matrix_size':\n",
    "                n_delays = int(np.ceil(expansion_val/train_signal.shape[1]))\n",
    "            else:\n",
    "                n_delays = expansion_val\n",
    "            if n_delays*train_signal.shape[1] < window - n_delays:\n",
    "                results.extend(fit_and_test_delase(signal, test_signal, window, expansion_val, **fit_and_test_args))\n",
    "            else:\n",
    "                if track_reseeds:\n",
    "                    iterator.update(len(parameter_grid.reseed_vals))\n",
    "                else:\n",
    "                    iterator.update(1)\n",
    "\n",
    "    iterator.close()\n",
    "\n",
    "    results = pd.DataFrame(results)\n",
    "    \n",
    "    return results.set_index(['window', parameter_grid.expansion_type, 'rank'])"
   ]
  },
  {
   "cell_type": "code",
   "execution_count": null,
   "id": "20714810",
   "metadata": {},
   "outputs": [],
   "source": [
    "train_signal = torch.from_numpy(data[0, :500, :]).to(device)\n",
    "test_signal = torch.from_numpy(data[0, -500:, :]).to(device)\n",
    "parameter_grid = ParameterGrid(window_vals=np.array([500, 750, 1000]),\n",
    "                               n_delays_vals=np.arange(1, 30),\n",
    "                               matrix_size_vals=None,\n",
    "                               r_vals=np.array(np.arange(1, 30)),\n",
    "                               reseed=False,\n",
    "                               reseed_vals=np.array([1, 5, 10, 15, 20, 30, 40, 50, 100, 200, 300]))\n",
    "df = parameter_search(train_signal, \n",
    "                 test_signal, \n",
    "                 parameter_grid=None, \n",
    "                 dt=0.01,\n",
    "                 compute_chroots=True, \n",
    "                 stability_max_freq=500,\n",
    "                 stability_max_unstable_freq=125,\n",
    "                 use_torch=True,\n",
    "                 device='cuda',\n",
    "                 dtype='torch.DoubleTensor',\n",
    "                 verbose=False,\n",
    "                 track_reseeds=False\n",
    ")"
   ]
  },
  {
   "cell_type": "code",
   "execution_count": null,
   "id": "7d47b2dd",
   "metadata": {},
   "outputs": [],
   "source": [
    "df.head()"
   ]
  },
  {
   "cell_type": "code",
   "execution_count": null,
   "id": "88ef7814",
   "metadata": {},
   "outputs": [],
   "source": []
  },
  {
   "cell_type": "code",
   "execution_count": null,
   "id": "3ef787b5",
   "metadata": {},
   "outputs": [],
   "source": []
  },
  {
   "cell_type": "markdown",
   "id": "35c7676a",
   "metadata": {},
   "source": [
    "### Floquet"
   ]
  },
  {
   "cell_type": "code",
   "execution_count": null,
   "id": "4ad76176",
   "metadata": {},
   "outputs": [],
   "source": [
    "data = np.load(\"/home/michael/Synology/Julia/data/human_data.npy\")\n",
    "\n",
    "all_means = []\n",
    "all_reses = []\n",
    "all_sigs = []\n",
    "for idx in range(data.shape[0]):\n",
    "    dats = [data[idx].T - np.repeat(data[idx].T.mean(axis=1)[:, np.newaxis], data[idx].shape[0], axis=1)]\n",
    "    phr = phaser.Phaser(dats)\n",
    "    phi = [ phr.phaserEval( d ) for d in dats ] # extract phase\n",
    "    phi2  = (phi[0].T % (2*np.pi))/np.pi-1; # force phase to be within [-1 , 1]\n",
    "    peaks = signal.find_peaks(np.reshape(phi2, (phi2.shape[0],)),height = 0.8,distance = 80)\n",
    "    peak_arr = np.asarray(peaks[0])\n",
    "    peaks_start = peak_arr[:] # index is the trial #\n",
    "    peaks_end = peaks_start\n",
    "    # remove cycles that are not full cycles\n",
    "    peaks_end = peaks_end[1:]\n",
    "    peaks_start = peaks_start[:-1] # ensure full gait cycles\n",
    "    \n",
    "    # run through and extract each gait cycle\n",
    "    feats = data.shape[-1] # number of PCs to extract for phase averaging\n",
    "    means = []\n",
    "    sigs = []\n",
    "    for c in range(feats):\n",
    "        interp_sigs = np.zeros((len(peaks_start), 100))\n",
    "        for d in range(len(peaks_start)): \n",
    "            # print(peaks_start[d], peaks_end[d])\n",
    "            y = dats[0][c][peaks_start[d]:peaks_end[d]] #can we use all feats at same time? -- no\n",
    "            x = np.linspace(-1,1, num=len(y), endpoint=True) #set axis for gait segment\n",
    "            f2 = interpolate.interp1d(x, y, kind='cubic')\n",
    "            xnew = np.linspace(-1,1, num=100, endpoint=True) #set phase axis\n",
    "            interp_sigs[d, :] = f2(xnew)\n",
    "        sigs.append(interp_sigs)\n",
    "        meansigs = np.mean(interp_sigs, axis=0)\n",
    "        means.append(meansigs)\n",
    "    means = np.array(means)\n",
    "    sigs = np.array(sigs)\n",
    "    reses = (sigs - means[:, np.newaxis, :])\n",
    "    reses = reses.reshape(-1, reses.shape[1]*reses.shape[2])\n",
    "    all_reses.append(reses)\n",
    "    all_means.append(means)\n",
    "    all_sigs.append(sigs)\n",
    "all_reses = np.array([res.T for res in all_reses], dtype=\"O\")\n",
    "\n",
    "all_means = np.array(all_means)\n",
    "for _ in range(5):\n",
    "    all_means = np.concatenate([all_means, all_means], axis=-1)\n",
    "all_means = all_means.swapaxes(1, 2)"
   ]
  },
  {
   "cell_type": "code",
   "execution_count": null,
   "id": "5bb000a8",
   "metadata": {},
   "outputs": [],
   "source": []
  },
  {
   "cell_type": "code",
   "execution_count": null,
   "id": "63e5786e",
   "metadata": {},
   "outputs": [],
   "source": [
    "floquet_data = np.concatenate(all_sigs, axis=1).swapaxes(0, 2)\n",
    "floquet_data = floquet_data - floquet_data.mean(axis=1)[:, np.newaxis, :]\n",
    "floquet_data.shape"
   ]
  },
  {
   "cell_type": "code",
   "execution_count": 469,
   "id": "0f55aa7d",
   "metadata": {},
   "outputs": [],
   "source": [
    "n_delays = 1\n",
    "matrix_size = None\n",
    "delay_interval = 1\n",
    "rank = None\n",
    "rank_thresh = None\n",
    "rank_explained_variance = None\n",
    "lamb=0\n",
    "dt=1.0\n",
    "N_time_bins = 1\n",
    "max_freq=50\n",
    "max_unstable_freq=50\n",
    "device = torch.device(\"cuda\")\n",
    "verbose = True"
   ]
  },
  {
   "cell_type": "code",
   "execution_count": null,
   "id": "f8817f8a",
   "metadata": {},
   "outputs": [],
   "source": [
    "delase = DeLASE(floquet_data, \n",
    "                    n_delays=n_delays, \n",
    "                    matrix_size=matrix_size,\n",
    "                    delay_interval=delay_interval,\n",
    "                    rank=rank,\n",
    "                    rank_thresh=rank_thresh,\n",
    "                    rank_explained_variance=rank_explained_variance,\n",
    "                    lamb=lamb,\n",
    "                    dt=dt,\n",
    "                    N_time_bins=N_time_bins,\n",
    "                    max_freq=max_freq,\n",
    "                    max_unstable_freq=max_unstable_freq,\n",
    "                    device=device,\n",
    "                    verbose=verbose\n",
    "                   )\n",
    "delase.fit(max_freq=max_freq, max_unstable_freq=max_unstable_freq, verbose=True, n_delays=n_delays, delay_interval=delay_interval)\n",
    "delase.stability_params.cpu().numpy()"
   ]
  },
  {
   "cell_type": "code",
   "execution_count": null,
   "id": "625bbc33",
   "metadata": {},
   "outputs": [],
   "source": [
    "plt.hist(np.exp(delase.stability_params.cpu().numpy()))"
   ]
  },
  {
   "cell_type": "code",
   "execution_count": null,
   "id": "0bf45ceb",
   "metadata": {},
   "outputs": [],
   "source": [
    "y_pred = delase.DMD.predict(reseed=1)\n",
    "plt.plot(y_pred[0].cpu()[:, 0])\n",
    "plt.plot(floquet_data[0, :, 0])"
   ]
  },
  {
   "cell_type": "code",
   "execution_count": null,
   "id": "6c81454d",
   "metadata": {},
   "outputs": [],
   "source": [
    "plt.plot(floquet_data[0])"
   ]
  },
  {
   "cell_type": "code",
   "execution_count": null,
   "id": "f2f52c7e",
   "metadata": {},
   "outputs": [],
   "source": [
    "X = np.array([1/n for n in range(2, 14)])\n",
    "Y = X*-0.1 + 0.5\n",
    "plt.scatter(X, Y)\n",
    "f = lambda x: -0.1*x + 0.5\n",
    "X_new = np.linspace(0, 0.6, 20)\n",
    "plt.plot(X_new, [f(x) for x in X_new], c=\"r\")"
   ]
  },
  {
   "cell_type": "code",
   "execution_count": null,
   "id": "9e5759a2",
   "metadata": {},
   "outputs": [],
   "source": []
  }
 ],
 "metadata": {
  "kernelspec": {
   "display_name": "torch",
   "language": "python",
   "name": "torch"
  },
  "language_info": {
   "codemirror_mode": {
    "name": "ipython",
    "version": 3
   },
   "file_extension": ".py",
   "mimetype": "text/x-python",
   "name": "python",
   "nbconvert_exporter": "python",
   "pygments_lexer": "ipython3",
   "version": "3.11.7"
  }
 },
 "nbformat": 4,
 "nbformat_minor": 5
}
