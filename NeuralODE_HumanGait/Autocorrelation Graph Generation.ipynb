{
 "cells": [
  {
   "cell_type": "code",
   "execution_count": 1,
   "id": "d0fa888d",
   "metadata": {},
   "outputs": [],
   "source": [
    "import os\n",
    "import argparse\n",
    "import logging\n",
    "import time\n",
    "import numpy as np\n",
    "import numpy.random as npr\n",
    "import matplotlib\n",
    "matplotlib.use('agg')\n",
    "import matplotlib.pyplot as plt\n",
    "import torch\n",
    "import torch.nn as nn\n",
    "import torch.optim as optim\n",
    "import torch.nn.functional as F\n",
    "from torchdiffeq import odeint_adjoint as odeint\n",
    "os.environ['KMP_DUPLICATE_LIB_OK']='True'"
   ]
  },
  {
   "cell_type": "code",
   "execution_count": 20,
   "id": "1d1cc1a8",
   "metadata": {},
   "outputs": [],
   "source": [
    "def load_data_normalize(obs_dim, datafilepath):\n",
    "    datafilepath = 'C:/Users/shiny/Documents/NeuralODE_HumanGait/Humangaitdata.npy'\n",
    "    data = np.load(datafilepath)\n",
    "    traj_tot = np.load(datafilepath).reshape(72, 1500, obs_dim)\n",
    "    traj_tot = traj_tot[:,150:1350,:]\n",
    "    data = data[:, 300:1200, :]\n",
    "    data = data.reshape(72, 900, obs_dim)\n",
    "    noise_std = 0.2\n",
    "\n",
    "    orig_trajs = np.zeros((data.shape[0],data.shape[1],data.shape[2]))\n",
    "    for i in range(data.shape[0]):\n",
    "        for j in range(data.shape[2]):\n",
    "            trajs = data[i,:,j]\n",
    "            trajs_tot = traj_tot[i,:,j]\n",
    "            orig_trajs[i,:,j] = (trajs - trajs_tot.mean()) / trajs_tot.std()\n",
    "            \n",
    "    #samp_trajs += npr.randn(*samp_trajs.shape) * noise_std #add noise\n",
    "\n",
    "    return orig_trajs\n"
   ]
  },
  {
   "cell_type": "code",
   "execution_count": 21,
   "id": "3a0eaf1a",
   "metadata": {},
   "outputs": [],
   "source": [
    "samp_trajs = load_data_normalize(6, 'C:/Users/shiny/Documents/NeuralODE_HumanGait/Humangaitdata.npy')"
   ]
  },
  {
   "cell_type": "code",
   "execution_count": 22,
   "id": "2191e95d",
   "metadata": {},
   "outputs": [
    {
     "data": {
      "text/plain": [
       "(72, 900, 6)"
      ]
     },
     "execution_count": 22,
     "metadata": {},
     "output_type": "execute_result"
    }
   ],
   "source": [
    "samp_trajs.shape"
   ]
  },
  {
   "cell_type": "code",
   "execution_count": 24,
   "id": "b8fe9c73",
   "metadata": {},
   "outputs": [],
   "source": [
    "from statsmodels.graphics import tsaplots\n",
    "import math\n",
    "import matplotlib.pyplot as plt\n",
    "\n",
    "if not os.path.exists('Results_pic/Autocorrelation_graph'):\n",
    "    os.makedirs('Results_pic/Autocorrelation_graph')\n",
    "    \n",
    "for i in range(samp_trajs.shape[2]):\n",
    "    x = samp_trajs[3, :, i]\n",
    "    fig = tsaplots.plot_acf(x, lags=20, color='r', title='Autocorrelation function')\n",
    "    plt.axhline(y = 1/math.e , color = 'r', linestyle = '-')\n",
    "    plt.savefig('./Results_pic/Autocorrelation_graph/autocorrelation_AB06_positionalvalue{}.png'.format(i), dpi=250)\n",
    "    plt.close()\n",
    "    \n",
    "for i in range(samp_trajs.shape[2]):\n",
    "    x = samp_trajs[8, :, i]\n",
    "    fig = tsaplots.plot_acf(x, lags=20, color='r', title='Autocorrelation function')\n",
    "    plt.axhline(y = 1/math.e , color = 'r', linestyle = '-')\n",
    "    plt.savefig('./Results_pic/Autocorrelation_graph/autocorrelation_AB07_positionalvalue{}.png'.format(i), dpi=250)\n",
    "    plt.close()\n",
    "    \n",
    "for i in range(samp_trajs.shape[2]):\n",
    "    x = samp_trajs[15, :, i]\n",
    "    fig = tsaplots.plot_acf(x, lags=20, color='r', title='Autocorrelation function')\n",
    "    plt.axhline(y = 1/math.e , color = 'r', linestyle = '-')\n",
    "    plt.savefig('./Results_pic/Autocorrelation_graph/autocorrelation_AB09_positionalvalue{}.png'.format(i), dpi=250)\n",
    "    plt.close()\n",
    "    \n",
    "    \n",
    "for i in range(samp_trajs.shape[2]):\n",
    "    x = samp_trajs[21, :, i]\n",
    "    fig = tsaplots.plot_acf(x, lags=20, color='r', title='Autocorrelation function')\n",
    "    plt.axhline(y = 1/math.e , color = 'r', linestyle = '-')\n",
    "    plt.savefig('./Results_pic/Autocorrelation_graph/autocorrelation_AB11_positionalvalue{}.png'.format(i), dpi=250)\n",
    "    plt.close()\n",
    "    \n",
    "for i in range(samp_trajs.shape[2]):\n",
    "    x = samp_trajs[26, :, i]\n",
    "    fig = tsaplots.plot_acf(x, lags=20, color='r', title='Autocorrelation function')\n",
    "    plt.axhline(y = 1/math.e , color = 'r', linestyle = '-')\n",
    "    plt.savefig('./Results_pic/Autocorrelation_graph/autocorrelation_AB12_positionalvalue{}.png'.format(i), dpi=250)\n",
    "    plt.close()\n",
    "    \n",
    "\n",
    "for i in range(samp_trajs.shape[2]):\n",
    "    x = samp_trajs[33, :, i]\n",
    "    fig = tsaplots.plot_acf(x, lags=20, color='r', title='Autocorrelation function')\n",
    "    plt.axhline(y = 1/math.e , color = 'r', linestyle = '-')\n",
    "    plt.savefig('./Results_pic/Autocorrelation_graph/autocorrelation_ST03_positionalvalue{}.png'.format(i), dpi=250)\n",
    "    plt.close()\n",
    "    \n",
    "for i in range(samp_trajs.shape[2]):\n",
    "    x = samp_trajs[38, :, i]\n",
    "    fig = tsaplots.plot_acf(x, lags=20, color='r', title='Autocorrelation function')\n",
    "    plt.axhline(y = 1/math.e , color = 'r', linestyle = '-')\n",
    "    plt.savefig('./Results_pic/Autocorrelation_graph/autocorrelation_ST06_positionalvalue{}.png'.format(i), dpi=250)\n",
    "    plt.close()\n",
    "    \n",
    "for i in range(samp_trajs.shape[2]):\n",
    "    x = samp_trajs[44, :, i]\n",
    "    fig = tsaplots.plot_acf(x, lags=20, color='r', title='Autocorrelation function')\n",
    "    plt.axhline(y = 1/math.e , color = 'r', linestyle = '-')\n",
    "    plt.savefig('./Results_pic/Autocorrelation_graph/autocorrelation_ST08_positionalvalue{}.png'.format(i), dpi=250)\n",
    "    plt.close()\n",
    "    \n",
    "    \n",
    "for i in range(samp_trajs.shape[2]):\n",
    "    x = samp_trajs[50, :, i]\n",
    "    fig = tsaplots.plot_acf(x, lags=20, color='r', title='Autocorrelation function')\n",
    "    plt.axhline(y = 1/math.e , color = 'r', linestyle = '-')\n",
    "    plt.savefig('./Results_pic/Autocorrelation_graph/autocorrelation_AB07_positionalvalue{}.png'.format(i), dpi=250)\n",
    "    plt.close()\n",
    "    "
   ]
  },
  {
   "cell_type": "code",
   "execution_count": null,
   "id": "2209fcba",
   "metadata": {},
   "outputs": [],
   "source": [
    "for i in range(samp_trajs.shape[2]):\n",
    "    x = samp_trajs[3, :, i]\n",
    "    fig = tsaplots.plot_acf(x, lags=20, color='r', title='Autocorrelation function')\n",
    "    plt.axhline(y = 1/math.e , color = 'r', linestyle = '-')\n",
    "    plt.savefig('./Results_pic/Autocorrelation_graph/autocorrelation_AB06_positionalvalue{}.png'.format(i), dpi=250)\n",
    "    plt.close()"
   ]
  },
  {
   "cell_type": "code",
   "execution_count": null,
   "id": "a33a89de",
   "metadata": {},
   "outputs": [],
   "source": []
  }
 ],
 "metadata": {
  "kernelspec": {
   "display_name": "Python 3 (ipykernel)",
   "language": "python",
   "name": "python3"
  },
  "language_info": {
   "codemirror_mode": {
    "name": "ipython",
    "version": 3
   },
   "file_extension": ".py",
   "mimetype": "text/x-python",
   "name": "python",
   "nbconvert_exporter": "python",
   "pygments_lexer": "ipython3",
   "version": "3.10.9"
  }
 },
 "nbformat": 4,
 "nbformat_minor": 5
}
