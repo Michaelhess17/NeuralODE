{
 "cells": [
  {
   "cell_type": "markdown",
   "id": "ebe6d133",
   "metadata": {},
   "source": [
    "## Improved FNN by Cao"
   ]
  },
  {
   "cell_type": "code",
   "execution_count": 6,
   "id": "aff9496f",
   "metadata": {},
   "outputs": [],
   "source": [
    "import os\n",
    "import argparse\n",
    "import logging\n",
    "import time\n",
    "import numpy as np\n",
    "import numpy.random as npr\n",
    "import matplotlib\n",
    "matplotlib.use('agg')\n",
    "import matplotlib.pyplot as plt\n"
   ]
  },
  {
   "cell_type": "code",
   "execution_count": 7,
   "id": "550e9fbc",
   "metadata": {},
   "outputs": [],
   "source": [
    "def load_data_normalize(obs_dim, datafilepath):\n",
    "    datafilepath = 'C:/Users/shiny/Documents/NeuralODE_HumanGait/Humangaitdata.npy'\n",
    "    data = np.load(datafilepath)\n",
    "    traj_tot = np.load(datafilepath).reshape(72, 1500, obs_dim)\n",
    "    traj_tot = traj_tot[:,150:1350,:]\n",
    "    data = data[:, 300:1200, :]\n",
    "    data = data.reshape(72, 900, obs_dim)\n",
    "    noise_std = 0.2\n",
    "\n",
    "    orig_trajs = np.zeros((data.shape[0],data.shape[1],data.shape[2]))\n",
    "    for i in range(data.shape[0]):\n",
    "        for j in range(data.shape[2]):\n",
    "            trajs = data[i,:,j]\n",
    "            trajs_tot = traj_tot[i,:,j]\n",
    "            orig_trajs[i,:,j] = (trajs - trajs_tot.mean()) / trajs_tot.std()\n",
    "            \n",
    "    #samp_trajs += npr.randn(*samp_trajs.shape) * noise_std #add noise\n",
    "\n",
    "    return orig_trajs\n"
   ]
  },
  {
   "cell_type": "code",
   "execution_count": 8,
   "id": "42eb0d40",
   "metadata": {},
   "outputs": [],
   "source": [
    "samp_trajs = load_data_normalize(6, 'C:/Users/shiny/Documents/GaitControl/All_Rodent_concatenated_csv/All_Rodent_fps200.npy')"
   ]
  },
  {
   "cell_type": "code",
   "execution_count": 11,
   "id": "40e15ebe",
   "metadata": {},
   "outputs": [],
   "source": [
    "X = samp_trajs[:,:,:]"
   ]
  },
  {
   "cell_type": "code",
   "execution_count": 12,
   "id": "a17944aa",
   "metadata": {},
   "outputs": [],
   "source": [
    "import rpy2.robjects as ro\n",
    "from rpy2.robjects.packages import importr\n",
    "from rpy2.robjects import numpy2ri\n",
    "\n",
    "nonlinearTseries = importr(\"nonlinearTseries\")\n",
    "data = numpy2ri.numpy2rpy(X)\n",
    "\n",
    "cao_emb_dim = nonlinearTseries.estimateEmbeddingDim(\n",
    "    data,  # time series\n",
    "    len(data),  # number of points to use, use entire series\n",
    "    18,  # time delay\n",
    "    12,  # max no. of dimension\n",
    "    0.95,  # threshold value\n",
    "    0.1,  # max relative change\n",
    "    True,  # do the plot\n",
    "    \"Computing the embedding dimension\",  # main\n",
    "    \"dimension (d)\",  # x_label\n",
    "    \"E1(d) & E2(d)\",  # y_label\n",
    "    ro.NULL,  # x_lim\n",
    "    ro.NULL,  # y_lim\n",
    "    0  # add a small amount of noise to the original series to avoid the\n",
    "          # appearance of false neighbours due to discretization errors.\n",
    "          # This also prevents the method to fail with periodic signals, 0 for no noise\n",
    ")\n",
    "\n",
    "embedding_dimension = int(cao_emb_dim[0])"
   ]
  },
  {
   "cell_type": "code",
   "execution_count": 13,
   "id": "ed274455",
   "metadata": {},
   "outputs": [
    {
     "data": {
      "text/plain": [
       "-2147483648"
      ]
     },
     "execution_count": 13,
     "metadata": {},
     "output_type": "execute_result"
    }
   ],
   "source": [
    "embedding_dimension"
   ]
  },
  {
   "cell_type": "code",
   "execution_count": 28,
   "id": "fe13a779",
   "metadata": {},
   "outputs": [],
   "source": [
    "plt.savefig('books_read.png')"
   ]
  },
  {
   "cell_type": "code",
   "execution_count": null,
   "id": "8cfee1a2",
   "metadata": {},
   "outputs": [],
   "source": []
  }
 ],
 "metadata": {
  "kernelspec": {
   "display_name": "Python 3 (ipykernel)",
   "language": "python",
   "name": "python3"
  },
  "language_info": {
   "codemirror_mode": {
    "name": "ipython",
    "version": 3
   },
   "file_extension": ".py",
   "mimetype": "text/x-python",
   "name": "python",
   "nbconvert_exporter": "python",
   "pygments_lexer": "ipython3",
   "version": "3.10.9"
  }
 },
 "nbformat": 4,
 "nbformat_minor": 5
}
