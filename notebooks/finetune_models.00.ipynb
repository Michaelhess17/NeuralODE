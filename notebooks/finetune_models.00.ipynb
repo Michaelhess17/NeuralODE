{
 "cells": [
  {
   "cell_type": "markdown",
   "metadata": {},
   "source": [
    "### Import packages and load data"
   ]
  },
  {
   "cell_type": "code",
   "execution_count": 2,
   "metadata": {},
   "outputs": [],
   "source": [
    "import os\n",
    "import sys\n",
    "import glob\n",
    "os.environ[\"CUDA_VISIBLE_DEVICES\"] = \"0\"\n",
    "os.environ[\"XLA_PYTHON_CLIENT_PREALLOCATE\"] = \"false\"\n",
    "\n",
    "import matplotlib.pyplot as plt\n",
    "import seaborn as sns\n",
    "import numpy as np\n",
    "import pandas as pd\n",
    "\n",
    "import jax\n",
    "import jax.numpy as jnp\n",
    "from jax import vmap, jit\n",
    "import jax.random as jr\n",
    "# set 64-bit mode\n",
    "# jax.config.update(\"jax_enable_x64\", True)\n",
    "import equinox as eqx\n",
    "\n",
    "from scipy import signal, interpolate, stats\n",
    "from ddfa_node import embed_data, takens_embedding, change_trial_length, split_data, get_aics, get_λs, phaser, stats as statistics, jax_utils\n",
    "import ddfa_node\n",
    "\n",
    "from tqdm.auto import tqdm\n",
    "\n",
    "from scipy.signal import savgol_filter\n",
    "from ddfa_node.networks.jax_utils import NeuralODE\n",
    "import diffrax\n",
    "from diffrax import diffeqsolve, ControlTerm, Euler, MultiTerm, ODETerm, SaveAt, VirtualBrownianTree\n",
    "\n",
    "import warnings\n",
    "%load_ext autoreload\n",
    "%autoreload 2\n",
    "\n",
    "plt.style.use(\"seaborn-v0_8-whitegrid\")\n"
   ]
  },
  {
   "cell_type": "code",
   "execution_count": 3,
   "metadata": {},
   "outputs": [],
   "source": [
    "window_length = 50\n",
    "polyorder = 5\n",
    "data = jnp.load(\"/home/michael/Synology/Julia/data/VDP_SDEs.npy\")[25:-20, ::2, :1]\n",
    "feats = data.shape[-1]\n",
    "n_trials = data.shape[0]\n",
    "new_data = np.zeros((n_trials, data.shape[1], data.shape[2]))\n",
    "for trial in range(n_trials):\n",
    "    new_data[trial, :, :feats] = savgol_filter(data[trial, :, :], window_length=window_length, polyorder=polyorder, axis=0)\n",
    "    # new_data[trial, :, feats:] = savgol_filter(data[trial, :, :], window_length=window_length, polyorder=polyorder, axis=0, deriv=1)\n",
    "\n",
    "# Standardize the data\n",
    "new_data = (new_data - jnp.mean(new_data, axis=1)[:, None, :]) / jnp.std(new_data, axis=1)[:, None, :]\n",
    "data = new_data\n",
    "τ = 32\n",
    "k = 4\n",
    "data_tde = takens_embedding(data[:, :, :1], τ, k)"
   ]
  },
  {
   "cell_type": "markdown",
   "metadata": {},
   "source": [
    "### Load model"
   ]
  },
  {
   "cell_type": "code",
   "execution_count": 4,
   "metadata": {},
   "outputs": [],
   "source": [
    "model = NeuralODE(data_size=4, \n",
    "                  width_size=128, \n",
    "                  hidden_size=256, \n",
    "                  ode_size=8, \n",
    "                  depth=3, \n",
    "                  augment_dims=0, \n",
    "                  key=jax.random.PRNGKey(0))\n",
    "# deserialize the model\n",
    "model = eqx.tree_deserialise_leaves(\"outputs/vdp_model.eqx\", model)"
   ]
  },
  {
   "cell_type": "markdown",
   "metadata": {},
   "source": [
    "### Run finetuning loop"
   ]
  },
  {
   "cell_type": "code",
   "execution_count": 10,
   "metadata": {},
   "outputs": [
    {
     "ename": "ValueError",
     "evalue": "vmap got inconsistent sizes for array axes to be mapped:\n  * most axes (11 of them) had size 5, e.g. axis 0 of argument data_tde[0] of type float32[5,9904,4];\n  * one axis had size 11: axis 0 of argument subject of type int32[11]",
     "output_type": "error",
     "traceback": [
      "\u001b[0;31m---------------------------------------------------------------------------\u001b[0m",
      "\u001b[0;31mValueError\u001b[0m                                Traceback (most recent call last)",
      "Cell \u001b[0;32mIn[10], line 34\u001b[0m\n\u001b[1;32m     30\u001b[0m     eqx\u001b[38;5;241m.\u001b[39mtree_serialise_leaves(\u001b[38;5;124mf\u001b[39m\u001b[38;5;124m\"\u001b[39m\u001b[38;5;124moutputs/vdp_model_subject_\u001b[39m\u001b[38;5;132;01m{\u001b[39;00msubject\u001b[38;5;132;01m}\u001b[39;00m\u001b[38;5;124m.eqx\u001b[39m\u001b[38;5;124m\"\u001b[39m, model)\n\u001b[1;32m     32\u001b[0m subject_ids \u001b[38;5;241m=\u001b[39m jnp\u001b[38;5;241m.\u001b[39mrepeat(jnp\u001b[38;5;241m.\u001b[39marange(\u001b[38;5;241m20\u001b[39m), \u001b[38;5;241m5\u001b[39m)[\u001b[38;5;241m25\u001b[39m:\u001b[38;5;241m-\u001b[39m\u001b[38;5;241m20\u001b[39m]\n\u001b[0;32m---> 34\u001b[0m \u001b[43mjax\u001b[49m\u001b[38;5;241;43m.\u001b[39;49m\u001b[43mvmap\u001b[49m\u001b[43m(\u001b[49m\u001b[43mfinetune_model\u001b[49m\u001b[43m,\u001b[49m\u001b[43m \u001b[49m\u001b[43min_axes\u001b[49m\u001b[38;5;241;43m=\u001b[39;49m\u001b[43m(\u001b[49m\u001b[38;5;28;43;01mNone\u001b[39;49;00m\u001b[43m,\u001b[49m\u001b[43m \u001b[49m\u001b[38;5;241;43m0\u001b[39;49m\u001b[43m,\u001b[49m\u001b[43m \u001b[49m\u001b[38;5;241;43m0\u001b[39;49m\u001b[43m)\u001b[49m\u001b[43m)\u001b[49m\u001b[43m(\u001b[49m\u001b[43mmodel\u001b[49m\u001b[43m,\u001b[49m\u001b[43m \u001b[49m\u001b[43m[\u001b[49m\u001b[43mdata_tde\u001b[49m\u001b[43m[\u001b[49m\u001b[43msubject_ids\u001b[49m\u001b[43m \u001b[49m\u001b[38;5;241;43m==\u001b[39;49m\u001b[43m \u001b[49m\u001b[43msubject\u001b[49m\u001b[43m]\u001b[49m\u001b[43m \u001b[49m\u001b[38;5;28;43;01mfor\u001b[39;49;00m\u001b[43m \u001b[49m\u001b[43msubject\u001b[49m\u001b[43m \u001b[49m\u001b[38;5;129;43;01min\u001b[39;49;00m\u001b[43m \u001b[49m\u001b[43mjnp\u001b[49m\u001b[38;5;241;43m.\u001b[39;49m\u001b[43munique\u001b[49m\u001b[43m(\u001b[49m\u001b[43msubject_ids\u001b[49m\u001b[43m)\u001b[49m\u001b[43m]\u001b[49m\u001b[43m,\u001b[49m\u001b[43m \u001b[49m\u001b[43mjnp\u001b[49m\u001b[38;5;241;43m.\u001b[39;49m\u001b[43munique\u001b[49m\u001b[43m(\u001b[49m\u001b[43msubject_ids\u001b[49m\u001b[43m)\u001b[49m\u001b[43m)\u001b[49m\n",
      "    \u001b[0;31m[... skipping hidden 2 frame]\u001b[0m\n",
      "File \u001b[0;32m/mnt/Mouse_Face_Project/Desktop/Data/Python/NeuralODE/.pixi/envs/default/lib/python3.12/site-packages/jax/_src/api.py:1082\u001b[0m, in \u001b[0;36m_mapped_axis_size\u001b[0;34m(fn, tree, vals, dims, name)\u001b[0m\n\u001b[1;32m   1080\u001b[0m   \u001b[38;5;28;01melse\u001b[39;00m:\n\u001b[1;32m   1081\u001b[0m     msg\u001b[38;5;241m.\u001b[39mappend(\u001b[38;5;124mf\u001b[39m\u001b[38;5;124m\"\u001b[39m\u001b[38;5;124m  * some axes (\u001b[39m\u001b[38;5;132;01m{\u001b[39;00mct\u001b[38;5;132;01m}\u001b[39;00m\u001b[38;5;124m of them) had size \u001b[39m\u001b[38;5;132;01m{\u001b[39;00msz\u001b[38;5;132;01m}\u001b[39;00m\u001b[38;5;124m, e.g. axis \u001b[39m\u001b[38;5;132;01m{\u001b[39;00max\u001b[38;5;132;01m}\u001b[39;00m\u001b[38;5;124m of \u001b[39m\u001b[38;5;132;01m{\u001b[39;00mex\u001b[38;5;132;01m}\u001b[39;00m\u001b[38;5;124m;\u001b[39m\u001b[38;5;130;01m\\n\u001b[39;00m\u001b[38;5;124m\"\u001b[39m)\n\u001b[0;32m-> 1082\u001b[0m \u001b[38;5;28;01mraise\u001b[39;00m \u001b[38;5;167;01mValueError\u001b[39;00m(\u001b[38;5;124m'\u001b[39m\u001b[38;5;124m'\u001b[39m\u001b[38;5;241m.\u001b[39mjoin(msg)[:\u001b[38;5;241m-\u001b[39m\u001b[38;5;241m2\u001b[39m])\n",
      "\u001b[0;31mValueError\u001b[0m: vmap got inconsistent sizes for array axes to be mapped:\n  * most axes (11 of them) had size 5, e.g. axis 0 of argument data_tde[0] of type float32[5,9904,4];\n  * one axis had size 11: axis 0 of argument subject of type int32[11]"
     ]
    }
   ],
   "source": [
    "@eqx.filter_jit\n",
    "def finetune_model(model, data_tde, subject):\n",
    "    print(f\"Finetuning model for subject {subject}\")\n",
    "    # deserialize the model\n",
    "    model = eqx.tree_deserialise_leaves(\"outputs/vdp_model.eqx\", model)\n",
    "\n",
    "    ts, ys, model = jax_utils.train_NODE(\n",
    "        data_tde,\n",
    "        model=model,\n",
    "        timesteps_per_trial=300,\n",
    "        t1=3.0,\n",
    "        width_size=128,\n",
    "        hidden_size=256,\n",
    "        ode_size=8,\n",
    "        depth=3,\n",
    "        batch_size=128,\n",
    "        seed=6969,\n",
    "        lr_strategy=(1e-4,),\n",
    "        steps_strategy=(50000, 30000, 25000),\n",
    "        length_strategy=(1,),\n",
    "        skip_strategy=(2,),\n",
    "        seeding_strategy=(1/3,),\n",
    "        plot=False,\n",
    "        print_every=1000,\n",
    "        k=1,\n",
    "        linear=False,\n",
    "        plot_fn=None,\n",
    "        # k=max_power+2\n",
    "    )\n",
    "    eqx.tree_serialise_leaves(f\"outputs/vdp_model_subject_{subject}.eqx\", model)\n",
    "\n",
    "subject_ids = jnp.repeat(jnp.arange(20), 5)[25:-20]\n",
    "\n",
    "jax.vmap(finetune_model, in_axes=(None, 0, 0))(model, [data_tde[subject_ids == subject] for subject in jnp.unique(subject_ids)], jnp.unique(subject_ids))\n"
   ]
  },
  {
   "cell_type": "code",
   "execution_count": null,
   "metadata": {},
   "outputs": [],
   "source": []
  },
  {
   "cell_type": "code",
   "execution_count": 23,
   "metadata": {},
   "outputs": [
    {
     "name": "stdout",
     "output_type": "stream",
     "text": [
      "Finetuning model for subject Traced<ShapedArray(int32[])>with<DynamicJaxprTrace(level=2/0)>\n",
      "(24015, 300, 4)\n"
     ]
    },
    {
     "ename": "FileNotFoundError",
     "evalue": "[Errno 2] No such file or directory: 'outputs/vdp_model_subject_Traced<ShapedArray(int32[])>with<DynamicJaxprTrace(level=2/0)>.eqx'",
     "output_type": "error",
     "traceback": [
      "\u001b[0;31m---------------------------------------------------------------------------\u001b[0m",
      "\u001b[0;31mFileNotFoundError\u001b[0m                         Traceback (most recent call last)",
      "Cell \u001b[0;32mIn[23], line 11\u001b[0m\n\u001b[1;32m      8\u001b[0m subject_data \u001b[38;5;241m=\u001b[39m jnp\u001b[38;5;241m.\u001b[39marray([data \u001b[38;5;28;01mfor\u001b[39;00m data \u001b[38;5;129;01min\u001b[39;00m subject_data \u001b[38;5;28;01mif\u001b[39;00m data\u001b[38;5;241m.\u001b[39mshape[\u001b[38;5;241m0\u001b[39m] \u001b[38;5;241m>\u001b[39m \u001b[38;5;241m0\u001b[39m])  \u001b[38;5;66;03m# Filter out empty data\u001b[39;00m\n\u001b[1;32m     10\u001b[0m \u001b[38;5;66;03m# Use vmap to finetune the model for each subject\u001b[39;00m\n\u001b[0;32m---> 11\u001b[0m \u001b[43mjax\u001b[49m\u001b[38;5;241;43m.\u001b[39;49m\u001b[43mvmap\u001b[49m\u001b[43m(\u001b[49m\u001b[43mfinetune_model\u001b[49m\u001b[43m,\u001b[49m\u001b[43m \u001b[49m\u001b[43min_axes\u001b[49m\u001b[38;5;241;43m=\u001b[39;49m\u001b[43m(\u001b[49m\u001b[38;5;28;43;01mNone\u001b[39;49;00m\u001b[43m,\u001b[49m\u001b[43m \u001b[49m\u001b[38;5;241;43m0\u001b[39;49m\u001b[43m,\u001b[49m\u001b[43m \u001b[49m\u001b[38;5;241;43m0\u001b[39;49m\u001b[43m)\u001b[49m\u001b[43m)\u001b[49m\u001b[43m(\u001b[49m\u001b[43mmodel\u001b[49m\u001b[43m,\u001b[49m\u001b[43m \u001b[49m\u001b[43msubject_data\u001b[49m\u001b[43m,\u001b[49m\u001b[43m \u001b[49m\u001b[43munique_subjects\u001b[49m\u001b[43m)\u001b[49m\n",
      "    \u001b[0;31m[... skipping hidden 18 frame]\u001b[0m\n",
      "Cell \u001b[0;32mIn[10], line 30\u001b[0m, in \u001b[0;36mfinetune_model\u001b[0;34m(model, data_tde, subject)\u001b[0m\n\u001b[1;32m      5\u001b[0m model \u001b[38;5;241m=\u001b[39m eqx\u001b[38;5;241m.\u001b[39mtree_deserialise_leaves(\u001b[38;5;124m\"\u001b[39m\u001b[38;5;124moutputs/vdp_model.eqx\u001b[39m\u001b[38;5;124m\"\u001b[39m, model)\n\u001b[1;32m      7\u001b[0m ts, ys, model \u001b[38;5;241m=\u001b[39m jax_utils\u001b[38;5;241m.\u001b[39mtrain_NODE(\n\u001b[1;32m      8\u001b[0m     data_tde,\n\u001b[1;32m      9\u001b[0m     model\u001b[38;5;241m=\u001b[39mmodel,\n\u001b[0;32m   (...)\u001b[0m\n\u001b[1;32m     28\u001b[0m     \u001b[38;5;66;03m# k=max_power+2\u001b[39;00m\n\u001b[1;32m     29\u001b[0m )\n\u001b[0;32m---> 30\u001b[0m \u001b[43meqx\u001b[49m\u001b[38;5;241;43m.\u001b[39;49m\u001b[43mtree_serialise_leaves\u001b[49m\u001b[43m(\u001b[49m\u001b[38;5;124;43mf\u001b[39;49m\u001b[38;5;124;43m\"\u001b[39;49m\u001b[38;5;124;43moutputs/vdp_model_subject_\u001b[39;49m\u001b[38;5;132;43;01m{\u001b[39;49;00m\u001b[43msubject\u001b[49m\u001b[38;5;132;43;01m}\u001b[39;49;00m\u001b[38;5;124;43m.eqx\u001b[39;49m\u001b[38;5;124;43m\"\u001b[39;49m\u001b[43m,\u001b[49m\u001b[43m \u001b[49m\u001b[43mmodel\u001b[49m\u001b[43m)\u001b[49m\n",
      "File \u001b[0;32m/mnt/Mouse_Face_Project/Desktop/Data/Python/NeuralODE/.pixi/envs/default/lib/python3.12/site-packages/equinox/_serialisation.py:237\u001b[0m, in \u001b[0;36mtree_serialise_leaves\u001b[0;34m(path_or_file, pytree, filter_spec, is_leaf)\u001b[0m\n\u001b[1;32m    191\u001b[0m \u001b[38;5;28;01mdef\u001b[39;00m \u001b[38;5;21mtree_serialise_leaves\u001b[39m(\n\u001b[1;32m    192\u001b[0m     path_or_file: Union[\u001b[38;5;28mstr\u001b[39m, pathlib\u001b[38;5;241m.\u001b[39mPath, BinaryIO],\n\u001b[1;32m    193\u001b[0m     pytree: PyTree,\n\u001b[1;32m    194\u001b[0m     filter_spec\u001b[38;5;241m=\u001b[39mdefault_serialise_filter_spec,\n\u001b[1;32m    195\u001b[0m     is_leaf: Optional[Callable[[Any], \u001b[38;5;28mbool\u001b[39m]] \u001b[38;5;241m=\u001b[39m \u001b[38;5;28;01mNone\u001b[39;00m,\n\u001b[1;32m    196\u001b[0m ) \u001b[38;5;241m-\u001b[39m\u001b[38;5;241m>\u001b[39m \u001b[38;5;28;01mNone\u001b[39;00m:\n\u001b[1;32m    197\u001b[0m \u001b[38;5;250m    \u001b[39m\u001b[38;5;124;03m\"\"\"Save the leaves of a PyTree to file.\u001b[39;00m\n\u001b[1;32m    198\u001b[0m \n\u001b[1;32m    199\u001b[0m \u001b[38;5;124;03m    **Arguments:**\u001b[39;00m\n\u001b[0;32m   (...)\u001b[0m\n\u001b[1;32m    234\u001b[0m \u001b[38;5;124;03m        corresponding sub-PyTree of `pytree`.\u001b[39;00m\n\u001b[1;32m    235\u001b[0m \u001b[38;5;124;03m    \"\"\"\u001b[39;00m\n\u001b[0;32m--> 237\u001b[0m     \u001b[38;5;28;01mwith\u001b[39;00m _maybe_open(path_or_file, \u001b[38;5;124m\"\u001b[39m\u001b[38;5;124mwb\u001b[39m\u001b[38;5;124m\"\u001b[39m) \u001b[38;5;28;01mas\u001b[39;00m f:\n\u001b[1;32m    239\u001b[0m         \u001b[38;5;28;01mdef\u001b[39;00m \u001b[38;5;21m_serialise\u001b[39m(spec, x):\n\u001b[1;32m    240\u001b[0m             \u001b[38;5;28;01mdef\u001b[39;00m \u001b[38;5;21m__serialise\u001b[39m(y):\n",
      "File \u001b[0;32m/mnt/Mouse_Face_Project/Desktop/Data/Python/NeuralODE/.pixi/envs/default/lib/python3.12/contextlib.py:137\u001b[0m, in \u001b[0;36m_GeneratorContextManager.__enter__\u001b[0;34m(self)\u001b[0m\n\u001b[1;32m    135\u001b[0m \u001b[38;5;28;01mdel\u001b[39;00m \u001b[38;5;28mself\u001b[39m\u001b[38;5;241m.\u001b[39margs, \u001b[38;5;28mself\u001b[39m\u001b[38;5;241m.\u001b[39mkwds, \u001b[38;5;28mself\u001b[39m\u001b[38;5;241m.\u001b[39mfunc\n\u001b[1;32m    136\u001b[0m \u001b[38;5;28;01mtry\u001b[39;00m:\n\u001b[0;32m--> 137\u001b[0m     \u001b[38;5;28;01mreturn\u001b[39;00m \u001b[38;5;28;43mnext\u001b[39;49m\u001b[43m(\u001b[49m\u001b[38;5;28;43mself\u001b[39;49m\u001b[38;5;241;43m.\u001b[39;49m\u001b[43mgen\u001b[49m\u001b[43m)\u001b[49m\n\u001b[1;32m    138\u001b[0m \u001b[38;5;28;01mexcept\u001b[39;00m \u001b[38;5;167;01mStopIteration\u001b[39;00m:\n\u001b[1;32m    139\u001b[0m     \u001b[38;5;28;01mraise\u001b[39;00m \u001b[38;5;167;01mRuntimeError\u001b[39;00m(\u001b[38;5;124m\"\u001b[39m\u001b[38;5;124mgenerator didn\u001b[39m\u001b[38;5;124m'\u001b[39m\u001b[38;5;124mt yield\u001b[39m\u001b[38;5;124m\"\u001b[39m) \u001b[38;5;28;01mfrom\u001b[39;00m \u001b[38;5;28;01mNone\u001b[39;00m\n",
      "File \u001b[0;32m/mnt/Mouse_Face_Project/Desktop/Data/Python/NeuralODE/.pixi/envs/default/lib/python3.12/site-packages/equinox/_serialisation.py:156\u001b[0m, in \u001b[0;36m_maybe_open\u001b[0;34m(path_or_file, mode)\u001b[0m\n\u001b[1;32m    153\u001b[0m \u001b[38;5;250m\u001b[39m\u001b[38;5;124;03m\"\"\"A function that unifies handling of file objects and path-like objects\u001b[39;00m\n\u001b[1;32m    154\u001b[0m \u001b[38;5;124;03mby opening the latter.\"\"\"\u001b[39;00m\n\u001b[1;32m    155\u001b[0m \u001b[38;5;28;01mif\u001b[39;00m \u001b[38;5;28misinstance\u001b[39m(path_or_file, (\u001b[38;5;28mstr\u001b[39m, pathlib\u001b[38;5;241m.\u001b[39mPath)):\n\u001b[0;32m--> 156\u001b[0m     file \u001b[38;5;241m=\u001b[39m \u001b[38;5;28;43mopen\u001b[39;49m\u001b[43m(\u001b[49m\u001b[43m_with_suffix\u001b[49m\u001b[43m(\u001b[49m\u001b[43mpath_or_file\u001b[49m\u001b[43m)\u001b[49m\u001b[43m,\u001b[49m\u001b[43m \u001b[49m\u001b[43mmode\u001b[49m\u001b[43m)\u001b[49m\n\u001b[1;32m    157\u001b[0m     \u001b[38;5;28;01mtry\u001b[39;00m:\n\u001b[1;32m    158\u001b[0m         \u001b[38;5;28;01myield\u001b[39;00m file\n",
      "\u001b[0;31mFileNotFoundError\u001b[0m: [Errno 2] No such file or directory: 'outputs/vdp_model_subject_Traced<ShapedArray(int32[])>with<DynamicJaxprTrace(level=2/0)>.eqx'"
     ]
    }
   ],
   "source": [
    "subject_ids = jnp.repeat(jnp.arange(20), 5)[25:-20]\n",
    "unique_subjects = jnp.unique(subject_ids)\n",
    "\n",
    "# Create a list of data for each subject\n",
    "subject_data = [data_tde[subject_ids == subject] for subject in unique_subjects]\n",
    "\n",
    "# Ensure that the data for each subject is a consistent shape\n",
    "subject_data = jnp.array([data for data in subject_data if data.shape[0] > 0])  # Filter out empty data\n",
    "\n",
    "# Use vmap to finetune the model for each subject\n",
    "jax.vmap(finetune_model, in_axes=(None, 0, 0))(model, subject_data, unique_subjects)"
   ]
  }
 ],
 "metadata": {
  "kernelspec": {
   "display_name": "default",
   "language": "python",
   "name": "python3"
  },
  "language_info": {
   "codemirror_mode": {
    "name": "ipython",
    "version": 3
   },
   "file_extension": ".py",
   "mimetype": "text/x-python",
   "name": "python",
   "nbconvert_exporter": "python",
   "pygments_lexer": "ipython3",
   "version": "3.12.7"
  }
 },
 "nbformat": 4,
 "nbformat_minor": 2
}
